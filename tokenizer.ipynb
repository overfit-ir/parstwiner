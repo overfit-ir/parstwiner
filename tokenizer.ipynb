{
  "nbformat": 4,
  "nbformat_minor": 0,
  "metadata": {
    "colab": {
      "name": "tempo.ipynb",
      "provenance": [],
      "toc_visible": true,
      "include_colab_link": true
    },
    "kernelspec": {
      "name": "python3",
      "display_name": "Python 3"
    },
    "accelerator": "GPU"
  },
  "cells": [
    {
      "cell_type": "markdown",
      "metadata": {
        "id": "view-in-github",
        "colab_type": "text"
      },
      "source": [
        "<a href=\"https://colab.research.google.com/github/overfit-ir/persian-twitter-ner/blob/master/tokenizer.ipynb\" target=\"_parent\"><img src=\"https://colab.research.google.com/assets/colab-badge.svg\" alt=\"Open In Colab\"/></a>"
      ]
    },
    {
      "cell_type": "markdown",
      "metadata": {
        "id": "rMbgFS_xcfcf"
      },
      "source": [
        "# Setup"
      ]
    },
    {
      "cell_type": "code",
      "metadata": {
        "id": "nF-7m57sBgdp",
        "outputId": "8f2b60c7-701e-46de-cf33-6d880b860710",
        "colab": {
          "base_uri": "https://localhost:8080/",
          "height": 170
        }
      },
      "source": [
        "! pip -q install transformers\n",
        "! pip -q install parsivar"
      ],
      "execution_count": 1,
      "outputs": [
        {
          "output_type": "stream",
          "text": [
            "\u001b[K     |████████████████████████████████| 1.1MB 9.5MB/s \n",
            "\u001b[K     |████████████████████████████████| 3.0MB 52.2MB/s \n",
            "\u001b[K     |████████████████████████████████| 1.1MB 51.2MB/s \n",
            "\u001b[K     |████████████████████████████████| 890kB 31.0MB/s \n",
            "\u001b[?25h  Building wheel for sacremoses (setup.py) ... \u001b[?25l\u001b[?25hdone\n",
            "\u001b[K     |████████████████████████████████| 36.2MB 83kB/s \n",
            "\u001b[K     |████████████████████████████████| 1.5MB 50.8MB/s \n",
            "\u001b[?25h  Building wheel for parsivar (setup.py) ... \u001b[?25l\u001b[?25hdone\n",
            "  Building wheel for nltk (setup.py) ... \u001b[?25l\u001b[?25hdone\n"
          ],
          "name": "stdout"
        }
      ]
    },
    {
      "cell_type": "code",
      "metadata": {
        "id": "GbAOjVTbIvjW"
      },
      "source": [
        "import torch\n",
        "from __future__ import unicode_literals\n",
        "# from hazm import *\n",
        "from parsivar import *\n",
        "from pprint import pprint\n",
        "import torch\n",
        "import numpy as np\n",
        "import pandas as pd\n",
        "from datetime import datetime\n",
        "from scipy import spatial\n",
        "from transformers import AutoConfig, AutoTokenizer, AutoModel, AutoModelForTokenClassification\n",
        "import re\n",
        "parsivar_tokenizer = Tokenizer()\n",
        "parsivar_normalizer = Normalizer()"
      ],
      "execution_count": 2,
      "outputs": []
    },
    {
      "cell_type": "code",
      "metadata": {
        "id": "ZZAJwNKuIwLN",
        "outputId": "6d9bb795-cb72-4491-b520-726e4644bd8f",
        "colab": {
          "base_uri": "https://localhost:8080/",
          "height": 34
        }
      },
      "source": [
        "tokenizer = AutoTokenizer.from_pretrained(\"HooshvareLab/bert-base-parsbert-uncased\")\n",
        "# tokenizer = AutoTokenizer.from_pretrained(\"HooshvareLab/bert-base-parsbert-ner-uncased\")\n",
        "model = AutoModelForTokenClassification.from_pretrained(\"HooshvareLab/bert-base-parsbert-ner-uncased\")\n",
        "model.eval()\n",
        "print()"
      ],
      "execution_count": null,
      "outputs": [
        {
          "output_type": "stream",
          "text": [
            "\n"
          ],
          "name": "stdout"
        }
      ]
    },
    {
      "cell_type": "markdown",
      "metadata": {
        "id": "h_5tgmwqch8n"
      },
      "source": [
        "# **Tokenize**"
      ]
    },
    {
      "cell_type": "markdown",
      "metadata": {
        "id": "DIODPTLFdAzn"
      },
      "source": [
        "### Example"
      ]
    },
    {
      "cell_type": "code",
      "metadata": {
        "id": "zQ5WxSUoaZP3"
      },
      "source": [
        "tweet_example = \"\"\" بابا بیخیال :)) همون سال اتلتیکو با گل افساید به بایرن رفت فینال.\n",
        "\n",
        "مشکل داوری نداشتیم اون بازی که میگی.\n",
        "فصل قبلش هم ۴ ۰ با هاینکس زدیم شما رو\n",
        "\"\"\"\n",
        "\n",
        "tweet_example2 = \"\"\"\n",
        " محسن رضایی هم یک جوان ۲۶،۲۷ ساله بوده\n",
        "مدیریت جنگ با مدیریت فعلی کشور که اکثرا افراد لیبرابی هستن که در جنگ هیچ نقشی نداشتن و یا نهایتا پشت جبهه مشغول بودن قابل مقایسه نیست\n",
        "\n",
        "\"\"\"\n",
        "\n",
        "tweet_example3 = \"\"\"\n",
        "سلام\n",
        "خواهر من فکر کنم دو سالی سرفه امانش را بریده بود.خیلی کارها کرد برای درمانش اما درست نشد که نشد. کرونا هم که شروع شد، خیلی نگرانش بودیم. \n",
        "چند روز پیش با چند تا نیش زنبور عسل به اصطلاح زنبور درمانی کرد و با کمال تعجب دیگه سرفه نمی کنه.\n",
        "\n",
        "\"\"\""
      ],
      "execution_count": null,
      "outputs": []
    },
    {
      "cell_type": "code",
      "metadata": {
        "id": "CE2zhzuFQnNG",
        "outputId": "0e829c51-1bbf-4e93-ca7b-59cc5dae039a",
        "colab": {
          "base_uri": "https://localhost:8080/",
          "height": 986
        }
      },
      "source": [
        "input_sentence = tokenizer.tokenize(tweet_example3)\n",
        "for token in input_sentence:\n",
        "  print(token)"
      ],
      "execution_count": null,
      "outputs": [
        {
          "output_type": "stream",
          "text": [
            "سلام\n",
            "خواهر\n",
            "من\n",
            "فکر\n",
            "کنم\n",
            "دو\n",
            "سالی\n",
            "سرفه\n",
            "امانش\n",
            "را\n",
            "بریده\n",
            "بود\n",
            ".\n",
            "خیلی\n",
            "کارها\n",
            "کرد\n",
            "برای\n",
            "درمانش\n",
            "اما\n",
            "درست\n",
            "نشد\n",
            "که\n",
            "نشد\n",
            ".\n",
            "کرونا\n",
            "هم\n",
            "که\n",
            "شروع\n",
            "شد\n",
            "،\n",
            "خیلی\n",
            "نگرانش\n",
            "بودیم\n",
            ".\n",
            "چند\n",
            "روز\n",
            "پیش\n",
            "با\n",
            "چند\n",
            "تا\n",
            "نیش\n",
            "زنبور\n",
            "عسل\n",
            "به\n",
            "اصطلاح\n",
            "زنبور\n",
            "درمانی\n",
            "کرد\n",
            "و\n",
            "با\n",
            "کمال\n",
            "تعجب\n",
            "دیگه\n",
            "سرفه\n",
            "نمی\n",
            "کنه\n",
            ".\n"
          ],
          "name": "stdout"
        }
      ]
    },
    {
      "cell_type": "code",
      "metadata": {
        "id": "kO4g0ZuCN9WM",
        "outputId": "1d5697b5-b42f-48c5-d281-1f2e98e287b3",
        "colab": {
          "base_uri": "https://localhost:8080/",
          "height": 935
        }
      },
      "source": [
        "for token in parsivar_tokenizer.tokenize_words(parsivar_normalizer.normalize(tweet_example3)):\n",
        "  print(token)"
      ],
      "execution_count": null,
      "outputs": [
        {
          "output_type": "stream",
          "text": [
            "سلام\n",
            "خواهر\n",
            "من\n",
            "فکر\n",
            "کنم\n",
            "دو\n",
            "سالی\n",
            "سرفه\n",
            "امانش\n",
            "را\n",
            "بریده‌بود\n",
            ".\n",
            "خیلی\n",
            "کارها\n",
            "کرد\n",
            "برای\n",
            "درمانش\n",
            "اما\n",
            "درست\n",
            "نشد\n",
            "که\n",
            "نشد\n",
            ".\n",
            "کرونا\n",
            "هم\n",
            "که\n",
            "شروع\n",
            "شد\n",
            "،\n",
            "خیلی\n",
            "نگرانش‌بودیم\n",
            ".\n",
            "چند\n",
            "روز\n",
            "پیش\n",
            "با\n",
            "چند\n",
            "تا\n",
            "نیش\n",
            "زنبور\n",
            "عسل\n",
            "به\n",
            "اصطلاح\n",
            "زنبور\n",
            "درمانی\n",
            "کرد\n",
            "و\n",
            "با\n",
            "کمال\n",
            "تعجب\n",
            "دیگه\n",
            "سرفه\n",
            "نمی‌کنه\n",
            ".\n"
          ],
          "name": "stdout"
        }
      ]
    },
    {
      "cell_type": "markdown",
      "metadata": {
        "id": "CmwTpkbxdEGv"
      },
      "source": [
        "### Tokenize All tweets"
      ]
    },
    {
      "cell_type": "code",
      "metadata": {
        "id": "naQ5Dy8tdN4M",
        "outputId": "f914a9bf-4708-4e8b-82fd-27569af0f5e6",
        "colab": {
          "base_uri": "https://localhost:8080/",
          "height": 224
        }
      },
      "source": [
        "! wget \"https://raw.githubusercontent.com/overfit-ir/persian-twitter-ner/master/twitter_data/extracted_data.txt\""
      ],
      "execution_count": 3,
      "outputs": [
        {
          "output_type": "stream",
          "text": [
            "--2020-10-10 06:38:53--  https://raw.githubusercontent.com/overfit-ir/persian-twitter-ner/master/twitter_data/extracted_data.txt\n",
            "Resolving raw.githubusercontent.com (raw.githubusercontent.com)... 151.101.0.133, 151.101.64.133, 151.101.128.133, ...\n",
            "Connecting to raw.githubusercontent.com (raw.githubusercontent.com)|151.101.0.133|:443... connected.\n",
            "HTTP request sent, awaiting response... 200 OK\n",
            "Length: 2698436 (2.6M) [text/plain]\n",
            "Saving to: ‘extracted_data.txt’\n",
            "\n",
            "extracted_data.txt  100%[===================>]   2.57M  --.-KB/s    in 0.08s   \n",
            "\n",
            "2020-10-10 06:38:54 (31.2 MB/s) - ‘extracted_data.txt’ saved [2698436/2698436]\n",
            "\n"
          ],
          "name": "stdout"
        }
      ]
    },
    {
      "cell_type": "code",
      "metadata": {
        "id": "01jhD-R-dXsn",
        "outputId": "31a16358-8dc9-4734-99da-9f9cf239822f",
        "colab": {
          "base_uri": "https://localhost:8080/",
          "height": 717
        }
      },
      "source": [
        "! head -n 40 extracted_data.txt"
      ],
      "execution_count": 4,
      "outputs": [
        {
          "output_type": "stream",
          "text": [
            "خرداد ۱۳۹۹ «کیهان» میراث سناتور مصطفی مصباح‌زاده ۷۸ ساله شد \n",
            "کیهان لندن تنها رسانه‌ ایرانی در تبعید است که «از جنگ دوم جهانی تاکنون قدمت و یک مؤسسه‌ غصب ‌شده در تهران» دارد.\n",
            "\n",
            "\n",
            "\n",
            "**************\n",
            "\n",
            "چهارمین قهرمانی فلومیننسه در برزیل:  \n",
            "\n",
            "**************\n",
            "\n",
            "زندگی_سلام\n",
            " کوراسائو، بلیز، سیشل و نائورو!\n",
            "‌\n",
            " خراسان_ورزشی ‌\n",
            "‌دو بی انضباطی و دو واکنش متفاوت از فرهاد\n",
            " سرخ های پایتخت در اندیشه دبل \n",
            "\n",
            "**************\n",
            "\n",
            "سال ۲۰۱۳ را سالی که در آن بایرن همه جام های ممکن را برد. \n",
            "و حالا ۲۰۲۰ تکرار کسب تمامی عناوین ممکن.\n",
            "لیگ_قهرمانان\n",
            "بوندس_لیگا\n",
            "جام_حذفی_آلمان \n",
            "سوپرکاپ_اروپا\n",
            "( سال ۲۰۱۳ ، قهرمان جام باشگاههای جهان) \n",
            "\n",
            "**************\n",
            "\n",
            " زین سرای بی کَسی ، کَس مجو\n",
            "محنت عاشقی ز بی کَس  مجو \n",
            "\n",
            "طرب عاشقانه ایی روا دار کنون \n",
            "به کَس و بی کَس  کنون عشق مجو \n",
            "\n",
            "مجتبی_الوندی\n",
            "\n",
            "\n",
            "**************\n"
          ],
          "name": "stdout"
        }
      ]
    },
    {
      "cell_type": "code",
      "metadata": {
        "id": "ky_SVWj-d9K5",
        "outputId": "969bbd0e-1d4e-4f67-d5b1-7fea57627e18",
        "colab": {
          "base_uri": "https://localhost:8080/",
          "height": 37
        }
      },
      "source": [
        "tweets_str = \"\"\n",
        "with open(\"extracted_data.txt\") as file:\n",
        "  for line in file.readlines():\n",
        "    tweets_str += line\n",
        "tweets_str[:20]"
      ],
      "execution_count": 5,
      "outputs": [
        {
          "output_type": "execute_result",
          "data": {
            "application/vnd.google.colaboratory.intrinsic+json": {
              "type": "string"
            },
            "text/plain": [
              "'خرداد ۱۳۹۹ «کیهان» م'"
            ]
          },
          "metadata": {
            "tags": []
          },
          "execution_count": 5
        }
      ]
    },
    {
      "cell_type": "code",
      "metadata": {
        "id": "pqt4gc0LeiY7",
        "outputId": "e65cbb72-703a-435d-aa38-6037e737887d",
        "colab": {
          "base_uri": "https://localhost:8080/",
          "height": 71
        }
      },
      "source": [
        "tweets = tweets_str.split(\"\\n\\n**************\\n\\n\")\n",
        "tweets[0], len(tweets)"
      ],
      "execution_count": 6,
      "outputs": [
        {
          "output_type": "execute_result",
          "data": {
            "text/plain": [
              "('خرداد ۱۳۹۹ «کیهان» میراث سناتور مصطفی مصباح\\u200cزاده ۷۸ ساله شد \\nکیهان لندن تنها رسانه\\u200c ایرانی در تبعید است که «از جنگ دوم جهانی تاکنون قدمت و یک مؤسسه\\u200c غصب \\u200cشده در تهران» دارد.\\n\\n',\n",
              " 9349)"
            ]
          },
          "metadata": {
            "tags": []
          },
          "execution_count": 6
        }
      ]
    },
    {
      "cell_type": "code",
      "metadata": {
        "id": "FyTcsd452GaG",
        "outputId": "a186e416-cda6-49a9-9faf-f7660d6c8cc3",
        "colab": {
          "base_uri": "https://localhost:8080/",
          "height": 34
        }
      },
      "source": [
        "len(tweets)"
      ],
      "execution_count": 7,
      "outputs": [
        {
          "output_type": "execute_result",
          "data": {
            "text/plain": [
              "9349"
            ]
          },
          "metadata": {
            "tags": []
          },
          "execution_count": 7
        }
      ]
    },
    {
      "cell_type": "code",
      "metadata": {
        "id": "PvVwD5co44yA",
        "outputId": "995dbe51-3d10-4cd2-fec5-1f6c50027f6a",
        "colab": {
          "base_uri": "https://localhost:8080/",
          "height": 34
        }
      },
      "source": [
        "len(set(tweets))"
      ],
      "execution_count": 8,
      "outputs": [
        {
          "output_type": "execute_result",
          "data": {
            "text/plain": [
              "9349"
            ]
          },
          "metadata": {
            "tags": []
          },
          "execution_count": 8
        }
      ]
    },
    {
      "cell_type": "code",
      "metadata": {
        "id": "YF5A5oAge3Ec"
      },
      "source": [
        "# tweets_tokens = []\n",
        "# for tweet in tweets:\n",
        "#   tweet_tokens = tokenizer.tokenize(tweet)\n",
        "#   tweets_tokens.append(tweet_tokens)"
      ],
      "execution_count": null,
      "outputs": []
    },
    {
      "cell_type": "code",
      "metadata": {
        "id": "y98gEM-xuoDu"
      },
      "source": [
        "tweets_tokens = []\n",
        "for tweet in tweets:\n",
        "  tweet_tokens = re.sub(' +', ' ',\n",
        "                        tweet.replace('\\n', ' ').\n",
        "                        replace('_', ' ').\n",
        "                        replace('|', ' ').\n",
        "                        replace('/', ' ').\n",
        "                        replace('+', ' ').\n",
        "                        replace('[', ' ').\n",
        "                        replace(']', ' '))\n",
        "  tweet_tokens = parsivar_tokenizer.tokenize_words(parsivar_normalizer.normalize(tweet_tokens))\n",
        "  tweets_tokens.append(tweet_tokens)"
      ],
      "execution_count": 9,
      "outputs": []
    },
    {
      "cell_type": "code",
      "metadata": {
        "id": "JWHa4P0F97ss",
        "outputId": "a5e1ac32-ba1d-45d4-f7ef-b7f4c8320bf9",
        "colab": {
          "base_uri": "https://localhost:8080/",
          "height": 663
        }
      },
      "source": [
        "tweets_tokens[0]"
      ],
      "execution_count": 10,
      "outputs": [
        {
          "output_type": "execute_result",
          "data": {
            "text/plain": [
              "['خرداد',\n",
              " '1399',\n",
              " '«',\n",
              " 'کیهان',\n",
              " '»',\n",
              " 'میراث',\n",
              " 'سناتور',\n",
              " 'مصطفی',\n",
              " 'مصباح\\u200cزاده',\n",
              " '78',\n",
              " 'ساله',\n",
              " 'شد',\n",
              " 'کیهان',\n",
              " 'لندن',\n",
              " 'تنها',\n",
              " 'رسانه',\n",
              " 'ایرانی',\n",
              " 'در',\n",
              " 'تبعید',\n",
              " 'است',\n",
              " 'که',\n",
              " '«',\n",
              " 'از',\n",
              " 'جنگ',\n",
              " 'دوم',\n",
              " 'جهانی',\n",
              " 'تاکنون',\n",
              " 'قدمت',\n",
              " 'و',\n",
              " 'یک',\n",
              " 'موسسه',\n",
              " 'غصب',\n",
              " 'شده',\n",
              " 'در',\n",
              " 'تهران',\n",
              " '»',\n",
              " 'دارد',\n",
              " '.']"
            ]
          },
          "metadata": {
            "tags": []
          },
          "execution_count": 10
        }
      ]
    },
    {
      "cell_type": "code",
      "metadata": {
        "id": "5H-xsIRs5SoF",
        "outputId": "ba4ab5df-63bc-45ca-92c6-14c7013a442f",
        "colab": {
          "base_uri": "https://localhost:8080/",
          "height": 34
        }
      },
      "source": [
        "counter = 0\n",
        "for i in range(1, 11):\n",
        "  with open('persian-ner-twitter-data' + str(i) + '.txt', 'w') as file:\n",
        "    if i != 10:\n",
        "      bin = tweets_tokens[(i-1)*1000:i*1000]\n",
        "    else:\n",
        "      bin = tweets_tokens[(i-1)*1000:len(tweets_tokens)]\n",
        "    for tweet_tokens in bin:\n",
        "      for token in tweet_tokens:\n",
        "        if token != '':\n",
        "          counter += 1\n",
        "          file.write(token + '\\tO\\n')\n",
        "      file.write('\\n')\n",
        "print(counter)"
      ],
      "execution_count": 11,
      "outputs": [
        {
          "output_type": "stream",
          "text": [
            "287876\n"
          ],
          "name": "stdout"
        }
      ]
    },
    {
      "cell_type": "code",
      "metadata": {
        "id": "RKtKA_oK9YZq",
        "outputId": "a9925ef0-0391-40e0-f825-784bc59b8dba",
        "colab": {
          "base_uri": "https://localhost:8080/",
          "height": 867
        }
      },
      "source": [
        "! head -n 50 persian-ner-twitter-data1.txt"
      ],
      "execution_count": 12,
      "outputs": [
        {
          "output_type": "stream",
          "text": [
            "خرداد\tO\n",
            "1399\tO\n",
            "«\tO\n",
            "کیهان\tO\n",
            "»\tO\n",
            "میراث\tO\n",
            "سناتور\tO\n",
            "مصطفی\tO\n",
            "مصباح‌زاده\tO\n",
            "78\tO\n",
            "ساله\tO\n",
            "شد\tO\n",
            "کیهان\tO\n",
            "لندن\tO\n",
            "تنها\tO\n",
            "رسانه\tO\n",
            "ایرانی\tO\n",
            "در\tO\n",
            "تبعید\tO\n",
            "است\tO\n",
            "که\tO\n",
            "«\tO\n",
            "از\tO\n",
            "جنگ\tO\n",
            "دوم\tO\n",
            "جهانی\tO\n",
            "تاکنون\tO\n",
            "قدمت\tO\n",
            "و\tO\n",
            "یک\tO\n",
            "موسسه\tO\n",
            "غصب\tO\n",
            "شده\tO\n",
            "در\tO\n",
            "تهران\tO\n",
            "»\tO\n",
            "دارد\tO\n",
            ".\tO\n",
            "\n",
            "چهارمین\tO\n",
            "قهرمانی\tO\n",
            "فلومیننسه\tO\n",
            "در\tO\n",
            "برزیل\tO\n",
            ":\tO\n",
            "\n",
            "زندگی\tO\n",
            "سلام\tO\n",
            "کوراسائو\tO\n",
            "،\tO\n"
          ],
          "name": "stdout"
        }
      ]
    },
    {
      "cell_type": "code",
      "metadata": {
        "id": "f_hcUfnU0vYv",
        "outputId": "f2e21db0-6bfb-4f84-f2f6-4ef15646c8dc",
        "colab": {
          "base_uri": "https://localhost:8080/",
          "height": 867
        }
      },
      "source": [
        "! head -n 50 persian-ner-twitter-data5.txt"
      ],
      "execution_count": 13,
      "outputs": [
        {
          "output_type": "stream",
          "text": [
            "دوران\tO\n",
            "دفاع\tO\n",
            "مقدس\tO\n",
            "اوج\tO\n",
            "افتخارات\tO\n",
            "ملت\tO\n",
            "ایران\tO\n",
            "است\tO\n",
            ".\tO\n",
            "مقام\tO\n",
            "معظم\tO\n",
            "رهبری\tO\n",
            "هفته\tO\n",
            "دفاع\tO\n",
            "مقدس\tO\n",
            "غبارروبی\tO\n",
            "مزار\tO\n",
            "شهدای\tO\n",
            "روستای\tO\n",
            "ارتش\tO\n",
            "آباد\tO\n",
            "زادگاه\tO\n",
            "شهید\tO\n",
            "طیب\tO\n",
            "حاج\tO\n",
            "رضایی\tO\n",
            "پنجشنبه\tO\n",
            "99\tO\n",
            "7\tO\n",
            "3\tO\n",
            "\n",
            "توییت\tO\n",
            "لری\tO\n",
            "هی\tO\n",
            "برار\tO\n",
            "جو\tO\n",
            "تا\tO\n",
            "بیه\tO\n",
            "هی\tO\n",
            "روزگارو\tO\n",
            "هی\tO\n",
            "چنینه\tO\n",
            "جا\tO\n",
            "پاییز\tO\n",
            "و\tO\n",
            "جا\tO\n",
            "زمسّو\tO\n",
            "همیشه\tO\n",
            "بهار\tO\n",
            "نشینه\tO\n"
          ],
          "name": "stdout"
        }
      ]
    },
    {
      "cell_type": "code",
      "metadata": {
        "id": "3YnOknl81MdX",
        "outputId": "6726d103-97c7-4683-c17f-7e921364e4c7",
        "colab": {
          "base_uri": "https://localhost:8080/",
          "height": 867
        }
      },
      "source": [
        "! head -n 50 persian-ner-twitter-data10.txt"
      ],
      "execution_count": null,
      "outputs": [
        {
          "output_type": "stream",
          "text": [
            "خرسند\tO\n",
            "\n",
            "هند\tO\n",
            "در\tO\n",
            "حال\tO\n",
            "مذاکره\tO\n",
            "با\tO\n",
            "اروپا\tO\n",
            "برای\tO\n",
            "ادامه\tO\n",
            "واردات\tO\n",
            "نفت\tO\n",
            "از\tO\n",
            "ایران\tO\n",
            "علی‌رغم\tO\n",
            "تحریم‌ها\tO\n",
            "است\tO\n",
            "«\tO\n",
            "هندوستان‌تایمز\tO\n",
            "»\tO\n",
            "نوشت\tO\n",
            "طبق\tO\n",
            "گفته\tO\n",
            "منابع\tO\n",
            "رسمی\tO\n",
            "هند\tO\n",
            "جدا\tO\n",
            "از\tO\n",
            "تلاش\tO\n",
            "برای\tO\n",
            "مجاب\tO\n",
            "کردن\tO\n",
            "آمریکا\tO\n",
            "مبنی\tO\n",
            "بر\tO\n",
            "اینکه\tO\n",
            "تحریم‌های\tO\n",
            "این\tO\n",
            "کشور\tO\n",
            "علیه\tO\n",
            "ایران\tO\n",
            "پس\tO\n",
            "از\tO\n",
            "خروج\tO\n",
            "از\tO\n",
            "برجام\tO\n",
            "بر\tO\n",
            "اقتصاد\tO\n",
            "هند\tO\n",
            "اثرات\tO\n"
          ],
          "name": "stdout"
        }
      ]
    },
    {
      "cell_type": "markdown",
      "metadata": {
        "id": "LdJu_tEFcdWo"
      },
      "source": [
        "# **Model**"
      ]
    },
    {
      "cell_type": "code",
      "metadata": {
        "id": "BWIrxhBYU-_G"
      },
      "source": [
        "from transformers import pipeline"
      ],
      "execution_count": null,
      "outputs": []
    },
    {
      "cell_type": "code",
      "metadata": {
        "id": "zcIkcJDTU_xw",
        "outputId": "f7ed8af3-60f8-44c3-9590-69c291f02be3",
        "colab": {
          "base_uri": "https://localhost:8080/",
          "height": 258
        }
      },
      "source": [
        "pars_ner = pipeline('ner', model=model, tokenizer=tokenizer)\n",
        "pars_ner(tweet_example)"
      ],
      "execution_count": null,
      "outputs": [
        {
          "output_type": "stream",
          "text": [
            "Asking to truncate to max_length but no maximum length is provided and the model has no predefined maximum length. Default to no truncation.\n"
          ],
          "name": "stderr"
        },
        {
          "output_type": "execute_result",
          "data": {
            "text/plain": [
              "[{'entity': 'B-organization',\n",
              "  'index': 8,\n",
              "  'score': 0.9995940327644348,\n",
              "  'word': 'اتلتیکو'},\n",
              " {'entity': 'B-organization',\n",
              "  'index': 13,\n",
              "  'score': 0.9972712397575378,\n",
              "  'word': 'بایرن'},\n",
              " {'entity': 'B-person',\n",
              "  'index': 31,\n",
              "  'score': 0.9915841817855835,\n",
              "  'word': 'هاینکس'}]"
            ]
          },
          "metadata": {
            "tags": []
          },
          "execution_count": 18
        }
      ]
    },
    {
      "cell_type": "code",
      "metadata": {
        "id": "GNUWDyFhS3Y4"
      },
      "source": [
        ""
      ],
      "execution_count": null,
      "outputs": []
    }
  ]
}