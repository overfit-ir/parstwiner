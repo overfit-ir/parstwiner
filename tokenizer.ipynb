{
  "nbformat": 4,
  "nbformat_minor": 0,
  "metadata": {
    "colab": {
      "name": "tempo.ipynb",
      "provenance": [],
      "toc_visible": true,
      "include_colab_link": true
    },
    "kernelspec": {
      "name": "python3",
      "display_name": "Python 3"
    },
    "accelerator": "GPU",
    "widgets": {
      "application/vnd.jupyter.widget-state+json": {
        "3676626a85204e0eb45bcc7379ee8b35": {
          "model_module": "@jupyter-widgets/controls",
          "model_name": "HBoxModel",
          "state": {
            "_view_name": "HBoxView",
            "_dom_classes": [],
            "_model_name": "HBoxModel",
            "_view_module": "@jupyter-widgets/controls",
            "_model_module_version": "1.5.0",
            "_view_count": null,
            "_view_module_version": "1.5.0",
            "box_style": "",
            "layout": "IPY_MODEL_1ea94ba37b3f47d1bc386ad8a21fce55",
            "_model_module": "@jupyter-widgets/controls",
            "children": [
              "IPY_MODEL_ca4eabc6481246de95e12998e4fe42cb",
              "IPY_MODEL_bfd599d712ff48e89b48756374b9a60e"
            ]
          }
        },
        "1ea94ba37b3f47d1bc386ad8a21fce55": {
          "model_module": "@jupyter-widgets/base",
          "model_name": "LayoutModel",
          "state": {
            "_view_name": "LayoutView",
            "grid_template_rows": null,
            "right": null,
            "justify_content": null,
            "_view_module": "@jupyter-widgets/base",
            "overflow": null,
            "_model_module_version": "1.2.0",
            "_view_count": null,
            "flex_flow": null,
            "width": null,
            "min_width": null,
            "border": null,
            "align_items": null,
            "bottom": null,
            "_model_module": "@jupyter-widgets/base",
            "top": null,
            "grid_column": null,
            "overflow_y": null,
            "overflow_x": null,
            "grid_auto_flow": null,
            "grid_area": null,
            "grid_template_columns": null,
            "flex": null,
            "_model_name": "LayoutModel",
            "justify_items": null,
            "grid_row": null,
            "max_height": null,
            "align_content": null,
            "visibility": null,
            "align_self": null,
            "height": null,
            "min_height": null,
            "padding": null,
            "grid_auto_rows": null,
            "grid_gap": null,
            "max_width": null,
            "order": null,
            "_view_module_version": "1.2.0",
            "grid_template_areas": null,
            "object_position": null,
            "object_fit": null,
            "grid_auto_columns": null,
            "margin": null,
            "display": null,
            "left": null
          }
        },
        "ca4eabc6481246de95e12998e4fe42cb": {
          "model_module": "@jupyter-widgets/controls",
          "model_name": "FloatProgressModel",
          "state": {
            "_view_name": "ProgressView",
            "style": "IPY_MODEL_faa38f1678bd4a3e84a177b81cb71e89",
            "_dom_classes": [],
            "description": "Downloading: 100%",
            "_model_name": "FloatProgressModel",
            "bar_style": "success",
            "max": 434,
            "_view_module": "@jupyter-widgets/controls",
            "_model_module_version": "1.5.0",
            "value": 434,
            "_view_count": null,
            "_view_module_version": "1.5.0",
            "orientation": "horizontal",
            "min": 0,
            "description_tooltip": null,
            "_model_module": "@jupyter-widgets/controls",
            "layout": "IPY_MODEL_44e8838ea1d64fbe9ccec5431311fbb5"
          }
        },
        "bfd599d712ff48e89b48756374b9a60e": {
          "model_module": "@jupyter-widgets/controls",
          "model_name": "HTMLModel",
          "state": {
            "_view_name": "HTMLView",
            "style": "IPY_MODEL_bcb2cd2a91dc4efdba7b24ec407bd8d2",
            "_dom_classes": [],
            "description": "",
            "_model_name": "HTMLModel",
            "placeholder": "​",
            "_view_module": "@jupyter-widgets/controls",
            "_model_module_version": "1.5.0",
            "value": " 434/434 [00:03&lt;00:00, 138B/s]",
            "_view_count": null,
            "_view_module_version": "1.5.0",
            "description_tooltip": null,
            "_model_module": "@jupyter-widgets/controls",
            "layout": "IPY_MODEL_74b9f2259bc34cc2a70e92d9d162816a"
          }
        },
        "faa38f1678bd4a3e84a177b81cb71e89": {
          "model_module": "@jupyter-widgets/controls",
          "model_name": "ProgressStyleModel",
          "state": {
            "_view_name": "StyleView",
            "_model_name": "ProgressStyleModel",
            "description_width": "initial",
            "_view_module": "@jupyter-widgets/base",
            "_model_module_version": "1.5.0",
            "_view_count": null,
            "_view_module_version": "1.2.0",
            "bar_color": null,
            "_model_module": "@jupyter-widgets/controls"
          }
        },
        "44e8838ea1d64fbe9ccec5431311fbb5": {
          "model_module": "@jupyter-widgets/base",
          "model_name": "LayoutModel",
          "state": {
            "_view_name": "LayoutView",
            "grid_template_rows": null,
            "right": null,
            "justify_content": null,
            "_view_module": "@jupyter-widgets/base",
            "overflow": null,
            "_model_module_version": "1.2.0",
            "_view_count": null,
            "flex_flow": null,
            "width": null,
            "min_width": null,
            "border": null,
            "align_items": null,
            "bottom": null,
            "_model_module": "@jupyter-widgets/base",
            "top": null,
            "grid_column": null,
            "overflow_y": null,
            "overflow_x": null,
            "grid_auto_flow": null,
            "grid_area": null,
            "grid_template_columns": null,
            "flex": null,
            "_model_name": "LayoutModel",
            "justify_items": null,
            "grid_row": null,
            "max_height": null,
            "align_content": null,
            "visibility": null,
            "align_self": null,
            "height": null,
            "min_height": null,
            "padding": null,
            "grid_auto_rows": null,
            "grid_gap": null,
            "max_width": null,
            "order": null,
            "_view_module_version": "1.2.0",
            "grid_template_areas": null,
            "object_position": null,
            "object_fit": null,
            "grid_auto_columns": null,
            "margin": null,
            "display": null,
            "left": null
          }
        },
        "bcb2cd2a91dc4efdba7b24ec407bd8d2": {
          "model_module": "@jupyter-widgets/controls",
          "model_name": "DescriptionStyleModel",
          "state": {
            "_view_name": "StyleView",
            "_model_name": "DescriptionStyleModel",
            "description_width": "",
            "_view_module": "@jupyter-widgets/base",
            "_model_module_version": "1.5.0",
            "_view_count": null,
            "_view_module_version": "1.2.0",
            "_model_module": "@jupyter-widgets/controls"
          }
        },
        "74b9f2259bc34cc2a70e92d9d162816a": {
          "model_module": "@jupyter-widgets/base",
          "model_name": "LayoutModel",
          "state": {
            "_view_name": "LayoutView",
            "grid_template_rows": null,
            "right": null,
            "justify_content": null,
            "_view_module": "@jupyter-widgets/base",
            "overflow": null,
            "_model_module_version": "1.2.0",
            "_view_count": null,
            "flex_flow": null,
            "width": null,
            "min_width": null,
            "border": null,
            "align_items": null,
            "bottom": null,
            "_model_module": "@jupyter-widgets/base",
            "top": null,
            "grid_column": null,
            "overflow_y": null,
            "overflow_x": null,
            "grid_auto_flow": null,
            "grid_area": null,
            "grid_template_columns": null,
            "flex": null,
            "_model_name": "LayoutModel",
            "justify_items": null,
            "grid_row": null,
            "max_height": null,
            "align_content": null,
            "visibility": null,
            "align_self": null,
            "height": null,
            "min_height": null,
            "padding": null,
            "grid_auto_rows": null,
            "grid_gap": null,
            "max_width": null,
            "order": null,
            "_view_module_version": "1.2.0",
            "grid_template_areas": null,
            "object_position": null,
            "object_fit": null,
            "grid_auto_columns": null,
            "margin": null,
            "display": null,
            "left": null
          }
        },
        "c0521a0bf1f2494fae494900b1bbf991": {
          "model_module": "@jupyter-widgets/controls",
          "model_name": "HBoxModel",
          "state": {
            "_view_name": "HBoxView",
            "_dom_classes": [],
            "_model_name": "HBoxModel",
            "_view_module": "@jupyter-widgets/controls",
            "_model_module_version": "1.5.0",
            "_view_count": null,
            "_view_module_version": "1.5.0",
            "box_style": "",
            "layout": "IPY_MODEL_c13ec7a2fdce418ca54e873fb4bba50c",
            "_model_module": "@jupyter-widgets/controls",
            "children": [
              "IPY_MODEL_c07bee68f5d641b5af8d6c4efb05d886",
              "IPY_MODEL_156396a05fb24e3bb564dbdeb4c5de30"
            ]
          }
        },
        "c13ec7a2fdce418ca54e873fb4bba50c": {
          "model_module": "@jupyter-widgets/base",
          "model_name": "LayoutModel",
          "state": {
            "_view_name": "LayoutView",
            "grid_template_rows": null,
            "right": null,
            "justify_content": null,
            "_view_module": "@jupyter-widgets/base",
            "overflow": null,
            "_model_module_version": "1.2.0",
            "_view_count": null,
            "flex_flow": null,
            "width": null,
            "min_width": null,
            "border": null,
            "align_items": null,
            "bottom": null,
            "_model_module": "@jupyter-widgets/base",
            "top": null,
            "grid_column": null,
            "overflow_y": null,
            "overflow_x": null,
            "grid_auto_flow": null,
            "grid_area": null,
            "grid_template_columns": null,
            "flex": null,
            "_model_name": "LayoutModel",
            "justify_items": null,
            "grid_row": null,
            "max_height": null,
            "align_content": null,
            "visibility": null,
            "align_self": null,
            "height": null,
            "min_height": null,
            "padding": null,
            "grid_auto_rows": null,
            "grid_gap": null,
            "max_width": null,
            "order": null,
            "_view_module_version": "1.2.0",
            "grid_template_areas": null,
            "object_position": null,
            "object_fit": null,
            "grid_auto_columns": null,
            "margin": null,
            "display": null,
            "left": null
          }
        },
        "c07bee68f5d641b5af8d6c4efb05d886": {
          "model_module": "@jupyter-widgets/controls",
          "model_name": "FloatProgressModel",
          "state": {
            "_view_name": "ProgressView",
            "style": "IPY_MODEL_7817f4a848b6443abc0afd951c7e95c2",
            "_dom_classes": [],
            "description": "Downloading: 100%",
            "_model_name": "FloatProgressModel",
            "bar_style": "success",
            "max": 1215509,
            "_view_module": "@jupyter-widgets/controls",
            "_model_module_version": "1.5.0",
            "value": 1215509,
            "_view_count": null,
            "_view_module_version": "1.5.0",
            "orientation": "horizontal",
            "min": 0,
            "description_tooltip": null,
            "_model_module": "@jupyter-widgets/controls",
            "layout": "IPY_MODEL_aa9e1cd1a78a42ffa256fda03bf22ac4"
          }
        },
        "156396a05fb24e3bb564dbdeb4c5de30": {
          "model_module": "@jupyter-widgets/controls",
          "model_name": "HTMLModel",
          "state": {
            "_view_name": "HTMLView",
            "style": "IPY_MODEL_e13e9962fac4425399e0775a0f9347da",
            "_dom_classes": [],
            "description": "",
            "_model_name": "HTMLModel",
            "placeholder": "​",
            "_view_module": "@jupyter-widgets/controls",
            "_model_module_version": "1.5.0",
            "value": " 1.22M/1.22M [00:02&lt;00:00, 526kB/s]",
            "_view_count": null,
            "_view_module_version": "1.5.0",
            "description_tooltip": null,
            "_model_module": "@jupyter-widgets/controls",
            "layout": "IPY_MODEL_dab981e55dc84a11a9dbaca0ba6aa0e4"
          }
        },
        "7817f4a848b6443abc0afd951c7e95c2": {
          "model_module": "@jupyter-widgets/controls",
          "model_name": "ProgressStyleModel",
          "state": {
            "_view_name": "StyleView",
            "_model_name": "ProgressStyleModel",
            "description_width": "initial",
            "_view_module": "@jupyter-widgets/base",
            "_model_module_version": "1.5.0",
            "_view_count": null,
            "_view_module_version": "1.2.0",
            "bar_color": null,
            "_model_module": "@jupyter-widgets/controls"
          }
        },
        "aa9e1cd1a78a42ffa256fda03bf22ac4": {
          "model_module": "@jupyter-widgets/base",
          "model_name": "LayoutModel",
          "state": {
            "_view_name": "LayoutView",
            "grid_template_rows": null,
            "right": null,
            "justify_content": null,
            "_view_module": "@jupyter-widgets/base",
            "overflow": null,
            "_model_module_version": "1.2.0",
            "_view_count": null,
            "flex_flow": null,
            "width": null,
            "min_width": null,
            "border": null,
            "align_items": null,
            "bottom": null,
            "_model_module": "@jupyter-widgets/base",
            "top": null,
            "grid_column": null,
            "overflow_y": null,
            "overflow_x": null,
            "grid_auto_flow": null,
            "grid_area": null,
            "grid_template_columns": null,
            "flex": null,
            "_model_name": "LayoutModel",
            "justify_items": null,
            "grid_row": null,
            "max_height": null,
            "align_content": null,
            "visibility": null,
            "align_self": null,
            "height": null,
            "min_height": null,
            "padding": null,
            "grid_auto_rows": null,
            "grid_gap": null,
            "max_width": null,
            "order": null,
            "_view_module_version": "1.2.0",
            "grid_template_areas": null,
            "object_position": null,
            "object_fit": null,
            "grid_auto_columns": null,
            "margin": null,
            "display": null,
            "left": null
          }
        },
        "e13e9962fac4425399e0775a0f9347da": {
          "model_module": "@jupyter-widgets/controls",
          "model_name": "DescriptionStyleModel",
          "state": {
            "_view_name": "StyleView",
            "_model_name": "DescriptionStyleModel",
            "description_width": "",
            "_view_module": "@jupyter-widgets/base",
            "_model_module_version": "1.5.0",
            "_view_count": null,
            "_view_module_version": "1.2.0",
            "_model_module": "@jupyter-widgets/controls"
          }
        },
        "dab981e55dc84a11a9dbaca0ba6aa0e4": {
          "model_module": "@jupyter-widgets/base",
          "model_name": "LayoutModel",
          "state": {
            "_view_name": "LayoutView",
            "grid_template_rows": null,
            "right": null,
            "justify_content": null,
            "_view_module": "@jupyter-widgets/base",
            "overflow": null,
            "_model_module_version": "1.2.0",
            "_view_count": null,
            "flex_flow": null,
            "width": null,
            "min_width": null,
            "border": null,
            "align_items": null,
            "bottom": null,
            "_model_module": "@jupyter-widgets/base",
            "top": null,
            "grid_column": null,
            "overflow_y": null,
            "overflow_x": null,
            "grid_auto_flow": null,
            "grid_area": null,
            "grid_template_columns": null,
            "flex": null,
            "_model_name": "LayoutModel",
            "justify_items": null,
            "grid_row": null,
            "max_height": null,
            "align_content": null,
            "visibility": null,
            "align_self": null,
            "height": null,
            "min_height": null,
            "padding": null,
            "grid_auto_rows": null,
            "grid_gap": null,
            "max_width": null,
            "order": null,
            "_view_module_version": "1.2.0",
            "grid_template_areas": null,
            "object_position": null,
            "object_fit": null,
            "grid_auto_columns": null,
            "margin": null,
            "display": null,
            "left": null
          }
        },
        "818e61f6b12c4e81940c90473f1d405c": {
          "model_module": "@jupyter-widgets/controls",
          "model_name": "HBoxModel",
          "state": {
            "_view_name": "HBoxView",
            "_dom_classes": [],
            "_model_name": "HBoxModel",
            "_view_module": "@jupyter-widgets/controls",
            "_model_module_version": "1.5.0",
            "_view_count": null,
            "_view_module_version": "1.5.0",
            "box_style": "",
            "layout": "IPY_MODEL_829ddb1c98b84449977872a72cd3ea23",
            "_model_module": "@jupyter-widgets/controls",
            "children": [
              "IPY_MODEL_4738607027d24ca7aa5a25e612ebb99f",
              "IPY_MODEL_48f8ca19e0a7449e86f0e0b372d6a8df"
            ]
          }
        },
        "829ddb1c98b84449977872a72cd3ea23": {
          "model_module": "@jupyter-widgets/base",
          "model_name": "LayoutModel",
          "state": {
            "_view_name": "LayoutView",
            "grid_template_rows": null,
            "right": null,
            "justify_content": null,
            "_view_module": "@jupyter-widgets/base",
            "overflow": null,
            "_model_module_version": "1.2.0",
            "_view_count": null,
            "flex_flow": null,
            "width": null,
            "min_width": null,
            "border": null,
            "align_items": null,
            "bottom": null,
            "_model_module": "@jupyter-widgets/base",
            "top": null,
            "grid_column": null,
            "overflow_y": null,
            "overflow_x": null,
            "grid_auto_flow": null,
            "grid_area": null,
            "grid_template_columns": null,
            "flex": null,
            "_model_name": "LayoutModel",
            "justify_items": null,
            "grid_row": null,
            "max_height": null,
            "align_content": null,
            "visibility": null,
            "align_self": null,
            "height": null,
            "min_height": null,
            "padding": null,
            "grid_auto_rows": null,
            "grid_gap": null,
            "max_width": null,
            "order": null,
            "_view_module_version": "1.2.0",
            "grid_template_areas": null,
            "object_position": null,
            "object_fit": null,
            "grid_auto_columns": null,
            "margin": null,
            "display": null,
            "left": null
          }
        },
        "4738607027d24ca7aa5a25e612ebb99f": {
          "model_module": "@jupyter-widgets/controls",
          "model_name": "FloatProgressModel",
          "state": {
            "_view_name": "ProgressView",
            "style": "IPY_MODEL_11a7429ab1984b0aa7217e23f9dbe119",
            "_dom_classes": [],
            "description": "Downloading: 100%",
            "_model_name": "FloatProgressModel",
            "bar_style": "success",
            "max": 1357,
            "_view_module": "@jupyter-widgets/controls",
            "_model_module_version": "1.5.0",
            "value": 1357,
            "_view_count": null,
            "_view_module_version": "1.5.0",
            "orientation": "horizontal",
            "min": 0,
            "description_tooltip": null,
            "_model_module": "@jupyter-widgets/controls",
            "layout": "IPY_MODEL_ceca84c435c6485c9c2e94ccf5abf070"
          }
        },
        "48f8ca19e0a7449e86f0e0b372d6a8df": {
          "model_module": "@jupyter-widgets/controls",
          "model_name": "HTMLModel",
          "state": {
            "_view_name": "HTMLView",
            "style": "IPY_MODEL_46da6ea556f04f979500955ca2cc2d2c",
            "_dom_classes": [],
            "description": "",
            "_model_name": "HTMLModel",
            "placeholder": "​",
            "_view_module": "@jupyter-widgets/controls",
            "_model_module_version": "1.5.0",
            "value": " 1.36k/1.36k [00:27&lt;00:00, 49.6B/s]",
            "_view_count": null,
            "_view_module_version": "1.5.0",
            "description_tooltip": null,
            "_model_module": "@jupyter-widgets/controls",
            "layout": "IPY_MODEL_d15f57d9b6b5497ea8cd894a6d2652cf"
          }
        },
        "11a7429ab1984b0aa7217e23f9dbe119": {
          "model_module": "@jupyter-widgets/controls",
          "model_name": "ProgressStyleModel",
          "state": {
            "_view_name": "StyleView",
            "_model_name": "ProgressStyleModel",
            "description_width": "initial",
            "_view_module": "@jupyter-widgets/base",
            "_model_module_version": "1.5.0",
            "_view_count": null,
            "_view_module_version": "1.2.0",
            "bar_color": null,
            "_model_module": "@jupyter-widgets/controls"
          }
        },
        "ceca84c435c6485c9c2e94ccf5abf070": {
          "model_module": "@jupyter-widgets/base",
          "model_name": "LayoutModel",
          "state": {
            "_view_name": "LayoutView",
            "grid_template_rows": null,
            "right": null,
            "justify_content": null,
            "_view_module": "@jupyter-widgets/base",
            "overflow": null,
            "_model_module_version": "1.2.0",
            "_view_count": null,
            "flex_flow": null,
            "width": null,
            "min_width": null,
            "border": null,
            "align_items": null,
            "bottom": null,
            "_model_module": "@jupyter-widgets/base",
            "top": null,
            "grid_column": null,
            "overflow_y": null,
            "overflow_x": null,
            "grid_auto_flow": null,
            "grid_area": null,
            "grid_template_columns": null,
            "flex": null,
            "_model_name": "LayoutModel",
            "justify_items": null,
            "grid_row": null,
            "max_height": null,
            "align_content": null,
            "visibility": null,
            "align_self": null,
            "height": null,
            "min_height": null,
            "padding": null,
            "grid_auto_rows": null,
            "grid_gap": null,
            "max_width": null,
            "order": null,
            "_view_module_version": "1.2.0",
            "grid_template_areas": null,
            "object_position": null,
            "object_fit": null,
            "grid_auto_columns": null,
            "margin": null,
            "display": null,
            "left": null
          }
        },
        "46da6ea556f04f979500955ca2cc2d2c": {
          "model_module": "@jupyter-widgets/controls",
          "model_name": "DescriptionStyleModel",
          "state": {
            "_view_name": "StyleView",
            "_model_name": "DescriptionStyleModel",
            "description_width": "",
            "_view_module": "@jupyter-widgets/base",
            "_model_module_version": "1.5.0",
            "_view_count": null,
            "_view_module_version": "1.2.0",
            "_model_module": "@jupyter-widgets/controls"
          }
        },
        "d15f57d9b6b5497ea8cd894a6d2652cf": {
          "model_module": "@jupyter-widgets/base",
          "model_name": "LayoutModel",
          "state": {
            "_view_name": "LayoutView",
            "grid_template_rows": null,
            "right": null,
            "justify_content": null,
            "_view_module": "@jupyter-widgets/base",
            "overflow": null,
            "_model_module_version": "1.2.0",
            "_view_count": null,
            "flex_flow": null,
            "width": null,
            "min_width": null,
            "border": null,
            "align_items": null,
            "bottom": null,
            "_model_module": "@jupyter-widgets/base",
            "top": null,
            "grid_column": null,
            "overflow_y": null,
            "overflow_x": null,
            "grid_auto_flow": null,
            "grid_area": null,
            "grid_template_columns": null,
            "flex": null,
            "_model_name": "LayoutModel",
            "justify_items": null,
            "grid_row": null,
            "max_height": null,
            "align_content": null,
            "visibility": null,
            "align_self": null,
            "height": null,
            "min_height": null,
            "padding": null,
            "grid_auto_rows": null,
            "grid_gap": null,
            "max_width": null,
            "order": null,
            "_view_module_version": "1.2.0",
            "grid_template_areas": null,
            "object_position": null,
            "object_fit": null,
            "grid_auto_columns": null,
            "margin": null,
            "display": null,
            "left": null
          }
        },
        "8ceaeb9060ce441ebac3f29422ce68c8": {
          "model_module": "@jupyter-widgets/controls",
          "model_name": "HBoxModel",
          "state": {
            "_view_name": "HBoxView",
            "_dom_classes": [],
            "_model_name": "HBoxModel",
            "_view_module": "@jupyter-widgets/controls",
            "_model_module_version": "1.5.0",
            "_view_count": null,
            "_view_module_version": "1.5.0",
            "box_style": "",
            "layout": "IPY_MODEL_7418560d3c9149e78385ff65001d0810",
            "_model_module": "@jupyter-widgets/controls",
            "children": [
              "IPY_MODEL_0761d0eba85742c6897b8b32538c40ac",
              "IPY_MODEL_805b248f16384f52aa506ca3240a2478"
            ]
          }
        },
        "7418560d3c9149e78385ff65001d0810": {
          "model_module": "@jupyter-widgets/base",
          "model_name": "LayoutModel",
          "state": {
            "_view_name": "LayoutView",
            "grid_template_rows": null,
            "right": null,
            "justify_content": null,
            "_view_module": "@jupyter-widgets/base",
            "overflow": null,
            "_model_module_version": "1.2.0",
            "_view_count": null,
            "flex_flow": null,
            "width": null,
            "min_width": null,
            "border": null,
            "align_items": null,
            "bottom": null,
            "_model_module": "@jupyter-widgets/base",
            "top": null,
            "grid_column": null,
            "overflow_y": null,
            "overflow_x": null,
            "grid_auto_flow": null,
            "grid_area": null,
            "grid_template_columns": null,
            "flex": null,
            "_model_name": "LayoutModel",
            "justify_items": null,
            "grid_row": null,
            "max_height": null,
            "align_content": null,
            "visibility": null,
            "align_self": null,
            "height": null,
            "min_height": null,
            "padding": null,
            "grid_auto_rows": null,
            "grid_gap": null,
            "max_width": null,
            "order": null,
            "_view_module_version": "1.2.0",
            "grid_template_areas": null,
            "object_position": null,
            "object_fit": null,
            "grid_auto_columns": null,
            "margin": null,
            "display": null,
            "left": null
          }
        },
        "0761d0eba85742c6897b8b32538c40ac": {
          "model_module": "@jupyter-widgets/controls",
          "model_name": "FloatProgressModel",
          "state": {
            "_view_name": "ProgressView",
            "style": "IPY_MODEL_83606088017344c38f3087f598d7ed69",
            "_dom_classes": [],
            "description": "Downloading: 100%",
            "_model_name": "FloatProgressModel",
            "bar_style": "success",
            "max": 651478185,
            "_view_module": "@jupyter-widgets/controls",
            "_model_module_version": "1.5.0",
            "value": 651478185,
            "_view_count": null,
            "_view_module_version": "1.5.0",
            "orientation": "horizontal",
            "min": 0,
            "description_tooltip": null,
            "_model_module": "@jupyter-widgets/controls",
            "layout": "IPY_MODEL_9ffc58ec5f0243bf8c705c0edcf000d5"
          }
        },
        "805b248f16384f52aa506ca3240a2478": {
          "model_module": "@jupyter-widgets/controls",
          "model_name": "HTMLModel",
          "state": {
            "_view_name": "HTMLView",
            "style": "IPY_MODEL_6dca6d2715ec4b7aae9a0b9a1a429a96",
            "_dom_classes": [],
            "description": "",
            "_model_name": "HTMLModel",
            "placeholder": "​",
            "_view_module": "@jupyter-widgets/controls",
            "_model_module_version": "1.5.0",
            "value": " 651M/651M [00:26&lt;00:00, 24.5MB/s]",
            "_view_count": null,
            "_view_module_version": "1.5.0",
            "description_tooltip": null,
            "_model_module": "@jupyter-widgets/controls",
            "layout": "IPY_MODEL_3aae25bbc18643608d445059009bc596"
          }
        },
        "83606088017344c38f3087f598d7ed69": {
          "model_module": "@jupyter-widgets/controls",
          "model_name": "ProgressStyleModel",
          "state": {
            "_view_name": "StyleView",
            "_model_name": "ProgressStyleModel",
            "description_width": "initial",
            "_view_module": "@jupyter-widgets/base",
            "_model_module_version": "1.5.0",
            "_view_count": null,
            "_view_module_version": "1.2.0",
            "bar_color": null,
            "_model_module": "@jupyter-widgets/controls"
          }
        },
        "9ffc58ec5f0243bf8c705c0edcf000d5": {
          "model_module": "@jupyter-widgets/base",
          "model_name": "LayoutModel",
          "state": {
            "_view_name": "LayoutView",
            "grid_template_rows": null,
            "right": null,
            "justify_content": null,
            "_view_module": "@jupyter-widgets/base",
            "overflow": null,
            "_model_module_version": "1.2.0",
            "_view_count": null,
            "flex_flow": null,
            "width": null,
            "min_width": null,
            "border": null,
            "align_items": null,
            "bottom": null,
            "_model_module": "@jupyter-widgets/base",
            "top": null,
            "grid_column": null,
            "overflow_y": null,
            "overflow_x": null,
            "grid_auto_flow": null,
            "grid_area": null,
            "grid_template_columns": null,
            "flex": null,
            "_model_name": "LayoutModel",
            "justify_items": null,
            "grid_row": null,
            "max_height": null,
            "align_content": null,
            "visibility": null,
            "align_self": null,
            "height": null,
            "min_height": null,
            "padding": null,
            "grid_auto_rows": null,
            "grid_gap": null,
            "max_width": null,
            "order": null,
            "_view_module_version": "1.2.0",
            "grid_template_areas": null,
            "object_position": null,
            "object_fit": null,
            "grid_auto_columns": null,
            "margin": null,
            "display": null,
            "left": null
          }
        },
        "6dca6d2715ec4b7aae9a0b9a1a429a96": {
          "model_module": "@jupyter-widgets/controls",
          "model_name": "DescriptionStyleModel",
          "state": {
            "_view_name": "StyleView",
            "_model_name": "DescriptionStyleModel",
            "description_width": "",
            "_view_module": "@jupyter-widgets/base",
            "_model_module_version": "1.5.0",
            "_view_count": null,
            "_view_module_version": "1.2.0",
            "_model_module": "@jupyter-widgets/controls"
          }
        },
        "3aae25bbc18643608d445059009bc596": {
          "model_module": "@jupyter-widgets/base",
          "model_name": "LayoutModel",
          "state": {
            "_view_name": "LayoutView",
            "grid_template_rows": null,
            "right": null,
            "justify_content": null,
            "_view_module": "@jupyter-widgets/base",
            "overflow": null,
            "_model_module_version": "1.2.0",
            "_view_count": null,
            "flex_flow": null,
            "width": null,
            "min_width": null,
            "border": null,
            "align_items": null,
            "bottom": null,
            "_model_module": "@jupyter-widgets/base",
            "top": null,
            "grid_column": null,
            "overflow_y": null,
            "overflow_x": null,
            "grid_auto_flow": null,
            "grid_area": null,
            "grid_template_columns": null,
            "flex": null,
            "_model_name": "LayoutModel",
            "justify_items": null,
            "grid_row": null,
            "max_height": null,
            "align_content": null,
            "visibility": null,
            "align_self": null,
            "height": null,
            "min_height": null,
            "padding": null,
            "grid_auto_rows": null,
            "grid_gap": null,
            "max_width": null,
            "order": null,
            "_view_module_version": "1.2.0",
            "grid_template_areas": null,
            "object_position": null,
            "object_fit": null,
            "grid_auto_columns": null,
            "margin": null,
            "display": null,
            "left": null
          }
        }
      }
    }
  },
  "cells": [
    {
      "cell_type": "markdown",
      "metadata": {
        "id": "view-in-github",
        "colab_type": "text"
      },
      "source": [
        "<a href=\"https://colab.research.google.com/github/overfit-ir/persian-twitter-ner/blob/master/tokenizer.ipynb\" target=\"_parent\"><img src=\"https://colab.research.google.com/assets/colab-badge.svg\" alt=\"Open In Colab\"/></a>"
      ]
    },
    {
      "cell_type": "markdown",
      "metadata": {
        "id": "rMbgFS_xcfcf"
      },
      "source": [
        "# Setup"
      ]
    },
    {
      "cell_type": "code",
      "metadata": {
        "id": "nF-7m57sBgdp",
        "outputId": "e3f36662-d277-474d-d3f7-c3ab7a1f82c4",
        "colab": {
          "base_uri": "https://localhost:8080/",
          "height": 170
        }
      },
      "source": [
        "! pip -q install transformers\n",
        "! pip -q install parsivar"
      ],
      "execution_count": 1,
      "outputs": [
        {
          "output_type": "stream",
          "text": [
            "\u001b[K     |████████████████████████████████| 1.1MB 8.5MB/s \n",
            "\u001b[K     |████████████████████████████████| 890kB 52.5MB/s \n",
            "\u001b[K     |████████████████████████████████| 1.1MB 52.7MB/s \n",
            "\u001b[K     |████████████████████████████████| 3.0MB 54.7MB/s \n",
            "\u001b[?25h  Building wheel for sacremoses (setup.py) ... \u001b[?25l\u001b[?25hdone\n",
            "\u001b[K     |████████████████████████████████| 36.2MB 83kB/s \n",
            "\u001b[K     |████████████████████████████████| 1.5MB 22.3MB/s \n",
            "\u001b[?25h  Building wheel for parsivar (setup.py) ... \u001b[?25l\u001b[?25hdone\n",
            "  Building wheel for nltk (setup.py) ... \u001b[?25l\u001b[?25hdone\n"
          ],
          "name": "stdout"
        }
      ]
    },
    {
      "cell_type": "code",
      "metadata": {
        "id": "GbAOjVTbIvjW"
      },
      "source": [
        "import torch\n",
        "from __future__ import unicode_literals\n",
        "# from hazm import *\n",
        "from parsivar import *\n",
        "from pprint import pprint\n",
        "import torch\n",
        "import numpy as np\n",
        "import pandas as pd\n",
        "from datetime import datetime\n",
        "from scipy import spatial\n",
        "from transformers import AutoConfig, AutoTokenizer, AutoModel, AutoModelForTokenClassification\n",
        "import re\n",
        "parsivar_tokenizer = Tokenizer()"
      ],
      "execution_count": 30,
      "outputs": []
    },
    {
      "cell_type": "code",
      "metadata": {
        "id": "ZZAJwNKuIwLN",
        "outputId": "b35f3383-d91d-4fc4-ef14-276310c029b9",
        "colab": {
          "base_uri": "https://localhost:8080/",
          "height": 230,
          "referenced_widgets": [
            "3676626a85204e0eb45bcc7379ee8b35",
            "1ea94ba37b3f47d1bc386ad8a21fce55",
            "ca4eabc6481246de95e12998e4fe42cb",
            "bfd599d712ff48e89b48756374b9a60e",
            "faa38f1678bd4a3e84a177b81cb71e89",
            "44e8838ea1d64fbe9ccec5431311fbb5",
            "bcb2cd2a91dc4efdba7b24ec407bd8d2",
            "74b9f2259bc34cc2a70e92d9d162816a",
            "c0521a0bf1f2494fae494900b1bbf991",
            "c13ec7a2fdce418ca54e873fb4bba50c",
            "c07bee68f5d641b5af8d6c4efb05d886",
            "156396a05fb24e3bb564dbdeb4c5de30",
            "7817f4a848b6443abc0afd951c7e95c2",
            "aa9e1cd1a78a42ffa256fda03bf22ac4",
            "e13e9962fac4425399e0775a0f9347da",
            "dab981e55dc84a11a9dbaca0ba6aa0e4",
            "818e61f6b12c4e81940c90473f1d405c",
            "829ddb1c98b84449977872a72cd3ea23",
            "4738607027d24ca7aa5a25e612ebb99f",
            "48f8ca19e0a7449e86f0e0b372d6a8df",
            "11a7429ab1984b0aa7217e23f9dbe119",
            "ceca84c435c6485c9c2e94ccf5abf070",
            "46da6ea556f04f979500955ca2cc2d2c",
            "d15f57d9b6b5497ea8cd894a6d2652cf",
            "8ceaeb9060ce441ebac3f29422ce68c8",
            "7418560d3c9149e78385ff65001d0810",
            "0761d0eba85742c6897b8b32538c40ac",
            "805b248f16384f52aa506ca3240a2478",
            "83606088017344c38f3087f598d7ed69",
            "9ffc58ec5f0243bf8c705c0edcf000d5",
            "6dca6d2715ec4b7aae9a0b9a1a429a96",
            "3aae25bbc18643608d445059009bc596"
          ]
        }
      },
      "source": [
        "tokenizer = AutoTokenizer.from_pretrained(\"HooshvareLab/bert-base-parsbert-uncased\")\n",
        "# tokenizer = AutoTokenizer.from_pretrained(\"HooshvareLab/bert-base-parsbert-ner-uncased\")\n",
        "model = AutoModelForTokenClassification.from_pretrained(\"HooshvareLab/bert-base-parsbert-ner-uncased\")\n",
        "model.eval()\n",
        "print()"
      ],
      "execution_count": 3,
      "outputs": [
        {
          "output_type": "display_data",
          "data": {
            "application/vnd.jupyter.widget-view+json": {
              "model_id": "3676626a85204e0eb45bcc7379ee8b35",
              "version_minor": 0,
              "version_major": 2
            },
            "text/plain": [
              "HBox(children=(FloatProgress(value=0.0, description='Downloading', max=434.0, style=ProgressStyle(description_…"
            ]
          },
          "metadata": {
            "tags": []
          }
        },
        {
          "output_type": "stream",
          "text": [
            "\n"
          ],
          "name": "stdout"
        },
        {
          "output_type": "display_data",
          "data": {
            "application/vnd.jupyter.widget-view+json": {
              "model_id": "c0521a0bf1f2494fae494900b1bbf991",
              "version_minor": 0,
              "version_major": 2
            },
            "text/plain": [
              "HBox(children=(FloatProgress(value=0.0, description='Downloading', max=1215509.0, style=ProgressStyle(descript…"
            ]
          },
          "metadata": {
            "tags": []
          }
        },
        {
          "output_type": "stream",
          "text": [
            "\n"
          ],
          "name": "stdout"
        },
        {
          "output_type": "display_data",
          "data": {
            "application/vnd.jupyter.widget-view+json": {
              "model_id": "818e61f6b12c4e81940c90473f1d405c",
              "version_minor": 0,
              "version_major": 2
            },
            "text/plain": [
              "HBox(children=(FloatProgress(value=0.0, description='Downloading', max=1357.0, style=ProgressStyle(description…"
            ]
          },
          "metadata": {
            "tags": []
          }
        },
        {
          "output_type": "stream",
          "text": [
            "\n"
          ],
          "name": "stdout"
        },
        {
          "output_type": "display_data",
          "data": {
            "application/vnd.jupyter.widget-view+json": {
              "model_id": "8ceaeb9060ce441ebac3f29422ce68c8",
              "version_minor": 0,
              "version_major": 2
            },
            "text/plain": [
              "HBox(children=(FloatProgress(value=0.0, description='Downloading', max=651478185.0, style=ProgressStyle(descri…"
            ]
          },
          "metadata": {
            "tags": []
          }
        },
        {
          "output_type": "stream",
          "text": [
            "\n",
            "\n"
          ],
          "name": "stdout"
        }
      ]
    },
    {
      "cell_type": "markdown",
      "metadata": {
        "id": "h_5tgmwqch8n"
      },
      "source": [
        "# **Tokenize**"
      ]
    },
    {
      "cell_type": "markdown",
      "metadata": {
        "id": "DIODPTLFdAzn"
      },
      "source": [
        "### Example"
      ]
    },
    {
      "cell_type": "code",
      "metadata": {
        "id": "zQ5WxSUoaZP3"
      },
      "source": [
        "tweet_example = \"\"\" بابا بیخیال :)) همون سال اتلتیکو با گل افساید به بایرن رفت فینال.\n",
        "\n",
        "مشکل داوری نداشتیم اون بازی که میگی.\n",
        "فصل قبلش هم ۴ ۰ با هاینکس زدیم شما رو\n",
        "\"\"\""
      ],
      "execution_count": 4,
      "outputs": []
    },
    {
      "cell_type": "code",
      "metadata": {
        "id": "CE2zhzuFQnNG",
        "outputId": "3e467f8a-8f03-4571-ab12-49db6eebbf6e",
        "colab": {
          "base_uri": "https://localhost:8080/",
          "height": 54
        }
      },
      "source": [
        "input_sentence = tokenizer.tokenize(tweet_example)\n",
        "print(input_sentence)"
      ],
      "execution_count": 5,
      "outputs": [
        {
          "output_type": "stream",
          "text": [
            "['بابا', 'بیخیال', ':', ')', ')', 'همون', 'سال', 'اتلتیکو', 'با', 'گل', 'افساید', 'به', 'بایرن', 'رفت', 'فینال', '.', 'مشکل', 'داوری', 'نداشتیم', 'اون', 'بازی', 'که', 'میگی', '.', 'فصل', 'قبلش', 'هم', '۴', '۰', 'با', 'هاینکس', 'زدیم', 'شما', 'رو']\n"
          ],
          "name": "stdout"
        }
      ]
    },
    {
      "cell_type": "markdown",
      "metadata": {
        "id": "CmwTpkbxdEGv"
      },
      "source": [
        "### Tokenize All tweets"
      ]
    },
    {
      "cell_type": "code",
      "metadata": {
        "id": "naQ5Dy8tdN4M",
        "outputId": "e62aeac9-3f6d-46f9-d6ed-8bdf5cd6bc1e",
        "colab": {
          "base_uri": "https://localhost:8080/",
          "height": 224
        }
      },
      "source": [
        "! wget \"https://raw.githubusercontent.com/overfit-ir/persian-twitter-ner/master/twitter_data/extracted_data.txt\""
      ],
      "execution_count": 6,
      "outputs": [
        {
          "output_type": "stream",
          "text": [
            "--2020-10-02 20:31:23--  https://raw.githubusercontent.com/overfit-ir/persian-twitter-ner/master/twitter_data/extracted_data.txt\n",
            "Resolving raw.githubusercontent.com (raw.githubusercontent.com)... 151.101.0.133, 151.101.64.133, 151.101.128.133, ...\n",
            "Connecting to raw.githubusercontent.com (raw.githubusercontent.com)|151.101.0.133|:443... connected.\n",
            "HTTP request sent, awaiting response... 200 OK\n",
            "Length: 2051971 (2.0M) [text/plain]\n",
            "Saving to: ‘extracted_data.txt’\n",
            "\n",
            "extracted_data.txt  100%[===================>]   1.96M  --.-KB/s    in 0.06s   \n",
            "\n",
            "2020-10-02 20:31:24 (30.3 MB/s) - ‘extracted_data.txt’ saved [2051971/2051971]\n",
            "\n"
          ],
          "name": "stdout"
        }
      ]
    },
    {
      "cell_type": "code",
      "metadata": {
        "id": "01jhD-R-dXsn",
        "outputId": "692c2ac0-1507-4c95-e3f4-b7e3a1ffce3e",
        "colab": {
          "base_uri": "https://localhost:8080/",
          "height": 717
        }
      },
      "source": [
        "! head -n 40 extracted_data.txt"
      ],
      "execution_count": 7,
      "outputs": [
        {
          "output_type": "stream",
          "text": [
            "  سلام\n",
            "خواهر من فکر کنم دو سالی سرفه امانش را بریده بود.خیلی کارها کرد برای درمانش اما درست نشد که نشد. کرونا هم که شروع شد، خیلی نگرانش بودیم. \n",
            "چند روز پیش با چند تا نیش زنبور عسل به اصطلاح زنبور درمانی کرد و با کمال تعجب دیگه سرفه نمی کنه.\n",
            "\n",
            "**************\n",
            "\n",
            "ولادتِ حضرت امام موسی کاظمؑ \n",
            "\n",
            "**************\n",
            "\n",
            "iran iranelection  - و صدای شیون فرزندانت که وحشت زده گریه می‌کردند؛ نوشته‌ی مهرزاد محب‌پور همسر مژگان عبادی بهای... \n",
            "\n",
            "**************\n",
            "\n",
            " Iran IranElection صبا محب‌پور، جوان محروم از تحصیل بهایی: «قانون، تنها عنوانی حک شده در کنار نام سرزمین من ایران است»\n",
            "\n",
            "**************\n",
            "\n",
            "  محسن رضایی هم یک جوان ۲۶،۲۷ ساله بوده\n",
            "مدیریت جنگ با مدیریت فعلی کشور که اکثرا افراد لیبرابی هستن که در جنگ هیچ نقشی نداشتن و یا نهایتا پشت جبهه مشغول بودن قابل مقایسه نیست\n",
            "\n",
            "**************\n",
            "\n",
            " حسین باستانی یه مستند ساخته به اسم کودتای خزنده که بر اساس نوار درز کرده یه جلسه یه سری فرمانده‌ها در وسط جنگه با محسن رضایی (فرمانده کل سپاه تو اون زمان). تو اون جلسه فرمانده‌ها کلی شاکی‌ن از بی‌کفایتی یه سری از رده‌بالایی‌ها و باقی قصه...\n",
            "\n",
            "\n",
            "\n",
            "**************\n",
            "\n",
            "میگن سعادتمند بخاطر مذاکره میخواد بره المان، بنظرم ی تور جهانگردی واس خودش گذاشته\n",
            "استراماچونی_را_برگردانید\n",
            "\n",
            "**************\n",
            "\n",
            " من بیشتر بحث های اعتقادی و گفتگوهاشو با نیری گوش میدم.\n",
            "فلاکتهای ایرانیها گاهی واااقعا داغونه. فقط یک بار یک دختری زنگ زد که گفت از ۱۷ سالگی جهانگردی میکنه.یعنی هلاکویی کف کرده بود از حرف زدن باهاش اینقدر دختره میزون بود :))))\n",
            "\n",
            "**************\n",
            "\n",
            " یه زمانی هم هوادارا تو توئیتر کاملا راضی و خوشحال بودن که قراره ۷۰/۸۰ تا خرجش کنیم \n"
          ],
          "name": "stdout"
        }
      ]
    },
    {
      "cell_type": "code",
      "metadata": {
        "id": "ky_SVWj-d9K5",
        "outputId": "7dc91426-ee33-4570-a776-e57e60e188b2",
        "colab": {
          "base_uri": "https://localhost:8080/",
          "height": 35
        }
      },
      "source": [
        "tweets_str = \"\"\n",
        "with open(\"extracted_data.txt\") as file:\n",
        "  for line in file.readlines():\n",
        "    tweets_str += line\n",
        "tweets_str[:20]"
      ],
      "execution_count": 8,
      "outputs": [
        {
          "output_type": "execute_result",
          "data": {
            "application/vnd.google.colaboratory.intrinsic+json": {
              "type": "string"
            },
            "text/plain": [
              "'  سلام\\nخواهر من فکر '"
            ]
          },
          "metadata": {
            "tags": []
          },
          "execution_count": 8
        }
      ]
    },
    {
      "cell_type": "code",
      "metadata": {
        "id": "pqt4gc0LeiY7",
        "outputId": "8d2a418e-0983-4469-920f-76acd46e8df8",
        "colab": {
          "base_uri": "https://localhost:8080/",
          "height": 71
        }
      },
      "source": [
        "tweets = tweets_str.split(\"\\n\\n**************\\n\\n\")\n",
        "tweets[0], len(tweets)"
      ],
      "execution_count": 9,
      "outputs": [
        {
          "output_type": "execute_result",
          "data": {
            "text/plain": [
              "('  سلام\\nخواهر من فکر کنم دو سالی سرفه امانش را بریده بود.خیلی کارها کرد برای درمانش اما درست نشد که نشد. کرونا هم که شروع شد، خیلی نگرانش بودیم. \\nچند روز پیش با چند تا نیش زنبور عسل به اصطلاح زنبور درمانی کرد و با کمال تعجب دیگه سرفه نمی کنه.',\n",
              " 6978)"
            ]
          },
          "metadata": {
            "tags": []
          },
          "execution_count": 9
        }
      ]
    },
    {
      "cell_type": "code",
      "metadata": {
        "id": "FyTcsd452GaG",
        "outputId": "2878f466-8367-45b3-c952-e959b93324ff",
        "colab": {
          "base_uri": "https://localhost:8080/",
          "height": 34
        }
      },
      "source": [
        "len(tweets)"
      ],
      "execution_count": 10,
      "outputs": [
        {
          "output_type": "execute_result",
          "data": {
            "text/plain": [
              "6978"
            ]
          },
          "metadata": {
            "tags": []
          },
          "execution_count": 10
        }
      ]
    },
    {
      "cell_type": "code",
      "metadata": {
        "id": "PvVwD5co44yA",
        "outputId": "6f56b347-6c71-4558-b221-cf75c1783db8",
        "colab": {
          "base_uri": "https://localhost:8080/",
          "height": 34
        }
      },
      "source": [
        "len(set(tweets))"
      ],
      "execution_count": null,
      "outputs": [
        {
          "output_type": "execute_result",
          "data": {
            "text/plain": [
              "6543"
            ]
          },
          "metadata": {
            "tags": []
          },
          "execution_count": 11
        }
      ]
    },
    {
      "cell_type": "code",
      "metadata": {
        "id": "YF5A5oAge3Ec"
      },
      "source": [
        "# tweets_tokens = []\n",
        "# for tweet in tweets:\n",
        "#   tweet_tokens = tokenizer.tokenize(tweet)\n",
        "#   tweets_tokens.append(tweet_tokens)"
      ],
      "execution_count": null,
      "outputs": []
    },
    {
      "cell_type": "code",
      "metadata": {
        "id": "y98gEM-xuoDu"
      },
      "source": [
        "tweets_tokens = []\n",
        "for tweet in set(tweets):\n",
        "  tweet_tokens = re.sub(' +', ' ', tweet.replace('\\n', ' ').replace('.', ' ')).split(' ')\n",
        "  tweets_tokens.append(tweet_tokens)"
      ],
      "execution_count": 41,
      "outputs": []
    },
    {
      "cell_type": "code",
      "metadata": {
        "id": "JWHa4P0F97ss",
        "outputId": "2ba8eed1-2fed-46c6-8af6-2f7d1645ebdd",
        "colab": {
          "base_uri": "https://localhost:8080/",
          "height": 935
        }
      },
      "source": [
        "tweets_tokens[1]"
      ],
      "execution_count": 50,
      "outputs": [
        {
          "output_type": "execute_result",
          "data": {
            "text/plain": [
              "['',\n",
              " 'متاسفم',\n",
              " '،',\n",
              " 'به',\n",
              " 'امید',\n",
              " 'اصلاح',\n",
              " 'حداقلی',\n",
              " 'سعی',\n",
              " 'در',\n",
              " 'مشارکت',\n",
              " 'داشتم',\n",
              " 'چون',\n",
              " 'هزینه',\n",
              " 'اصلاح',\n",
              " 'را',\n",
              " 'برای',\n",
              " 'کشور',\n",
              " 'به',\n",
              " 'صرفه',\n",
              " 'تر',\n",
              " 'میدیدم',\n",
              " 'ولی',\n",
              " 'صد',\n",
              " 'افسوس',\n",
              " 'که',\n",
              " 'علاقه',\n",
              " 'این',\n",
              " 'جماعت',\n",
              " 'به',\n",
              " 'ثروت',\n",
              " 'و',\n",
              " 'قدرت',\n",
              " 'بی',\n",
              " 'حد',\n",
              " 'و',\n",
              " 'حصر',\n",
              " 'امیدمان',\n",
              " 'را',\n",
              " 'به',\n",
              " 'اصلاح',\n",
              " 'ناامید',\n",
              " 'کرد،متاسفم',\n",
              " 'که',\n",
              " 'این',\n",
              " 'سیستم',\n",
              " 'اصلاح',\n",
              " 'پذیر',\n",
              " 'نیست',\n",
              " 'همه',\n",
              " 'بازی',\n",
              " 'گرانش',\n",
              " '،نقش',\n",
              " 'بازی',\n",
              " 'می\\u200cکنند']"
            ]
          },
          "metadata": {
            "tags": []
          },
          "execution_count": 50
        }
      ]
    },
    {
      "cell_type": "code",
      "metadata": {
        "id": "5H-xsIRs5SoF",
        "outputId": "6305128d-72cb-4de6-f91e-d7ce160278fa",
        "colab": {
          "base_uri": "https://localhost:8080/",
          "height": 34
        }
      },
      "source": [
        "counter = 0\n",
        "with open('persian-ner-twitter-data.txt', 'w') as file:\n",
        "  for tweet_tokens in tweets_tokens:\n",
        "    for token in tweet_tokens:\n",
        "      counter += 1\n",
        "      file.write(token + '\\tO\\n')\n",
        "    file.write('\\n')\n",
        "print(counter)"
      ],
      "execution_count": 51,
      "outputs": [
        {
          "output_type": "stream",
          "text": [
            "192468\n"
          ],
          "name": "stdout"
        }
      ]
    },
    {
      "cell_type": "code",
      "metadata": {
        "id": "RKtKA_oK9YZq",
        "outputId": "3f24ef48-118a-4f86-d73d-0b1539cd9ed7",
        "colab": {
          "base_uri": "https://localhost:8080/",
          "height": 527
        }
      },
      "source": [
        "! head -n 30 persian-ner-twitter-data.txt"
      ],
      "execution_count": 52,
      "outputs": [
        {
          "output_type": "stream",
          "text": [
            "\tO\n",
            "\n",
            "\tO\n",
            "متاسفم\tO\n",
            "،\tO\n",
            "به\tO\n",
            "امید\tO\n",
            "اصلاح\tO\n",
            "حداقلی\tO\n",
            "سعی\tO\n",
            "در\tO\n",
            "مشارکت\tO\n",
            "داشتم\tO\n",
            "چون\tO\n",
            "هزینه\tO\n",
            "اصلاح\tO\n",
            "را\tO\n",
            "برای\tO\n",
            "کشور\tO\n",
            "به\tO\n",
            "صرفه\tO\n",
            "تر\tO\n",
            "میدیدم\tO\n",
            "ولی\tO\n",
            "صد\tO\n",
            "افسوس\tO\n",
            "که\tO\n",
            "علاقه\tO\n",
            "این\tO\n",
            "جماعت\tO\n"
          ],
          "name": "stdout"
        }
      ]
    },
    {
      "cell_type": "markdown",
      "metadata": {
        "id": "LdJu_tEFcdWo"
      },
      "source": [
        "# **Model**"
      ]
    },
    {
      "cell_type": "code",
      "metadata": {
        "id": "BWIrxhBYU-_G"
      },
      "source": [
        "from transformers import pipeline"
      ],
      "execution_count": null,
      "outputs": []
    },
    {
      "cell_type": "code",
      "metadata": {
        "id": "zcIkcJDTU_xw",
        "outputId": "f7ed8af3-60f8-44c3-9590-69c291f02be3",
        "colab": {
          "base_uri": "https://localhost:8080/",
          "height": 258
        }
      },
      "source": [
        "pars_ner = pipeline('ner', model=model, tokenizer=tokenizer)\n",
        "pars_ner(tweet_example)"
      ],
      "execution_count": null,
      "outputs": [
        {
          "output_type": "stream",
          "text": [
            "Asking to truncate to max_length but no maximum length is provided and the model has no predefined maximum length. Default to no truncation.\n"
          ],
          "name": "stderr"
        },
        {
          "output_type": "execute_result",
          "data": {
            "text/plain": [
              "[{'entity': 'B-organization',\n",
              "  'index': 8,\n",
              "  'score': 0.9995940327644348,\n",
              "  'word': 'اتلتیکو'},\n",
              " {'entity': 'B-organization',\n",
              "  'index': 13,\n",
              "  'score': 0.9972712397575378,\n",
              "  'word': 'بایرن'},\n",
              " {'entity': 'B-person',\n",
              "  'index': 31,\n",
              "  'score': 0.9915841817855835,\n",
              "  'word': 'هاینکس'}]"
            ]
          },
          "metadata": {
            "tags": []
          },
          "execution_count": 18
        }
      ]
    },
    {
      "cell_type": "code",
      "metadata": {
        "id": "GNUWDyFhS3Y4"
      },
      "source": [
        ""
      ],
      "execution_count": null,
      "outputs": []
    }
  ]
}