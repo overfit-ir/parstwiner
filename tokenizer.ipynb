{
  "nbformat": 4,
  "nbformat_minor": 0,
  "metadata": {
    "colab": {
      "name": "tempo.ipynb",
      "provenance": [],
      "include_colab_link": true
    },
    "kernelspec": {
      "name": "python3",
      "display_name": "Python 3"
    },
    "accelerator": "GPU"
  },
  "cells": [
    {
      "cell_type": "markdown",
      "metadata": {
        "id": "view-in-github",
        "colab_type": "text"
      },
      "source": [
        "<a href=\"https://colab.research.google.com/github/overfit-ir/persian-twitter-ner/blob/master/tokenizer.ipynb\" target=\"_parent\"><img src=\"https://colab.research.google.com/assets/colab-badge.svg\" alt=\"Open In Colab\"/></a>"
      ]
    },
    {
      "cell_type": "markdown",
      "metadata": {
        "id": "rMbgFS_xcfcf"
      },
      "source": [
        "# Setup"
      ]
    },
    {
      "cell_type": "code",
      "metadata": {
        "id": "nF-7m57sBgdp"
      },
      "source": [
        "! pip -q install transformers\n",
        "! pip -q install parsivar"
      ],
      "execution_count": null,
      "outputs": []
    },
    {
      "cell_type": "code",
      "metadata": {
        "id": "GbAOjVTbIvjW"
      },
      "source": [
        "import torch\n",
        "from __future__ import unicode_literals\n",
        "# from hazm import *\n",
        "from parsivar import *\n",
        "from pprint import pprint\n",
        "import torch\n",
        "import numpy as np\n",
        "import pandas as pd\n",
        "from datetime import datetime\n",
        "from scipy import spatial\n",
        "from transformers import AutoConfig, AutoTokenizer, AutoModel, AutoModelForTokenClassification\n",
        "parsivar_tokenizer = Tokenizer()"
      ],
      "execution_count": 3,
      "outputs": []
    },
    {
      "cell_type": "code",
      "metadata": {
        "id": "ZZAJwNKuIwLN"
      },
      "source": [
        "tokenizer = AutoTokenizer.from_pretrained(\"HooshvareLab/bert-base-parsbert-uncased\")\n",
        "# tokenizer = AutoTokenizer.from_pretrained(\"HooshvareLab/bert-base-parsbert-ner-uncased\")\n",
        "model = AutoModelForTokenClassification.from_pretrained(\"HooshvareLab/bert-base-parsbert-ner-uncased\")\n",
        "model.eval()"
      ],
      "execution_count": null,
      "outputs": []
    },
    {
      "cell_type": "markdown",
      "metadata": {
        "id": "h_5tgmwqch8n"
      },
      "source": [
        "# Tokenize"
      ]
    },
    {
      "cell_type": "code",
      "metadata": {
        "id": "zQ5WxSUoaZP3"
      },
      "source": [
        "tweet = \"\"\" بابا بیخیال :)) همون سال اتلتیکو با گل افساید به بایرن رفت فینال.\n",
        "\n",
        "مشکل داوری نداشتیم اون بازی که میگی.\n",
        "فصل قبلش هم ۴ ۰ با هاینکس زدیم شما رو\n",
        "\"\"\""
      ],
      "execution_count": 22,
      "outputs": []
    },
    {
      "cell_type": "code",
      "metadata": {
        "id": "CE2zhzuFQnNG",
        "outputId": "6923ff61-7d99-4fdf-a204-8ffdb47d8adb",
        "colab": {
          "base_uri": "https://localhost:8080/",
          "height": 54
        }
      },
      "source": [
        "input_sentence = tokenizer.tokenize(tweet)\n",
        "print(input_sentence)"
      ],
      "execution_count": 23,
      "outputs": [
        {
          "output_type": "stream",
          "text": [
            "['بابا', 'بیخیال', ':', ')', ')', 'همون', 'سال', 'اتلتیکو', 'با', 'گل', 'افساید', 'به', 'بایرن', 'رفت', 'فینال', '.', 'مشکل', 'داوری', 'نداشتیم', 'اون', 'بازی', 'که', 'میگی', '.', 'فصل', 'قبلش', 'هم', '۴', '۰', 'با', 'هاینکس', 'زدیم', 'شما', 'رو']\n"
          ],
          "name": "stdout"
        }
      ]
    },
    {
      "cell_type": "markdown",
      "metadata": {
        "id": "LdJu_tEFcdWo"
      },
      "source": [
        "# Model"
      ]
    },
    {
      "cell_type": "code",
      "metadata": {
        "id": "BWIrxhBYU-_G"
      },
      "source": [
        "from transformers import pipeline"
      ],
      "execution_count": 18,
      "outputs": []
    },
    {
      "cell_type": "code",
      "metadata": {
        "id": "zcIkcJDTU_xw",
        "outputId": "908f77f0-47ec-4b3b-af7c-e3160369ee3d",
        "colab": {
          "base_uri": "https://localhost:8080/",
          "height": 238
        }
      },
      "source": [
        "pars_ner = pipeline('ner', model=model, tokenizer=tokenizer)\n",
        "pars_ner(tweet)"
      ],
      "execution_count": 25,
      "outputs": [
        {
          "output_type": "stream",
          "text": [
            "Asking to truncate to max_length but no maximum length is provided and the model has no predefined maximum length. Default to no truncation.\n"
          ],
          "name": "stderr"
        },
        {
          "output_type": "execute_result",
          "data": {
            "text/plain": [
              "[{'entity': 'B-organization',\n",
              "  'index': 8,\n",
              "  'score': 0.9995940327644348,\n",
              "  'word': 'اتلتیکو'},\n",
              " {'entity': 'B-organization',\n",
              "  'index': 13,\n",
              "  'score': 0.9972712397575378,\n",
              "  'word': 'بایرن'},\n",
              " {'entity': 'B-person',\n",
              "  'index': 31,\n",
              "  'score': 0.9915841221809387,\n",
              "  'word': 'هاینکس'}]"
            ]
          },
          "metadata": {
            "tags": []
          },
          "execution_count": 25
        }
      ]
    },
    {
      "cell_type": "code",
      "metadata": {
        "id": "GNUWDyFhS3Y4"
      },
      "source": [
        ""
      ],
      "execution_count": null,
      "outputs": []
    }
  ]
}