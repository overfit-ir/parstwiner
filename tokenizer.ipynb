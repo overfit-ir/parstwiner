{
  "nbformat": 4,
  "nbformat_minor": 0,
  "metadata": {
    "colab": {
      "name": "tempo.ipynb",
      "provenance": [],
      "toc_visible": true,
      "include_colab_link": true
    },
    "kernelspec": {
      "name": "python3",
      "display_name": "Python 3"
    },
    "accelerator": "GPU",
    "widgets": {
      "application/vnd.jupyter.widget-state+json": {
        "12306c7180734525a102b3874e0f1715": {
          "model_module": "@jupyter-widgets/controls",
          "model_name": "HBoxModel",
          "state": {
            "_view_name": "HBoxView",
            "_dom_classes": [],
            "_model_name": "HBoxModel",
            "_view_module": "@jupyter-widgets/controls",
            "_model_module_version": "1.5.0",
            "_view_count": null,
            "_view_module_version": "1.5.0",
            "box_style": "",
            "layout": "IPY_MODEL_79179b3342cb45b58c67cf5394d4e0b4",
            "_model_module": "@jupyter-widgets/controls",
            "children": [
              "IPY_MODEL_e242e11b791745509ca83fbd82933036",
              "IPY_MODEL_2d2f5045dafd4872831e075ca3ac8c2c"
            ]
          }
        },
        "79179b3342cb45b58c67cf5394d4e0b4": {
          "model_module": "@jupyter-widgets/base",
          "model_name": "LayoutModel",
          "state": {
            "_view_name": "LayoutView",
            "grid_template_rows": null,
            "right": null,
            "justify_content": null,
            "_view_module": "@jupyter-widgets/base",
            "overflow": null,
            "_model_module_version": "1.2.0",
            "_view_count": null,
            "flex_flow": null,
            "width": null,
            "min_width": null,
            "border": null,
            "align_items": null,
            "bottom": null,
            "_model_module": "@jupyter-widgets/base",
            "top": null,
            "grid_column": null,
            "overflow_y": null,
            "overflow_x": null,
            "grid_auto_flow": null,
            "grid_area": null,
            "grid_template_columns": null,
            "flex": null,
            "_model_name": "LayoutModel",
            "justify_items": null,
            "grid_row": null,
            "max_height": null,
            "align_content": null,
            "visibility": null,
            "align_self": null,
            "height": null,
            "min_height": null,
            "padding": null,
            "grid_auto_rows": null,
            "grid_gap": null,
            "max_width": null,
            "order": null,
            "_view_module_version": "1.2.0",
            "grid_template_areas": null,
            "object_position": null,
            "object_fit": null,
            "grid_auto_columns": null,
            "margin": null,
            "display": null,
            "left": null
          }
        },
        "e242e11b791745509ca83fbd82933036": {
          "model_module": "@jupyter-widgets/controls",
          "model_name": "FloatProgressModel",
          "state": {
            "_view_name": "ProgressView",
            "style": "IPY_MODEL_9c25ea5ec6cb4804bc496ed24dddab29",
            "_dom_classes": [],
            "description": "Downloading: 100%",
            "_model_name": "FloatProgressModel",
            "bar_style": "success",
            "max": 156,
            "_view_module": "@jupyter-widgets/controls",
            "_model_module_version": "1.5.0",
            "value": 156,
            "_view_count": null,
            "_view_module_version": "1.5.0",
            "orientation": "horizontal",
            "min": 0,
            "description_tooltip": null,
            "_model_module": "@jupyter-widgets/controls",
            "layout": "IPY_MODEL_d3b1426ddb404c929820654384fec6ae"
          }
        },
        "2d2f5045dafd4872831e075ca3ac8c2c": {
          "model_module": "@jupyter-widgets/controls",
          "model_name": "HTMLModel",
          "state": {
            "_view_name": "HTMLView",
            "style": "IPY_MODEL_74ccb974de1d47b980bfa616a22f2d1c",
            "_dom_classes": [],
            "description": "",
            "_model_name": "HTMLModel",
            "placeholder": "​",
            "_view_module": "@jupyter-widgets/controls",
            "_model_module_version": "1.5.0",
            "value": " 156/156 [00:00&lt;00:00, 184B/s]",
            "_view_count": null,
            "_view_module_version": "1.5.0",
            "description_tooltip": null,
            "_model_module": "@jupyter-widgets/controls",
            "layout": "IPY_MODEL_1374c451a8284b2aa66baf1f20599e3d"
          }
        },
        "9c25ea5ec6cb4804bc496ed24dddab29": {
          "model_module": "@jupyter-widgets/controls",
          "model_name": "ProgressStyleModel",
          "state": {
            "_view_name": "StyleView",
            "_model_name": "ProgressStyleModel",
            "description_width": "initial",
            "_view_module": "@jupyter-widgets/base",
            "_model_module_version": "1.5.0",
            "_view_count": null,
            "_view_module_version": "1.2.0",
            "bar_color": null,
            "_model_module": "@jupyter-widgets/controls"
          }
        },
        "d3b1426ddb404c929820654384fec6ae": {
          "model_module": "@jupyter-widgets/base",
          "model_name": "LayoutModel",
          "state": {
            "_view_name": "LayoutView",
            "grid_template_rows": null,
            "right": null,
            "justify_content": null,
            "_view_module": "@jupyter-widgets/base",
            "overflow": null,
            "_model_module_version": "1.2.0",
            "_view_count": null,
            "flex_flow": null,
            "width": null,
            "min_width": null,
            "border": null,
            "align_items": null,
            "bottom": null,
            "_model_module": "@jupyter-widgets/base",
            "top": null,
            "grid_column": null,
            "overflow_y": null,
            "overflow_x": null,
            "grid_auto_flow": null,
            "grid_area": null,
            "grid_template_columns": null,
            "flex": null,
            "_model_name": "LayoutModel",
            "justify_items": null,
            "grid_row": null,
            "max_height": null,
            "align_content": null,
            "visibility": null,
            "align_self": null,
            "height": null,
            "min_height": null,
            "padding": null,
            "grid_auto_rows": null,
            "grid_gap": null,
            "max_width": null,
            "order": null,
            "_view_module_version": "1.2.0",
            "grid_template_areas": null,
            "object_position": null,
            "object_fit": null,
            "grid_auto_columns": null,
            "margin": null,
            "display": null,
            "left": null
          }
        },
        "74ccb974de1d47b980bfa616a22f2d1c": {
          "model_module": "@jupyter-widgets/controls",
          "model_name": "DescriptionStyleModel",
          "state": {
            "_view_name": "StyleView",
            "_model_name": "DescriptionStyleModel",
            "description_width": "",
            "_view_module": "@jupyter-widgets/base",
            "_model_module_version": "1.5.0",
            "_view_count": null,
            "_view_module_version": "1.2.0",
            "_model_module": "@jupyter-widgets/controls"
          }
        },
        "1374c451a8284b2aa66baf1f20599e3d": {
          "model_module": "@jupyter-widgets/base",
          "model_name": "LayoutModel",
          "state": {
            "_view_name": "LayoutView",
            "grid_template_rows": null,
            "right": null,
            "justify_content": null,
            "_view_module": "@jupyter-widgets/base",
            "overflow": null,
            "_model_module_version": "1.2.0",
            "_view_count": null,
            "flex_flow": null,
            "width": null,
            "min_width": null,
            "border": null,
            "align_items": null,
            "bottom": null,
            "_model_module": "@jupyter-widgets/base",
            "top": null,
            "grid_column": null,
            "overflow_y": null,
            "overflow_x": null,
            "grid_auto_flow": null,
            "grid_area": null,
            "grid_template_columns": null,
            "flex": null,
            "_model_name": "LayoutModel",
            "justify_items": null,
            "grid_row": null,
            "max_height": null,
            "align_content": null,
            "visibility": null,
            "align_self": null,
            "height": null,
            "min_height": null,
            "padding": null,
            "grid_auto_rows": null,
            "grid_gap": null,
            "max_width": null,
            "order": null,
            "_view_module_version": "1.2.0",
            "grid_template_areas": null,
            "object_position": null,
            "object_fit": null,
            "grid_auto_columns": null,
            "margin": null,
            "display": null,
            "left": null
          }
        },
        "5399165ef86c4633abf68a1148896a61": {
          "model_module": "@jupyter-widgets/controls",
          "model_name": "HBoxModel",
          "state": {
            "_view_name": "HBoxView",
            "_dom_classes": [],
            "_model_name": "HBoxModel",
            "_view_module": "@jupyter-widgets/controls",
            "_model_module_version": "1.5.0",
            "_view_count": null,
            "_view_module_version": "1.5.0",
            "box_style": "",
            "layout": "IPY_MODEL_9724f5f71cb4498bbec036ce760946e2",
            "_model_module": "@jupyter-widgets/controls",
            "children": [
              "IPY_MODEL_8d36fe7d19274b909b415c866295102e",
              "IPY_MODEL_bf42c09d40cd4e09a0eb2d9bef2eb3af"
            ]
          }
        },
        "9724f5f71cb4498bbec036ce760946e2": {
          "model_module": "@jupyter-widgets/base",
          "model_name": "LayoutModel",
          "state": {
            "_view_name": "LayoutView",
            "grid_template_rows": null,
            "right": null,
            "justify_content": null,
            "_view_module": "@jupyter-widgets/base",
            "overflow": null,
            "_model_module_version": "1.2.0",
            "_view_count": null,
            "flex_flow": null,
            "width": null,
            "min_width": null,
            "border": null,
            "align_items": null,
            "bottom": null,
            "_model_module": "@jupyter-widgets/base",
            "top": null,
            "grid_column": null,
            "overflow_y": null,
            "overflow_x": null,
            "grid_auto_flow": null,
            "grid_area": null,
            "grid_template_columns": null,
            "flex": null,
            "_model_name": "LayoutModel",
            "justify_items": null,
            "grid_row": null,
            "max_height": null,
            "align_content": null,
            "visibility": null,
            "align_self": null,
            "height": null,
            "min_height": null,
            "padding": null,
            "grid_auto_rows": null,
            "grid_gap": null,
            "max_width": null,
            "order": null,
            "_view_module_version": "1.2.0",
            "grid_template_areas": null,
            "object_position": null,
            "object_fit": null,
            "grid_auto_columns": null,
            "margin": null,
            "display": null,
            "left": null
          }
        },
        "8d36fe7d19274b909b415c866295102e": {
          "model_module": "@jupyter-widgets/controls",
          "model_name": "FloatProgressModel",
          "state": {
            "_view_name": "ProgressView",
            "style": "IPY_MODEL_8e9eec8c135040468749463be2e081e7",
            "_dom_classes": [],
            "description": "Downloading: 100%",
            "_model_name": "FloatProgressModel",
            "bar_style": "success",
            "max": 62,
            "_view_module": "@jupyter-widgets/controls",
            "_model_module_version": "1.5.0",
            "value": 62,
            "_view_count": null,
            "_view_module_version": "1.5.0",
            "orientation": "horizontal",
            "min": 0,
            "description_tooltip": null,
            "_model_module": "@jupyter-widgets/controls",
            "layout": "IPY_MODEL_7aa1b660fa894ba397bb3715c2cd3e6d"
          }
        },
        "bf42c09d40cd4e09a0eb2d9bef2eb3af": {
          "model_module": "@jupyter-widgets/controls",
          "model_name": "HTMLModel",
          "state": {
            "_view_name": "HTMLView",
            "style": "IPY_MODEL_e2a2a0ba478f4cc8bfb7db22382bede3",
            "_dom_classes": [],
            "description": "",
            "_model_name": "HTMLModel",
            "placeholder": "​",
            "_view_module": "@jupyter-widgets/controls",
            "_model_module_version": "1.5.0",
            "value": " 62.0/62.0 [42:24&lt;00:00, 41.0s/B]",
            "_view_count": null,
            "_view_module_version": "1.5.0",
            "description_tooltip": null,
            "_model_module": "@jupyter-widgets/controls",
            "layout": "IPY_MODEL_9dc3d4cca11d4e0794edafb742f79b09"
          }
        },
        "8e9eec8c135040468749463be2e081e7": {
          "model_module": "@jupyter-widgets/controls",
          "model_name": "ProgressStyleModel",
          "state": {
            "_view_name": "StyleView",
            "_model_name": "ProgressStyleModel",
            "description_width": "initial",
            "_view_module": "@jupyter-widgets/base",
            "_model_module_version": "1.5.0",
            "_view_count": null,
            "_view_module_version": "1.2.0",
            "bar_color": null,
            "_model_module": "@jupyter-widgets/controls"
          }
        },
        "7aa1b660fa894ba397bb3715c2cd3e6d": {
          "model_module": "@jupyter-widgets/base",
          "model_name": "LayoutModel",
          "state": {
            "_view_name": "LayoutView",
            "grid_template_rows": null,
            "right": null,
            "justify_content": null,
            "_view_module": "@jupyter-widgets/base",
            "overflow": null,
            "_model_module_version": "1.2.0",
            "_view_count": null,
            "flex_flow": null,
            "width": null,
            "min_width": null,
            "border": null,
            "align_items": null,
            "bottom": null,
            "_model_module": "@jupyter-widgets/base",
            "top": null,
            "grid_column": null,
            "overflow_y": null,
            "overflow_x": null,
            "grid_auto_flow": null,
            "grid_area": null,
            "grid_template_columns": null,
            "flex": null,
            "_model_name": "LayoutModel",
            "justify_items": null,
            "grid_row": null,
            "max_height": null,
            "align_content": null,
            "visibility": null,
            "align_self": null,
            "height": null,
            "min_height": null,
            "padding": null,
            "grid_auto_rows": null,
            "grid_gap": null,
            "max_width": null,
            "order": null,
            "_view_module_version": "1.2.0",
            "grid_template_areas": null,
            "object_position": null,
            "object_fit": null,
            "grid_auto_columns": null,
            "margin": null,
            "display": null,
            "left": null
          }
        },
        "e2a2a0ba478f4cc8bfb7db22382bede3": {
          "model_module": "@jupyter-widgets/controls",
          "model_name": "DescriptionStyleModel",
          "state": {
            "_view_name": "StyleView",
            "_model_name": "DescriptionStyleModel",
            "description_width": "",
            "_view_module": "@jupyter-widgets/base",
            "_model_module_version": "1.5.0",
            "_view_count": null,
            "_view_module_version": "1.2.0",
            "_model_module": "@jupyter-widgets/controls"
          }
        },
        "9dc3d4cca11d4e0794edafb742f79b09": {
          "model_module": "@jupyter-widgets/base",
          "model_name": "LayoutModel",
          "state": {
            "_view_name": "LayoutView",
            "grid_template_rows": null,
            "right": null,
            "justify_content": null,
            "_view_module": "@jupyter-widgets/base",
            "overflow": null,
            "_model_module_version": "1.2.0",
            "_view_count": null,
            "flex_flow": null,
            "width": null,
            "min_width": null,
            "border": null,
            "align_items": null,
            "bottom": null,
            "_model_module": "@jupyter-widgets/base",
            "top": null,
            "grid_column": null,
            "overflow_y": null,
            "overflow_x": null,
            "grid_auto_flow": null,
            "grid_area": null,
            "grid_template_columns": null,
            "flex": null,
            "_model_name": "LayoutModel",
            "justify_items": null,
            "grid_row": null,
            "max_height": null,
            "align_content": null,
            "visibility": null,
            "align_self": null,
            "height": null,
            "min_height": null,
            "padding": null,
            "grid_auto_rows": null,
            "grid_gap": null,
            "max_width": null,
            "order": null,
            "_view_module_version": "1.2.0",
            "grid_template_areas": null,
            "object_position": null,
            "object_fit": null,
            "grid_auto_columns": null,
            "margin": null,
            "display": null,
            "left": null
          }
        },
        "b50c8788ea9a4f2794fcb9cb442b2ddc": {
          "model_module": "@jupyter-widgets/controls",
          "model_name": "HBoxModel",
          "state": {
            "_view_name": "HBoxView",
            "_dom_classes": [],
            "_model_name": "HBoxModel",
            "_view_module": "@jupyter-widgets/controls",
            "_model_module_version": "1.5.0",
            "_view_count": null,
            "_view_module_version": "1.5.0",
            "box_style": "",
            "layout": "IPY_MODEL_8279bc045e224983b1aa2c07a466ce32",
            "_model_module": "@jupyter-widgets/controls",
            "children": [
              "IPY_MODEL_48806fb829f64f9c92857cd3484a6b03",
              "IPY_MODEL_547a6cd3623f4a9183b54ceae7f93b96"
            ]
          }
        },
        "8279bc045e224983b1aa2c07a466ce32": {
          "model_module": "@jupyter-widgets/base",
          "model_name": "LayoutModel",
          "state": {
            "_view_name": "LayoutView",
            "grid_template_rows": null,
            "right": null,
            "justify_content": null,
            "_view_module": "@jupyter-widgets/base",
            "overflow": null,
            "_model_module_version": "1.2.0",
            "_view_count": null,
            "flex_flow": null,
            "width": null,
            "min_width": null,
            "border": null,
            "align_items": null,
            "bottom": null,
            "_model_module": "@jupyter-widgets/base",
            "top": null,
            "grid_column": null,
            "overflow_y": null,
            "overflow_x": null,
            "grid_auto_flow": null,
            "grid_area": null,
            "grid_template_columns": null,
            "flex": null,
            "_model_name": "LayoutModel",
            "justify_items": null,
            "grid_row": null,
            "max_height": null,
            "align_content": null,
            "visibility": null,
            "align_self": null,
            "height": null,
            "min_height": null,
            "padding": null,
            "grid_auto_rows": null,
            "grid_gap": null,
            "max_width": null,
            "order": null,
            "_view_module_version": "1.2.0",
            "grid_template_areas": null,
            "object_position": null,
            "object_fit": null,
            "grid_auto_columns": null,
            "margin": null,
            "display": null,
            "left": null
          }
        },
        "48806fb829f64f9c92857cd3484a6b03": {
          "model_module": "@jupyter-widgets/controls",
          "model_name": "FloatProgressModel",
          "state": {
            "_view_name": "ProgressView",
            "style": "IPY_MODEL_c827a3ca18404f9fb55af2a985340e1a",
            "_dom_classes": [],
            "description": "Downloading: 100%",
            "_model_name": "FloatProgressModel",
            "bar_style": "success",
            "max": 72405244,
            "_view_module": "@jupyter-widgets/controls",
            "_model_module_version": "1.5.0",
            "value": 72405244,
            "_view_count": null,
            "_view_module_version": "1.5.0",
            "orientation": "horizontal",
            "min": 0,
            "description_tooltip": null,
            "_model_module": "@jupyter-widgets/controls",
            "layout": "IPY_MODEL_88e8689f674d4bc2933d0411cf74f0bb"
          }
        },
        "547a6cd3623f4a9183b54ceae7f93b96": {
          "model_module": "@jupyter-widgets/controls",
          "model_name": "HTMLModel",
          "state": {
            "_view_name": "HTMLView",
            "style": "IPY_MODEL_3c43ab8fb92c4e0f956351588fad016c",
            "_dom_classes": [],
            "description": "",
            "_model_name": "HTMLModel",
            "placeholder": "​",
            "_view_module": "@jupyter-widgets/controls",
            "_model_module_version": "1.5.0",
            "value": " 72.4M/72.4M [00:03&lt;00:00, 22.9MB/s]",
            "_view_count": null,
            "_view_module_version": "1.5.0",
            "description_tooltip": null,
            "_model_module": "@jupyter-widgets/controls",
            "layout": "IPY_MODEL_d3c4feb88f9342fe918d568e9d525057"
          }
        },
        "c827a3ca18404f9fb55af2a985340e1a": {
          "model_module": "@jupyter-widgets/controls",
          "model_name": "ProgressStyleModel",
          "state": {
            "_view_name": "StyleView",
            "_model_name": "ProgressStyleModel",
            "description_width": "initial",
            "_view_module": "@jupyter-widgets/base",
            "_model_module_version": "1.5.0",
            "_view_count": null,
            "_view_module_version": "1.2.0",
            "bar_color": null,
            "_model_module": "@jupyter-widgets/controls"
          }
        },
        "88e8689f674d4bc2933d0411cf74f0bb": {
          "model_module": "@jupyter-widgets/base",
          "model_name": "LayoutModel",
          "state": {
            "_view_name": "LayoutView",
            "grid_template_rows": null,
            "right": null,
            "justify_content": null,
            "_view_module": "@jupyter-widgets/base",
            "overflow": null,
            "_model_module_version": "1.2.0",
            "_view_count": null,
            "flex_flow": null,
            "width": null,
            "min_width": null,
            "border": null,
            "align_items": null,
            "bottom": null,
            "_model_module": "@jupyter-widgets/base",
            "top": null,
            "grid_column": null,
            "overflow_y": null,
            "overflow_x": null,
            "grid_auto_flow": null,
            "grid_area": null,
            "grid_template_columns": null,
            "flex": null,
            "_model_name": "LayoutModel",
            "justify_items": null,
            "grid_row": null,
            "max_height": null,
            "align_content": null,
            "visibility": null,
            "align_self": null,
            "height": null,
            "min_height": null,
            "padding": null,
            "grid_auto_rows": null,
            "grid_gap": null,
            "max_width": null,
            "order": null,
            "_view_module_version": "1.2.0",
            "grid_template_areas": null,
            "object_position": null,
            "object_fit": null,
            "grid_auto_columns": null,
            "margin": null,
            "display": null,
            "left": null
          }
        },
        "3c43ab8fb92c4e0f956351588fad016c": {
          "model_module": "@jupyter-widgets/controls",
          "model_name": "DescriptionStyleModel",
          "state": {
            "_view_name": "StyleView",
            "_model_name": "DescriptionStyleModel",
            "description_width": "",
            "_view_module": "@jupyter-widgets/base",
            "_model_module_version": "1.5.0",
            "_view_count": null,
            "_view_module_version": "1.2.0",
            "_model_module": "@jupyter-widgets/controls"
          }
        },
        "d3c4feb88f9342fe918d568e9d525057": {
          "model_module": "@jupyter-widgets/base",
          "model_name": "LayoutModel",
          "state": {
            "_view_name": "LayoutView",
            "grid_template_rows": null,
            "right": null,
            "justify_content": null,
            "_view_module": "@jupyter-widgets/base",
            "overflow": null,
            "_model_module_version": "1.2.0",
            "_view_count": null,
            "flex_flow": null,
            "width": null,
            "min_width": null,
            "border": null,
            "align_items": null,
            "bottom": null,
            "_model_module": "@jupyter-widgets/base",
            "top": null,
            "grid_column": null,
            "overflow_y": null,
            "overflow_x": null,
            "grid_auto_flow": null,
            "grid_area": null,
            "grid_template_columns": null,
            "flex": null,
            "_model_name": "LayoutModel",
            "justify_items": null,
            "grid_row": null,
            "max_height": null,
            "align_content": null,
            "visibility": null,
            "align_self": null,
            "height": null,
            "min_height": null,
            "padding": null,
            "grid_auto_rows": null,
            "grid_gap": null,
            "max_width": null,
            "order": null,
            "_view_module_version": "1.2.0",
            "grid_template_areas": null,
            "object_position": null,
            "object_fit": null,
            "grid_auto_columns": null,
            "margin": null,
            "display": null,
            "left": null
          }
        }
      }
    }
  },
  "cells": [
    {
      "cell_type": "markdown",
      "metadata": {
        "id": "view-in-github",
        "colab_type": "text"
      },
      "source": [
        "<a href=\"https://colab.research.google.com/github/overfit-ir/persian-twitter-ner/blob/master/tokenizer.ipynb\" target=\"_parent\"><img src=\"https://colab.research.google.com/assets/colab-badge.svg\" alt=\"Open In Colab\"/></a>"
      ]
    },
    {
      "cell_type": "markdown",
      "metadata": {
        "id": "rMbgFS_xcfcf"
      },
      "source": [
        "# Setup"
      ]
    },
    {
      "cell_type": "code",
      "metadata": {
        "id": "nF-7m57sBgdp",
        "outputId": "0c7f1826-f308-4023-ceda-0e3abe1f4253",
        "colab": {
          "base_uri": "https://localhost:8080/",
          "height": 170
        }
      },
      "source": [
        "! pip -q install transformers\n",
        "! pip -q install parsivar"
      ],
      "execution_count": 1,
      "outputs": [
        {
          "output_type": "stream",
          "text": [
            "\u001b[K     |████████████████████████████████| 1.1MB 6.6MB/s \n",
            "\u001b[K     |████████████████████████████████| 1.1MB 22.5MB/s \n",
            "\u001b[K     |████████████████████████████████| 890kB 39.8MB/s \n",
            "\u001b[K     |████████████████████████████████| 3.0MB 43.9MB/s \n",
            "\u001b[?25h  Building wheel for sacremoses (setup.py) ... \u001b[?25l\u001b[?25hdone\n",
            "\u001b[K     |████████████████████████████████| 36.2MB 82kB/s \n",
            "\u001b[K     |████████████████████████████████| 1.5MB 37.0MB/s \n",
            "\u001b[?25h  Building wheel for parsivar (setup.py) ... \u001b[?25l\u001b[?25hdone\n",
            "  Building wheel for nltk (setup.py) ... \u001b[?25l\u001b[?25hdone\n"
          ],
          "name": "stdout"
        }
      ]
    },
    {
      "cell_type": "code",
      "metadata": {
        "id": "GbAOjVTbIvjW"
      },
      "source": [
        "import torch\n",
        "from __future__ import unicode_literals\n",
        "# from hazm import *\n",
        "from parsivar import *\n",
        "from pprint import pprint\n",
        "import torch\n",
        "import numpy as np\n",
        "import pandas as pd\n",
        "from datetime import datetime\n",
        "from scipy import spatial\n",
        "from transformers import AutoConfig, AutoTokenizer, AutoModel, AutoModelForTokenClassification\n",
        "import re\n",
        "parsivar_tokenizer = Tokenizer()\n",
        "parsivar_normalizer = Normalizer(statistical_space_correction=True)"
      ],
      "execution_count": 21,
      "outputs": []
    },
    {
      "cell_type": "code",
      "metadata": {
        "id": "ZZAJwNKuIwLN",
        "outputId": "e637827c-cbcb-4760-e5b5-13e9f4ec79ab",
        "colab": {
          "base_uri": "https://localhost:8080/",
          "height": 181,
          "referenced_widgets": [
            "12306c7180734525a102b3874e0f1715",
            "79179b3342cb45b58c67cf5394d4e0b4",
            "e242e11b791745509ca83fbd82933036",
            "2d2f5045dafd4872831e075ca3ac8c2c",
            "9c25ea5ec6cb4804bc496ed24dddab29",
            "d3b1426ddb404c929820654384fec6ae",
            "74ccb974de1d47b980bfa616a22f2d1c",
            "1374c451a8284b2aa66baf1f20599e3d",
            "5399165ef86c4633abf68a1148896a61",
            "9724f5f71cb4498bbec036ce760946e2",
            "8d36fe7d19274b909b415c866295102e",
            "bf42c09d40cd4e09a0eb2d9bef2eb3af",
            "8e9eec8c135040468749463be2e081e7",
            "7aa1b660fa894ba397bb3715c2cd3e6d",
            "e2a2a0ba478f4cc8bfb7db22382bede3",
            "9dc3d4cca11d4e0794edafb742f79b09",
            "b50c8788ea9a4f2794fcb9cb442b2ddc",
            "8279bc045e224983b1aa2c07a466ce32",
            "48806fb829f64f9c92857cd3484a6b03",
            "547a6cd3623f4a9183b54ceae7f93b96",
            "c827a3ca18404f9fb55af2a985340e1a",
            "88e8689f674d4bc2933d0411cf74f0bb",
            "3c43ab8fb92c4e0f956351588fad016c",
            "d3c4feb88f9342fe918d568e9d525057"
          ]
        }
      },
      "source": [
        "tokenizer = AutoTokenizer.from_pretrained(\"m3hrdadfi/albert-fa-base-v2-ner\")\n",
        "# tokenizer = AutoTokenizer.from_pretrained(\"HooshvareLab/bert-base-parsbert-ner-uncased\")\n",
        "model = AutoModelForTokenClassification.from_pretrained(\"m3hrdadfi/albert-fa-base-v2-ner\")\n",
        "model.eval()\n",
        "print()"
      ],
      "execution_count": 4,
      "outputs": [
        {
          "output_type": "display_data",
          "data": {
            "application/vnd.jupyter.widget-view+json": {
              "model_id": "12306c7180734525a102b3874e0f1715",
              "version_minor": 0,
              "version_major": 2
            },
            "text/plain": [
              "HBox(children=(FloatProgress(value=0.0, description='Downloading', max=156.0, style=ProgressStyle(description_…"
            ]
          },
          "metadata": {
            "tags": []
          }
        },
        {
          "output_type": "stream",
          "text": [
            "\n"
          ],
          "name": "stdout"
        },
        {
          "output_type": "display_data",
          "data": {
            "application/vnd.jupyter.widget-view+json": {
              "model_id": "5399165ef86c4633abf68a1148896a61",
              "version_minor": 0,
              "version_major": 2
            },
            "text/plain": [
              "HBox(children=(FloatProgress(value=0.0, description='Downloading', max=62.0, style=ProgressStyle(description_w…"
            ]
          },
          "metadata": {
            "tags": []
          }
        },
        {
          "output_type": "stream",
          "text": [
            "\n"
          ],
          "name": "stdout"
        },
        {
          "output_type": "display_data",
          "data": {
            "application/vnd.jupyter.widget-view+json": {
              "model_id": "b50c8788ea9a4f2794fcb9cb442b2ddc",
              "version_minor": 0,
              "version_major": 2
            },
            "text/plain": [
              "HBox(children=(FloatProgress(value=0.0, description='Downloading', max=72405244.0, style=ProgressStyle(descrip…"
            ]
          },
          "metadata": {
            "tags": []
          }
        },
        {
          "output_type": "stream",
          "text": [
            "\n",
            "\n"
          ],
          "name": "stdout"
        }
      ]
    },
    {
      "cell_type": "markdown",
      "metadata": {
        "id": "h_5tgmwqch8n"
      },
      "source": [
        "# **Tokenize**"
      ]
    },
    {
      "cell_type": "markdown",
      "metadata": {
        "id": "DIODPTLFdAzn"
      },
      "source": [
        "### Example"
      ]
    },
    {
      "cell_type": "code",
      "metadata": {
        "id": "zQ5WxSUoaZP3"
      },
      "source": [
        "tweet_example = \"\"\" بابا بیخیال :)) همون سال اتلتیکو با گل افساید به بایرن رفت فینال.\n",
        "\n",
        "مشکل داوری نداشتیم اون بازی که میگی.\n",
        "فصل قبلش هم ۴ ۰ با هاینکس زدیم شما رو\n",
        "\"\"\"\n",
        "\n",
        "tweet_example2 = \"\"\"\n",
        " محسن رضایی هم یک جوان ۲۶،۲۷ ساله بوده\n",
        "مدیریت جنگ با مدیریت فعلی کشور که اکثرا افراد لیبرابی هستن که در جنگ هیچ نقشی نداشتن و یا نهایتا پشت جبهه مشغول بودن قابل مقایسه نیست\n",
        "\n",
        "\"\"\"\n",
        "\n",
        "tweet_example3 = \"\"\"\n",
        "سلام\n",
        "خواهر من فکر کنم دو سالی سرفه امانش را بریده بود.خیلی کارها کرد برای درمانش اما درست نشد که نشد. کرونا هم که شروع شد، خیلی نگرانش بودیم. \n",
        "چند روز پیش با چند تا نیش زنبور عسل به اصطلاح زنبور درمانی کرد و با کمال تعجب دیگه سرفه نمی کنه.\n",
        "\n",
        "\"\"\"\n",
        "\n",
        "tweet_example4 = \"\"\"\n",
        "«اصول مشخص دموکراتیک» همین بس که مغز خودتون و رفقاتون رو گنده میپندارید. من باشم با اتفاقات اخیر امریکا که به لطف انتیفا تا همین امشب ادامه داره، توحش و حمله رو به کسان دیگر نسبت نمیدم. کامنتتون سراسر بی پرنسیبی بود توام با توهم مروج دموکراسی بودن.\n",
        "\"\"\"\n",
        "\n",
        "tweet_example5 = \"\"\"\n",
        "الان من باید میلان ‌می بودم\n",
        "\"\"\""
      ],
      "execution_count": 18,
      "outputs": []
    },
    {
      "cell_type": "code",
      "metadata": {
        "id": "CE2zhzuFQnNG",
        "outputId": "655da754-f4dd-422b-87a5-deebaba26eec",
        "colab": {
          "base_uri": "https://localhost:8080/",
          "height": 1000
        }
      },
      "source": [
        "input_sentence = tokenizer.tokenize(tweet_example4)\n",
        "for token in input_sentence:\n",
        "  print(token)"
      ],
      "execution_count": 20,
      "outputs": [
        {
          "output_type": "stream",
          "text": [
            "▁\n",
            "«\n",
            "اصول\n",
            "▁مشخص\n",
            "▁دموکراتیک\n",
            "»\n",
            "▁همین\n",
            "▁بس\n",
            "▁که\n",
            "▁مغز\n",
            "▁خودتون\n",
            "▁و\n",
            "▁رفقا\n",
            "تون\n",
            "▁رو\n",
            "▁گنده\n",
            "▁می\n",
            "پنداری\n",
            "د\n",
            ".\n",
            "▁من\n",
            "▁باشم\n",
            "▁با\n",
            "▁اتفاقات\n",
            "▁اخیر\n",
            "▁امریکا\n",
            "▁که\n",
            "▁به\n",
            "▁لطف\n",
            "▁انت\n",
            "ی\n",
            "فا\n",
            "▁تا\n",
            "▁همین\n",
            "▁امشب\n",
            "▁ادامه\n",
            "▁داره\n",
            "،\n",
            "▁\n",
            "توحش\n",
            "▁و\n",
            "▁حمله\n",
            "▁رو\n",
            "▁به\n",
            "▁کسان\n",
            "▁دیگر\n",
            "▁نسبت\n",
            "▁نمیدم\n",
            ".\n",
            "▁کامنت\n",
            "تون\n",
            "▁سراسر\n",
            "▁بی\n",
            "▁پرنس\n",
            "ی\n",
            "بی\n",
            "▁بود\n",
            "▁توام\n",
            "▁با\n",
            "▁توهم\n",
            "▁مروج\n",
            "▁دموکراسی\n",
            "▁بودن\n",
            ".\n"
          ],
          "name": "stdout"
        }
      ]
    },
    {
      "cell_type": "code",
      "metadata": {
        "id": "kO4g0ZuCN9WM",
        "outputId": "5ebad537-5dd1-482a-c4d1-43a78843518d",
        "colab": {
          "base_uri": "https://localhost:8080/",
          "height": 102
        }
      },
      "source": [
        "for token in parsivar_tokenizer.tokenize_words(parsivar_normalizer.normalize(tweet_example5)):\n",
        "  print(token)"
      ],
      "execution_count": 22,
      "outputs": [
        {
          "output_type": "stream",
          "text": [
            "الان\n",
            "من\n",
            "باید\n",
            "میلان\n",
            "می‌بودم\n"
          ],
          "name": "stdout"
        }
      ]
    },
    {
      "cell_type": "markdown",
      "metadata": {
        "id": "CmwTpkbxdEGv"
      },
      "source": [
        "### Tokenize All tweets"
      ]
    },
    {
      "cell_type": "code",
      "metadata": {
        "id": "naQ5Dy8tdN4M",
        "outputId": "eaafc7f9-3a4f-4335-914e-af5d498272c6",
        "colab": {
          "base_uri": "https://localhost:8080/",
          "height": 224
        }
      },
      "source": [
        "! wget \"https://raw.githubusercontent.com/overfit-ir/persian-twitter-ner/master/twitter_data/extracted_data.txt\""
      ],
      "execution_count": 23,
      "outputs": [
        {
          "output_type": "stream",
          "text": [
            "--2020-10-19 09:23:19--  https://raw.githubusercontent.com/overfit-ir/persian-twitter-ner/master/twitter_data/extracted_data.txt\n",
            "Resolving raw.githubusercontent.com (raw.githubusercontent.com)... 151.101.0.133, 151.101.64.133, 151.101.128.133, ...\n",
            "Connecting to raw.githubusercontent.com (raw.githubusercontent.com)|151.101.0.133|:443... connected.\n",
            "HTTP request sent, awaiting response... 200 OK\n",
            "Length: 2698436 (2.6M) [text/plain]\n",
            "Saving to: ‘extracted_data.txt.1’\n",
            "\n",
            "extracted_data.txt. 100%[===================>]   2.57M  --.-KB/s    in 0.1s    \n",
            "\n",
            "2020-10-19 09:23:19 (20.9 MB/s) - ‘extracted_data.txt.1’ saved [2698436/2698436]\n",
            "\n"
          ],
          "name": "stdout"
        }
      ]
    },
    {
      "cell_type": "code",
      "metadata": {
        "id": "01jhD-R-dXsn",
        "outputId": "9f3f0357-1717-4819-e476-e59c819990e5",
        "colab": {
          "base_uri": "https://localhost:8080/",
          "height": 190
        }
      },
      "source": [
        "! cat extracted_data.txt | grep 'دموکراتیک'"
      ],
      "execution_count": 10,
      "outputs": [
        {
          "output_type": "stream",
          "text": [
            "   فرقش این است که حاکمان کشورهای دموکراتیک باید مردم را راضی نگه دارند وگرنه قدرت را از دست می‌دهند، ولی در کشورهای ایدیولوژیک، مردم فدای ایدیولوژی می‌شوند. منافع حاکمان (مثل ایران یا کوبا) با منافع مردم همسو نیستند\n",
            "سرمایه مجلس،نمایندگان هستند و مجلس سرمایه دموکراتیک ملت است.اینکه در این چهار سال سلامتی نمایندگان دغدغه مجلس باشد بخشی از وظایف مجلس است هرچند با تیغ زبانشان واکسنها را پس دادند.\n",
            "  «اصول مشخص دموکراتیک» همین بس که مغز خودتون و رفقاتون رو گنده میپندارید. من باشم با اتفاقات اخیر امریکا که به لطف انتیفا تا همین امشب ادامه داره، توحش و حمله رو به کسان دیگر نسبت نمیدم. کامنتتون سراسر بی پرنسیبی بود توام با توهم مروج دموکراسی بودن.\n",
            "«در بین سال های ۱۹۷۴ تا ۲۰۰۵، برای اولین بار در تاریخ، اکثر کشورها دارای نوعی ساختار دموکراتیک شدند. اما از سال ۲۰۰۶ این روند برعکس شده است.»\n",
            "برای همینه که در سیستم دموکراتیک آموزش رایگانه و اجباری.\n",
            "ویلیام ایوانینا،مدیر اداره اطلاعات ملی آمریکا:رژیم ایران درپی تضعیف نهادهای دموکراتیک آمریکا است.\n",
            "کودتا ننگین 28 امرداد علیه دولت ملی و مشروع و دموکراتیک دکتر محمد مصدق\n",
            "اتحادیه اروپا در آستانه انتخابات پارلمانی ونزوئلا در آذر ماه، هیاتی را به این کشور اعزام کرده است. سخنگوی اتحادیه اروپا گفت این هیات با هدف «ارتقاء حداقل شرایط دموکراتیک» به ونزوئلا رفته و قصد دارد با کلیه نیروهای سیاسی و گروه‌های ذی‌نفع دیدار کند.\n",
            "امروز ۸۲ نفر از جمله چند نماینده مجلس حزب دموکراتیک خلق‌ها(HDP) دستگیر شدند.\n"
          ],
          "name": "stdout"
        }
      ]
    },
    {
      "cell_type": "code",
      "metadata": {
        "id": "ky_SVWj-d9K5",
        "outputId": "8d9f32cc-2802-405c-c520-6a427204b59c",
        "colab": {
          "base_uri": "https://localhost:8080/",
          "height": 35
        }
      },
      "source": [
        "tweets_str = \"\"\n",
        "with open(\"extracted_data.txt\") as file:\n",
        "  for line in file.readlines():\n",
        "    tweets_str += line\n",
        "tweets_str[:20]"
      ],
      "execution_count": 24,
      "outputs": [
        {
          "output_type": "execute_result",
          "data": {
            "application/vnd.google.colaboratory.intrinsic+json": {
              "type": "string"
            },
            "text/plain": [
              "'خرداد ۱۳۹۹ «کیهان» م'"
            ]
          },
          "metadata": {
            "tags": []
          },
          "execution_count": 24
        }
      ]
    },
    {
      "cell_type": "code",
      "metadata": {
        "id": "pqt4gc0LeiY7",
        "outputId": "57eeed96-707d-41fd-814b-023dd737eaa4",
        "colab": {
          "base_uri": "https://localhost:8080/",
          "height": 71
        }
      },
      "source": [
        "tweets = tweets_str.split(\"\\n\\n**************\\n\\n\")\n",
        "tweets[0], len(tweets)"
      ],
      "execution_count": 25,
      "outputs": [
        {
          "output_type": "execute_result",
          "data": {
            "text/plain": [
              "('خرداد ۱۳۹۹ «کیهان» میراث سناتور مصطفی مصباح\\u200cزاده ۷۸ ساله شد \\nکیهان لندن تنها رسانه\\u200c ایرانی در تبعید است که «از جنگ دوم جهانی تاکنون قدمت و یک مؤسسه\\u200c غصب \\u200cشده در تهران» دارد.\\n\\n',\n",
              " 9349)"
            ]
          },
          "metadata": {
            "tags": []
          },
          "execution_count": 25
        }
      ]
    },
    {
      "cell_type": "code",
      "metadata": {
        "id": "FyTcsd452GaG",
        "outputId": "b1816a61-1741-4c6c-d417-2b2f3f596585",
        "colab": {
          "base_uri": "https://localhost:8080/",
          "height": 34
        }
      },
      "source": [
        "len(tweets)"
      ],
      "execution_count": 26,
      "outputs": [
        {
          "output_type": "execute_result",
          "data": {
            "text/plain": [
              "9349"
            ]
          },
          "metadata": {
            "tags": []
          },
          "execution_count": 26
        }
      ]
    },
    {
      "cell_type": "code",
      "metadata": {
        "id": "PvVwD5co44yA",
        "outputId": "6507ee9d-9c2d-4071-eddd-35abd5fe5535",
        "colab": {
          "base_uri": "https://localhost:8080/",
          "height": 34
        }
      },
      "source": [
        "len(set(tweets))"
      ],
      "execution_count": 27,
      "outputs": [
        {
          "output_type": "execute_result",
          "data": {
            "text/plain": [
              "9349"
            ]
          },
          "metadata": {
            "tags": []
          },
          "execution_count": 27
        }
      ]
    },
    {
      "cell_type": "code",
      "metadata": {
        "id": "kwpLXSbCND83",
        "outputId": "c99b6484-513e-47a3-b530-877cf62ac7db",
        "colab": {
          "base_uri": "https://localhost:8080/",
          "height": 34
        }
      },
      "source": [
        "s = 'الان باید میلان‌بودم'\n",
        "print(s.replace(u'\\u200c', '    '))"
      ],
      "execution_count": 36,
      "outputs": [
        {
          "output_type": "stream",
          "text": [
            "الان باید میلان    بودم\n"
          ],
          "name": "stdout"
        }
      ]
    },
    {
      "cell_type": "code",
      "metadata": {
        "id": "YF5A5oAge3Ec"
      },
      "source": [
        "# tweets_tokens = []\n",
        "# for tweet in tweets:\n",
        "#   tweet_tokens = tokenizer.tokenize(tweet)\n",
        "#   tweets_tokens.append(tweet_tokens)"
      ],
      "execution_count": null,
      "outputs": []
    },
    {
      "cell_type": "code",
      "metadata": {
        "id": "y98gEM-xuoDu"
      },
      "source": [
        "tweets_tokens = []\n",
        "for tweet in tweets:\n",
        "  tweet_tokens = re.sub('[.]+[ ]?[.]+', '.', re.sub(' +', ' ',\n",
        "                                    tweet.replace('\\n', '.').\n",
        "                                    replace('_', ' ').\n",
        "                                    replace('|', ' ').\n",
        "                                    replace('/', ' ').\n",
        "                                    replace('+', ' ').\n",
        "                                    replace('[', ' ').\n",
        "                                    replace(']', ' ').\n",
        "                                    replace(u'\\u200c', ' ')))\n",
        "  tweet_tokens = parsivar_tokenizer.tokenize_words(parsivar_normalizer.normalize(tweet_tokens))\n",
        "  tweets_tokens.append(tweet_tokens)"
      ],
      "execution_count": 32,
      "outputs": []
    },
    {
      "cell_type": "code",
      "metadata": {
        "id": "JWHa4P0F97ss",
        "outputId": "b508688f-4408-4599-a54a-52347349e3bd",
        "colab": {
          "base_uri": "https://localhost:8080/",
          "height": 680
        }
      },
      "source": [
        "tweets_tokens[0]"
      ],
      "execution_count": 33,
      "outputs": [
        {
          "output_type": "execute_result",
          "data": {
            "text/plain": [
              "['خرداد',\n",
              " '1399',\n",
              " '«',\n",
              " 'کیهان',\n",
              " '»',\n",
              " 'میراث',\n",
              " 'سناتور',\n",
              " 'مصطفی',\n",
              " 'مصباح\\u200cزاده',\n",
              " '78',\n",
              " 'ساله',\n",
              " 'شد',\n",
              " '.',\n",
              " 'کیهان',\n",
              " 'لندن',\n",
              " 'تنها',\n",
              " 'رسانه',\n",
              " 'ایرانی',\n",
              " 'در',\n",
              " 'تبعید',\n",
              " 'است',\n",
              " 'که',\n",
              " '«',\n",
              " 'از',\n",
              " 'جنگ',\n",
              " 'دوم',\n",
              " 'جهانی',\n",
              " 'تاکنون',\n",
              " 'قدمت',\n",
              " 'و',\n",
              " 'یک',\n",
              " 'موسسه',\n",
              " 'غصب',\n",
              " 'شده',\n",
              " 'در',\n",
              " 'تهران',\n",
              " '»',\n",
              " 'دارد',\n",
              " '.']"
            ]
          },
          "metadata": {
            "tags": []
          },
          "execution_count": 33
        }
      ]
    },
    {
      "cell_type": "code",
      "metadata": {
        "id": "5H-xsIRs5SoF",
        "outputId": "e9c4272a-2429-47b1-84e3-22204f7386de",
        "colab": {
          "base_uri": "https://localhost:8080/",
          "height": 34
        }
      },
      "source": [
        "counter = 0\n",
        "for i in range(1, 11):\n",
        "  with open('persian-ner-twitter-data' + str(i) + '.txt', 'w') as file:\n",
        "    if i != 10:\n",
        "      bin = tweets_tokens[(i-1)*1000:i*1000]\n",
        "    else:\n",
        "      bin = tweets_tokens[(i-1)*1000:len(tweets_tokens)]\n",
        "    for tweet_tokens in bin:\n",
        "      for token in tweet_tokens:\n",
        "        if token != '':\n",
        "          counter += 1\n",
        "          file.write(token + '\\tO\\n')\n",
        "      file.write('\\n')\n",
        "print(counter)"
      ],
      "execution_count": 41,
      "outputs": [
        {
          "output_type": "stream",
          "text": [
            "276026\n"
          ],
          "name": "stdout"
        }
      ]
    },
    {
      "cell_type": "code",
      "metadata": {
        "id": "RKtKA_oK9YZq",
        "outputId": "b842ac9e-9e21-4bf5-90f7-a9ad449db638",
        "colab": {
          "base_uri": "https://localhost:8080/",
          "height": 867
        }
      },
      "source": [
        "! head -n 50 persian-ner-twitter-data1.txt"
      ],
      "execution_count": 38,
      "outputs": [
        {
          "output_type": "stream",
          "text": [
            "خرداد\tO\n",
            "1399\tO\n",
            "«\tO\n",
            "کیهان\tO\n",
            "»\tO\n",
            "میراث\tO\n",
            "سناتور\tO\n",
            "مصطفی\tO\n",
            "مصباح‌زاده\tO\n",
            "78\tO\n",
            "ساله\tO\n",
            "شد\tO\n",
            ".\tO\n",
            "کیهان\tO\n",
            "لندن\tO\n",
            "تنها\tO\n",
            "رسانه\tO\n",
            "ایرانی\tO\n",
            "در\tO\n",
            "تبعید\tO\n",
            "است\tO\n",
            "که\tO\n",
            "«\tO\n",
            "از\tO\n",
            "جنگ\tO\n",
            "دوم\tO\n",
            "جهانی\tO\n",
            "تاکنون\tO\n",
            "قدمت\tO\n",
            "و\tO\n",
            "یک\tO\n",
            "موسسه\tO\n",
            "غصب\tO\n",
            "شده\tO\n",
            "در\tO\n",
            "تهران\tO\n",
            "»\tO\n",
            "دارد\tO\n",
            ".\tO\n",
            "\n",
            "چهارمین\tO\n",
            "قهرمانی\tO\n",
            "فلومیننسه\tO\n",
            "در\tO\n",
            "برزیل\tO\n",
            ":\tO\n",
            "\n",
            "زندگی\tO\n",
            "سلام\tO\n",
            ".\tO\n"
          ],
          "name": "stdout"
        }
      ]
    },
    {
      "cell_type": "code",
      "metadata": {
        "id": "f_hcUfnU0vYv",
        "outputId": "1c03ae6a-e9d8-4b27-89c6-77e7b7668a66",
        "colab": {
          "base_uri": "https://localhost:8080/",
          "height": 867
        }
      },
      "source": [
        "! head -n 50 persian-ner-twitter-data5.txt"
      ],
      "execution_count": 39,
      "outputs": [
        {
          "output_type": "stream",
          "text": [
            "دوران\tO\n",
            "دفاع\tO\n",
            "مقدس\tO\n",
            "اوج\tO\n",
            "افتخارات\tO\n",
            "ملت\tO\n",
            "ایران\tO\n",
            "است\tO\n",
            ".\tO\n",
            "مقام\tO\n",
            "معظم\tO\n",
            "رهبری\tO\n",
            ".\tO\n",
            "هفته\tO\n",
            "دفاع\tO\n",
            "مقدس\tO\n",
            ".\tO\n",
            "غبارروبی\tO\n",
            "مزار\tO\n",
            "شهدای\tO\n",
            "روستای\tO\n",
            "ارتش‌آباد\tO\n",
            ".\tO\n",
            "زادگاه\tO\n",
            "شهید\tO\n",
            "طیب\tO\n",
            "حاج\tO\n",
            "رضایی\tO\n",
            ".\tO\n",
            "پنجشنبه.99\tO\n",
            "7\tO\n",
            "3\tO\n",
            "\n",
            "توییت‌لری\tO\n",
            ".\tO\n",
            "هی\tO\n",
            "برار‌جو\tO\n",
            "تا\tO\n",
            "بیه‌هی\tO\n",
            "روزگارو‌هی‌چنینه\tO\n",
            ".\tO\n",
            "جا\tO\n",
            "پاییز\tO\n",
            "و\tO\n",
            "جا\tO\n",
            "زمسّو\tO\n",
            "همیشه\tO\n",
            "بهار\tO\n",
            "نشینه\tO\n",
            ".\tO\n"
          ],
          "name": "stdout"
        }
      ]
    },
    {
      "cell_type": "code",
      "metadata": {
        "id": "3YnOknl81MdX",
        "outputId": "1e8de9ed-9578-4303-e968-48731d308597",
        "colab": {
          "base_uri": "https://localhost:8080/",
          "height": 867
        }
      },
      "source": [
        "! head -n 50 persian-ner-twitter-data10.txt"
      ],
      "execution_count": 40,
      "outputs": [
        {
          "output_type": "stream",
          "text": [
            "خرسند\tO\n",
            ".\tO\n",
            "\n",
            "هند\tO\n",
            "در\tO\n",
            "حال\tO\n",
            "مذاکره\tO\n",
            "با\tO\n",
            "اروپا\tO\n",
            "برای\tO\n",
            "ادامه\tO\n",
            "واردات\tO\n",
            "نفت\tO\n",
            "از\tO\n",
            "ایران\tO\n",
            "علی\tO\n",
            "رغم\tO\n",
            "تحریم‌ها\tO\n",
            "است\tO\n",
            ".«\tO\n",
            "هندوستان\tO\n",
            "تایمز\tO\n",
            "»\tO\n",
            "نوشت\tO\n",
            ":\tO\n",
            ".\tO\n",
            "طبق\tO\n",
            "گفته\tO\n",
            "منابع\tO\n",
            "رسمی\tO\n",
            "،\tO\n",
            "هند\tO\n",
            "جدا\tO\n",
            "از\tO\n",
            "تلاش\tO\n",
            "برای\tO\n",
            "مجاب\tO\n",
            "کردن\tO\n",
            "آمریکا\tO\n",
            "مبنی\tO\n",
            "بر‌اینکه\tO\n",
            "تحریم‌های\tO\n",
            "این\tO\n",
            "کشور\tO\n",
            "علیه\tO\n",
            "ایران\tO\n",
            "پس\tO\n",
            "از\tO\n",
            "خروج\tO\n",
            "از\tO\n"
          ],
          "name": "stdout"
        }
      ]
    },
    {
      "cell_type": "markdown",
      "metadata": {
        "id": "LdJu_tEFcdWo"
      },
      "source": [
        "# **Model**"
      ]
    },
    {
      "cell_type": "code",
      "metadata": {
        "id": "BWIrxhBYU-_G"
      },
      "source": [
        "from transformers import pipeline"
      ],
      "execution_count": null,
      "outputs": []
    },
    {
      "cell_type": "code",
      "metadata": {
        "id": "zcIkcJDTU_xw",
        "outputId": "f7ed8af3-60f8-44c3-9590-69c291f02be3",
        "colab": {
          "base_uri": "https://localhost:8080/",
          "height": 258
        }
      },
      "source": [
        "pars_ner = pipeline('ner', model=model, tokenizer=tokenizer)\n",
        "pars_ner(tweet_example)"
      ],
      "execution_count": null,
      "outputs": [
        {
          "output_type": "stream",
          "text": [
            "Asking to truncate to max_length but no maximum length is provided and the model has no predefined maximum length. Default to no truncation.\n"
          ],
          "name": "stderr"
        },
        {
          "output_type": "execute_result",
          "data": {
            "text/plain": [
              "[{'entity': 'B-organization',\n",
              "  'index': 8,\n",
              "  'score': 0.9995940327644348,\n",
              "  'word': 'اتلتیکو'},\n",
              " {'entity': 'B-organization',\n",
              "  'index': 13,\n",
              "  'score': 0.9972712397575378,\n",
              "  'word': 'بایرن'},\n",
              " {'entity': 'B-person',\n",
              "  'index': 31,\n",
              "  'score': 0.9915841817855835,\n",
              "  'word': 'هاینکس'}]"
            ]
          },
          "metadata": {
            "tags": []
          },
          "execution_count": 18
        }
      ]
    },
    {
      "cell_type": "code",
      "metadata": {
        "id": "GNUWDyFhS3Y4"
      },
      "source": [
        ""
      ],
      "execution_count": null,
      "outputs": []
    }
  ]
}