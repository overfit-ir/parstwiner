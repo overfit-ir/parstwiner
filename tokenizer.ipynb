{
  "nbformat": 4,
  "nbformat_minor": 0,
  "metadata": {
    "colab": {
      "name": "tempo.ipynb",
      "provenance": [],
      "toc_visible": true,
      "include_colab_link": true
    },
    "kernelspec": {
      "name": "python3",
      "display_name": "Python 3"
    },
    "accelerator": "GPU"
  },
  "cells": [
    {
      "cell_type": "markdown",
      "metadata": {
        "id": "view-in-github",
        "colab_type": "text"
      },
      "source": [
        "<a href=\"https://colab.research.google.com/github/overfit-ir/persian-twitter-ner/blob/master/tokenizer.ipynb\" target=\"_parent\"><img src=\"https://colab.research.google.com/assets/colab-badge.svg\" alt=\"Open In Colab\"/></a>"
      ]
    },
    {
      "cell_type": "markdown",
      "metadata": {
        "id": "rMbgFS_xcfcf"
      },
      "source": [
        "# Setup"
      ]
    },
    {
      "cell_type": "code",
      "metadata": {
        "id": "nF-7m57sBgdp",
        "outputId": "b5cd679b-715a-42d1-b558-e595d03b6d17",
        "colab": {
          "base_uri": "https://localhost:8080/",
          "height": 170
        }
      },
      "source": [
        "! pip -q install transformers\n",
        "! pip -q install parsivar"
      ],
      "execution_count": 1,
      "outputs": [
        {
          "output_type": "stream",
          "text": [
            "\u001b[K     |████████████████████████████████| 1.1MB 4.6MB/s \n",
            "\u001b[K     |████████████████████████████████| 890kB 24.2MB/s \n",
            "\u001b[K     |████████████████████████████████| 3.0MB 42.2MB/s \n",
            "\u001b[K     |████████████████████████████████| 1.1MB 59.0MB/s \n",
            "\u001b[?25h  Building wheel for sacremoses (setup.py) ... \u001b[?25l\u001b[?25hdone\n",
            "\u001b[K     |████████████████████████████████| 36.2MB 83kB/s \n",
            "\u001b[K     |████████████████████████████████| 1.5MB 56.0MB/s \n",
            "\u001b[?25h  Building wheel for parsivar (setup.py) ... \u001b[?25l\u001b[?25hdone\n",
            "  Building wheel for nltk (setup.py) ... \u001b[?25l\u001b[?25hdone\n"
          ],
          "name": "stdout"
        }
      ]
    },
    {
      "cell_type": "code",
      "metadata": {
        "id": "GbAOjVTbIvjW"
      },
      "source": [
        "import torch\n",
        "from __future__ import unicode_literals\n",
        "# from hazm import *\n",
        "from parsivar import *\n",
        "from pprint import pprint\n",
        "import torch\n",
        "import numpy as np\n",
        "import pandas as pd\n",
        "from datetime import datetime\n",
        "from scipy import spatial\n",
        "from transformers import AutoConfig, AutoTokenizer, AutoModel, AutoModelForTokenClassification\n",
        "import re\n",
        "parsivar_tokenizer = Tokenizer()\n",
        "parsivar_normalizer = Normalizer()"
      ],
      "execution_count": 2,
      "outputs": []
    },
    {
      "cell_type": "code",
      "metadata": {
        "id": "ZZAJwNKuIwLN",
        "outputId": "6d9bb795-cb72-4491-b520-726e4644bd8f",
        "colab": {
          "base_uri": "https://localhost:8080/",
          "height": 34
        }
      },
      "source": [
        "tokenizer = AutoTokenizer.from_pretrained(\"HooshvareLab/bert-base-parsbert-uncased\")\n",
        "# tokenizer = AutoTokenizer.from_pretrained(\"HooshvareLab/bert-base-parsbert-ner-uncased\")\n",
        "model = AutoModelForTokenClassification.from_pretrained(\"HooshvareLab/bert-base-parsbert-ner-uncased\")\n",
        "model.eval()\n",
        "print()"
      ],
      "execution_count": 14,
      "outputs": [
        {
          "output_type": "stream",
          "text": [
            "\n"
          ],
          "name": "stdout"
        }
      ]
    },
    {
      "cell_type": "markdown",
      "metadata": {
        "id": "h_5tgmwqch8n"
      },
      "source": [
        "# **Tokenize**"
      ]
    },
    {
      "cell_type": "markdown",
      "metadata": {
        "id": "DIODPTLFdAzn"
      },
      "source": [
        "### Example"
      ]
    },
    {
      "cell_type": "code",
      "metadata": {
        "id": "zQ5WxSUoaZP3"
      },
      "source": [
        "tweet_example = \"\"\" بابا بیخیال :)) همون سال اتلتیکو با گل افساید به بایرن رفت فینال.\n",
        "\n",
        "مشکل داوری نداشتیم اون بازی که میگی.\n",
        "فصل قبلش هم ۴ ۰ با هاینکس زدیم شما رو\n",
        "\"\"\"\n",
        "\n",
        "tweet_example2 = \"\"\"\n",
        " محسن رضایی هم یک جوان ۲۶،۲۷ ساله بوده\n",
        "مدیریت جنگ با مدیریت فعلی کشور که اکثرا افراد لیبرابی هستن که در جنگ هیچ نقشی نداشتن و یا نهایتا پشت جبهه مشغول بودن قابل مقایسه نیست\n",
        "\n",
        "\"\"\"\n",
        "\n",
        "tweet_example3 = \"\"\"\n",
        "سلام\n",
        "خواهر من فکر کنم دو سالی سرفه امانش را بریده بود.خیلی کارها کرد برای درمانش اما درست نشد که نشد. کرونا هم که شروع شد، خیلی نگرانش بودیم. \n",
        "چند روز پیش با چند تا نیش زنبور عسل به اصطلاح زنبور درمانی کرد و با کمال تعجب دیگه سرفه نمی کنه.\n",
        "\n",
        "\"\"\""
      ],
      "execution_count": 3,
      "outputs": []
    },
    {
      "cell_type": "code",
      "metadata": {
        "id": "CE2zhzuFQnNG",
        "outputId": "0e829c51-1bbf-4e93-ca7b-59cc5dae039a",
        "colab": {
          "base_uri": "https://localhost:8080/",
          "height": 986
        }
      },
      "source": [
        "input_sentence = tokenizer.tokenize(tweet_example3)\n",
        "for token in input_sentence:\n",
        "  print(token)"
      ],
      "execution_count": 23,
      "outputs": [
        {
          "output_type": "stream",
          "text": [
            "سلام\n",
            "خواهر\n",
            "من\n",
            "فکر\n",
            "کنم\n",
            "دو\n",
            "سالی\n",
            "سرفه\n",
            "امانش\n",
            "را\n",
            "بریده\n",
            "بود\n",
            ".\n",
            "خیلی\n",
            "کارها\n",
            "کرد\n",
            "برای\n",
            "درمانش\n",
            "اما\n",
            "درست\n",
            "نشد\n",
            "که\n",
            "نشد\n",
            ".\n",
            "کرونا\n",
            "هم\n",
            "که\n",
            "شروع\n",
            "شد\n",
            "،\n",
            "خیلی\n",
            "نگرانش\n",
            "بودیم\n",
            ".\n",
            "چند\n",
            "روز\n",
            "پیش\n",
            "با\n",
            "چند\n",
            "تا\n",
            "نیش\n",
            "زنبور\n",
            "عسل\n",
            "به\n",
            "اصطلاح\n",
            "زنبور\n",
            "درمانی\n",
            "کرد\n",
            "و\n",
            "با\n",
            "کمال\n",
            "تعجب\n",
            "دیگه\n",
            "سرفه\n",
            "نمی\n",
            "کنه\n",
            ".\n"
          ],
          "name": "stdout"
        }
      ]
    },
    {
      "cell_type": "code",
      "metadata": {
        "id": "kO4g0ZuCN9WM",
        "outputId": "1d5697b5-b42f-48c5-d281-1f2e98e287b3",
        "colab": {
          "base_uri": "https://localhost:8080/",
          "height": 935
        }
      },
      "source": [
        "for token in parsivar_tokenizer.tokenize_words(parsivar_normalizer.normalize(tweet_example3)):\n",
        "  print(token)"
      ],
      "execution_count": 4,
      "outputs": [
        {
          "output_type": "stream",
          "text": [
            "سلام\n",
            "خواهر\n",
            "من\n",
            "فکر\n",
            "کنم\n",
            "دو\n",
            "سالی\n",
            "سرفه\n",
            "امانش\n",
            "را\n",
            "بریده‌بود\n",
            ".\n",
            "خیلی\n",
            "کارها\n",
            "کرد\n",
            "برای\n",
            "درمانش\n",
            "اما\n",
            "درست\n",
            "نشد\n",
            "که\n",
            "نشد\n",
            ".\n",
            "کرونا\n",
            "هم\n",
            "که\n",
            "شروع\n",
            "شد\n",
            "،\n",
            "خیلی\n",
            "نگرانش‌بودیم\n",
            ".\n",
            "چند\n",
            "روز\n",
            "پیش\n",
            "با\n",
            "چند\n",
            "تا\n",
            "نیش\n",
            "زنبور\n",
            "عسل\n",
            "به\n",
            "اصطلاح\n",
            "زنبور\n",
            "درمانی\n",
            "کرد\n",
            "و\n",
            "با\n",
            "کمال\n",
            "تعجب\n",
            "دیگه\n",
            "سرفه\n",
            "نمی‌کنه\n",
            ".\n"
          ],
          "name": "stdout"
        }
      ]
    },
    {
      "cell_type": "markdown",
      "metadata": {
        "id": "CmwTpkbxdEGv"
      },
      "source": [
        "### Tokenize All tweets"
      ]
    },
    {
      "cell_type": "code",
      "metadata": {
        "id": "naQ5Dy8tdN4M",
        "outputId": "c7fdfea7-5d6a-4ef8-9884-470b173538be",
        "colab": {
          "base_uri": "https://localhost:8080/",
          "height": 224
        }
      },
      "source": [
        "! wget \"https://raw.githubusercontent.com/overfit-ir/persian-twitter-ner/master/twitter_data/extracted_data.txt\""
      ],
      "execution_count": 5,
      "outputs": [
        {
          "output_type": "stream",
          "text": [
            "--2020-10-05 08:09:07--  https://raw.githubusercontent.com/overfit-ir/persian-twitter-ner/master/twitter_data/extracted_data.txt\n",
            "Resolving raw.githubusercontent.com (raw.githubusercontent.com)... 151.101.0.133, 151.101.64.133, 151.101.128.133, ...\n",
            "Connecting to raw.githubusercontent.com (raw.githubusercontent.com)|151.101.0.133|:443... connected.\n",
            "HTTP request sent, awaiting response... 200 OK\n",
            "Length: 2698436 (2.6M) [text/plain]\n",
            "Saving to: ‘extracted_data.txt’\n",
            "\n",
            "extracted_data.txt  100%[===================>]   2.57M  --.-KB/s    in 0.1s    \n",
            "\n",
            "2020-10-05 08:09:07 (20.4 MB/s) - ‘extracted_data.txt’ saved [2698436/2698436]\n",
            "\n"
          ],
          "name": "stdout"
        }
      ]
    },
    {
      "cell_type": "code",
      "metadata": {
        "id": "01jhD-R-dXsn",
        "outputId": "cde13894-96fa-45d9-c333-3772fd345b20",
        "colab": {
          "base_uri": "https://localhost:8080/",
          "height": 697
        }
      },
      "source": [
        "! head -n 40 extracted_data.txt"
      ],
      "execution_count": 6,
      "outputs": [
        {
          "output_type": "stream",
          "text": [
            "خرداد ۱۳۹۹ «کیهان» میراث سناتور مصطفی مصباح‌زاده ۷۸ ساله شد \n",
            "کیهان لندن تنها رسانه‌ ایرانی در تبعید است که «از جنگ دوم جهانی تاکنون قدمت و یک مؤسسه‌ غصب ‌شده در تهران» دارد.\n",
            "\n",
            "\n",
            "\n",
            "**************\n",
            "\n",
            "چهارمین قهرمانی فلومیننسه در برزیل:  \n",
            "\n",
            "**************\n",
            "\n",
            "زندگی_سلام\n",
            " کوراسائو، بلیز، سیشل و نائورو!\n",
            "‌\n",
            " خراسان_ورزشی ‌\n",
            "‌دو بی انضباطی و دو واکنش متفاوت از فرهاد\n",
            " سرخ های پایتخت در اندیشه دبل \n",
            "\n",
            "**************\n",
            "\n",
            "سال ۲۰۱۳ را سالی که در آن بایرن همه جام های ممکن را برد. \n",
            "و حالا ۲۰۲۰ تکرار کسب تمامی عناوین ممکن.\n",
            "لیگ_قهرمانان\n",
            "بوندس_لیگا\n",
            "جام_حذفی_آلمان \n",
            "سوپرکاپ_اروپا\n",
            "( سال ۲۰۱۳ ، قهرمان جام باشگاههای جهان) \n",
            "\n",
            "**************\n",
            "\n",
            " زین سرای بی کَسی ، کَس مجو\n",
            "محنت عاشقی ز بی کَس  مجو \n",
            "\n",
            "طرب عاشقانه ایی روا دار کنون \n",
            "به کَس و بی کَس  کنون عشق مجو \n",
            "\n",
            "مجتبی_الوندی\n",
            "\n",
            "\n",
            "**************\n"
          ],
          "name": "stdout"
        }
      ]
    },
    {
      "cell_type": "code",
      "metadata": {
        "id": "ky_SVWj-d9K5",
        "outputId": "c5ef745b-03fc-47ec-c053-d052c7a35119",
        "colab": {
          "base_uri": "https://localhost:8080/",
          "height": 35
        }
      },
      "source": [
        "tweets_str = \"\"\n",
        "with open(\"extracted_data.txt\") as file:\n",
        "  for line in file.readlines():\n",
        "    tweets_str += line\n",
        "tweets_str[:20]"
      ],
      "execution_count": 7,
      "outputs": [
        {
          "output_type": "execute_result",
          "data": {
            "application/vnd.google.colaboratory.intrinsic+json": {
              "type": "string"
            },
            "text/plain": [
              "'خرداد ۱۳۹۹ «کیهان» م'"
            ]
          },
          "metadata": {
            "tags": []
          },
          "execution_count": 7
        }
      ]
    },
    {
      "cell_type": "code",
      "metadata": {
        "id": "pqt4gc0LeiY7",
        "outputId": "0dc92135-d386-4640-a38b-172ce407f418",
        "colab": {
          "base_uri": "https://localhost:8080/",
          "height": 71
        }
      },
      "source": [
        "tweets = tweets_str.split(\"\\n\\n**************\\n\\n\")\n",
        "tweets[0], len(tweets)"
      ],
      "execution_count": 8,
      "outputs": [
        {
          "output_type": "execute_result",
          "data": {
            "text/plain": [
              "('خرداد ۱۳۹۹ «کیهان» میراث سناتور مصطفی مصباح\\u200cزاده ۷۸ ساله شد \\nکیهان لندن تنها رسانه\\u200c ایرانی در تبعید است که «از جنگ دوم جهانی تاکنون قدمت و یک مؤسسه\\u200c غصب \\u200cشده در تهران» دارد.\\n\\n',\n",
              " 9349)"
            ]
          },
          "metadata": {
            "tags": []
          },
          "execution_count": 8
        }
      ]
    },
    {
      "cell_type": "code",
      "metadata": {
        "id": "FyTcsd452GaG",
        "outputId": "81d4e754-c685-4126-c985-2defdb047b10",
        "colab": {
          "base_uri": "https://localhost:8080/",
          "height": 34
        }
      },
      "source": [
        "len(tweets)"
      ],
      "execution_count": 9,
      "outputs": [
        {
          "output_type": "execute_result",
          "data": {
            "text/plain": [
              "9349"
            ]
          },
          "metadata": {
            "tags": []
          },
          "execution_count": 9
        }
      ]
    },
    {
      "cell_type": "code",
      "metadata": {
        "id": "PvVwD5co44yA",
        "outputId": "2beda9d1-fb09-4a7b-c7ab-ba79e50e2028",
        "colab": {
          "base_uri": "https://localhost:8080/",
          "height": 34
        }
      },
      "source": [
        "len(set(tweets))"
      ],
      "execution_count": 10,
      "outputs": [
        {
          "output_type": "execute_result",
          "data": {
            "text/plain": [
              "9349"
            ]
          },
          "metadata": {
            "tags": []
          },
          "execution_count": 10
        }
      ]
    },
    {
      "cell_type": "code",
      "metadata": {
        "id": "YF5A5oAge3Ec"
      },
      "source": [
        "# tweets_tokens = []\n",
        "# for tweet in tweets:\n",
        "#   tweet_tokens = tokenizer.tokenize(tweet)\n",
        "#   tweets_tokens.append(tweet_tokens)"
      ],
      "execution_count": 11,
      "outputs": []
    },
    {
      "cell_type": "code",
      "metadata": {
        "id": "y98gEM-xuoDu"
      },
      "source": [
        "tweets_tokens = []\n",
        "for tweet in tweets:\n",
        "  tweet_tokens = re.sub(' +', ' ',\n",
        "                        tweet.replace('\\n', ' ').\n",
        "                        replace('.', ' ').\n",
        "                        replace('،', ' ').\n",
        "                        replace('!', ' ').\n",
        "                        replace('?', ' ').\n",
        "                        replace(':', ' ').\n",
        "                        replace('؟', ' ').\n",
        "                        replace('_', ' ').\n",
        "                        replace('|', ' ').\n",
        "                        replace('/', ' ').\n",
        "                        replace('+', ' ').\n",
        "                        replace('[', ' ').\n",
        "                        replace(']', ' '))\n",
        "  tweet_tokens = parsivar_tokenizer.tokenize_words(parsivar_normalizer.normalize(tweet_tokens))\n",
        "  tweets_tokens.append(tweet_tokens)"
      ],
      "execution_count": 14,
      "outputs": []
    },
    {
      "cell_type": "code",
      "metadata": {
        "id": "JWHa4P0F97ss",
        "outputId": "af0f50a5-de78-4f99-95b1-fcb882e14708",
        "colab": {
          "base_uri": "https://localhost:8080/",
          "height": 646
        }
      },
      "source": [
        "tweets_tokens[0]"
      ],
      "execution_count": 16,
      "outputs": [
        {
          "output_type": "execute_result",
          "data": {
            "text/plain": [
              "['خرداد',\n",
              " '1399',\n",
              " '«',\n",
              " 'کیهان',\n",
              " '»',\n",
              " 'میراث',\n",
              " 'سناتور',\n",
              " 'مصطفی',\n",
              " 'مصباح\\u200cزاده',\n",
              " '78',\n",
              " 'ساله',\n",
              " 'شد',\n",
              " 'کیهان',\n",
              " 'لندن',\n",
              " 'تنها',\n",
              " 'رسانه',\n",
              " 'ایرانی',\n",
              " 'در',\n",
              " 'تبعید',\n",
              " 'است',\n",
              " 'که',\n",
              " '«',\n",
              " 'از',\n",
              " 'جنگ',\n",
              " 'دوم',\n",
              " 'جهانی',\n",
              " 'تاکنون',\n",
              " 'قدمت',\n",
              " 'و',\n",
              " 'یک',\n",
              " 'موسسه',\n",
              " 'غصب',\n",
              " 'شده',\n",
              " 'در',\n",
              " 'تهران',\n",
              " '»',\n",
              " 'دارد']"
            ]
          },
          "metadata": {
            "tags": []
          },
          "execution_count": 16
        }
      ]
    },
    {
      "cell_type": "code",
      "metadata": {
        "id": "5H-xsIRs5SoF",
        "outputId": "eef960c6-1566-4319-8b40-3689fb14c3d7",
        "colab": {
          "base_uri": "https://localhost:8080/",
          "height": 34
        }
      },
      "source": [
        "counter = 0\n",
        "for i in range(1, 11):\n",
        "  with open('persian-ner-twitter-data' + str(i) + '.txt', 'w') as file:\n",
        "    for tweet_tokens in tweets_tokens[(i-1)*1000:max(len(tweets_tokens), i*1000)]:\n",
        "      for token in tweet_tokens:\n",
        "        if token != '':\n",
        "          counter += 1\n",
        "          file.write(token + '\\tO\\n')\n",
        "      file.write('\\n')\n",
        "print(counter)"
      ],
      "execution_count": 17,
      "outputs": [
        {
          "output_type": "stream",
          "text": [
            "1389505\n"
          ],
          "name": "stdout"
        }
      ]
    },
    {
      "cell_type": "code",
      "metadata": {
        "id": "RKtKA_oK9YZq",
        "outputId": "b51acfe0-29db-48a6-9daa-b796959d41de",
        "colab": {
          "base_uri": "https://localhost:8080/",
          "height": 867
        }
      },
      "source": [
        "! head -n 50 persian-ner-twitter-data1.txt"
      ],
      "execution_count": 18,
      "outputs": [
        {
          "output_type": "stream",
          "text": [
            "خرداد\tO\n",
            "1399\tO\n",
            "«\tO\n",
            "کیهان\tO\n",
            "»\tO\n",
            "میراث\tO\n",
            "سناتور\tO\n",
            "مصطفی\tO\n",
            "مصباح‌زاده\tO\n",
            "78\tO\n",
            "ساله\tO\n",
            "شد\tO\n",
            "کیهان\tO\n",
            "لندن\tO\n",
            "تنها\tO\n",
            "رسانه\tO\n",
            "ایرانی\tO\n",
            "در\tO\n",
            "تبعید\tO\n",
            "است\tO\n",
            "که\tO\n",
            "«\tO\n",
            "از\tO\n",
            "جنگ\tO\n",
            "دوم\tO\n",
            "جهانی\tO\n",
            "تاکنون\tO\n",
            "قدمت\tO\n",
            "و\tO\n",
            "یک\tO\n",
            "موسسه\tO\n",
            "غصب\tO\n",
            "شده\tO\n",
            "در\tO\n",
            "تهران\tO\n",
            "»\tO\n",
            "دارد\tO\n",
            "\n",
            "چهارمین\tO\n",
            "قهرمانی\tO\n",
            "فلومیننسه\tO\n",
            "در\tO\n",
            "برزیل\tO\n",
            "\n",
            "زندگی\tO\n",
            "سلام\tO\n",
            "کوراسائو\tO\n",
            "بلیز\tO\n",
            "سیشل\tO\n",
            "و\tO\n"
          ],
          "name": "stdout"
        }
      ]
    },
    {
      "cell_type": "code",
      "metadata": {
        "id": "f_hcUfnU0vYv",
        "outputId": "35157f01-663c-4222-b4e4-ee9675c7db5a",
        "colab": {
          "base_uri": "https://localhost:8080/",
          "height": 867
        }
      },
      "source": [
        "! head -n 50 persian-ner-twitter-data5.txt"
      ],
      "execution_count": 19,
      "outputs": [
        {
          "output_type": "stream",
          "text": [
            "دوران\tO\n",
            "دفاع\tO\n",
            "مقدس\tO\n",
            "اوج\tO\n",
            "افتخارات\tO\n",
            "ملت\tO\n",
            "ایران\tO\n",
            "است\tO\n",
            "مقام\tO\n",
            "معظم\tO\n",
            "رهبری\tO\n",
            "هفته\tO\n",
            "دفاع\tO\n",
            "مقدس\tO\n",
            "غبارروبی\tO\n",
            "مزار\tO\n",
            "شهدای\tO\n",
            "روستای\tO\n",
            "ارتش\tO\n",
            "آباد\tO\n",
            "زادگاه\tO\n",
            "شهید\tO\n",
            "طیب\tO\n",
            "حاج\tO\n",
            "رضایی\tO\n",
            "پنجشنبه\tO\n",
            "99\tO\n",
            "7\tO\n",
            "3\tO\n",
            "\n",
            "توییت\tO\n",
            "لری\tO\n",
            "هی\tO\n",
            "برار\tO\n",
            "جو\tO\n",
            "تا\tO\n",
            "بیه\tO\n",
            "هی\tO\n",
            "روزگارو\tO\n",
            "هی\tO\n",
            "چنینه\tO\n",
            "جا\tO\n",
            "پاییز\tO\n",
            "و\tO\n",
            "جا\tO\n",
            "زمسّو\tO\n",
            "همیشه\tO\n",
            "بهار\tO\n",
            "نشینه\tO\n",
            "از\tO\n"
          ],
          "name": "stdout"
        }
      ]
    },
    {
      "cell_type": "code",
      "metadata": {
        "id": "3YnOknl81MdX",
        "outputId": "6726d103-97c7-4683-c17f-7e921364e4c7",
        "colab": {
          "base_uri": "https://localhost:8080/",
          "height": 867
        }
      },
      "source": [
        "! head -n 50 persian-ner-twitter-data10.txt"
      ],
      "execution_count": 20,
      "outputs": [
        {
          "output_type": "stream",
          "text": [
            "خرسند\tO\n",
            "\n",
            "هند\tO\n",
            "در\tO\n",
            "حال\tO\n",
            "مذاکره\tO\n",
            "با\tO\n",
            "اروپا\tO\n",
            "برای\tO\n",
            "ادامه\tO\n",
            "واردات\tO\n",
            "نفت\tO\n",
            "از\tO\n",
            "ایران\tO\n",
            "علی‌رغم\tO\n",
            "تحریم‌ها\tO\n",
            "است\tO\n",
            "«\tO\n",
            "هندوستان‌تایمز\tO\n",
            "»\tO\n",
            "نوشت\tO\n",
            "طبق\tO\n",
            "گفته\tO\n",
            "منابع\tO\n",
            "رسمی\tO\n",
            "هند\tO\n",
            "جدا\tO\n",
            "از\tO\n",
            "تلاش\tO\n",
            "برای\tO\n",
            "مجاب\tO\n",
            "کردن\tO\n",
            "آمریکا\tO\n",
            "مبنی\tO\n",
            "بر\tO\n",
            "اینکه\tO\n",
            "تحریم‌های\tO\n",
            "این\tO\n",
            "کشور\tO\n",
            "علیه\tO\n",
            "ایران\tO\n",
            "پس\tO\n",
            "از\tO\n",
            "خروج\tO\n",
            "از\tO\n",
            "برجام\tO\n",
            "بر\tO\n",
            "اقتصاد\tO\n",
            "هند\tO\n",
            "اثرات\tO\n"
          ],
          "name": "stdout"
        }
      ]
    },
    {
      "cell_type": "markdown",
      "metadata": {
        "id": "LdJu_tEFcdWo"
      },
      "source": [
        "# **Model**"
      ]
    },
    {
      "cell_type": "code",
      "metadata": {
        "id": "BWIrxhBYU-_G"
      },
      "source": [
        "from transformers import pipeline"
      ],
      "execution_count": null,
      "outputs": []
    },
    {
      "cell_type": "code",
      "metadata": {
        "id": "zcIkcJDTU_xw",
        "outputId": "f7ed8af3-60f8-44c3-9590-69c291f02be3",
        "colab": {
          "base_uri": "https://localhost:8080/",
          "height": 258
        }
      },
      "source": [
        "pars_ner = pipeline('ner', model=model, tokenizer=tokenizer)\n",
        "pars_ner(tweet_example)"
      ],
      "execution_count": null,
      "outputs": [
        {
          "output_type": "stream",
          "text": [
            "Asking to truncate to max_length but no maximum length is provided and the model has no predefined maximum length. Default to no truncation.\n"
          ],
          "name": "stderr"
        },
        {
          "output_type": "execute_result",
          "data": {
            "text/plain": [
              "[{'entity': 'B-organization',\n",
              "  'index': 8,\n",
              "  'score': 0.9995940327644348,\n",
              "  'word': 'اتلتیکو'},\n",
              " {'entity': 'B-organization',\n",
              "  'index': 13,\n",
              "  'score': 0.9972712397575378,\n",
              "  'word': 'بایرن'},\n",
              " {'entity': 'B-person',\n",
              "  'index': 31,\n",
              "  'score': 0.9915841817855835,\n",
              "  'word': 'هاینکس'}]"
            ]
          },
          "metadata": {
            "tags": []
          },
          "execution_count": 18
        }
      ]
    },
    {
      "cell_type": "code",
      "metadata": {
        "id": "GNUWDyFhS3Y4"
      },
      "source": [
        ""
      ],
      "execution_count": null,
      "outputs": []
    }
  ]
}