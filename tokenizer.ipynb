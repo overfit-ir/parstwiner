{
  "nbformat": 4,
  "nbformat_minor": 0,
  "metadata": {
    "colab": {
      "name": "tempo.ipynb",
      "provenance": [],
      "toc_visible": true,
      "include_colab_link": true
    },
    "kernelspec": {
      "name": "python3",
      "display_name": "Python 3"
    },
    "accelerator": "GPU",
    "widgets": {
      "application/vnd.jupyter.widget-state+json": {
        "464c4d397834491280c5a55ab2533dd4": {
          "model_module": "@jupyter-widgets/controls",
          "model_name": "HBoxModel",
          "state": {
            "_view_name": "HBoxView",
            "_dom_classes": [],
            "_model_name": "HBoxModel",
            "_view_module": "@jupyter-widgets/controls",
            "_model_module_version": "1.5.0",
            "_view_count": null,
            "_view_module_version": "1.5.0",
            "box_style": "",
            "layout": "IPY_MODEL_a3ff4eead46e44f9b4295d1b1b5914ac",
            "_model_module": "@jupyter-widgets/controls",
            "children": [
              "IPY_MODEL_ef5919de66fc4882afa047acc1aacf04",
              "IPY_MODEL_2cd028c32d7d431a972b121a5f84ca6e"
            ]
          }
        },
        "a3ff4eead46e44f9b4295d1b1b5914ac": {
          "model_module": "@jupyter-widgets/base",
          "model_name": "LayoutModel",
          "state": {
            "_view_name": "LayoutView",
            "grid_template_rows": null,
            "right": null,
            "justify_content": null,
            "_view_module": "@jupyter-widgets/base",
            "overflow": null,
            "_model_module_version": "1.2.0",
            "_view_count": null,
            "flex_flow": null,
            "width": null,
            "min_width": null,
            "border": null,
            "align_items": null,
            "bottom": null,
            "_model_module": "@jupyter-widgets/base",
            "top": null,
            "grid_column": null,
            "overflow_y": null,
            "overflow_x": null,
            "grid_auto_flow": null,
            "grid_area": null,
            "grid_template_columns": null,
            "flex": null,
            "_model_name": "LayoutModel",
            "justify_items": null,
            "grid_row": null,
            "max_height": null,
            "align_content": null,
            "visibility": null,
            "align_self": null,
            "height": null,
            "min_height": null,
            "padding": null,
            "grid_auto_rows": null,
            "grid_gap": null,
            "max_width": null,
            "order": null,
            "_view_module_version": "1.2.0",
            "grid_template_areas": null,
            "object_position": null,
            "object_fit": null,
            "grid_auto_columns": null,
            "margin": null,
            "display": null,
            "left": null
          }
        },
        "ef5919de66fc4882afa047acc1aacf04": {
          "model_module": "@jupyter-widgets/controls",
          "model_name": "FloatProgressModel",
          "state": {
            "_view_name": "ProgressView",
            "style": "IPY_MODEL_f8d9636d41bf41a4a7284f6714bc0c5c",
            "_dom_classes": [],
            "description": "Downloading: 100%",
            "_model_name": "FloatProgressModel",
            "bar_style": "success",
            "max": 434,
            "_view_module": "@jupyter-widgets/controls",
            "_model_module_version": "1.5.0",
            "value": 434,
            "_view_count": null,
            "_view_module_version": "1.5.0",
            "orientation": "horizontal",
            "min": 0,
            "description_tooltip": null,
            "_model_module": "@jupyter-widgets/controls",
            "layout": "IPY_MODEL_d1c4ee2cdc21423ca07b29c37b39e36b"
          }
        },
        "2cd028c32d7d431a972b121a5f84ca6e": {
          "model_module": "@jupyter-widgets/controls",
          "model_name": "HTMLModel",
          "state": {
            "_view_name": "HTMLView",
            "style": "IPY_MODEL_8f5ce079823f4d5b9f5e65416bbc34d6",
            "_dom_classes": [],
            "description": "",
            "_model_name": "HTMLModel",
            "placeholder": "​",
            "_view_module": "@jupyter-widgets/controls",
            "_model_module_version": "1.5.0",
            "value": " 434/434 [00:02&lt;00:00, 181B/s]",
            "_view_count": null,
            "_view_module_version": "1.5.0",
            "description_tooltip": null,
            "_model_module": "@jupyter-widgets/controls",
            "layout": "IPY_MODEL_8334dcec42f946a79dcc2756fccf6f2b"
          }
        },
        "f8d9636d41bf41a4a7284f6714bc0c5c": {
          "model_module": "@jupyter-widgets/controls",
          "model_name": "ProgressStyleModel",
          "state": {
            "_view_name": "StyleView",
            "_model_name": "ProgressStyleModel",
            "description_width": "initial",
            "_view_module": "@jupyter-widgets/base",
            "_model_module_version": "1.5.0",
            "_view_count": null,
            "_view_module_version": "1.2.0",
            "bar_color": null,
            "_model_module": "@jupyter-widgets/controls"
          }
        },
        "d1c4ee2cdc21423ca07b29c37b39e36b": {
          "model_module": "@jupyter-widgets/base",
          "model_name": "LayoutModel",
          "state": {
            "_view_name": "LayoutView",
            "grid_template_rows": null,
            "right": null,
            "justify_content": null,
            "_view_module": "@jupyter-widgets/base",
            "overflow": null,
            "_model_module_version": "1.2.0",
            "_view_count": null,
            "flex_flow": null,
            "width": null,
            "min_width": null,
            "border": null,
            "align_items": null,
            "bottom": null,
            "_model_module": "@jupyter-widgets/base",
            "top": null,
            "grid_column": null,
            "overflow_y": null,
            "overflow_x": null,
            "grid_auto_flow": null,
            "grid_area": null,
            "grid_template_columns": null,
            "flex": null,
            "_model_name": "LayoutModel",
            "justify_items": null,
            "grid_row": null,
            "max_height": null,
            "align_content": null,
            "visibility": null,
            "align_self": null,
            "height": null,
            "min_height": null,
            "padding": null,
            "grid_auto_rows": null,
            "grid_gap": null,
            "max_width": null,
            "order": null,
            "_view_module_version": "1.2.0",
            "grid_template_areas": null,
            "object_position": null,
            "object_fit": null,
            "grid_auto_columns": null,
            "margin": null,
            "display": null,
            "left": null
          }
        },
        "8f5ce079823f4d5b9f5e65416bbc34d6": {
          "model_module": "@jupyter-widgets/controls",
          "model_name": "DescriptionStyleModel",
          "state": {
            "_view_name": "StyleView",
            "_model_name": "DescriptionStyleModel",
            "description_width": "",
            "_view_module": "@jupyter-widgets/base",
            "_model_module_version": "1.5.0",
            "_view_count": null,
            "_view_module_version": "1.2.0",
            "_model_module": "@jupyter-widgets/controls"
          }
        },
        "8334dcec42f946a79dcc2756fccf6f2b": {
          "model_module": "@jupyter-widgets/base",
          "model_name": "LayoutModel",
          "state": {
            "_view_name": "LayoutView",
            "grid_template_rows": null,
            "right": null,
            "justify_content": null,
            "_view_module": "@jupyter-widgets/base",
            "overflow": null,
            "_model_module_version": "1.2.0",
            "_view_count": null,
            "flex_flow": null,
            "width": null,
            "min_width": null,
            "border": null,
            "align_items": null,
            "bottom": null,
            "_model_module": "@jupyter-widgets/base",
            "top": null,
            "grid_column": null,
            "overflow_y": null,
            "overflow_x": null,
            "grid_auto_flow": null,
            "grid_area": null,
            "grid_template_columns": null,
            "flex": null,
            "_model_name": "LayoutModel",
            "justify_items": null,
            "grid_row": null,
            "max_height": null,
            "align_content": null,
            "visibility": null,
            "align_self": null,
            "height": null,
            "min_height": null,
            "padding": null,
            "grid_auto_rows": null,
            "grid_gap": null,
            "max_width": null,
            "order": null,
            "_view_module_version": "1.2.0",
            "grid_template_areas": null,
            "object_position": null,
            "object_fit": null,
            "grid_auto_columns": null,
            "margin": null,
            "display": null,
            "left": null
          }
        },
        "ec98d4dd3f7e428b95c02d148c10a127": {
          "model_module": "@jupyter-widgets/controls",
          "model_name": "HBoxModel",
          "state": {
            "_view_name": "HBoxView",
            "_dom_classes": [],
            "_model_name": "HBoxModel",
            "_view_module": "@jupyter-widgets/controls",
            "_model_module_version": "1.5.0",
            "_view_count": null,
            "_view_module_version": "1.5.0",
            "box_style": "",
            "layout": "IPY_MODEL_2885876d1f6b420a96e9ebd7360d0d00",
            "_model_module": "@jupyter-widgets/controls",
            "children": [
              "IPY_MODEL_e74064b07e984f7fbb7b7db6401610e0",
              "IPY_MODEL_0116d4b1f3fe40b9a85b0fdcc289be9a"
            ]
          }
        },
        "2885876d1f6b420a96e9ebd7360d0d00": {
          "model_module": "@jupyter-widgets/base",
          "model_name": "LayoutModel",
          "state": {
            "_view_name": "LayoutView",
            "grid_template_rows": null,
            "right": null,
            "justify_content": null,
            "_view_module": "@jupyter-widgets/base",
            "overflow": null,
            "_model_module_version": "1.2.0",
            "_view_count": null,
            "flex_flow": null,
            "width": null,
            "min_width": null,
            "border": null,
            "align_items": null,
            "bottom": null,
            "_model_module": "@jupyter-widgets/base",
            "top": null,
            "grid_column": null,
            "overflow_y": null,
            "overflow_x": null,
            "grid_auto_flow": null,
            "grid_area": null,
            "grid_template_columns": null,
            "flex": null,
            "_model_name": "LayoutModel",
            "justify_items": null,
            "grid_row": null,
            "max_height": null,
            "align_content": null,
            "visibility": null,
            "align_self": null,
            "height": null,
            "min_height": null,
            "padding": null,
            "grid_auto_rows": null,
            "grid_gap": null,
            "max_width": null,
            "order": null,
            "_view_module_version": "1.2.0",
            "grid_template_areas": null,
            "object_position": null,
            "object_fit": null,
            "grid_auto_columns": null,
            "margin": null,
            "display": null,
            "left": null
          }
        },
        "e74064b07e984f7fbb7b7db6401610e0": {
          "model_module": "@jupyter-widgets/controls",
          "model_name": "FloatProgressModel",
          "state": {
            "_view_name": "ProgressView",
            "style": "IPY_MODEL_20d29d90a6b84fc29d7819309a7d6c1b",
            "_dom_classes": [],
            "description": "Downloading: 100%",
            "_model_name": "FloatProgressModel",
            "bar_style": "success",
            "max": 1215509,
            "_view_module": "@jupyter-widgets/controls",
            "_model_module_version": "1.5.0",
            "value": 1215509,
            "_view_count": null,
            "_view_module_version": "1.5.0",
            "orientation": "horizontal",
            "min": 0,
            "description_tooltip": null,
            "_model_module": "@jupyter-widgets/controls",
            "layout": "IPY_MODEL_7136d60167c5413a8028988a59cdd455"
          }
        },
        "0116d4b1f3fe40b9a85b0fdcc289be9a": {
          "model_module": "@jupyter-widgets/controls",
          "model_name": "HTMLModel",
          "state": {
            "_view_name": "HTMLView",
            "style": "IPY_MODEL_f8fe0e71510d45de8d2713fdd8c91640",
            "_dom_classes": [],
            "description": "",
            "_model_name": "HTMLModel",
            "placeholder": "​",
            "_view_module": "@jupyter-widgets/controls",
            "_model_module_version": "1.5.0",
            "value": " 1.22M/1.22M [00:01&lt;00:00, 738kB/s]",
            "_view_count": null,
            "_view_module_version": "1.5.0",
            "description_tooltip": null,
            "_model_module": "@jupyter-widgets/controls",
            "layout": "IPY_MODEL_a763b64942964a43808426c3a0504212"
          }
        },
        "20d29d90a6b84fc29d7819309a7d6c1b": {
          "model_module": "@jupyter-widgets/controls",
          "model_name": "ProgressStyleModel",
          "state": {
            "_view_name": "StyleView",
            "_model_name": "ProgressStyleModel",
            "description_width": "initial",
            "_view_module": "@jupyter-widgets/base",
            "_model_module_version": "1.5.0",
            "_view_count": null,
            "_view_module_version": "1.2.0",
            "bar_color": null,
            "_model_module": "@jupyter-widgets/controls"
          }
        },
        "7136d60167c5413a8028988a59cdd455": {
          "model_module": "@jupyter-widgets/base",
          "model_name": "LayoutModel",
          "state": {
            "_view_name": "LayoutView",
            "grid_template_rows": null,
            "right": null,
            "justify_content": null,
            "_view_module": "@jupyter-widgets/base",
            "overflow": null,
            "_model_module_version": "1.2.0",
            "_view_count": null,
            "flex_flow": null,
            "width": null,
            "min_width": null,
            "border": null,
            "align_items": null,
            "bottom": null,
            "_model_module": "@jupyter-widgets/base",
            "top": null,
            "grid_column": null,
            "overflow_y": null,
            "overflow_x": null,
            "grid_auto_flow": null,
            "grid_area": null,
            "grid_template_columns": null,
            "flex": null,
            "_model_name": "LayoutModel",
            "justify_items": null,
            "grid_row": null,
            "max_height": null,
            "align_content": null,
            "visibility": null,
            "align_self": null,
            "height": null,
            "min_height": null,
            "padding": null,
            "grid_auto_rows": null,
            "grid_gap": null,
            "max_width": null,
            "order": null,
            "_view_module_version": "1.2.0",
            "grid_template_areas": null,
            "object_position": null,
            "object_fit": null,
            "grid_auto_columns": null,
            "margin": null,
            "display": null,
            "left": null
          }
        },
        "f8fe0e71510d45de8d2713fdd8c91640": {
          "model_module": "@jupyter-widgets/controls",
          "model_name": "DescriptionStyleModel",
          "state": {
            "_view_name": "StyleView",
            "_model_name": "DescriptionStyleModel",
            "description_width": "",
            "_view_module": "@jupyter-widgets/base",
            "_model_module_version": "1.5.0",
            "_view_count": null,
            "_view_module_version": "1.2.0",
            "_model_module": "@jupyter-widgets/controls"
          }
        },
        "a763b64942964a43808426c3a0504212": {
          "model_module": "@jupyter-widgets/base",
          "model_name": "LayoutModel",
          "state": {
            "_view_name": "LayoutView",
            "grid_template_rows": null,
            "right": null,
            "justify_content": null,
            "_view_module": "@jupyter-widgets/base",
            "overflow": null,
            "_model_module_version": "1.2.0",
            "_view_count": null,
            "flex_flow": null,
            "width": null,
            "min_width": null,
            "border": null,
            "align_items": null,
            "bottom": null,
            "_model_module": "@jupyter-widgets/base",
            "top": null,
            "grid_column": null,
            "overflow_y": null,
            "overflow_x": null,
            "grid_auto_flow": null,
            "grid_area": null,
            "grid_template_columns": null,
            "flex": null,
            "_model_name": "LayoutModel",
            "justify_items": null,
            "grid_row": null,
            "max_height": null,
            "align_content": null,
            "visibility": null,
            "align_self": null,
            "height": null,
            "min_height": null,
            "padding": null,
            "grid_auto_rows": null,
            "grid_gap": null,
            "max_width": null,
            "order": null,
            "_view_module_version": "1.2.0",
            "grid_template_areas": null,
            "object_position": null,
            "object_fit": null,
            "grid_auto_columns": null,
            "margin": null,
            "display": null,
            "left": null
          }
        },
        "15c9fd80f0ee41febf37325ed15bdc58": {
          "model_module": "@jupyter-widgets/controls",
          "model_name": "HBoxModel",
          "state": {
            "_view_name": "HBoxView",
            "_dom_classes": [],
            "_model_name": "HBoxModel",
            "_view_module": "@jupyter-widgets/controls",
            "_model_module_version": "1.5.0",
            "_view_count": null,
            "_view_module_version": "1.5.0",
            "box_style": "",
            "layout": "IPY_MODEL_5837f29149af4ac585eb3203dab2b402",
            "_model_module": "@jupyter-widgets/controls",
            "children": [
              "IPY_MODEL_4f392d96e097402badfb78889333dcf4",
              "IPY_MODEL_ea6ce68b41db4ec2aa0e9a212ecbe005"
            ]
          }
        },
        "5837f29149af4ac585eb3203dab2b402": {
          "model_module": "@jupyter-widgets/base",
          "model_name": "LayoutModel",
          "state": {
            "_view_name": "LayoutView",
            "grid_template_rows": null,
            "right": null,
            "justify_content": null,
            "_view_module": "@jupyter-widgets/base",
            "overflow": null,
            "_model_module_version": "1.2.0",
            "_view_count": null,
            "flex_flow": null,
            "width": null,
            "min_width": null,
            "border": null,
            "align_items": null,
            "bottom": null,
            "_model_module": "@jupyter-widgets/base",
            "top": null,
            "grid_column": null,
            "overflow_y": null,
            "overflow_x": null,
            "grid_auto_flow": null,
            "grid_area": null,
            "grid_template_columns": null,
            "flex": null,
            "_model_name": "LayoutModel",
            "justify_items": null,
            "grid_row": null,
            "max_height": null,
            "align_content": null,
            "visibility": null,
            "align_self": null,
            "height": null,
            "min_height": null,
            "padding": null,
            "grid_auto_rows": null,
            "grid_gap": null,
            "max_width": null,
            "order": null,
            "_view_module_version": "1.2.0",
            "grid_template_areas": null,
            "object_position": null,
            "object_fit": null,
            "grid_auto_columns": null,
            "margin": null,
            "display": null,
            "left": null
          }
        },
        "4f392d96e097402badfb78889333dcf4": {
          "model_module": "@jupyter-widgets/controls",
          "model_name": "FloatProgressModel",
          "state": {
            "_view_name": "ProgressView",
            "style": "IPY_MODEL_7701050295054a85b05fd283c99f846e",
            "_dom_classes": [],
            "description": "Downloading: 100%",
            "_model_name": "FloatProgressModel",
            "bar_style": "success",
            "max": 1357,
            "_view_module": "@jupyter-widgets/controls",
            "_model_module_version": "1.5.0",
            "value": 1357,
            "_view_count": null,
            "_view_module_version": "1.5.0",
            "orientation": "horizontal",
            "min": 0,
            "description_tooltip": null,
            "_model_module": "@jupyter-widgets/controls",
            "layout": "IPY_MODEL_f897a4a08bb94a90b7c2f038936b3102"
          }
        },
        "ea6ce68b41db4ec2aa0e9a212ecbe005": {
          "model_module": "@jupyter-widgets/controls",
          "model_name": "HTMLModel",
          "state": {
            "_view_name": "HTMLView",
            "style": "IPY_MODEL_d3e60358c5124edb9a0d29464015b199",
            "_dom_classes": [],
            "description": "",
            "_model_name": "HTMLModel",
            "placeholder": "​",
            "_view_module": "@jupyter-widgets/controls",
            "_model_module_version": "1.5.0",
            "value": " 1.36k/1.36k [00:10&lt;00:00, 133B/s]",
            "_view_count": null,
            "_view_module_version": "1.5.0",
            "description_tooltip": null,
            "_model_module": "@jupyter-widgets/controls",
            "layout": "IPY_MODEL_324a898022de4b8199eef19ebca3ba1d"
          }
        },
        "7701050295054a85b05fd283c99f846e": {
          "model_module": "@jupyter-widgets/controls",
          "model_name": "ProgressStyleModel",
          "state": {
            "_view_name": "StyleView",
            "_model_name": "ProgressStyleModel",
            "description_width": "initial",
            "_view_module": "@jupyter-widgets/base",
            "_model_module_version": "1.5.0",
            "_view_count": null,
            "_view_module_version": "1.2.0",
            "bar_color": null,
            "_model_module": "@jupyter-widgets/controls"
          }
        },
        "f897a4a08bb94a90b7c2f038936b3102": {
          "model_module": "@jupyter-widgets/base",
          "model_name": "LayoutModel",
          "state": {
            "_view_name": "LayoutView",
            "grid_template_rows": null,
            "right": null,
            "justify_content": null,
            "_view_module": "@jupyter-widgets/base",
            "overflow": null,
            "_model_module_version": "1.2.0",
            "_view_count": null,
            "flex_flow": null,
            "width": null,
            "min_width": null,
            "border": null,
            "align_items": null,
            "bottom": null,
            "_model_module": "@jupyter-widgets/base",
            "top": null,
            "grid_column": null,
            "overflow_y": null,
            "overflow_x": null,
            "grid_auto_flow": null,
            "grid_area": null,
            "grid_template_columns": null,
            "flex": null,
            "_model_name": "LayoutModel",
            "justify_items": null,
            "grid_row": null,
            "max_height": null,
            "align_content": null,
            "visibility": null,
            "align_self": null,
            "height": null,
            "min_height": null,
            "padding": null,
            "grid_auto_rows": null,
            "grid_gap": null,
            "max_width": null,
            "order": null,
            "_view_module_version": "1.2.0",
            "grid_template_areas": null,
            "object_position": null,
            "object_fit": null,
            "grid_auto_columns": null,
            "margin": null,
            "display": null,
            "left": null
          }
        },
        "d3e60358c5124edb9a0d29464015b199": {
          "model_module": "@jupyter-widgets/controls",
          "model_name": "DescriptionStyleModel",
          "state": {
            "_view_name": "StyleView",
            "_model_name": "DescriptionStyleModel",
            "description_width": "",
            "_view_module": "@jupyter-widgets/base",
            "_model_module_version": "1.5.0",
            "_view_count": null,
            "_view_module_version": "1.2.0",
            "_model_module": "@jupyter-widgets/controls"
          }
        },
        "324a898022de4b8199eef19ebca3ba1d": {
          "model_module": "@jupyter-widgets/base",
          "model_name": "LayoutModel",
          "state": {
            "_view_name": "LayoutView",
            "grid_template_rows": null,
            "right": null,
            "justify_content": null,
            "_view_module": "@jupyter-widgets/base",
            "overflow": null,
            "_model_module_version": "1.2.0",
            "_view_count": null,
            "flex_flow": null,
            "width": null,
            "min_width": null,
            "border": null,
            "align_items": null,
            "bottom": null,
            "_model_module": "@jupyter-widgets/base",
            "top": null,
            "grid_column": null,
            "overflow_y": null,
            "overflow_x": null,
            "grid_auto_flow": null,
            "grid_area": null,
            "grid_template_columns": null,
            "flex": null,
            "_model_name": "LayoutModel",
            "justify_items": null,
            "grid_row": null,
            "max_height": null,
            "align_content": null,
            "visibility": null,
            "align_self": null,
            "height": null,
            "min_height": null,
            "padding": null,
            "grid_auto_rows": null,
            "grid_gap": null,
            "max_width": null,
            "order": null,
            "_view_module_version": "1.2.0",
            "grid_template_areas": null,
            "object_position": null,
            "object_fit": null,
            "grid_auto_columns": null,
            "margin": null,
            "display": null,
            "left": null
          }
        },
        "d07c9d79eade403f8a03b384c02e8814": {
          "model_module": "@jupyter-widgets/controls",
          "model_name": "HBoxModel",
          "state": {
            "_view_name": "HBoxView",
            "_dom_classes": [],
            "_model_name": "HBoxModel",
            "_view_module": "@jupyter-widgets/controls",
            "_model_module_version": "1.5.0",
            "_view_count": null,
            "_view_module_version": "1.5.0",
            "box_style": "",
            "layout": "IPY_MODEL_38d2db4e021847048baec2f1a57d86f0",
            "_model_module": "@jupyter-widgets/controls",
            "children": [
              "IPY_MODEL_b21708a21947480b9100c46dd8662383",
              "IPY_MODEL_8eaf9f0ebe224ad18187468fe85b1a8d"
            ]
          }
        },
        "38d2db4e021847048baec2f1a57d86f0": {
          "model_module": "@jupyter-widgets/base",
          "model_name": "LayoutModel",
          "state": {
            "_view_name": "LayoutView",
            "grid_template_rows": null,
            "right": null,
            "justify_content": null,
            "_view_module": "@jupyter-widgets/base",
            "overflow": null,
            "_model_module_version": "1.2.0",
            "_view_count": null,
            "flex_flow": null,
            "width": null,
            "min_width": null,
            "border": null,
            "align_items": null,
            "bottom": null,
            "_model_module": "@jupyter-widgets/base",
            "top": null,
            "grid_column": null,
            "overflow_y": null,
            "overflow_x": null,
            "grid_auto_flow": null,
            "grid_area": null,
            "grid_template_columns": null,
            "flex": null,
            "_model_name": "LayoutModel",
            "justify_items": null,
            "grid_row": null,
            "max_height": null,
            "align_content": null,
            "visibility": null,
            "align_self": null,
            "height": null,
            "min_height": null,
            "padding": null,
            "grid_auto_rows": null,
            "grid_gap": null,
            "max_width": null,
            "order": null,
            "_view_module_version": "1.2.0",
            "grid_template_areas": null,
            "object_position": null,
            "object_fit": null,
            "grid_auto_columns": null,
            "margin": null,
            "display": null,
            "left": null
          }
        },
        "b21708a21947480b9100c46dd8662383": {
          "model_module": "@jupyter-widgets/controls",
          "model_name": "FloatProgressModel",
          "state": {
            "_view_name": "ProgressView",
            "style": "IPY_MODEL_636e2dd5b65d43e88456cbe42d45f87c",
            "_dom_classes": [],
            "description": "Downloading: 100%",
            "_model_name": "FloatProgressModel",
            "bar_style": "success",
            "max": 651478185,
            "_view_module": "@jupyter-widgets/controls",
            "_model_module_version": "1.5.0",
            "value": 651478185,
            "_view_count": null,
            "_view_module_version": "1.5.0",
            "orientation": "horizontal",
            "min": 0,
            "description_tooltip": null,
            "_model_module": "@jupyter-widgets/controls",
            "layout": "IPY_MODEL_bba391153cf849989c54acd94b499185"
          }
        },
        "8eaf9f0ebe224ad18187468fe85b1a8d": {
          "model_module": "@jupyter-widgets/controls",
          "model_name": "HTMLModel",
          "state": {
            "_view_name": "HTMLView",
            "style": "IPY_MODEL_efec9a8a13d342108c7734da61171bcc",
            "_dom_classes": [],
            "description": "",
            "_model_name": "HTMLModel",
            "placeholder": "​",
            "_view_module": "@jupyter-widgets/controls",
            "_model_module_version": "1.5.0",
            "value": " 651M/651M [00:10&lt;00:00, 64.9MB/s]",
            "_view_count": null,
            "_view_module_version": "1.5.0",
            "description_tooltip": null,
            "_model_module": "@jupyter-widgets/controls",
            "layout": "IPY_MODEL_13b818343a214a95b11e53386f18a57d"
          }
        },
        "636e2dd5b65d43e88456cbe42d45f87c": {
          "model_module": "@jupyter-widgets/controls",
          "model_name": "ProgressStyleModel",
          "state": {
            "_view_name": "StyleView",
            "_model_name": "ProgressStyleModel",
            "description_width": "initial",
            "_view_module": "@jupyter-widgets/base",
            "_model_module_version": "1.5.0",
            "_view_count": null,
            "_view_module_version": "1.2.0",
            "bar_color": null,
            "_model_module": "@jupyter-widgets/controls"
          }
        },
        "bba391153cf849989c54acd94b499185": {
          "model_module": "@jupyter-widgets/base",
          "model_name": "LayoutModel",
          "state": {
            "_view_name": "LayoutView",
            "grid_template_rows": null,
            "right": null,
            "justify_content": null,
            "_view_module": "@jupyter-widgets/base",
            "overflow": null,
            "_model_module_version": "1.2.0",
            "_view_count": null,
            "flex_flow": null,
            "width": null,
            "min_width": null,
            "border": null,
            "align_items": null,
            "bottom": null,
            "_model_module": "@jupyter-widgets/base",
            "top": null,
            "grid_column": null,
            "overflow_y": null,
            "overflow_x": null,
            "grid_auto_flow": null,
            "grid_area": null,
            "grid_template_columns": null,
            "flex": null,
            "_model_name": "LayoutModel",
            "justify_items": null,
            "grid_row": null,
            "max_height": null,
            "align_content": null,
            "visibility": null,
            "align_self": null,
            "height": null,
            "min_height": null,
            "padding": null,
            "grid_auto_rows": null,
            "grid_gap": null,
            "max_width": null,
            "order": null,
            "_view_module_version": "1.2.0",
            "grid_template_areas": null,
            "object_position": null,
            "object_fit": null,
            "grid_auto_columns": null,
            "margin": null,
            "display": null,
            "left": null
          }
        },
        "efec9a8a13d342108c7734da61171bcc": {
          "model_module": "@jupyter-widgets/controls",
          "model_name": "DescriptionStyleModel",
          "state": {
            "_view_name": "StyleView",
            "_model_name": "DescriptionStyleModel",
            "description_width": "",
            "_view_module": "@jupyter-widgets/base",
            "_model_module_version": "1.5.0",
            "_view_count": null,
            "_view_module_version": "1.2.0",
            "_model_module": "@jupyter-widgets/controls"
          }
        },
        "13b818343a214a95b11e53386f18a57d": {
          "model_module": "@jupyter-widgets/base",
          "model_name": "LayoutModel",
          "state": {
            "_view_name": "LayoutView",
            "grid_template_rows": null,
            "right": null,
            "justify_content": null,
            "_view_module": "@jupyter-widgets/base",
            "overflow": null,
            "_model_module_version": "1.2.0",
            "_view_count": null,
            "flex_flow": null,
            "width": null,
            "min_width": null,
            "border": null,
            "align_items": null,
            "bottom": null,
            "_model_module": "@jupyter-widgets/base",
            "top": null,
            "grid_column": null,
            "overflow_y": null,
            "overflow_x": null,
            "grid_auto_flow": null,
            "grid_area": null,
            "grid_template_columns": null,
            "flex": null,
            "_model_name": "LayoutModel",
            "justify_items": null,
            "grid_row": null,
            "max_height": null,
            "align_content": null,
            "visibility": null,
            "align_self": null,
            "height": null,
            "min_height": null,
            "padding": null,
            "grid_auto_rows": null,
            "grid_gap": null,
            "max_width": null,
            "order": null,
            "_view_module_version": "1.2.0",
            "grid_template_areas": null,
            "object_position": null,
            "object_fit": null,
            "grid_auto_columns": null,
            "margin": null,
            "display": null,
            "left": null
          }
        }
      }
    }
  },
  "cells": [
    {
      "cell_type": "markdown",
      "metadata": {
        "id": "view-in-github",
        "colab_type": "text"
      },
      "source": [
        "<a href=\"https://colab.research.google.com/github/overfit-ir/persian-twitter-ner/blob/master/tokenizer.ipynb\" target=\"_parent\"><img src=\"https://colab.research.google.com/assets/colab-badge.svg\" alt=\"Open In Colab\"/></a>"
      ]
    },
    {
      "cell_type": "markdown",
      "metadata": {
        "id": "rMbgFS_xcfcf"
      },
      "source": [
        "# Setup"
      ]
    },
    {
      "cell_type": "code",
      "metadata": {
        "id": "nF-7m57sBgdp",
        "outputId": "bab32e5b-57c1-425c-8b0c-277e1697b7e7",
        "colab": {
          "base_uri": "https://localhost:8080/",
          "height": 170
        }
      },
      "source": [
        "! pip -q install transformers\n",
        "! pip -q install parsivar"
      ],
      "execution_count": 1,
      "outputs": [
        {
          "output_type": "stream",
          "text": [
            "\u001b[K     |████████████████████████████████| 1.1MB 5.5MB/s \n",
            "\u001b[K     |████████████████████████████████| 3.0MB 44.3MB/s \n",
            "\u001b[K     |████████████████████████████████| 890kB 54.7MB/s \n",
            "\u001b[K     |████████████████████████████████| 1.1MB 54.2MB/s \n",
            "\u001b[?25h  Building wheel for sacremoses (setup.py) ... \u001b[?25l\u001b[?25hdone\n",
            "\u001b[K     |████████████████████████████████| 36.2MB 83kB/s \n",
            "\u001b[K     |████████████████████████████████| 1.5MB 40.2MB/s \n",
            "\u001b[?25h  Building wheel for parsivar (setup.py) ... \u001b[?25l\u001b[?25hdone\n",
            "  Building wheel for nltk (setup.py) ... \u001b[?25l\u001b[?25hdone\n"
          ],
          "name": "stdout"
        }
      ]
    },
    {
      "cell_type": "code",
      "metadata": {
        "id": "GbAOjVTbIvjW"
      },
      "source": [
        "import torch\n",
        "from __future__ import unicode_literals\n",
        "# from hazm import *\n",
        "from parsivar import *\n",
        "from pprint import pprint\n",
        "import torch\n",
        "import numpy as np\n",
        "import pandas as pd\n",
        "from datetime import datetime\n",
        "from scipy import spatial\n",
        "from transformers import AutoConfig, AutoTokenizer, AutoModel, AutoModelForTokenClassification\n",
        "import re\n",
        "parsivar_tokenizer = Tokenizer()\n",
        "parsivar_normalizer = Normalizer()"
      ],
      "execution_count": 2,
      "outputs": []
    },
    {
      "cell_type": "code",
      "metadata": {
        "id": "ZZAJwNKuIwLN",
        "outputId": "3d8c2e51-0036-4683-97a5-1567bb130a05",
        "colab": {
          "base_uri": "https://localhost:8080/",
          "height": 230,
          "referenced_widgets": [
            "464c4d397834491280c5a55ab2533dd4",
            "a3ff4eead46e44f9b4295d1b1b5914ac",
            "ef5919de66fc4882afa047acc1aacf04",
            "2cd028c32d7d431a972b121a5f84ca6e",
            "f8d9636d41bf41a4a7284f6714bc0c5c",
            "d1c4ee2cdc21423ca07b29c37b39e36b",
            "8f5ce079823f4d5b9f5e65416bbc34d6",
            "8334dcec42f946a79dcc2756fccf6f2b",
            "ec98d4dd3f7e428b95c02d148c10a127",
            "2885876d1f6b420a96e9ebd7360d0d00",
            "e74064b07e984f7fbb7b7db6401610e0",
            "0116d4b1f3fe40b9a85b0fdcc289be9a",
            "20d29d90a6b84fc29d7819309a7d6c1b",
            "7136d60167c5413a8028988a59cdd455",
            "f8fe0e71510d45de8d2713fdd8c91640",
            "a763b64942964a43808426c3a0504212",
            "15c9fd80f0ee41febf37325ed15bdc58",
            "5837f29149af4ac585eb3203dab2b402",
            "4f392d96e097402badfb78889333dcf4",
            "ea6ce68b41db4ec2aa0e9a212ecbe005",
            "7701050295054a85b05fd283c99f846e",
            "f897a4a08bb94a90b7c2f038936b3102",
            "d3e60358c5124edb9a0d29464015b199",
            "324a898022de4b8199eef19ebca3ba1d",
            "d07c9d79eade403f8a03b384c02e8814",
            "38d2db4e021847048baec2f1a57d86f0",
            "b21708a21947480b9100c46dd8662383",
            "8eaf9f0ebe224ad18187468fe85b1a8d",
            "636e2dd5b65d43e88456cbe42d45f87c",
            "bba391153cf849989c54acd94b499185",
            "efec9a8a13d342108c7734da61171bcc",
            "13b818343a214a95b11e53386f18a57d"
          ]
        }
      },
      "source": [
        "tokenizer = AutoTokenizer.from_pretrained(\"HooshvareLab/bert-base-parsbert-uncased\")\n",
        "# tokenizer = AutoTokenizer.from_pretrained(\"HooshvareLab/bert-base-parsbert-ner-uncased\")\n",
        "model = AutoModelForTokenClassification.from_pretrained(\"HooshvareLab/bert-base-parsbert-ner-uncased\")\n",
        "model.eval()\n",
        "print()"
      ],
      "execution_count": 3,
      "outputs": [
        {
          "output_type": "display_data",
          "data": {
            "application/vnd.jupyter.widget-view+json": {
              "model_id": "464c4d397834491280c5a55ab2533dd4",
              "version_minor": 0,
              "version_major": 2
            },
            "text/plain": [
              "HBox(children=(FloatProgress(value=0.0, description='Downloading', max=434.0, style=ProgressStyle(description_…"
            ]
          },
          "metadata": {
            "tags": []
          }
        },
        {
          "output_type": "stream",
          "text": [
            "\n"
          ],
          "name": "stdout"
        },
        {
          "output_type": "display_data",
          "data": {
            "application/vnd.jupyter.widget-view+json": {
              "model_id": "ec98d4dd3f7e428b95c02d148c10a127",
              "version_minor": 0,
              "version_major": 2
            },
            "text/plain": [
              "HBox(children=(FloatProgress(value=0.0, description='Downloading', max=1215509.0, style=ProgressStyle(descript…"
            ]
          },
          "metadata": {
            "tags": []
          }
        },
        {
          "output_type": "stream",
          "text": [
            "\n"
          ],
          "name": "stdout"
        },
        {
          "output_type": "display_data",
          "data": {
            "application/vnd.jupyter.widget-view+json": {
              "model_id": "15c9fd80f0ee41febf37325ed15bdc58",
              "version_minor": 0,
              "version_major": 2
            },
            "text/plain": [
              "HBox(children=(FloatProgress(value=0.0, description='Downloading', max=1357.0, style=ProgressStyle(description…"
            ]
          },
          "metadata": {
            "tags": []
          }
        },
        {
          "output_type": "stream",
          "text": [
            "\n"
          ],
          "name": "stdout"
        },
        {
          "output_type": "display_data",
          "data": {
            "application/vnd.jupyter.widget-view+json": {
              "model_id": "d07c9d79eade403f8a03b384c02e8814",
              "version_minor": 0,
              "version_major": 2
            },
            "text/plain": [
              "HBox(children=(FloatProgress(value=0.0, description='Downloading', max=651478185.0, style=ProgressStyle(descri…"
            ]
          },
          "metadata": {
            "tags": []
          }
        },
        {
          "output_type": "stream",
          "text": [
            "\n",
            "\n"
          ],
          "name": "stdout"
        }
      ]
    },
    {
      "cell_type": "markdown",
      "metadata": {
        "id": "h_5tgmwqch8n"
      },
      "source": [
        "# **Tokenize**"
      ]
    },
    {
      "cell_type": "markdown",
      "metadata": {
        "id": "DIODPTLFdAzn"
      },
      "source": [
        "### Example"
      ]
    },
    {
      "cell_type": "code",
      "metadata": {
        "id": "zQ5WxSUoaZP3"
      },
      "source": [
        "tweet_example = \"\"\" بابا بیخیال :)) همون سال اتلتیکو با گل افساید به بایرن رفت فینال.\n",
        "\n",
        "مشکل داوری نداشتیم اون بازی که میگی.\n",
        "فصل قبلش هم ۴ ۰ با هاینکس زدیم شما رو\n",
        "\"\"\"\n",
        "\n",
        "tweet_example2 = \"\"\"\n",
        " محسن رضایی هم یک جوان ۲۶،۲۷ ساله بوده\n",
        "مدیریت جنگ با مدیریت فعلی کشور که اکثرا افراد لیبرابی هستن که در جنگ هیچ نقشی نداشتن و یا نهایتا پشت جبهه مشغول بودن قابل مقایسه نیست\n",
        "\n",
        "\"\"\"\n",
        "\n",
        "tweet_example3 = \"\"\"\n",
        "سلام\n",
        "خواهر من فکر کنم دو سالی سرفه امانش را بریده بود.خیلی کارها کرد برای درمانش اما درست نشد که نشد. کرونا هم که شروع شد، خیلی نگرانش بودیم. \n",
        "چند روز پیش با چند تا نیش زنبور عسل به اصطلاح زنبور درمانی کرد و با کمال تعجب دیگه سرفه نمی کنه.\n",
        "\n",
        "\"\"\""
      ],
      "execution_count": 4,
      "outputs": []
    },
    {
      "cell_type": "code",
      "metadata": {
        "id": "CE2zhzuFQnNG",
        "outputId": "977a0d41-73bc-4c78-ae12-c51b8b7eae21",
        "colab": {
          "base_uri": "https://localhost:8080/",
          "height": 986
        }
      },
      "source": [
        "input_sentence = tokenizer.tokenize(tweet_example3)\n",
        "for token in input_sentence:\n",
        "  print(token)"
      ],
      "execution_count": 5,
      "outputs": [
        {
          "output_type": "stream",
          "text": [
            "سلام\n",
            "خواهر\n",
            "من\n",
            "فکر\n",
            "کنم\n",
            "دو\n",
            "سالی\n",
            "سرفه\n",
            "امانش\n",
            "را\n",
            "بریده\n",
            "بود\n",
            ".\n",
            "خیلی\n",
            "کارها\n",
            "کرد\n",
            "برای\n",
            "درمانش\n",
            "اما\n",
            "درست\n",
            "نشد\n",
            "که\n",
            "نشد\n",
            ".\n",
            "کرونا\n",
            "هم\n",
            "که\n",
            "شروع\n",
            "شد\n",
            "،\n",
            "خیلی\n",
            "نگرانش\n",
            "بودیم\n",
            ".\n",
            "چند\n",
            "روز\n",
            "پیش\n",
            "با\n",
            "چند\n",
            "تا\n",
            "نیش\n",
            "زنبور\n",
            "عسل\n",
            "به\n",
            "اصطلاح\n",
            "زنبور\n",
            "درمانی\n",
            "کرد\n",
            "و\n",
            "با\n",
            "کمال\n",
            "تعجب\n",
            "دیگه\n",
            "سرفه\n",
            "نمی\n",
            "کنه\n",
            ".\n"
          ],
          "name": "stdout"
        }
      ]
    },
    {
      "cell_type": "code",
      "metadata": {
        "id": "kO4g0ZuCN9WM",
        "outputId": "c75734a6-5938-4fde-f454-dfcfb8fd5c95",
        "colab": {
          "base_uri": "https://localhost:8080/",
          "height": 935
        }
      },
      "source": [
        "for token in parsivar_tokenizer.tokenize_words(parsivar_normalizer.normalize(tweet_example3)):\n",
        "  print(token)"
      ],
      "execution_count": 6,
      "outputs": [
        {
          "output_type": "stream",
          "text": [
            "سلام\n",
            "خواهر\n",
            "من\n",
            "فکر\n",
            "کنم\n",
            "دو\n",
            "سالی\n",
            "سرفه\n",
            "امانش\n",
            "را\n",
            "بریده‌بود\n",
            ".\n",
            "خیلی\n",
            "کارها\n",
            "کرد\n",
            "برای\n",
            "درمانش\n",
            "اما\n",
            "درست\n",
            "نشد\n",
            "که\n",
            "نشد\n",
            ".\n",
            "کرونا\n",
            "هم\n",
            "که\n",
            "شروع\n",
            "شد\n",
            "،\n",
            "خیلی\n",
            "نگرانش‌بودیم\n",
            ".\n",
            "چند\n",
            "روز\n",
            "پیش\n",
            "با\n",
            "چند\n",
            "تا\n",
            "نیش\n",
            "زنبور\n",
            "عسل\n",
            "به\n",
            "اصطلاح\n",
            "زنبور\n",
            "درمانی\n",
            "کرد\n",
            "و\n",
            "با\n",
            "کمال\n",
            "تعجب\n",
            "دیگه\n",
            "سرفه\n",
            "نمی‌کنه\n",
            ".\n"
          ],
          "name": "stdout"
        }
      ]
    },
    {
      "cell_type": "markdown",
      "metadata": {
        "id": "CmwTpkbxdEGv"
      },
      "source": [
        "### Tokenize All tweets"
      ]
    },
    {
      "cell_type": "code",
      "metadata": {
        "id": "naQ5Dy8tdN4M",
        "outputId": "96f20879-ce58-47cf-9293-cbb47b166488",
        "colab": {
          "base_uri": "https://localhost:8080/",
          "height": 224
        }
      },
      "source": [
        "! wget \"https://raw.githubusercontent.com/overfit-ir/persian-twitter-ner/master/twitter_data/extracted_data.txt\""
      ],
      "execution_count": 7,
      "outputs": [
        {
          "output_type": "stream",
          "text": [
            "--2020-10-19 06:17:41--  https://raw.githubusercontent.com/overfit-ir/persian-twitter-ner/master/twitter_data/extracted_data.txt\n",
            "Resolving raw.githubusercontent.com (raw.githubusercontent.com)... 151.101.0.133, 151.101.64.133, 151.101.128.133, ...\n",
            "Connecting to raw.githubusercontent.com (raw.githubusercontent.com)|151.101.0.133|:443... connected.\n",
            "HTTP request sent, awaiting response... 200 OK\n",
            "Length: 2698436 (2.6M) [text/plain]\n",
            "Saving to: ‘extracted_data.txt’\n",
            "\n",
            "extracted_data.txt  100%[===================>]   2.57M  16.6MB/s    in 0.2s    \n",
            "\n",
            "2020-10-19 06:17:42 (16.6 MB/s) - ‘extracted_data.txt’ saved [2698436/2698436]\n",
            "\n"
          ],
          "name": "stdout"
        }
      ]
    },
    {
      "cell_type": "code",
      "metadata": {
        "id": "01jhD-R-dXsn",
        "outputId": "509ade4e-32e4-4509-a193-0b6a4777bb5d",
        "colab": {
          "base_uri": "https://localhost:8080/",
          "height": 697
        }
      },
      "source": [
        "! head -n 40 extracted_data.txt"
      ],
      "execution_count": 8,
      "outputs": [
        {
          "output_type": "stream",
          "text": [
            "خرداد ۱۳۹۹ «کیهان» میراث سناتور مصطفی مصباح‌زاده ۷۸ ساله شد \n",
            "کیهان لندن تنها رسانه‌ ایرانی در تبعید است که «از جنگ دوم جهانی تاکنون قدمت و یک مؤسسه‌ غصب ‌شده در تهران» دارد.\n",
            "\n",
            "\n",
            "\n",
            "**************\n",
            "\n",
            "چهارمین قهرمانی فلومیننسه در برزیل:  \n",
            "\n",
            "**************\n",
            "\n",
            "زندگی_سلام\n",
            " کوراسائو، بلیز، سیشل و نائورو!\n",
            "‌\n",
            " خراسان_ورزشی ‌\n",
            "‌دو بی انضباطی و دو واکنش متفاوت از فرهاد\n",
            " سرخ های پایتخت در اندیشه دبل \n",
            "\n",
            "**************\n",
            "\n",
            "سال ۲۰۱۳ را سالی که در آن بایرن همه جام های ممکن را برد. \n",
            "و حالا ۲۰۲۰ تکرار کسب تمامی عناوین ممکن.\n",
            "لیگ_قهرمانان\n",
            "بوندس_لیگا\n",
            "جام_حذفی_آلمان \n",
            "سوپرکاپ_اروپا\n",
            "( سال ۲۰۱۳ ، قهرمان جام باشگاههای جهان) \n",
            "\n",
            "**************\n",
            "\n",
            " زین سرای بی کَسی ، کَس مجو\n",
            "محنت عاشقی ز بی کَس  مجو \n",
            "\n",
            "طرب عاشقانه ایی روا دار کنون \n",
            "به کَس و بی کَس  کنون عشق مجو \n",
            "\n",
            "مجتبی_الوندی\n",
            "\n",
            "\n",
            "**************\n"
          ],
          "name": "stdout"
        }
      ]
    },
    {
      "cell_type": "code",
      "metadata": {
        "id": "ky_SVWj-d9K5",
        "outputId": "4b99b620-2c51-4fd9-bb8e-b9ca6ea69603",
        "colab": {
          "base_uri": "https://localhost:8080/",
          "height": 35
        }
      },
      "source": [
        "tweets_str = \"\"\n",
        "with open(\"extracted_data.txt\") as file:\n",
        "  for line in file.readlines():\n",
        "    tweets_str += line\n",
        "tweets_str[:20]"
      ],
      "execution_count": 9,
      "outputs": [
        {
          "output_type": "execute_result",
          "data": {
            "application/vnd.google.colaboratory.intrinsic+json": {
              "type": "string"
            },
            "text/plain": [
              "'خرداد ۱۳۹۹ «کیهان» م'"
            ]
          },
          "metadata": {
            "tags": []
          },
          "execution_count": 9
        }
      ]
    },
    {
      "cell_type": "code",
      "metadata": {
        "id": "pqt4gc0LeiY7",
        "outputId": "824fcaab-e2e5-46d7-dda1-93023dc177b7",
        "colab": {
          "base_uri": "https://localhost:8080/",
          "height": 71
        }
      },
      "source": [
        "tweets = tweets_str.split(\"\\n\\n**************\\n\\n\")\n",
        "tweets[0], len(tweets)"
      ],
      "execution_count": 10,
      "outputs": [
        {
          "output_type": "execute_result",
          "data": {
            "text/plain": [
              "('خرداد ۱۳۹۹ «کیهان» میراث سناتور مصطفی مصباح\\u200cزاده ۷۸ ساله شد \\nکیهان لندن تنها رسانه\\u200c ایرانی در تبعید است که «از جنگ دوم جهانی تاکنون قدمت و یک مؤسسه\\u200c غصب \\u200cشده در تهران» دارد.\\n\\n',\n",
              " 9349)"
            ]
          },
          "metadata": {
            "tags": []
          },
          "execution_count": 10
        }
      ]
    },
    {
      "cell_type": "code",
      "metadata": {
        "id": "FyTcsd452GaG",
        "outputId": "578a2b61-7d94-421a-88c1-df2ba0c3ab16",
        "colab": {
          "base_uri": "https://localhost:8080/",
          "height": 34
        }
      },
      "source": [
        "len(tweets)"
      ],
      "execution_count": 11,
      "outputs": [
        {
          "output_type": "execute_result",
          "data": {
            "text/plain": [
              "9349"
            ]
          },
          "metadata": {
            "tags": []
          },
          "execution_count": 11
        }
      ]
    },
    {
      "cell_type": "code",
      "metadata": {
        "id": "PvVwD5co44yA",
        "outputId": "1338f32b-97ba-4866-ce5f-e4efea069f87",
        "colab": {
          "base_uri": "https://localhost:8080/",
          "height": 34
        }
      },
      "source": [
        "len(set(tweets))"
      ],
      "execution_count": 12,
      "outputs": [
        {
          "output_type": "execute_result",
          "data": {
            "text/plain": [
              "9349"
            ]
          },
          "metadata": {
            "tags": []
          },
          "execution_count": 12
        }
      ]
    },
    {
      "cell_type": "code",
      "metadata": {
        "id": "YF5A5oAge3Ec"
      },
      "source": [
        "# tweets_tokens = []\n",
        "# for tweet in tweets:\n",
        "#   tweet_tokens = tokenizer.tokenize(tweet)\n",
        "#   tweets_tokens.append(tweet_tokens)"
      ],
      "execution_count": 13,
      "outputs": []
    },
    {
      "cell_type": "code",
      "metadata": {
        "id": "y98gEM-xuoDu"
      },
      "source": [
        "tweets_tokens = []\n",
        "for tweet in tweets:\n",
        "  tweet_tokens = re.sub('[.]+[ ]?[.]+', '.', re.sub(' +', ' ',\n",
        "                                    tweet.replace('\\n', '.').\n",
        "                                    replace('_', ' ').\n",
        "                                    replace('|', ' ').\n",
        "                                    replace('/', ' ').\n",
        "                                    replace('+', ' ').\n",
        "                                    replace('[', ' ').\n",
        "                                    replace(']', ' ')))\n",
        "  tweet_tokens = parsivar_tokenizer.tokenize_words(parsivar_normalizer.normalize(tweet_tokens))\n",
        "  tweets_tokens.append(tweet_tokens)"
      ],
      "execution_count": 33,
      "outputs": []
    },
    {
      "cell_type": "code",
      "metadata": {
        "id": "JWHa4P0F97ss",
        "outputId": "ac792616-edbc-4add-b525-64221f53742c",
        "colab": {
          "base_uri": "https://localhost:8080/",
          "height": 680
        }
      },
      "source": [
        "tweets_tokens[0]"
      ],
      "execution_count": 34,
      "outputs": [
        {
          "output_type": "execute_result",
          "data": {
            "text/plain": [
              "['خرداد',\n",
              " '1399',\n",
              " '«',\n",
              " 'کیهان',\n",
              " '»',\n",
              " 'میراث',\n",
              " 'سناتور',\n",
              " 'مصطفی',\n",
              " 'مصباح\\u200cزاده',\n",
              " '78',\n",
              " 'ساله',\n",
              " 'شد',\n",
              " '.',\n",
              " 'کیهان',\n",
              " 'لندن',\n",
              " 'تنها',\n",
              " 'رسانه',\n",
              " 'ایرانی',\n",
              " 'در',\n",
              " 'تبعید',\n",
              " 'است',\n",
              " 'که',\n",
              " '«',\n",
              " 'از',\n",
              " 'جنگ',\n",
              " 'دوم',\n",
              " 'جهانی',\n",
              " 'تاکنون',\n",
              " 'قدمت',\n",
              " 'و',\n",
              " 'یک',\n",
              " 'موسسه',\n",
              " 'غصب',\n",
              " 'شده',\n",
              " 'در',\n",
              " 'تهران',\n",
              " '»',\n",
              " 'دارد',\n",
              " '.']"
            ]
          },
          "metadata": {
            "tags": []
          },
          "execution_count": 34
        }
      ]
    },
    {
      "cell_type": "code",
      "metadata": {
        "id": "5H-xsIRs5SoF",
        "outputId": "ff791541-96c1-469d-c76f-9abb33718332",
        "colab": {
          "base_uri": "https://localhost:8080/",
          "height": 34
        }
      },
      "source": [
        "counter = 0\n",
        "for i in range(1, 11):\n",
        "  with open('persian-ner-twitter-data' + str(i) + '.txt', 'w') as file:\n",
        "    if i != 10:\n",
        "      bin = tweets_tokens[(i-1)*1000:i*1000]\n",
        "    else:\n",
        "      bin = tweets_tokens[(i-1)*1000:len(tweets_tokens)]\n",
        "    for tweet_tokens in bin:\n",
        "      for token in tweet_tokens:\n",
        "        if token != '':\n",
        "          counter += 1\n",
        "          file.write(token + '\\tO\\n')\n",
        "      file.write('\\n')\n",
        "print(counter)"
      ],
      "execution_count": 35,
      "outputs": [
        {
          "output_type": "stream",
          "text": [
            "294447\n"
          ],
          "name": "stdout"
        }
      ]
    },
    {
      "cell_type": "code",
      "metadata": {
        "id": "RKtKA_oK9YZq",
        "outputId": "2c9f360e-46de-411c-a150-453f12433e90",
        "colab": {
          "base_uri": "https://localhost:8080/",
          "height": 867
        }
      },
      "source": [
        "! head -n 50 persian-ner-twitter-data1.txt"
      ],
      "execution_count": 36,
      "outputs": [
        {
          "output_type": "stream",
          "text": [
            "خرداد\tO\n",
            "1399\tO\n",
            "«\tO\n",
            "کیهان\tO\n",
            "»\tO\n",
            "میراث\tO\n",
            "سناتور\tO\n",
            "مصطفی\tO\n",
            "مصباح‌زاده\tO\n",
            "78\tO\n",
            "ساله\tO\n",
            "شد\tO\n",
            ".\tO\n",
            "کیهان\tO\n",
            "لندن\tO\n",
            "تنها\tO\n",
            "رسانه\tO\n",
            "ایرانی\tO\n",
            "در\tO\n",
            "تبعید\tO\n",
            "است\tO\n",
            "که\tO\n",
            "«\tO\n",
            "از\tO\n",
            "جنگ\tO\n",
            "دوم\tO\n",
            "جهانی\tO\n",
            "تاکنون\tO\n",
            "قدمت\tO\n",
            "و\tO\n",
            "یک\tO\n",
            "موسسه\tO\n",
            "غصب\tO\n",
            "شده\tO\n",
            "در\tO\n",
            "تهران\tO\n",
            "»\tO\n",
            "دارد\tO\n",
            ".\tO\n",
            "\n",
            "چهارمین\tO\n",
            "قهرمانی\tO\n",
            "فلومیننسه\tO\n",
            "در\tO\n",
            "برزیل\tO\n",
            ":\tO\n",
            "\n",
            "زندگی\tO\n",
            "سلام\tO\n",
            ".\tO\n"
          ],
          "name": "stdout"
        }
      ]
    },
    {
      "cell_type": "code",
      "metadata": {
        "id": "f_hcUfnU0vYv",
        "outputId": "2b39f939-04a6-4e89-d8c2-5ad35a3283c0",
        "colab": {
          "base_uri": "https://localhost:8080/",
          "height": 867
        }
      },
      "source": [
        "! head -n 50 persian-ner-twitter-data5.txt"
      ],
      "execution_count": 37,
      "outputs": [
        {
          "output_type": "stream",
          "text": [
            "دوران\tO\n",
            "دفاع\tO\n",
            "مقدس\tO\n",
            "اوج\tO\n",
            "افتخارات\tO\n",
            "ملت\tO\n",
            "ایران\tO\n",
            "است\tO\n",
            ".\tO\n",
            "مقام\tO\n",
            "معظم\tO\n",
            "رهبری\tO\n",
            ".\tO\n",
            "هفته\tO\n",
            "دفاع\tO\n",
            "مقدس\tO\n",
            ".\tO\n",
            "غبارروبی\tO\n",
            "مزار\tO\n",
            "شهدای\tO\n",
            "روستای\tO\n",
            "ارتش\tO\n",
            "آباد\tO\n",
            ".\tO\n",
            "زادگاه\tO\n",
            "شهید\tO\n",
            "طیب\tO\n",
            "حاج\tO\n",
            "رضایی\tO\n",
            ".\tO\n",
            "پنجشنبه.99\tO\n",
            "7\tO\n",
            "3\tO\n",
            "\n",
            "توییت\tO\n",
            "لری\tO\n",
            ".\tO\n",
            "هی\tO\n",
            "برار\tO\n",
            "جو\tO\n",
            "تا\tO\n",
            "بیه\tO\n",
            "هی\tO\n",
            "روزگارو\tO\n",
            "هی\tO\n",
            "چنینه\tO\n",
            ".\tO\n",
            "جا\tO\n",
            "پاییز\tO\n",
            "و\tO\n"
          ],
          "name": "stdout"
        }
      ]
    },
    {
      "cell_type": "code",
      "metadata": {
        "id": "3YnOknl81MdX",
        "outputId": "7c7ca24a-bef4-423a-acce-7b717f34094f",
        "colab": {
          "base_uri": "https://localhost:8080/",
          "height": 867
        }
      },
      "source": [
        "! head -n 50 persian-ner-twitter-data10.txt"
      ],
      "execution_count": 38,
      "outputs": [
        {
          "output_type": "stream",
          "text": [
            "خرسند\tO\n",
            ".\tO\n",
            "\n",
            "هند\tO\n",
            "در\tO\n",
            "حال\tO\n",
            "مذاکره\tO\n",
            "با\tO\n",
            "اروپا\tO\n",
            "برای\tO\n",
            "ادامه\tO\n",
            "واردات\tO\n",
            "نفت\tO\n",
            "از\tO\n",
            "ایران\tO\n",
            "علی‌رغم\tO\n",
            "تحریم‌ها\tO\n",
            "است\tO\n",
            ".«\tO\n",
            "هندوستان‌تایمز\tO\n",
            "»\tO\n",
            "نوشت\tO\n",
            ":\tO\n",
            ".\tO\n",
            "طبق\tO\n",
            "گفته\tO\n",
            "منابع\tO\n",
            "رسمی\tO\n",
            "،\tO\n",
            "هند\tO\n",
            "جدا\tO\n",
            "از\tO\n",
            "تلاش\tO\n",
            "برای\tO\n",
            "مجاب\tO\n",
            "کردن\tO\n",
            "آمریکا\tO\n",
            "مبنی\tO\n",
            "بر\tO\n",
            "اینکه\tO\n",
            "تحریم‌های\tO\n",
            "این\tO\n",
            "کشور\tO\n",
            "علیه\tO\n",
            "ایران\tO\n",
            "پس\tO\n",
            "از\tO\n",
            "خروج\tO\n",
            "از\tO\n",
            "برجام\tO\n"
          ],
          "name": "stdout"
        }
      ]
    },
    {
      "cell_type": "markdown",
      "metadata": {
        "id": "LdJu_tEFcdWo"
      },
      "source": [
        "# **Model**"
      ]
    },
    {
      "cell_type": "code",
      "metadata": {
        "id": "BWIrxhBYU-_G"
      },
      "source": [
        "from transformers import pipeline"
      ],
      "execution_count": null,
      "outputs": []
    },
    {
      "cell_type": "code",
      "metadata": {
        "id": "zcIkcJDTU_xw",
        "outputId": "f7ed8af3-60f8-44c3-9590-69c291f02be3",
        "colab": {
          "base_uri": "https://localhost:8080/",
          "height": 258
        }
      },
      "source": [
        "pars_ner = pipeline('ner', model=model, tokenizer=tokenizer)\n",
        "pars_ner(tweet_example)"
      ],
      "execution_count": null,
      "outputs": [
        {
          "output_type": "stream",
          "text": [
            "Asking to truncate to max_length but no maximum length is provided and the model has no predefined maximum length. Default to no truncation.\n"
          ],
          "name": "stderr"
        },
        {
          "output_type": "execute_result",
          "data": {
            "text/plain": [
              "[{'entity': 'B-organization',\n",
              "  'index': 8,\n",
              "  'score': 0.9995940327644348,\n",
              "  'word': 'اتلتیکو'},\n",
              " {'entity': 'B-organization',\n",
              "  'index': 13,\n",
              "  'score': 0.9972712397575378,\n",
              "  'word': 'بایرن'},\n",
              " {'entity': 'B-person',\n",
              "  'index': 31,\n",
              "  'score': 0.9915841817855835,\n",
              "  'word': 'هاینکس'}]"
            ]
          },
          "metadata": {
            "tags": []
          },
          "execution_count": 18
        }
      ]
    },
    {
      "cell_type": "code",
      "metadata": {
        "id": "GNUWDyFhS3Y4"
      },
      "source": [
        ""
      ],
      "execution_count": null,
      "outputs": []
    }
  ]
}