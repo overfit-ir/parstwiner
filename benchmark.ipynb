{
  "nbformat": 4,
  "nbformat_minor": 0,
  "metadata": {
    "colab": {
      "name": "ner-benchmark.ipynb",
      "provenance": [],
      "collapsed_sections": [
        "RTg7QMrgOzh0"
      ],
      "include_colab_link": true
    },
    "kernelspec": {
      "name": "python3",
      "display_name": "Python 3"
    },
    "widgets": {
      "application/vnd.jupyter.widget-state+json": {
        "d6509a6ca2554b4eb82649d1e3057610": {
          "model_module": "@jupyter-widgets/controls",
          "model_name": "HBoxModel",
          "state": {
            "_view_name": "HBoxView",
            "_dom_classes": [],
            "_model_name": "HBoxModel",
            "_view_module": "@jupyter-widgets/controls",
            "_model_module_version": "1.5.0",
            "_view_count": null,
            "_view_module_version": "1.5.0",
            "box_style": "",
            "layout": "IPY_MODEL_0859feab9cd741138ef7fb4c53d770e2",
            "_model_module": "@jupyter-widgets/controls",
            "children": [
              "IPY_MODEL_783b63d99c0545d18dfd352d3c7dec4f",
              "IPY_MODEL_80ab8dd537f9411ab8fe45f5fd010fe3"
            ]
          }
        },
        "0859feab9cd741138ef7fb4c53d770e2": {
          "model_module": "@jupyter-widgets/base",
          "model_name": "LayoutModel",
          "state": {
            "_view_name": "LayoutView",
            "grid_template_rows": null,
            "right": null,
            "justify_content": null,
            "_view_module": "@jupyter-widgets/base",
            "overflow": null,
            "_model_module_version": "1.2.0",
            "_view_count": null,
            "flex_flow": null,
            "width": null,
            "min_width": null,
            "border": null,
            "align_items": null,
            "bottom": null,
            "_model_module": "@jupyter-widgets/base",
            "top": null,
            "grid_column": null,
            "overflow_y": null,
            "overflow_x": null,
            "grid_auto_flow": null,
            "grid_area": null,
            "grid_template_columns": null,
            "flex": null,
            "_model_name": "LayoutModel",
            "justify_items": null,
            "grid_row": null,
            "max_height": null,
            "align_content": null,
            "visibility": null,
            "align_self": null,
            "height": null,
            "min_height": null,
            "padding": null,
            "grid_auto_rows": null,
            "grid_gap": null,
            "max_width": null,
            "order": null,
            "_view_module_version": "1.2.0",
            "grid_template_areas": null,
            "object_position": null,
            "object_fit": null,
            "grid_auto_columns": null,
            "margin": null,
            "display": null,
            "left": null
          }
        },
        "783b63d99c0545d18dfd352d3c7dec4f": {
          "model_module": "@jupyter-widgets/controls",
          "model_name": "FloatProgressModel",
          "state": {
            "_view_name": "ProgressView",
            "style": "IPY_MODEL_1a3a05f622444af7bbafe76419dbeaa5",
            "_dom_classes": [],
            "description": "Downloading: 100%",
            "_model_name": "FloatProgressModel",
            "bar_style": "success",
            "max": 1607,
            "_view_module": "@jupyter-widgets/controls",
            "_model_module_version": "1.5.0",
            "value": 1607,
            "_view_count": null,
            "_view_module_version": "1.5.0",
            "orientation": "horizontal",
            "min": 0,
            "description_tooltip": null,
            "_model_module": "@jupyter-widgets/controls",
            "layout": "IPY_MODEL_7e625070b1a84e7fb1c8d0a5844eb83c"
          }
        },
        "80ab8dd537f9411ab8fe45f5fd010fe3": {
          "model_module": "@jupyter-widgets/controls",
          "model_name": "HTMLModel",
          "state": {
            "_view_name": "HTMLView",
            "style": "IPY_MODEL_3ff461e63bba4ee8b1039f50898fb5f6",
            "_dom_classes": [],
            "description": "",
            "_model_name": "HTMLModel",
            "placeholder": "​",
            "_view_module": "@jupyter-widgets/controls",
            "_model_module_version": "1.5.0",
            "value": " 1.61k/1.61k [00:02&lt;00:00, 600B/s]",
            "_view_count": null,
            "_view_module_version": "1.5.0",
            "description_tooltip": null,
            "_model_module": "@jupyter-widgets/controls",
            "layout": "IPY_MODEL_69a8a34e27d241ce90b4e32f64824e08"
          }
        },
        "1a3a05f622444af7bbafe76419dbeaa5": {
          "model_module": "@jupyter-widgets/controls",
          "model_name": "ProgressStyleModel",
          "state": {
            "_view_name": "StyleView",
            "_model_name": "ProgressStyleModel",
            "description_width": "initial",
            "_view_module": "@jupyter-widgets/base",
            "_model_module_version": "1.5.0",
            "_view_count": null,
            "_view_module_version": "1.2.0",
            "bar_color": null,
            "_model_module": "@jupyter-widgets/controls"
          }
        },
        "7e625070b1a84e7fb1c8d0a5844eb83c": {
          "model_module": "@jupyter-widgets/base",
          "model_name": "LayoutModel",
          "state": {
            "_view_name": "LayoutView",
            "grid_template_rows": null,
            "right": null,
            "justify_content": null,
            "_view_module": "@jupyter-widgets/base",
            "overflow": null,
            "_model_module_version": "1.2.0",
            "_view_count": null,
            "flex_flow": null,
            "width": null,
            "min_width": null,
            "border": null,
            "align_items": null,
            "bottom": null,
            "_model_module": "@jupyter-widgets/base",
            "top": null,
            "grid_column": null,
            "overflow_y": null,
            "overflow_x": null,
            "grid_auto_flow": null,
            "grid_area": null,
            "grid_template_columns": null,
            "flex": null,
            "_model_name": "LayoutModel",
            "justify_items": null,
            "grid_row": null,
            "max_height": null,
            "align_content": null,
            "visibility": null,
            "align_self": null,
            "height": null,
            "min_height": null,
            "padding": null,
            "grid_auto_rows": null,
            "grid_gap": null,
            "max_width": null,
            "order": null,
            "_view_module_version": "1.2.0",
            "grid_template_areas": null,
            "object_position": null,
            "object_fit": null,
            "grid_auto_columns": null,
            "margin": null,
            "display": null,
            "left": null
          }
        },
        "3ff461e63bba4ee8b1039f50898fb5f6": {
          "model_module": "@jupyter-widgets/controls",
          "model_name": "DescriptionStyleModel",
          "state": {
            "_view_name": "StyleView",
            "_model_name": "DescriptionStyleModel",
            "description_width": "",
            "_view_module": "@jupyter-widgets/base",
            "_model_module_version": "1.5.0",
            "_view_count": null,
            "_view_module_version": "1.2.0",
            "_model_module": "@jupyter-widgets/controls"
          }
        },
        "69a8a34e27d241ce90b4e32f64824e08": {
          "model_module": "@jupyter-widgets/base",
          "model_name": "LayoutModel",
          "state": {
            "_view_name": "LayoutView",
            "grid_template_rows": null,
            "right": null,
            "justify_content": null,
            "_view_module": "@jupyter-widgets/base",
            "overflow": null,
            "_model_module_version": "1.2.0",
            "_view_count": null,
            "flex_flow": null,
            "width": null,
            "min_width": null,
            "border": null,
            "align_items": null,
            "bottom": null,
            "_model_module": "@jupyter-widgets/base",
            "top": null,
            "grid_column": null,
            "overflow_y": null,
            "overflow_x": null,
            "grid_auto_flow": null,
            "grid_area": null,
            "grid_template_columns": null,
            "flex": null,
            "_model_name": "LayoutModel",
            "justify_items": null,
            "grid_row": null,
            "max_height": null,
            "align_content": null,
            "visibility": null,
            "align_self": null,
            "height": null,
            "min_height": null,
            "padding": null,
            "grid_auto_rows": null,
            "grid_gap": null,
            "max_width": null,
            "order": null,
            "_view_module_version": "1.2.0",
            "grid_template_areas": null,
            "object_position": null,
            "object_fit": null,
            "grid_auto_columns": null,
            "margin": null,
            "display": null,
            "left": null
          }
        },
        "d99cb61eba32429990b5220d266583ed": {
          "model_module": "@jupyter-widgets/controls",
          "model_name": "HBoxModel",
          "state": {
            "_view_name": "HBoxView",
            "_dom_classes": [],
            "_model_name": "HBoxModel",
            "_view_module": "@jupyter-widgets/controls",
            "_model_module_version": "1.5.0",
            "_view_count": null,
            "_view_module_version": "1.5.0",
            "box_style": "",
            "layout": "IPY_MODEL_38179cfa134444b6a525c91ab3a5db6f",
            "_model_module": "@jupyter-widgets/controls",
            "children": [
              "IPY_MODEL_6af022f34c6b406b85b293c6ca5b11ab",
              "IPY_MODEL_e5dd8b60ca634eed9c9fbb364738a5ad"
            ]
          }
        },
        "38179cfa134444b6a525c91ab3a5db6f": {
          "model_module": "@jupyter-widgets/base",
          "model_name": "LayoutModel",
          "state": {
            "_view_name": "LayoutView",
            "grid_template_rows": null,
            "right": null,
            "justify_content": null,
            "_view_module": "@jupyter-widgets/base",
            "overflow": null,
            "_model_module_version": "1.2.0",
            "_view_count": null,
            "flex_flow": null,
            "width": null,
            "min_width": null,
            "border": null,
            "align_items": null,
            "bottom": null,
            "_model_module": "@jupyter-widgets/base",
            "top": null,
            "grid_column": null,
            "overflow_y": null,
            "overflow_x": null,
            "grid_auto_flow": null,
            "grid_area": null,
            "grid_template_columns": null,
            "flex": null,
            "_model_name": "LayoutModel",
            "justify_items": null,
            "grid_row": null,
            "max_height": null,
            "align_content": null,
            "visibility": null,
            "align_self": null,
            "height": null,
            "min_height": null,
            "padding": null,
            "grid_auto_rows": null,
            "grid_gap": null,
            "max_width": null,
            "order": null,
            "_view_module_version": "1.2.0",
            "grid_template_areas": null,
            "object_position": null,
            "object_fit": null,
            "grid_auto_columns": null,
            "margin": null,
            "display": null,
            "left": null
          }
        },
        "6af022f34c6b406b85b293c6ca5b11ab": {
          "model_module": "@jupyter-widgets/controls",
          "model_name": "FloatProgressModel",
          "state": {
            "_view_name": "ProgressView",
            "style": "IPY_MODEL_68cef0dbb1df4e799a22f69706a4efce",
            "_dom_classes": [],
            "description": "Downloading: 100%",
            "_model_name": "FloatProgressModel",
            "bar_style": "success",
            "max": 1882978,
            "_view_module": "@jupyter-widgets/controls",
            "_model_module_version": "1.5.0",
            "value": 1882978,
            "_view_count": null,
            "_view_module_version": "1.5.0",
            "orientation": "horizontal",
            "min": 0,
            "description_tooltip": null,
            "_model_module": "@jupyter-widgets/controls",
            "layout": "IPY_MODEL_05b91a0e148a454995e2f8274d683825"
          }
        },
        "e5dd8b60ca634eed9c9fbb364738a5ad": {
          "model_module": "@jupyter-widgets/controls",
          "model_name": "HTMLModel",
          "state": {
            "_view_name": "HTMLView",
            "style": "IPY_MODEL_7071e606ac8b4acf8018fc5219a28610",
            "_dom_classes": [],
            "description": "",
            "_model_name": "HTMLModel",
            "placeholder": "​",
            "_view_module": "@jupyter-widgets/controls",
            "_model_module_version": "1.5.0",
            "value": " 1.88M/1.88M [00:01&lt;00:00, 1.46MB/s]",
            "_view_count": null,
            "_view_module_version": "1.5.0",
            "description_tooltip": null,
            "_model_module": "@jupyter-widgets/controls",
            "layout": "IPY_MODEL_9ee04fa2ad414cb9a5680380c262be23"
          }
        },
        "68cef0dbb1df4e799a22f69706a4efce": {
          "model_module": "@jupyter-widgets/controls",
          "model_name": "ProgressStyleModel",
          "state": {
            "_view_name": "StyleView",
            "_model_name": "ProgressStyleModel",
            "description_width": "initial",
            "_view_module": "@jupyter-widgets/base",
            "_model_module_version": "1.5.0",
            "_view_count": null,
            "_view_module_version": "1.2.0",
            "bar_color": null,
            "_model_module": "@jupyter-widgets/controls"
          }
        },
        "05b91a0e148a454995e2f8274d683825": {
          "model_module": "@jupyter-widgets/base",
          "model_name": "LayoutModel",
          "state": {
            "_view_name": "LayoutView",
            "grid_template_rows": null,
            "right": null,
            "justify_content": null,
            "_view_module": "@jupyter-widgets/base",
            "overflow": null,
            "_model_module_version": "1.2.0",
            "_view_count": null,
            "flex_flow": null,
            "width": null,
            "min_width": null,
            "border": null,
            "align_items": null,
            "bottom": null,
            "_model_module": "@jupyter-widgets/base",
            "top": null,
            "grid_column": null,
            "overflow_y": null,
            "overflow_x": null,
            "grid_auto_flow": null,
            "grid_area": null,
            "grid_template_columns": null,
            "flex": null,
            "_model_name": "LayoutModel",
            "justify_items": null,
            "grid_row": null,
            "max_height": null,
            "align_content": null,
            "visibility": null,
            "align_self": null,
            "height": null,
            "min_height": null,
            "padding": null,
            "grid_auto_rows": null,
            "grid_gap": null,
            "max_width": null,
            "order": null,
            "_view_module_version": "1.2.0",
            "grid_template_areas": null,
            "object_position": null,
            "object_fit": null,
            "grid_auto_columns": null,
            "margin": null,
            "display": null,
            "left": null
          }
        },
        "7071e606ac8b4acf8018fc5219a28610": {
          "model_module": "@jupyter-widgets/controls",
          "model_name": "DescriptionStyleModel",
          "state": {
            "_view_name": "StyleView",
            "_model_name": "DescriptionStyleModel",
            "description_width": "",
            "_view_module": "@jupyter-widgets/base",
            "_model_module_version": "1.5.0",
            "_view_count": null,
            "_view_module_version": "1.2.0",
            "_model_module": "@jupyter-widgets/controls"
          }
        },
        "9ee04fa2ad414cb9a5680380c262be23": {
          "model_module": "@jupyter-widgets/base",
          "model_name": "LayoutModel",
          "state": {
            "_view_name": "LayoutView",
            "grid_template_rows": null,
            "right": null,
            "justify_content": null,
            "_view_module": "@jupyter-widgets/base",
            "overflow": null,
            "_model_module_version": "1.2.0",
            "_view_count": null,
            "flex_flow": null,
            "width": null,
            "min_width": null,
            "border": null,
            "align_items": null,
            "bottom": null,
            "_model_module": "@jupyter-widgets/base",
            "top": null,
            "grid_column": null,
            "overflow_y": null,
            "overflow_x": null,
            "grid_auto_flow": null,
            "grid_area": null,
            "grid_template_columns": null,
            "flex": null,
            "_model_name": "LayoutModel",
            "justify_items": null,
            "grid_row": null,
            "max_height": null,
            "align_content": null,
            "visibility": null,
            "align_self": null,
            "height": null,
            "min_height": null,
            "padding": null,
            "grid_auto_rows": null,
            "grid_gap": null,
            "max_width": null,
            "order": null,
            "_view_module_version": "1.2.0",
            "grid_template_areas": null,
            "object_position": null,
            "object_fit": null,
            "grid_auto_columns": null,
            "margin": null,
            "display": null,
            "left": null
          }
        },
        "662a55dc2f604746bad17113b07b7c85": {
          "model_module": "@jupyter-widgets/controls",
          "model_name": "HBoxModel",
          "state": {
            "_view_name": "HBoxView",
            "_dom_classes": [],
            "_model_name": "HBoxModel",
            "_view_module": "@jupyter-widgets/controls",
            "_model_module_version": "1.5.0",
            "_view_count": null,
            "_view_module_version": "1.5.0",
            "box_style": "",
            "layout": "IPY_MODEL_34ec9a733c3f4ca09a365d748c4408c6",
            "_model_module": "@jupyter-widgets/controls",
            "children": [
              "IPY_MODEL_3bb6bf71841d42b4a7f9c73f4d8c1986",
              "IPY_MODEL_39233a1b48424b4bb5b689e9894e3797"
            ]
          }
        },
        "34ec9a733c3f4ca09a365d748c4408c6": {
          "model_module": "@jupyter-widgets/base",
          "model_name": "LayoutModel",
          "state": {
            "_view_name": "LayoutView",
            "grid_template_rows": null,
            "right": null,
            "justify_content": null,
            "_view_module": "@jupyter-widgets/base",
            "overflow": null,
            "_model_module_version": "1.2.0",
            "_view_count": null,
            "flex_flow": null,
            "width": null,
            "min_width": null,
            "border": null,
            "align_items": null,
            "bottom": null,
            "_model_module": "@jupyter-widgets/base",
            "top": null,
            "grid_column": null,
            "overflow_y": null,
            "overflow_x": null,
            "grid_auto_flow": null,
            "grid_area": null,
            "grid_template_columns": null,
            "flex": null,
            "_model_name": "LayoutModel",
            "justify_items": null,
            "grid_row": null,
            "max_height": null,
            "align_content": null,
            "visibility": null,
            "align_self": null,
            "height": null,
            "min_height": null,
            "padding": null,
            "grid_auto_rows": null,
            "grid_gap": null,
            "max_width": null,
            "order": null,
            "_view_module_version": "1.2.0",
            "grid_template_areas": null,
            "object_position": null,
            "object_fit": null,
            "grid_auto_columns": null,
            "margin": null,
            "display": null,
            "left": null
          }
        },
        "3bb6bf71841d42b4a7f9c73f4d8c1986": {
          "model_module": "@jupyter-widgets/controls",
          "model_name": "FloatProgressModel",
          "state": {
            "_view_name": "ProgressView",
            "style": "IPY_MODEL_8366fe3ecb694f668d606b51809771c0",
            "_dom_classes": [],
            "description": "Downloading: 100%",
            "_model_name": "FloatProgressModel",
            "bar_style": "success",
            "max": 156,
            "_view_module": "@jupyter-widgets/controls",
            "_model_module_version": "1.5.0",
            "value": 156,
            "_view_count": null,
            "_view_module_version": "1.5.0",
            "orientation": "horizontal",
            "min": 0,
            "description_tooltip": null,
            "_model_module": "@jupyter-widgets/controls",
            "layout": "IPY_MODEL_01ddcd5ebb4844ba9e62ed6342549605"
          }
        },
        "39233a1b48424b4bb5b689e9894e3797": {
          "model_module": "@jupyter-widgets/controls",
          "model_name": "HTMLModel",
          "state": {
            "_view_name": "HTMLView",
            "style": "IPY_MODEL_8810c98935a84ae8bf04d67db2266479",
            "_dom_classes": [],
            "description": "",
            "_model_name": "HTMLModel",
            "placeholder": "​",
            "_view_module": "@jupyter-widgets/controls",
            "_model_module_version": "1.5.0",
            "value": " 156/156 [00:00&lt;00:00, 209B/s]",
            "_view_count": null,
            "_view_module_version": "1.5.0",
            "description_tooltip": null,
            "_model_module": "@jupyter-widgets/controls",
            "layout": "IPY_MODEL_e2b950d90cce4dbabce27559e7fb68c6"
          }
        },
        "8366fe3ecb694f668d606b51809771c0": {
          "model_module": "@jupyter-widgets/controls",
          "model_name": "ProgressStyleModel",
          "state": {
            "_view_name": "StyleView",
            "_model_name": "ProgressStyleModel",
            "description_width": "initial",
            "_view_module": "@jupyter-widgets/base",
            "_model_module_version": "1.5.0",
            "_view_count": null,
            "_view_module_version": "1.2.0",
            "bar_color": null,
            "_model_module": "@jupyter-widgets/controls"
          }
        },
        "01ddcd5ebb4844ba9e62ed6342549605": {
          "model_module": "@jupyter-widgets/base",
          "model_name": "LayoutModel",
          "state": {
            "_view_name": "LayoutView",
            "grid_template_rows": null,
            "right": null,
            "justify_content": null,
            "_view_module": "@jupyter-widgets/base",
            "overflow": null,
            "_model_module_version": "1.2.0",
            "_view_count": null,
            "flex_flow": null,
            "width": null,
            "min_width": null,
            "border": null,
            "align_items": null,
            "bottom": null,
            "_model_module": "@jupyter-widgets/base",
            "top": null,
            "grid_column": null,
            "overflow_y": null,
            "overflow_x": null,
            "grid_auto_flow": null,
            "grid_area": null,
            "grid_template_columns": null,
            "flex": null,
            "_model_name": "LayoutModel",
            "justify_items": null,
            "grid_row": null,
            "max_height": null,
            "align_content": null,
            "visibility": null,
            "align_self": null,
            "height": null,
            "min_height": null,
            "padding": null,
            "grid_auto_rows": null,
            "grid_gap": null,
            "max_width": null,
            "order": null,
            "_view_module_version": "1.2.0",
            "grid_template_areas": null,
            "object_position": null,
            "object_fit": null,
            "grid_auto_columns": null,
            "margin": null,
            "display": null,
            "left": null
          }
        },
        "8810c98935a84ae8bf04d67db2266479": {
          "model_module": "@jupyter-widgets/controls",
          "model_name": "DescriptionStyleModel",
          "state": {
            "_view_name": "StyleView",
            "_model_name": "DescriptionStyleModel",
            "description_width": "",
            "_view_module": "@jupyter-widgets/base",
            "_model_module_version": "1.5.0",
            "_view_count": null,
            "_view_module_version": "1.2.0",
            "_model_module": "@jupyter-widgets/controls"
          }
        },
        "e2b950d90cce4dbabce27559e7fb68c6": {
          "model_module": "@jupyter-widgets/base",
          "model_name": "LayoutModel",
          "state": {
            "_view_name": "LayoutView",
            "grid_template_rows": null,
            "right": null,
            "justify_content": null,
            "_view_module": "@jupyter-widgets/base",
            "overflow": null,
            "_model_module_version": "1.2.0",
            "_view_count": null,
            "flex_flow": null,
            "width": null,
            "min_width": null,
            "border": null,
            "align_items": null,
            "bottom": null,
            "_model_module": "@jupyter-widgets/base",
            "top": null,
            "grid_column": null,
            "overflow_y": null,
            "overflow_x": null,
            "grid_auto_flow": null,
            "grid_area": null,
            "grid_template_columns": null,
            "flex": null,
            "_model_name": "LayoutModel",
            "justify_items": null,
            "grid_row": null,
            "max_height": null,
            "align_content": null,
            "visibility": null,
            "align_self": null,
            "height": null,
            "min_height": null,
            "padding": null,
            "grid_auto_rows": null,
            "grid_gap": null,
            "max_width": null,
            "order": null,
            "_view_module_version": "1.2.0",
            "grid_template_areas": null,
            "object_position": null,
            "object_fit": null,
            "grid_auto_columns": null,
            "margin": null,
            "display": null,
            "left": null
          }
        },
        "bd61581a684e47ea8adb233ec76a6ef3": {
          "model_module": "@jupyter-widgets/controls",
          "model_name": "HBoxModel",
          "state": {
            "_view_name": "HBoxView",
            "_dom_classes": [],
            "_model_name": "HBoxModel",
            "_view_module": "@jupyter-widgets/controls",
            "_model_module_version": "1.5.0",
            "_view_count": null,
            "_view_module_version": "1.5.0",
            "box_style": "",
            "layout": "IPY_MODEL_ce23bc2c935e42849114906a47b01dde",
            "_model_module": "@jupyter-widgets/controls",
            "children": [
              "IPY_MODEL_0f5b9fbd56384bc08e79e73022c3b1bf",
              "IPY_MODEL_0f3cdcf5b64f47b2a41c03bea27bd518"
            ]
          }
        },
        "ce23bc2c935e42849114906a47b01dde": {
          "model_module": "@jupyter-widgets/base",
          "model_name": "LayoutModel",
          "state": {
            "_view_name": "LayoutView",
            "grid_template_rows": null,
            "right": null,
            "justify_content": null,
            "_view_module": "@jupyter-widgets/base",
            "overflow": null,
            "_model_module_version": "1.2.0",
            "_view_count": null,
            "flex_flow": null,
            "width": null,
            "min_width": null,
            "border": null,
            "align_items": null,
            "bottom": null,
            "_model_module": "@jupyter-widgets/base",
            "top": null,
            "grid_column": null,
            "overflow_y": null,
            "overflow_x": null,
            "grid_auto_flow": null,
            "grid_area": null,
            "grid_template_columns": null,
            "flex": null,
            "_model_name": "LayoutModel",
            "justify_items": null,
            "grid_row": null,
            "max_height": null,
            "align_content": null,
            "visibility": null,
            "align_self": null,
            "height": null,
            "min_height": null,
            "padding": null,
            "grid_auto_rows": null,
            "grid_gap": null,
            "max_width": null,
            "order": null,
            "_view_module_version": "1.2.0",
            "grid_template_areas": null,
            "object_position": null,
            "object_fit": null,
            "grid_auto_columns": null,
            "margin": null,
            "display": null,
            "left": null
          }
        },
        "0f5b9fbd56384bc08e79e73022c3b1bf": {
          "model_module": "@jupyter-widgets/controls",
          "model_name": "FloatProgressModel",
          "state": {
            "_view_name": "ProgressView",
            "style": "IPY_MODEL_af61b7649efc4ee9b707d8ccf64255eb",
            "_dom_classes": [],
            "description": "Downloading: 100%",
            "_model_name": "FloatProgressModel",
            "bar_style": "success",
            "max": 62,
            "_view_module": "@jupyter-widgets/controls",
            "_model_module_version": "1.5.0",
            "value": 62,
            "_view_count": null,
            "_view_module_version": "1.5.0",
            "orientation": "horizontal",
            "min": 0,
            "description_tooltip": null,
            "_model_module": "@jupyter-widgets/controls",
            "layout": "IPY_MODEL_3d8724ef46574a6088f9ee082c1c27e1"
          }
        },
        "0f3cdcf5b64f47b2a41c03bea27bd518": {
          "model_module": "@jupyter-widgets/controls",
          "model_name": "HTMLModel",
          "state": {
            "_view_name": "HTMLView",
            "style": "IPY_MODEL_12abd8d1d0f14c138e099db5ad2a518c",
            "_dom_classes": [],
            "description": "",
            "_model_name": "HTMLModel",
            "placeholder": "​",
            "_view_module": "@jupyter-widgets/controls",
            "_model_module_version": "1.5.0",
            "value": " 62.0/62.0 [00:00&lt;00:00, 234B/s]",
            "_view_count": null,
            "_view_module_version": "1.5.0",
            "description_tooltip": null,
            "_model_module": "@jupyter-widgets/controls",
            "layout": "IPY_MODEL_712837462230427ab5cf0ed3f2acfd54"
          }
        },
        "af61b7649efc4ee9b707d8ccf64255eb": {
          "model_module": "@jupyter-widgets/controls",
          "model_name": "ProgressStyleModel",
          "state": {
            "_view_name": "StyleView",
            "_model_name": "ProgressStyleModel",
            "description_width": "initial",
            "_view_module": "@jupyter-widgets/base",
            "_model_module_version": "1.5.0",
            "_view_count": null,
            "_view_module_version": "1.2.0",
            "bar_color": null,
            "_model_module": "@jupyter-widgets/controls"
          }
        },
        "3d8724ef46574a6088f9ee082c1c27e1": {
          "model_module": "@jupyter-widgets/base",
          "model_name": "LayoutModel",
          "state": {
            "_view_name": "LayoutView",
            "grid_template_rows": null,
            "right": null,
            "justify_content": null,
            "_view_module": "@jupyter-widgets/base",
            "overflow": null,
            "_model_module_version": "1.2.0",
            "_view_count": null,
            "flex_flow": null,
            "width": null,
            "min_width": null,
            "border": null,
            "align_items": null,
            "bottom": null,
            "_model_module": "@jupyter-widgets/base",
            "top": null,
            "grid_column": null,
            "overflow_y": null,
            "overflow_x": null,
            "grid_auto_flow": null,
            "grid_area": null,
            "grid_template_columns": null,
            "flex": null,
            "_model_name": "LayoutModel",
            "justify_items": null,
            "grid_row": null,
            "max_height": null,
            "align_content": null,
            "visibility": null,
            "align_self": null,
            "height": null,
            "min_height": null,
            "padding": null,
            "grid_auto_rows": null,
            "grid_gap": null,
            "max_width": null,
            "order": null,
            "_view_module_version": "1.2.0",
            "grid_template_areas": null,
            "object_position": null,
            "object_fit": null,
            "grid_auto_columns": null,
            "margin": null,
            "display": null,
            "left": null
          }
        },
        "12abd8d1d0f14c138e099db5ad2a518c": {
          "model_module": "@jupyter-widgets/controls",
          "model_name": "DescriptionStyleModel",
          "state": {
            "_view_name": "StyleView",
            "_model_name": "DescriptionStyleModel",
            "description_width": "",
            "_view_module": "@jupyter-widgets/base",
            "_model_module_version": "1.5.0",
            "_view_count": null,
            "_view_module_version": "1.2.0",
            "_model_module": "@jupyter-widgets/controls"
          }
        },
        "712837462230427ab5cf0ed3f2acfd54": {
          "model_module": "@jupyter-widgets/base",
          "model_name": "LayoutModel",
          "state": {
            "_view_name": "LayoutView",
            "grid_template_rows": null,
            "right": null,
            "justify_content": null,
            "_view_module": "@jupyter-widgets/base",
            "overflow": null,
            "_model_module_version": "1.2.0",
            "_view_count": null,
            "flex_flow": null,
            "width": null,
            "min_width": null,
            "border": null,
            "align_items": null,
            "bottom": null,
            "_model_module": "@jupyter-widgets/base",
            "top": null,
            "grid_column": null,
            "overflow_y": null,
            "overflow_x": null,
            "grid_auto_flow": null,
            "grid_area": null,
            "grid_template_columns": null,
            "flex": null,
            "_model_name": "LayoutModel",
            "justify_items": null,
            "grid_row": null,
            "max_height": null,
            "align_content": null,
            "visibility": null,
            "align_self": null,
            "height": null,
            "min_height": null,
            "padding": null,
            "grid_auto_rows": null,
            "grid_gap": null,
            "max_width": null,
            "order": null,
            "_view_module_version": "1.2.0",
            "grid_template_areas": null,
            "object_position": null,
            "object_fit": null,
            "grid_auto_columns": null,
            "margin": null,
            "display": null,
            "left": null
          }
        },
        "e8c275515bc24e5890fdc08eca607618": {
          "model_module": "@jupyter-widgets/controls",
          "model_name": "HBoxModel",
          "state": {
            "_view_name": "HBoxView",
            "_dom_classes": [],
            "_model_name": "HBoxModel",
            "_view_module": "@jupyter-widgets/controls",
            "_model_module_version": "1.5.0",
            "_view_count": null,
            "_view_module_version": "1.5.0",
            "box_style": "",
            "layout": "IPY_MODEL_6567f166c84a4c61b8745d57f7870aef",
            "_model_module": "@jupyter-widgets/controls",
            "children": [
              "IPY_MODEL_c9d3c8f6f8414accbbd70c681fad4d35",
              "IPY_MODEL_9bad6fe525ca43a5a883cc03215d78ee"
            ]
          }
        },
        "6567f166c84a4c61b8745d57f7870aef": {
          "model_module": "@jupyter-widgets/base",
          "model_name": "LayoutModel",
          "state": {
            "_view_name": "LayoutView",
            "grid_template_rows": null,
            "right": null,
            "justify_content": null,
            "_view_module": "@jupyter-widgets/base",
            "overflow": null,
            "_model_module_version": "1.2.0",
            "_view_count": null,
            "flex_flow": null,
            "width": null,
            "min_width": null,
            "border": null,
            "align_items": null,
            "bottom": null,
            "_model_module": "@jupyter-widgets/base",
            "top": null,
            "grid_column": null,
            "overflow_y": null,
            "overflow_x": null,
            "grid_auto_flow": null,
            "grid_area": null,
            "grid_template_columns": null,
            "flex": null,
            "_model_name": "LayoutModel",
            "justify_items": null,
            "grid_row": null,
            "max_height": null,
            "align_content": null,
            "visibility": null,
            "align_self": null,
            "height": null,
            "min_height": null,
            "padding": null,
            "grid_auto_rows": null,
            "grid_gap": null,
            "max_width": null,
            "order": null,
            "_view_module_version": "1.2.0",
            "grid_template_areas": null,
            "object_position": null,
            "object_fit": null,
            "grid_auto_columns": null,
            "margin": null,
            "display": null,
            "left": null
          }
        },
        "c9d3c8f6f8414accbbd70c681fad4d35": {
          "model_module": "@jupyter-widgets/controls",
          "model_name": "FloatProgressModel",
          "state": {
            "_view_name": "ProgressView",
            "style": "IPY_MODEL_bc03813461cb408f902a68dbff15cb95",
            "_dom_classes": [],
            "description": "Downloading: 100%",
            "_model_name": "FloatProgressModel",
            "bar_style": "success",
            "max": 72405244,
            "_view_module": "@jupyter-widgets/controls",
            "_model_module_version": "1.5.0",
            "value": 72405244,
            "_view_count": null,
            "_view_module_version": "1.5.0",
            "orientation": "horizontal",
            "min": 0,
            "description_tooltip": null,
            "_model_module": "@jupyter-widgets/controls",
            "layout": "IPY_MODEL_ed1b216c023d4649820f96de2c3d57ad"
          }
        },
        "9bad6fe525ca43a5a883cc03215d78ee": {
          "model_module": "@jupyter-widgets/controls",
          "model_name": "HTMLModel",
          "state": {
            "_view_name": "HTMLView",
            "style": "IPY_MODEL_5442c6388e734d94b563ef01118cd5af",
            "_dom_classes": [],
            "description": "",
            "_model_name": "HTMLModel",
            "placeholder": "​",
            "_view_module": "@jupyter-widgets/controls",
            "_model_module_version": "1.5.0",
            "value": " 72.4M/72.4M [00:02&lt;00:00, 25.5MB/s]",
            "_view_count": null,
            "_view_module_version": "1.5.0",
            "description_tooltip": null,
            "_model_module": "@jupyter-widgets/controls",
            "layout": "IPY_MODEL_fb346843ac984eba822d869c34092fe4"
          }
        },
        "bc03813461cb408f902a68dbff15cb95": {
          "model_module": "@jupyter-widgets/controls",
          "model_name": "ProgressStyleModel",
          "state": {
            "_view_name": "StyleView",
            "_model_name": "ProgressStyleModel",
            "description_width": "initial",
            "_view_module": "@jupyter-widgets/base",
            "_model_module_version": "1.5.0",
            "_view_count": null,
            "_view_module_version": "1.2.0",
            "bar_color": null,
            "_model_module": "@jupyter-widgets/controls"
          }
        },
        "ed1b216c023d4649820f96de2c3d57ad": {
          "model_module": "@jupyter-widgets/base",
          "model_name": "LayoutModel",
          "state": {
            "_view_name": "LayoutView",
            "grid_template_rows": null,
            "right": null,
            "justify_content": null,
            "_view_module": "@jupyter-widgets/base",
            "overflow": null,
            "_model_module_version": "1.2.0",
            "_view_count": null,
            "flex_flow": null,
            "width": null,
            "min_width": null,
            "border": null,
            "align_items": null,
            "bottom": null,
            "_model_module": "@jupyter-widgets/base",
            "top": null,
            "grid_column": null,
            "overflow_y": null,
            "overflow_x": null,
            "grid_auto_flow": null,
            "grid_area": null,
            "grid_template_columns": null,
            "flex": null,
            "_model_name": "LayoutModel",
            "justify_items": null,
            "grid_row": null,
            "max_height": null,
            "align_content": null,
            "visibility": null,
            "align_self": null,
            "height": null,
            "min_height": null,
            "padding": null,
            "grid_auto_rows": null,
            "grid_gap": null,
            "max_width": null,
            "order": null,
            "_view_module_version": "1.2.0",
            "grid_template_areas": null,
            "object_position": null,
            "object_fit": null,
            "grid_auto_columns": null,
            "margin": null,
            "display": null,
            "left": null
          }
        },
        "5442c6388e734d94b563ef01118cd5af": {
          "model_module": "@jupyter-widgets/controls",
          "model_name": "DescriptionStyleModel",
          "state": {
            "_view_name": "StyleView",
            "_model_name": "DescriptionStyleModel",
            "description_width": "",
            "_view_module": "@jupyter-widgets/base",
            "_model_module_version": "1.5.0",
            "_view_count": null,
            "_view_module_version": "1.2.0",
            "_model_module": "@jupyter-widgets/controls"
          }
        },
        "fb346843ac984eba822d869c34092fe4": {
          "model_module": "@jupyter-widgets/base",
          "model_name": "LayoutModel",
          "state": {
            "_view_name": "LayoutView",
            "grid_template_rows": null,
            "right": null,
            "justify_content": null,
            "_view_module": "@jupyter-widgets/base",
            "overflow": null,
            "_model_module_version": "1.2.0",
            "_view_count": null,
            "flex_flow": null,
            "width": null,
            "min_width": null,
            "border": null,
            "align_items": null,
            "bottom": null,
            "_model_module": "@jupyter-widgets/base",
            "top": null,
            "grid_column": null,
            "overflow_y": null,
            "overflow_x": null,
            "grid_auto_flow": null,
            "grid_area": null,
            "grid_template_columns": null,
            "flex": null,
            "_model_name": "LayoutModel",
            "justify_items": null,
            "grid_row": null,
            "max_height": null,
            "align_content": null,
            "visibility": null,
            "align_self": null,
            "height": null,
            "min_height": null,
            "padding": null,
            "grid_auto_rows": null,
            "grid_gap": null,
            "max_width": null,
            "order": null,
            "_view_module_version": "1.2.0",
            "grid_template_areas": null,
            "object_position": null,
            "object_fit": null,
            "grid_auto_columns": null,
            "margin": null,
            "display": null,
            "left": null
          }
        }
      }
    }
  },
  "cells": [
    {
      "cell_type": "markdown",
      "metadata": {
        "id": "view-in-github",
        "colab_type": "text"
      },
      "source": [
        "<a href=\"https://colab.research.google.com/github/overfit-ir/persian-twitter-ner/blob/master/benchmark.ipynb\" target=\"_parent\"><img src=\"https://colab.research.google.com/assets/colab-badge.svg\" alt=\"Open In Colab\"/></a>"
      ]
    },
    {
      "cell_type": "markdown",
      "metadata": {
        "id": "ebZsy7HYObGg"
      },
      "source": [
        "# Setup"
      ]
    },
    {
      "cell_type": "code",
      "metadata": {
        "id": "hWNzPQINXSE1",
        "colab": {
          "base_uri": "https://localhost:8080/"
        },
        "outputId": "12fccc97-992c-42e5-f5b9-578777568688"
      },
      "source": [
        "!pip -q install transformers\n",
        "!pip -q install sentencepiece\n",
        "!pip -q install nereval"
      ],
      "execution_count": 1,
      "outputs": [
        {
          "output_type": "stream",
          "text": [
            "\u001b[K     |████████████████████████████████| 1.8MB 8.5MB/s \n",
            "\u001b[K     |████████████████████████████████| 890kB 33.6MB/s \n",
            "\u001b[K     |████████████████████████████████| 2.9MB 49.4MB/s \n",
            "\u001b[?25h  Building wheel for sacremoses (setup.py) ... \u001b[?25l\u001b[?25hdone\n",
            "\u001b[K     |████████████████████████████████| 1.2MB 8.1MB/s \n",
            "\u001b[?25h"
          ],
          "name": "stdout"
        }
      ]
    },
    {
      "cell_type": "code",
      "metadata": {
        "id": "nF-7m57sBgdp"
      },
      "source": [
        "import pandas as pd\n",
        "import numpy as np\n",
        "from transformers import (\n",
        "    pipeline, \n",
        "    AutoConfig, \n",
        "    AutoTokenizer, \n",
        "    AutoModel, \n",
        "    AutoModelForTokenClassification\n",
        ")\n",
        "from pprint import pprint"
      ],
      "execution_count": 113,
      "outputs": []
    },
    {
      "cell_type": "code",
      "metadata": {
        "id": "fzRbmIoZOvs5",
        "colab": {
          "base_uri": "https://localhost:8080/",
          "height": 279,
          "referenced_widgets": [
            "d6509a6ca2554b4eb82649d1e3057610",
            "0859feab9cd741138ef7fb4c53d770e2",
            "783b63d99c0545d18dfd352d3c7dec4f",
            "80ab8dd537f9411ab8fe45f5fd010fe3",
            "1a3a05f622444af7bbafe76419dbeaa5",
            "7e625070b1a84e7fb1c8d0a5844eb83c",
            "3ff461e63bba4ee8b1039f50898fb5f6",
            "69a8a34e27d241ce90b4e32f64824e08",
            "d99cb61eba32429990b5220d266583ed",
            "38179cfa134444b6a525c91ab3a5db6f",
            "6af022f34c6b406b85b293c6ca5b11ab",
            "e5dd8b60ca634eed9c9fbb364738a5ad",
            "68cef0dbb1df4e799a22f69706a4efce",
            "05b91a0e148a454995e2f8274d683825",
            "7071e606ac8b4acf8018fc5219a28610",
            "9ee04fa2ad414cb9a5680380c262be23",
            "662a55dc2f604746bad17113b07b7c85",
            "34ec9a733c3f4ca09a365d748c4408c6",
            "3bb6bf71841d42b4a7f9c73f4d8c1986",
            "39233a1b48424b4bb5b689e9894e3797",
            "8366fe3ecb694f668d606b51809771c0",
            "01ddcd5ebb4844ba9e62ed6342549605",
            "8810c98935a84ae8bf04d67db2266479",
            "e2b950d90cce4dbabce27559e7fb68c6",
            "bd61581a684e47ea8adb233ec76a6ef3",
            "ce23bc2c935e42849114906a47b01dde",
            "0f5b9fbd56384bc08e79e73022c3b1bf",
            "0f3cdcf5b64f47b2a41c03bea27bd518",
            "af61b7649efc4ee9b707d8ccf64255eb",
            "3d8724ef46574a6088f9ee082c1c27e1",
            "12abd8d1d0f14c138e099db5ad2a518c",
            "712837462230427ab5cf0ed3f2acfd54",
            "e8c275515bc24e5890fdc08eca607618",
            "6567f166c84a4c61b8745d57f7870aef",
            "c9d3c8f6f8414accbbd70c681fad4d35",
            "9bad6fe525ca43a5a883cc03215d78ee",
            "bc03813461cb408f902a68dbff15cb95",
            "ed1b216c023d4649820f96de2c3d57ad",
            "5442c6388e734d94b563ef01118cd5af",
            "fb346843ac984eba822d869c34092fe4"
          ]
        },
        "outputId": "e2859e32-6e2e-44d9-9585-df728aaf0c22"
      },
      "source": [
        "tokenizer = AutoTokenizer.from_pretrained(\"m3hrdadfi/albert-fa-base-v2-ner\")\n",
        "model = AutoModelForTokenClassification.from_pretrained(\"m3hrdadfi/albert-fa-base-v2-ner\")\n",
        "model.eval()\n",
        "print()"
      ],
      "execution_count": 3,
      "outputs": [
        {
          "output_type": "display_data",
          "data": {
            "application/vnd.jupyter.widget-view+json": {
              "model_id": "d6509a6ca2554b4eb82649d1e3057610",
              "version_minor": 0,
              "version_major": 2
            },
            "text/plain": [
              "HBox(children=(FloatProgress(value=0.0, description='Downloading', max=1607.0, style=ProgressStyle(description…"
            ]
          },
          "metadata": {
            "tags": []
          }
        },
        {
          "output_type": "stream",
          "text": [
            "\n"
          ],
          "name": "stdout"
        },
        {
          "output_type": "display_data",
          "data": {
            "application/vnd.jupyter.widget-view+json": {
              "model_id": "d99cb61eba32429990b5220d266583ed",
              "version_minor": 0,
              "version_major": 2
            },
            "text/plain": [
              "HBox(children=(FloatProgress(value=0.0, description='Downloading', max=1882978.0, style=ProgressStyle(descript…"
            ]
          },
          "metadata": {
            "tags": []
          }
        },
        {
          "output_type": "stream",
          "text": [
            "\n"
          ],
          "name": "stdout"
        },
        {
          "output_type": "display_data",
          "data": {
            "application/vnd.jupyter.widget-view+json": {
              "model_id": "662a55dc2f604746bad17113b07b7c85",
              "version_minor": 0,
              "version_major": 2
            },
            "text/plain": [
              "HBox(children=(FloatProgress(value=0.0, description='Downloading', max=156.0, style=ProgressStyle(description_…"
            ]
          },
          "metadata": {
            "tags": []
          }
        },
        {
          "output_type": "stream",
          "text": [
            "\n"
          ],
          "name": "stdout"
        },
        {
          "output_type": "display_data",
          "data": {
            "application/vnd.jupyter.widget-view+json": {
              "model_id": "bd61581a684e47ea8adb233ec76a6ef3",
              "version_minor": 0,
              "version_major": 2
            },
            "text/plain": [
              "HBox(children=(FloatProgress(value=0.0, description='Downloading', max=62.0, style=ProgressStyle(description_w…"
            ]
          },
          "metadata": {
            "tags": []
          }
        },
        {
          "output_type": "stream",
          "text": [
            "\n"
          ],
          "name": "stdout"
        },
        {
          "output_type": "display_data",
          "data": {
            "application/vnd.jupyter.widget-view+json": {
              "model_id": "e8c275515bc24e5890fdc08eca607618",
              "version_minor": 0,
              "version_major": 2
            },
            "text/plain": [
              "HBox(children=(FloatProgress(value=0.0, description='Downloading', max=72405244.0, style=ProgressStyle(descrip…"
            ]
          },
          "metadata": {
            "tags": []
          }
        },
        {
          "output_type": "stream",
          "text": [
            "\n",
            "\n"
          ],
          "name": "stdout"
        }
      ]
    },
    {
      "cell_type": "code",
      "metadata": {
        "id": "cNoJRziHaqEx"
      },
      "source": [
        "albert_ner = pipeline('ner', model=model, tokenizer=tokenizer, ignore_labels=[])"
      ],
      "execution_count": 76,
      "outputs": []
    },
    {
      "cell_type": "code",
      "metadata": {
        "id": "M1Awb1uBEExX",
        "colab": {
          "base_uri": "https://localhost:8080/"
        },
        "outputId": "0844e8e6-99bb-44c6-a506-e6703e3539c5"
      },
      "source": [
        "! rm -rf data\n",
        "! wget -q --show-progress https://raw.githubusercontent.com/overfit-ir/persian-twitter-ner/master/twitter_data/persian-ner-twitter-data/persian-ner-twitter-data{1..10}.txt\n",
        "! mkdir data && mv persian-ner* data/"
      ],
      "execution_count": 5,
      "outputs": [
        {
          "output_type": "stream",
          "text": [
            "persian-ner-twitter 100%[===================>] 276.22K  --.-KB/s    in 0.02s   \n",
            "persian-ner-twitter 100%[===================>] 245.48K  --.-KB/s    in 0.01s   \n",
            "persian-ner-twitter 100%[===================>] 308.37K  --.-KB/s    in 0.01s   \n",
            "persian-ner-twitter 100%[===================>] 226.92K  --.-KB/s    in 0.009s  \n",
            "persian-ner-twitter 100%[===================>] 296.95K  --.-KB/s    in 0.01s   \n",
            "persian-ner-twitter 100%[===================>] 217.98K  --.-KB/s    in 0.008s  \n",
            "persian-ner-twitter 100%[===================>] 287.11K  --.-KB/s    in 0.01s   \n",
            "persian-ner-twitter 100%[===================>] 263.38K  --.-KB/s    in 0.009s  \n",
            "persian-ner-twitter 100%[===================>] 298.06K  --.-KB/s    in 0.009s  \n",
            "persian-ner-twitter 100%[===================>] 103.19K  --.-KB/s    in 0.002s  \n"
          ],
          "name": "stdout"
        }
      ]
    },
    {
      "cell_type": "markdown",
      "metadata": {
        "id": "D6_zKUcGOlCU"
      },
      "source": [
        "# Convert to Text"
      ]
    },
    {
      "cell_type": "code",
      "metadata": {
        "id": "qJtW5DROJJSl"
      },
      "source": [
        "from pathlib import Path\n",
        "import re\n",
        "\n",
        "def convert_lines_to_text(file_path):\n",
        "    file_path = Path(file_path)\n",
        "\n",
        "    raw_text = file_path.read_text().strip()\n",
        "    raw_docs = re.split(r'\\n\\t?\\n', raw_text)\n",
        "    token_docs = []\n",
        "    tag_docs = []\n",
        "    for doc in raw_docs:\n",
        "        tokens = []\n",
        "        tags = []\n",
        "        for line in doc.split('\\n'):\n",
        "            token, tag = line.split('\\t')\n",
        "            tokens.append(token)\n",
        "            tags.append(tag)\n",
        "        token_docs.append(tokens)\n",
        "        tag_docs.append(tags)\n",
        "\n",
        "    return token_docs, tag_docs"
      ],
      "execution_count": 6,
      "outputs": []
    },
    {
      "cell_type": "code",
      "metadata": {
        "id": "i9Q5H5PXOqf7"
      },
      "source": [
        "texts, tags = convert_lines_to_text('data/persian-ner-twitter-data1.txt')"
      ],
      "execution_count": 7,
      "outputs": []
    },
    {
      "cell_type": "code",
      "metadata": {
        "colab": {
          "base_uri": "https://localhost:8080/"
        },
        "id": "z5rW0BgOQ5QS",
        "outputId": "676992ae-8748-4653-b46a-9b0a64a42ebd"
      },
      "source": [
        "for text in texts"
      ],
      "execution_count": 41,
      "outputs": [
        {
          "output_type": "stream",
          "text": [
            "['سال', '2013', 'را', 'سالی', 'که', 'در', 'آن', 'بایرن', 'همه', 'جام\\u200cهای', 'ممکن', 'را', 'برد', 'و', 'حالا', '2020', 'تکرار', 'کسب', 'تمامی', 'عناوین', 'ممکن', 'لیگ', 'قهرمانان', 'بوندس', 'لیگا', 'جام', 'حذفی', 'آلمان', 'سوپرکاپ', 'اروپا', '(', 'سال', '2013', 'قهرمان', 'جام', 'باشگاههای', 'جهان', ')']\n",
            "['O', 'O', 'O', 'O', 'O', 'O', 'O', 'B-ORG', 'O', 'O', 'O', 'O', 'O', 'O', 'O', 'O', 'O', 'O', 'O', 'O', 'O', 'B-EVE', 'I-EVE', 'B-EVE', 'I-EVE', 'B-EVE', 'I-EVE', 'I-EVE', 'B-EVE', 'I-EVE', 'O', 'O', 'O', 'B-EVE', 'I-EVE', 'I-EVE', 'I-EVE', 'O']\n"
          ],
          "name": "stdout"
        }
      ]
    },
    {
      "cell_type": "code",
      "metadata": {
        "colab": {
          "base_uri": "https://localhost:8080/",
          "height": 35
        },
        "id": "HYPvTHz3Ub1D",
        "outputId": "2b4a3217-44f5-491f-b975-db580d6e8bf1"
      },
      "source": [
        "s = ''\n",
        "for word in texts[0]:\n",
        "  s += word + ' '\n",
        "s"
      ],
      "execution_count": 90,
      "outputs": [
        {
          "output_type": "execute_result",
          "data": {
            "application/vnd.google.colaboratory.intrinsic+json": {
              "type": "string"
            },
            "text/plain": [
              "'خرداد 1399 « کیهان » میراث سناتور مصطفی مصباح\\u200cزاده 78 ساله شد کیهان لندن تنها رسانه ایرانی در تبعید است که « از جنگ دوم جهانی تاکنون قدمت و یک موسسه غصب شده در تهران » دارد '"
            ]
          },
          "metadata": {
            "tags": []
          },
          "execution_count": 90
        }
      ]
    },
    {
      "cell_type": "markdown",
      "metadata": {
        "id": "RTg7QMrgOzh0"
      },
      "source": [
        "# Benchmark"
      ]
    },
    {
      "cell_type": "code",
      "metadata": {
        "id": "jFxoYA2L_KNC"
      },
      "source": [
        "import logging\n",
        "from collections import namedtuple\n",
        "from copy import deepcopy\n",
        "\n",
        "logging.basicConfig(\n",
        "    format=\"%(asctime)s %(name)s %(levelname)s: %(message)s\",\n",
        "    datefmt=\"%Y-%m-%d %H:%M:%S\",\n",
        "    level=\"DEBUG\",\n",
        ")\n",
        "\n",
        "Entity = namedtuple(\"Entity\", \"e_type start_offset end_offset\")\n",
        "\n",
        "class Evaluator():\n",
        "\n",
        "    def __init__(self, true, pred, tags):\n",
        "        \"\"\"\n",
        "        \"\"\"\n",
        "\n",
        "        if len(true) != len(pred):\n",
        "            raise ValueError(\"Number of predicted documents does not equal true\")\n",
        "\n",
        "        self.true = true\n",
        "        self.pred = pred\n",
        "        self.tags = tags\n",
        "\n",
        "        # Setup dict into which metrics will be stored.\n",
        "\n",
        "        self.metrics_results = {\n",
        "            'correct': 0,\n",
        "            'incorrect': 0,\n",
        "            'partial': 0,\n",
        "            'missed': 0,\n",
        "            'spurious': 0,\n",
        "            'possible': 0,\n",
        "            'actual': 0,\n",
        "            'precision': 0,\n",
        "            'recall': 0,\n",
        "        }\n",
        "\n",
        "        # Copy results dict to cover the four schemes.\n",
        "\n",
        "        self.results = {\n",
        "            'strict': deepcopy(self.metrics_results),\n",
        "            'ent_type': deepcopy(self.metrics_results),\n",
        "            'partial':deepcopy(self.metrics_results),\n",
        "            'exact':deepcopy(self.metrics_results),\n",
        "            }\n",
        "\n",
        "        # Create an accumulator to store results\n",
        "\n",
        "        self.evaluation_agg_entities_type = {e: deepcopy(self.results) for e in tags}\n",
        "\n",
        "\n",
        "    def evaluate(self):\n",
        "\n",
        "        logging.info(\n",
        "            \"Imported %s predictions for %s true examples\",\n",
        "            len(self.pred), len(self.true)\n",
        "        )\n",
        "\n",
        "        for true_ents, pred_ents in zip(self.true, self.pred):\n",
        "\n",
        "            # Check that the length of the true and predicted examples are the\n",
        "            # same. This must be checked here, because another error may not\n",
        "            # be thrown if the lengths do not match.\n",
        "\n",
        "            if len(true_ents) != len(pred_ents):\n",
        "                raise ValueError(\"Prediction length does not match true example length\")\n",
        "\n",
        "            # Compute results for one message\n",
        "\n",
        "            tmp_results, tmp_agg_results = compute_metrics(\n",
        "                collect_named_entities(true_ents),\n",
        "                collect_named_entities(pred_ents),\n",
        "                self.tags\n",
        "            )\n",
        "\n",
        "            # Cycle through each result and accumulate\n",
        "\n",
        "            # TODO: Combine these loops below:\n",
        "\n",
        "            for eval_schema in self.results:\n",
        "\n",
        "                for metric in self.results[eval_schema]:\n",
        "\n",
        "                    self.results[eval_schema][metric] += tmp_results[eval_schema][metric]\n",
        "\n",
        "            # Calculate global precision and recall\n",
        "\n",
        "            self.results = compute_precision_recall_wrapper(self.results)\n",
        "\n",
        "            # Aggregate results by entity type\n",
        "\n",
        "            for e_type in self.tags:\n",
        "\n",
        "                for eval_schema in tmp_agg_results[e_type]:\n",
        "\n",
        "                    for metric in tmp_agg_results[e_type][eval_schema]:\n",
        "\n",
        "                        self.evaluation_agg_entities_type[e_type][eval_schema][metric] += tmp_agg_results[e_type][eval_schema][metric]\n",
        "\n",
        "                # Calculate precision recall at the individual entity level\n",
        "\n",
        "                self.evaluation_agg_entities_type[e_type] = compute_precision_recall_wrapper(self.evaluation_agg_entities_type[e_type])\n",
        "\n",
        "        return self.results, self.evaluation_agg_entities_type\n",
        "\n",
        "\n",
        "def collect_named_entities(tokens):\n",
        "    \"\"\"\n",
        "    Creates a list of Entity named-tuples, storing the entity type and the start and end\n",
        "    offsets of the entity.\n",
        "\n",
        "    :param tokens: a list of tags\n",
        "    :return: a list of Entity named-tuples\n",
        "    \"\"\"\n",
        "\n",
        "    named_entities = []\n",
        "    start_offset = None\n",
        "    end_offset = None\n",
        "    ent_type = None\n",
        "\n",
        "    for offset, token_tag in enumerate(tokens):\n",
        "\n",
        "        if token_tag == 'O':\n",
        "            if ent_type is not None and start_offset is not None:\n",
        "                end_offset = offset - 1\n",
        "                named_entities.append(Entity(ent_type, start_offset, end_offset))\n",
        "                start_offset = None\n",
        "                end_offset = None\n",
        "                ent_type = None\n",
        "\n",
        "        elif ent_type is None:\n",
        "            ent_type = token_tag[2:]\n",
        "            start_offset = offset\n",
        "\n",
        "        elif ent_type != token_tag[2:] or (ent_type == token_tag[2:] and token_tag[:1] == 'B'):\n",
        "\n",
        "            end_offset = offset - 1\n",
        "            named_entities.append(Entity(ent_type, start_offset, end_offset))\n",
        "\n",
        "            # start of a new entity\n",
        "            ent_type = token_tag[2:]\n",
        "            start_offset = offset\n",
        "            end_offset = None\n",
        "\n",
        "    # catches an entity that goes up until the last token\n",
        "\n",
        "    if ent_type is not None and start_offset is not None and end_offset is None:\n",
        "        named_entities.append(Entity(ent_type, start_offset, len(tokens)-1))\n",
        "\n",
        "    return named_entities\n",
        "\n",
        "\n",
        "def compute_metrics(true_named_entities, pred_named_entities, tags):\n",
        "\n",
        "\n",
        "    eval_metrics = {'correct': 0, 'incorrect': 0, 'partial': 0, 'missed': 0, 'spurious': 0, 'precision': 0, 'recall': 0}\n",
        "\n",
        "    # overall results\n",
        "    \n",
        "    evaluation = {\n",
        "        'strict': deepcopy(eval_metrics),\n",
        "        'ent_type': deepcopy(eval_metrics),\n",
        "        'partial': deepcopy(eval_metrics),\n",
        "        'exact': deepcopy(eval_metrics)\n",
        "    }\n",
        "\n",
        "    # results by entity type\n",
        "\n",
        "    evaluation_agg_entities_type = {e: deepcopy(evaluation) for e in tags}\n",
        "\n",
        "    # keep track of entities that overlapped\n",
        "\n",
        "    true_which_overlapped_with_pred = []\n",
        "\n",
        "    # Subset into only the tags that we are interested in.\n",
        "    # NOTE: we remove the tags we don't want from both the predicted and the\n",
        "    # true entities. This covers the two cases where mismatches can occur:\n",
        "    #\n",
        "    # 1) Where the model predicts a tag that is not present in the true data\n",
        "    # 2) Where there is a tag in the true data that the model is not capable of\n",
        "    # predicting.\n",
        "\n",
        "    true_named_entities = [ent for ent in true_named_entities if ent.e_type in tags]\n",
        "    pred_named_entities = [ent for ent in pred_named_entities if ent.e_type in tags]\n",
        "\n",
        "    # go through each predicted named-entity\n",
        "\n",
        "    for pred in pred_named_entities:\n",
        "        found_overlap = False\n",
        "\n",
        "        # Check each of the potential scenarios in turn. See\n",
        "        # http://www.davidsbatista.net/blog/2018/05/09/Named_Entity_Evaluation/\n",
        "        # for scenario explanation.\n",
        "\n",
        "        # Scenario I: Exact match between true and pred\n",
        "\n",
        "        if pred in true_named_entities:\n",
        "            true_which_overlapped_with_pred.append(pred)\n",
        "            evaluation['strict']['correct'] += 1\n",
        "            evaluation['ent_type']['correct'] += 1\n",
        "            evaluation['exact']['correct'] += 1\n",
        "            evaluation['partial']['correct'] += 1\n",
        "\n",
        "            # for the agg. by e_type results\n",
        "            evaluation_agg_entities_type[pred.e_type]['strict']['correct'] += 1\n",
        "            evaluation_agg_entities_type[pred.e_type]['ent_type']['correct'] += 1\n",
        "            evaluation_agg_entities_type[pred.e_type]['exact']['correct'] += 1\n",
        "            evaluation_agg_entities_type[pred.e_type]['partial']['correct'] += 1\n",
        "\n",
        "        else:\n",
        "\n",
        "            # check for overlaps with any of the true entities\n",
        "\n",
        "            for true in true_named_entities:\n",
        "\n",
        "                pred_range = range(pred.start_offset, pred.end_offset)\n",
        "                true_range = range(true.start_offset, true.end_offset)\n",
        "\n",
        "                # Scenario IV: Offsets match, but entity type is wrong\n",
        "\n",
        "                if true.start_offset == pred.start_offset and pred.end_offset == true.end_offset \\\n",
        "                        and true.e_type != pred.e_type:\n",
        "\n",
        "                    # overall results\n",
        "                    evaluation['strict']['incorrect'] += 1\n",
        "                    evaluation['ent_type']['incorrect'] += 1\n",
        "                    evaluation['partial']['correct'] += 1\n",
        "                    evaluation['exact']['correct'] += 1\n",
        "\n",
        "                    # aggregated by entity type results\n",
        "                    evaluation_agg_entities_type[true.e_type]['strict']['incorrect'] += 1\n",
        "                    evaluation_agg_entities_type[true.e_type]['ent_type']['incorrect'] += 1\n",
        "                    evaluation_agg_entities_type[true.e_type]['partial']['correct'] += 1\n",
        "                    evaluation_agg_entities_type[true.e_type]['exact']['correct'] += 1\n",
        "\n",
        "                    true_which_overlapped_with_pred.append(true)\n",
        "                    found_overlap = True\n",
        "\n",
        "                    break\n",
        "\n",
        "                # check for an overlap i.e. not exact boundary match, with true entities\n",
        "\n",
        "                elif find_overlap(true_range, pred_range):\n",
        "\n",
        "                    true_which_overlapped_with_pred.append(true)\n",
        "\n",
        "                    # Scenario V: There is an overlap (but offsets do not match\n",
        "                    # exactly), and the entity type is the same.\n",
        "                    # 2.1 overlaps with the same entity type\n",
        "\n",
        "                    if pred.e_type == true.e_type:\n",
        "\n",
        "                        # overall results\n",
        "                        evaluation['strict']['incorrect'] += 1\n",
        "                        evaluation['ent_type']['correct'] += 1\n",
        "                        evaluation['partial']['partial'] += 1\n",
        "                        evaluation['exact']['incorrect'] += 1\n",
        "\n",
        "                        # aggregated by entity type results\n",
        "                        evaluation_agg_entities_type[true.e_type]['strict']['incorrect'] += 1\n",
        "                        evaluation_agg_entities_type[true.e_type]['ent_type']['correct'] += 1\n",
        "                        evaluation_agg_entities_type[true.e_type]['partial']['partial'] += 1\n",
        "                        evaluation_agg_entities_type[true.e_type]['exact']['incorrect'] += 1\n",
        "\n",
        "                        found_overlap = True\n",
        "\n",
        "                        break\n",
        "\n",
        "                    # Scenario VI: Entities overlap, but the entity type is\n",
        "                    # different.\n",
        "\n",
        "                    else:\n",
        "                        # overall results\n",
        "                        evaluation['strict']['incorrect'] += 1\n",
        "                        evaluation['ent_type']['incorrect'] += 1\n",
        "                        evaluation['partial']['partial'] += 1\n",
        "                        evaluation['exact']['incorrect'] += 1\n",
        "\n",
        "                        # aggregated by entity type results\n",
        "                        # Results against the true entity\n",
        "\n",
        "                        evaluation_agg_entities_type[true.e_type]['strict']['incorrect'] += 1\n",
        "                        evaluation_agg_entities_type[true.e_type]['partial']['partial'] += 1\n",
        "                        evaluation_agg_entities_type[true.e_type]['ent_type']['incorrect'] += 1\n",
        "                        evaluation_agg_entities_type[true.e_type]['exact']['incorrect'] += 1\n",
        "\n",
        "                        # Results against the predicted entity\n",
        "\n",
        "                        # evaluation_agg_entities_type[pred.e_type]['strict']['spurious'] += 1\n",
        "\n",
        "                        found_overlap = True\n",
        "\n",
        "                        break\n",
        "\n",
        "            # Scenario II: Entities are spurious (i.e., over-generated).\n",
        "\n",
        "            if not found_overlap:\n",
        "\n",
        "                # Overall results\n",
        "\n",
        "                evaluation['strict']['spurious'] += 1\n",
        "                evaluation['ent_type']['spurious'] += 1\n",
        "                evaluation['partial']['spurious'] += 1\n",
        "                evaluation['exact']['spurious'] += 1\n",
        "\n",
        "                # Aggregated by entity type results\n",
        "\n",
        "                # NOTE: when pred.e_type is not found in tags\n",
        "                # or when it simply does not appear in the test set, then it is\n",
        "                # spurious, but it is not clear where to assign it at the tag\n",
        "                # level. In this case, it is applied to all target_tags\n",
        "                # found in this example. This will mean that the sum of the\n",
        "                # evaluation_agg_entities will not equal evaluation.\n",
        "\n",
        "                for true in tags:                    \n",
        "\n",
        "                    evaluation_agg_entities_type[true]['strict']['spurious'] += 1\n",
        "                    evaluation_agg_entities_type[true]['ent_type']['spurious'] += 1\n",
        "                    evaluation_agg_entities_type[true]['partial']['spurious'] += 1\n",
        "                    evaluation_agg_entities_type[true]['exact']['spurious'] += 1\n",
        "\n",
        "    # Scenario III: Entity was missed entirely.\n",
        "\n",
        "    for true in true_named_entities:\n",
        "        if true in true_which_overlapped_with_pred:\n",
        "            continue\n",
        "        else:\n",
        "            # overall results\n",
        "            evaluation['strict']['missed'] += 1\n",
        "            evaluation['ent_type']['missed'] += 1\n",
        "            evaluation['partial']['missed'] += 1\n",
        "            evaluation['exact']['missed'] += 1\n",
        "\n",
        "            # for the agg. by e_type\n",
        "            evaluation_agg_entities_type[true.e_type]['strict']['missed'] += 1\n",
        "            evaluation_agg_entities_type[true.e_type]['ent_type']['missed'] += 1\n",
        "            evaluation_agg_entities_type[true.e_type]['partial']['missed'] += 1\n",
        "            evaluation_agg_entities_type[true.e_type]['exact']['missed'] += 1\n",
        "\n",
        "    # Compute 'possible', 'actual' according to SemEval-2013 Task 9.1 on the\n",
        "    # overall results, and use these to calculate precision and recall.\n",
        "\n",
        "    for eval_type in evaluation:\n",
        "        evaluation[eval_type] = compute_actual_possible(evaluation[eval_type])\n",
        "\n",
        "    # Compute 'possible', 'actual', and precision and recall on entity level\n",
        "    # results. Start by cycling through the accumulated results.\n",
        "\n",
        "    for entity_type, entity_level in evaluation_agg_entities_type.items():\n",
        "\n",
        "        # Cycle through the evaluation types for each dict containing entity\n",
        "        # level results.\n",
        "\n",
        "        for eval_type in entity_level:\n",
        "\n",
        "            evaluation_agg_entities_type[entity_type][eval_type] = compute_actual_possible(\n",
        "                entity_level[eval_type]\n",
        "            )\n",
        "\n",
        "    return evaluation, evaluation_agg_entities_type\n",
        "\n",
        "\n",
        "def find_overlap(true_range, pred_range):\n",
        "    \"\"\"Find the overlap between two ranges\n",
        "\n",
        "    Find the overlap between two ranges. Return the overlapping values if\n",
        "    present, else return an empty set().\n",
        "\n",
        "    Examples:\n",
        "\n",
        "    >>> find_overlap((1, 2), (2, 3))\n",
        "    2\n",
        "    >>> find_overlap((1, 2), (3, 4))\n",
        "    set()\n",
        "    \"\"\"\n",
        "\n",
        "    true_set = set(true_range)\n",
        "    pred_set = set(pred_range)\n",
        "\n",
        "    overlaps = true_set.intersection(pred_set)\n",
        "\n",
        "    return overlaps\n",
        "\n",
        "\n",
        "def compute_actual_possible(results):\n",
        "    \"\"\"\n",
        "    Takes a result dict that has been output by compute metrics.\n",
        "    Returns the results dict with actual, possible populated.\n",
        "\n",
        "    When the results dicts is from partial or ent_type metrics, then\n",
        "    partial_or_type=True to ensure the right calculation is used for\n",
        "    calculating precision and recall.\n",
        "    \"\"\"\n",
        "\n",
        "    correct = results['correct']\n",
        "    incorrect = results['incorrect']\n",
        "    partial = results['partial']\n",
        "    missed = results['missed']\n",
        "    spurious = results['spurious']\n",
        "\n",
        "    # Possible: number annotations in the gold-standard which contribute to the\n",
        "    # final score\n",
        "\n",
        "    possible = correct + incorrect + partial + missed\n",
        "\n",
        "    # Actual: number of annotations produced by the NER system\n",
        "\n",
        "    actual = correct + incorrect + partial + spurious\n",
        "\n",
        "    results[\"actual\"] = actual\n",
        "    results[\"possible\"] = possible\n",
        "\n",
        "    return results\n",
        "\n",
        "\n",
        "def compute_precision_recall(results, partial_or_type=False):\n",
        "    \"\"\"\n",
        "    Takes a result dict that has been output by compute metrics.\n",
        "    Returns the results dict with precison and recall populated.\n",
        "\n",
        "    When the results dicts is from partial or ent_type metrics, then\n",
        "    partial_or_type=True to ensure the right calculation is used for\n",
        "    calculating precision and recall.\n",
        "    \"\"\"\n",
        "\n",
        "    actual = results[\"actual\"]\n",
        "    possible = results[\"possible\"]\n",
        "    partial = results['partial']\n",
        "    correct = results['correct']\n",
        "\n",
        "    if partial_or_type:\n",
        "        precision = (correct + 0.5 * partial) / actual if actual > 0 else 0\n",
        "        recall = (correct + 0.5 * partial) / possible if possible > 0 else 0\n",
        "\n",
        "    else:\n",
        "        precision = correct / actual if actual > 0 else 0\n",
        "        recall = correct / possible if possible > 0 else 0\n",
        "\n",
        "    results[\"precision\"] = precision\n",
        "    results[\"recall\"] = recall\n",
        "\n",
        "    return results\n",
        "\n",
        "\n",
        "def compute_precision_recall_wrapper(results):\n",
        "    \"\"\"\n",
        "    Wraps the compute_precision_recall function and runs on a dict of results\n",
        "    \"\"\"\n",
        "\n",
        "    results_a = {key: compute_precision_recall(value, True) for key, value in results.items() if\n",
        "                 key in ['partial', 'ent_type']}\n",
        "    results_b = {key: compute_precision_recall(value) for key, value in results.items() if\n",
        "                 key in ['strict', 'exact']}\n",
        "\n",
        "    results = {**results_a, **results_b}\n",
        "\n",
        "    return results\n"
      ],
      "execution_count": 114,
      "outputs": []
    },
    {
      "cell_type": "code",
      "metadata": {
        "id": "1hXB-4VD-zcl"
      },
      "source": [
        "def map_index2label(text, labels):\n",
        "  index2label = {}\n",
        "  start_index = 0\n",
        "  for i, word in enumerate(text):\n",
        "    end_index = start_index + len(word)\n",
        "    index2label[(start_index, end_index)] = labels[i]\n",
        "    start_index = end_index + 1\n",
        "  return index2label"
      ],
      "execution_count": 94,
      "outputs": []
    },
    {
      "cell_type": "code",
      "metadata": {
        "id": "NaLXDZ-z71tH",
        "outputId": "7058f8a4-3334-4272-cf1a-1eab1488898c",
        "colab": {
          "base_uri": "https://localhost:8080/"
        }
      },
      "source": [
        "s"
      ],
      "execution_count": 88,
      "outputs": [
        {
          "output_type": "execute_result",
          "data": {
            "text/plain": [
              "['سلام', 'من', 'آرش', 'خره', 'در', 'ایران', 'هستم']"
            ]
          },
          "metadata": {
            "tags": []
          },
          "execution_count": 88
        }
      ]
    },
    {
      "cell_type": "code",
      "metadata": {
        "id": "rZaEZlLK60dr",
        "outputId": "b03b22c0-9179-4609-a37b-f888a1f68b2d",
        "colab": {
          "base_uri": "https://localhost:8080/"
        }
      },
      "source": [
        "[item['word'].replace() for item in albert_ner(s)]\n",
        "# [item['entity'] for item in albert_ner(\"سلام من امروز خیلی خسته ام\")]"
      ],
      "execution_count": 93,
      "outputs": [
        {
          "output_type": "execute_result",
          "data": {
            "text/plain": [
              "['▁خرداد',\n",
              " '▁',\n",
              " '1399',\n",
              " '▁',\n",
              " '«',\n",
              " '▁کیهان',\n",
              " '▁',\n",
              " '»',\n",
              " '▁میراث',\n",
              " '▁سناتور',\n",
              " '▁مصطفی',\n",
              " '▁مصباح',\n",
              " '▁زاده',\n",
              " '▁',\n",
              " '78',\n",
              " '▁ساله',\n",
              " '▁شد',\n",
              " '▁کیهان',\n",
              " '▁لندن',\n",
              " '▁تنها',\n",
              " '▁رسانه',\n",
              " '▁ایرانی',\n",
              " '▁در',\n",
              " '▁تبعید',\n",
              " '▁است',\n",
              " '▁که',\n",
              " '▁',\n",
              " '«',\n",
              " '▁از',\n",
              " '▁جنگ',\n",
              " '▁دوم',\n",
              " '▁جهانی',\n",
              " '▁تاکنون',\n",
              " '▁قدمت',\n",
              " '▁و',\n",
              " '▁یک',\n",
              " '▁موسسه',\n",
              " '▁غصب',\n",
              " '▁شده',\n",
              " '▁در',\n",
              " '▁تهران',\n",
              " '▁',\n",
              " '»',\n",
              " '▁دارد']"
            ]
          },
          "metadata": {
            "tags": []
          },
          "execution_count": 93
        }
      ]
    },
    {
      "cell_type": "code",
      "metadata": {
        "id": "1rey3u-tB6_g",
        "outputId": "02d6a93c-c553-47af-e2d3-f516791ea220",
        "colab": {
          "base_uri": "https://localhost:8080/"
        }
      },
      "source": [
        "map_index2label(texts[0], tags[0])"
      ],
      "execution_count": 87,
      "outputs": [
        {
          "output_type": "execute_result",
          "data": {
            "text/plain": [
              "{(0, 5): ('خرداد', 'O'),\n",
              " (6, 10): ('1399', 'O'),\n",
              " (11, 12): ('«', 'O'),\n",
              " (13, 18): ('کیهان', 'B-ORG'),\n",
              " (19, 20): ('»', 'O'),\n",
              " (21, 26): ('میراث', 'O'),\n",
              " (27, 33): ('سناتور', 'O'),\n",
              " (34, 39): ('مصطفی', 'B-PER'),\n",
              " (40, 50): ('مصباح\\u200cزاده', 'I-PER'),\n",
              " (51, 53): ('78', 'O'),\n",
              " (54, 58): ('ساله', 'O'),\n",
              " (59, 61): ('شد', 'O'),\n",
              " (62, 67): ('کیهان', 'B-ORG'),\n",
              " (68, 72): ('لندن', 'B-LOC'),\n",
              " (73, 77): ('تنها', 'O'),\n",
              " (78, 83): ('رسانه', 'O'),\n",
              " (84, 90): ('ایرانی', 'B-NAT'),\n",
              " (91, 93): ('در', 'O'),\n",
              " (94, 99): ('تبعید', 'O'),\n",
              " (100, 103): ('است', 'O'),\n",
              " (104, 106): ('که', 'O'),\n",
              " (107, 108): ('«', 'O'),\n",
              " (109, 111): ('از', 'O'),\n",
              " (112, 115): ('جنگ', 'B-EVE'),\n",
              " (116, 119): ('دوم', 'I-EVE'),\n",
              " (120, 125): ('جهانی', 'I-EVE'),\n",
              " (126, 132): ('تاکنون', 'O'),\n",
              " (133, 137): ('قدمت', 'O'),\n",
              " (138, 139): ('و', 'O'),\n",
              " (140, 142): ('یک', 'O'),\n",
              " (143, 148): ('موسسه', 'O'),\n",
              " (149, 152): ('غصب', 'O'),\n",
              " (153, 156): ('شده', 'O'),\n",
              " (157, 159): ('در', 'O'),\n",
              " (160, 165): ('تهران', 'B-LOC'),\n",
              " (166, 167): ('»', 'O'),\n",
              " (168, 172): ('دارد', 'O')}"
            ]
          },
          "metadata": {
            "tags": []
          },
          "execution_count": 87
        }
      ]
    },
    {
      "cell_type": "code",
      "metadata": {
        "colab": {
          "base_uri": "https://localhost:8080/"
        },
        "id": "B0mq4GvFGhe2",
        "outputId": "f186ba76-8714-4376-f8c6-73d556ea1d14"
      },
      "source": [
        "print()"
      ],
      "execution_count": null,
      "outputs": [
        {
          "output_type": "stream",
          "text": [
            "خرداد 1399 « کیهان » میراث سناتور مصطفی مصباح‌زاده 78 ساله شد کیهان لندن تنها رسانه ایرانی در تبعید است که « از جنگ دوم جهانی تاکنون قدمت و یک موسسه غصب شده در تهران » دارد\n"
          ],
          "name": "stdout"
        }
      ]
    },
    {
      "cell_type": "code",
      "metadata": {
        "id": "S0H4XRRN-e4N"
      },
      "source": [
        "def benchmark(texts, labels_list, model, defined_labels_to_evaluate, tag_map):\n",
        "  y_true = []\n",
        "  y_pred = []\n",
        "  for text, labels in zip(texts, labels_list):\n",
        "    index2label_true = map_index2label(text, labels)\n",
        "    y_true += [value for key, value in index2label_true.items()]\n",
        "    model_result = model(\" \".join(text))\n",
        "    index2label_pred = {}\n",
        "    for key, value in index2label_true.items():\n",
        "      temp = []\n",
        "      for item in model_result:\n",
        "        if item['start'] >= key[0] and item['end'] <= key[1]:\n",
        "          temp.append(item['entity'])\n",
        "      index2label_pred[(key[0], key[1])] = temp[0]\n",
        "    y_pred += [ tag_map[value] for key, value in index2label_pred.items()]\n",
        "  evaluator = Evaluator([y_true], [y_pred], tags=defined_labels_to_evaluate)\n",
        "  return evaluator.evaluate()"
      ],
      "execution_count": 128,
      "outputs": []
    },
    {
      "cell_type": "code",
      "metadata": {
        "id": "E5G7sgdpJwHB",
        "outputId": "7565c617-b80a-436f-953f-1b877f3cbbd9",
        "colab": {
          "base_uri": "https://localhost:8080/"
        }
      },
      "source": [
        "  tag_map = {\n",
        "    \"B-date\": 'O',\n",
        "    \"B-event\": \"B-EVE\",\n",
        "    \"B-facility\": \"B-ORG\",\n",
        "    \"B-location\": \"B-LOC\",\n",
        "    \"B-money\": \"O\",\n",
        "    \"B-organization\": \"B-ORG\",\n",
        "    \"B-person\": \"B-PER\",\n",
        "    \"B-product\": \"O\",\n",
        "    \"B-time\": \"O\",\n",
        "    \"B-percent\": \"O\",\n",
        "    \"I-date\": \"O\",\n",
        "    \"I-event\": \"I-EVE\",\n",
        "    \"I-facility\": \"I-ORG\",\n",
        "    \"I-location\": \"I-LOC\",\n",
        "    \"I-money\": \"O\",\n",
        "    \"I-organization\": \"I-ORG\",\n",
        "    \"I-person\": \"I-PER\",\n",
        "    \"I-product\": \"O\",\n",
        "    \"I-time\": \"O\",\n",
        "    \"I-percent\": \"O\",\n",
        "    'O': 'O'\n",
        "  }\n",
        "benchmark(texts[0:20], tags[0:20], albert_ner, ['PER', 'LOC', 'ORG', 'EVE'], tag_map)"
      ],
      "execution_count": 134,
      "outputs": [
        {
          "output_type": "stream",
          "text": [
            "2021-02-04 12:47:44 root INFO: Imported 1 predictions for 1 true examples\n"
          ],
          "name": "stderr"
        },
        {
          "output_type": "execute_result",
          "data": {
            "text/plain": [
              "({'ent_type': {'actual': 42,\n",
              "   'correct': 25,\n",
              "   'incorrect': 3,\n",
              "   'missed': 22,\n",
              "   'partial': 0,\n",
              "   'possible': 50,\n",
              "   'precision': 0.5952380952380952,\n",
              "   'recall': 0.5,\n",
              "   'spurious': 14},\n",
              "  'exact': {'actual': 42,\n",
              "   'correct': 26,\n",
              "   'incorrect': 2,\n",
              "   'missed': 22,\n",
              "   'partial': 0,\n",
              "   'possible': 50,\n",
              "   'precision': 0.6190476190476191,\n",
              "   'recall': 0.52,\n",
              "   'spurious': 14},\n",
              "  'partial': {'actual': 42,\n",
              "   'correct': 26,\n",
              "   'incorrect': 0,\n",
              "   'missed': 22,\n",
              "   'partial': 2,\n",
              "   'possible': 50,\n",
              "   'precision': 0.6428571428571429,\n",
              "   'recall': 0.54,\n",
              "   'spurious': 14},\n",
              "  'strict': {'actual': 42,\n",
              "   'correct': 24,\n",
              "   'incorrect': 4,\n",
              "   'missed': 22,\n",
              "   'partial': 0,\n",
              "   'possible': 50,\n",
              "   'precision': 0.5714285714285714,\n",
              "   'recall': 0.48,\n",
              "   'spurious': 14}},\n",
              " {'EVE': {'ent_type': {'actual': 16,\n",
              "    'correct': 0,\n",
              "    'incorrect': 2,\n",
              "    'missed': 6,\n",
              "    'partial': 0,\n",
              "    'possible': 8,\n",
              "    'precision': 0.0,\n",
              "    'recall': 0.0,\n",
              "    'spurious': 14},\n",
              "   'exact': {'actual': 16,\n",
              "    'correct': 1,\n",
              "    'incorrect': 1,\n",
              "    'missed': 6,\n",
              "    'partial': 0,\n",
              "    'possible': 8,\n",
              "    'precision': 0.0625,\n",
              "    'recall': 0.125,\n",
              "    'spurious': 14},\n",
              "   'partial': {'actual': 16,\n",
              "    'correct': 1,\n",
              "    'incorrect': 0,\n",
              "    'missed': 6,\n",
              "    'partial': 1,\n",
              "    'possible': 8,\n",
              "    'precision': 0.09375,\n",
              "    'recall': 0.1875,\n",
              "    'spurious': 14},\n",
              "   'strict': {'actual': 16,\n",
              "    'correct': 0,\n",
              "    'incorrect': 2,\n",
              "    'missed': 6,\n",
              "    'partial': 0,\n",
              "    'possible': 8,\n",
              "    'precision': 0.0,\n",
              "    'recall': 0.0,\n",
              "    'spurious': 14}},\n",
              "  'LOC': {'ent_type': {'actual': 22,\n",
              "    'correct': 8,\n",
              "    'incorrect': 0,\n",
              "    'missed': 3,\n",
              "    'partial': 0,\n",
              "    'possible': 11,\n",
              "    'precision': 0.36363636363636365,\n",
              "    'recall': 0.7272727272727273,\n",
              "    'spurious': 14},\n",
              "   'exact': {'actual': 22,\n",
              "    'correct': 8,\n",
              "    'incorrect': 0,\n",
              "    'missed': 3,\n",
              "    'partial': 0,\n",
              "    'possible': 11,\n",
              "    'precision': 0.36363636363636365,\n",
              "    'recall': 0.7272727272727273,\n",
              "    'spurious': 14},\n",
              "   'partial': {'actual': 22,\n",
              "    'correct': 8,\n",
              "    'incorrect': 0,\n",
              "    'missed': 3,\n",
              "    'partial': 0,\n",
              "    'possible': 11,\n",
              "    'precision': 0.36363636363636365,\n",
              "    'recall': 0.7272727272727273,\n",
              "    'spurious': 14},\n",
              "   'strict': {'actual': 22,\n",
              "    'correct': 8,\n",
              "    'incorrect': 0,\n",
              "    'missed': 3,\n",
              "    'partial': 0,\n",
              "    'possible': 11,\n",
              "    'precision': 0.36363636363636365,\n",
              "    'recall': 0.7272727272727273,\n",
              "    'spurious': 14}},\n",
              "  'ORG': {'ent_type': {'actual': 19,\n",
              "    'correct': 4,\n",
              "    'incorrect': 1,\n",
              "    'missed': 8,\n",
              "    'partial': 0,\n",
              "    'possible': 13,\n",
              "    'precision': 0.21052631578947367,\n",
              "    'recall': 0.3076923076923077,\n",
              "    'spurious': 14},\n",
              "   'exact': {'actual': 19,\n",
              "    'correct': 5,\n",
              "    'incorrect': 0,\n",
              "    'missed': 8,\n",
              "    'partial': 0,\n",
              "    'possible': 13,\n",
              "    'precision': 0.2631578947368421,\n",
              "    'recall': 0.38461538461538464,\n",
              "    'spurious': 14},\n",
              "   'partial': {'actual': 19,\n",
              "    'correct': 5,\n",
              "    'incorrect': 0,\n",
              "    'missed': 8,\n",
              "    'partial': 0,\n",
              "    'possible': 13,\n",
              "    'precision': 0.2631578947368421,\n",
              "    'recall': 0.38461538461538464,\n",
              "    'spurious': 14},\n",
              "   'strict': {'actual': 19,\n",
              "    'correct': 4,\n",
              "    'incorrect': 1,\n",
              "    'missed': 8,\n",
              "    'partial': 0,\n",
              "    'possible': 13,\n",
              "    'precision': 0.21052631578947367,\n",
              "    'recall': 0.3076923076923077,\n",
              "    'spurious': 14}},\n",
              "  'PER': {'ent_type': {'actual': 27,\n",
              "    'correct': 13,\n",
              "    'incorrect': 0,\n",
              "    'missed': 5,\n",
              "    'partial': 0,\n",
              "    'possible': 18,\n",
              "    'precision': 0.48148148148148145,\n",
              "    'recall': 0.7222222222222222,\n",
              "    'spurious': 14},\n",
              "   'exact': {'actual': 27,\n",
              "    'correct': 12,\n",
              "    'incorrect': 1,\n",
              "    'missed': 5,\n",
              "    'partial': 0,\n",
              "    'possible': 18,\n",
              "    'precision': 0.4444444444444444,\n",
              "    'recall': 0.6666666666666666,\n",
              "    'spurious': 14},\n",
              "   'partial': {'actual': 27,\n",
              "    'correct': 12,\n",
              "    'incorrect': 0,\n",
              "    'missed': 5,\n",
              "    'partial': 1,\n",
              "    'possible': 18,\n",
              "    'precision': 0.46296296296296297,\n",
              "    'recall': 0.6944444444444444,\n",
              "    'spurious': 14},\n",
              "   'strict': {'actual': 27,\n",
              "    'correct': 12,\n",
              "    'incorrect': 1,\n",
              "    'missed': 5,\n",
              "    'partial': 0,\n",
              "    'possible': 18,\n",
              "    'precision': 0.4444444444444444,\n",
              "    'recall': 0.6666666666666666,\n",
              "    'spurious': 14}}})"
            ]
          },
          "metadata": {
            "tags": []
          },
          "execution_count": 134
        }
      ]
    },
    {
      "cell_type": "code",
      "metadata": {
        "id": "8agduFVHjskc",
        "outputId": "7ee6032e-dd87-4d25-be9a-2d9965e5b4b5",
        "colab": {
          "base_uri": "https://localhost:8080/",
          "height": 35
        }
      },
      "source": [
        "s = ['سلام', 'من', 'آرش', 'خره' , 'در' , 'ایران', 'هستم']\n",
        "' '.join(s)"
      ],
      "execution_count": 56,
      "outputs": [
        {
          "output_type": "execute_result",
          "data": {
            "application/vnd.google.colaboratory.intrinsic+json": {
              "type": "string"
            },
            "text/plain": [
              "'سلام من آرش خره در ایران هستم'"
            ]
          },
          "metadata": {
            "tags": []
          },
          "execution_count": 56
        }
      ]
    },
    {
      "cell_type": "code",
      "metadata": {
        "id": "ksa__4JhVKNI"
      },
      "source": [
        "for idx, item in enumerate(tokenizer.tokenize(s)):\n",
        "  print(item)\n",
        "  if idx < len(texts[0]):\n",
        "    print(texts[0][idx])\n",
        "  print('----------')"
      ],
      "execution_count": null,
      "outputs": []
    },
    {
      "cell_type": "code",
      "metadata": {
        "id": "QGvBPuVDbR5v",
        "colab": {
          "base_uri": "https://localhost:8080/",
          "height": 35
        },
        "outputId": "1978f542-7af5-44f4-de56-99fefbf9e91e"
      },
      "source": [
        "texts[0][]"
      ],
      "execution_count": null,
      "outputs": [
        {
          "output_type": "execute_result",
          "data": {
            "application/vnd.google.colaboratory.intrinsic+json": {
              "type": "string"
            },
            "text/plain": [
              "'1399'"
            ]
          },
          "metadata": {
            "tags": []
          },
          "execution_count": 51
        }
      ]
    },
    {
      "cell_type": "code",
      "metadata": {
        "id": "Jl_NviNlYHX_",
        "colab": {
          "base_uri": "https://localhost:8080/"
        },
        "outputId": "d876dbdb-93b3-4f8c-b5f2-ca79d3044cb0"
      },
      "source": [
        "len(\"می‌خاره\")"
      ],
      "execution_count": null,
      "outputs": [
        {
          "output_type": "execute_result",
          "data": {
            "text/plain": [
              "7"
            ]
          },
          "metadata": {
            "tags": []
          },
          "execution_count": 18
        }
      ]
    },
    {
      "cell_type": "code",
      "metadata": {
        "colab": {
          "base_uri": "https://localhost:8080/"
        },
        "id": "-F-7yXR1PYnV",
        "outputId": "3aa1c26b-0f9b-44cd-95ad-90d97cca4270"
      },
      "source": [
        "albert_ner(\"او می‌خاره مصباحزاده خره\")\n",
        "# for pred in pred_list:\n",
        "#   print(\"word:\", pred['word'])\n",
        "#   print(\"entity:\", pred['entity'])\n",
        "#   print(\"index:\", pred['index'])\n",
        "  \n",
        "#   print(\"s[start:end]:\",s[pred['start']:pred['end']])\n",
        "#   print(\"text[index]:\",texts[0][pred['index']/2])\n",
        "#   print(\"tags[index]:\",tags[0][pred['index']])\n",
        "#   print(\"-----------\")"
      ],
      "execution_count": null,
      "outputs": [
        {
          "output_type": "execute_result",
          "data": {
            "text/plain": [
              "[{'end': 16,\n",
              "  'entity': 'B-person',\n",
              "  'index': 5,\n",
              "  'score': 0.9936177730560303,\n",
              "  'start': 11,\n",
              "  'word': '▁مصباح'},\n",
              " {'end': 20,\n",
              "  'entity': 'I-person',\n",
              "  'index': 6,\n",
              "  'score': 0.8189015984535217,\n",
              "  'start': 16,\n",
              "  'word': 'زاده'}]"
            ]
          },
          "metadata": {
            "tags": []
          },
          "execution_count": 17
        }
      ]
    }
  ]
}