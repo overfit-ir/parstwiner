{
 "metadata": {
  "language_info": {
   "codemirror_mode": {
    "name": "ipython",
    "version": 3
   },
   "file_extension": ".py",
   "mimetype": "text/x-python",
   "name": "python",
   "nbconvert_exporter": "python",
   "pygments_lexer": "ipython3",
   "version": "3.8.3-final"
  },
  "orig_nbformat": 2,
  "kernelspec": {
   "name": "python3",
   "display_name": "Python 3.8.3 64-bit ('3.8.3')",
   "metadata": {
    "interpreter": {
     "hash": "d0870ed645fb27f1bd390e6a2c2d97d636644e4ac17d9620d795cd4fea4e8862"
    }
   }
  }
 },
 "nbformat": 4,
 "nbformat_minor": 2,
 "cells": [
  {
   "source": [
    "## Some Investigation on Collected Twitter Data"
   ],
   "cell_type": "markdown",
   "metadata": {}
  },
  {
   "cell_type": "code",
   "execution_count": 1,
   "metadata": {},
   "outputs": [],
   "source": [
    "import os\n",
    "\n",
    "tweets = []\n",
    "tweet = []\n",
    "with open('twitter_data/persian-ner-twitter-data/data.txt', 'r') as file:\n",
    "    for line_number, line in enumerate(file.readlines()):\n",
    "        if line != '\\n':\n",
    "            tweet.append(line.replace('\\n', '').split('\\t'))\n",
    "        else:\n",
    "            tweets.append(tweet)\n",
    "            tweet = []"
   ]
  },
  {
   "source": [
    "### Number of Tweets"
   ],
   "cell_type": "markdown",
   "metadata": {}
  },
  {
   "cell_type": "code",
   "execution_count": 2,
   "metadata": {},
   "outputs": [
    {
     "output_type": "execute_result",
     "data": {
      "text/plain": [
       "7168"
      ]
     },
     "metadata": {},
     "execution_count": 2
    }
   ],
   "source": [
    "len(tweets)"
   ]
  },
  {
   "source": [
    "### Number of Tokens"
   ],
   "cell_type": "markdown",
   "metadata": {}
  },
  {
   "cell_type": "code",
   "execution_count": 3,
   "metadata": {},
   "outputs": [
    {
     "output_type": "execute_result",
     "data": {
      "text/plain": [
       "232917"
      ]
     },
     "metadata": {},
     "execution_count": 3
    }
   ],
   "source": [
    "len([x for tweet in tweets for x in tweet ])"
   ]
  },
  {
   "cell_type": "code",
   "execution_count": 4,
   "metadata": {},
   "outputs": [
    {
     "output_type": "execute_result",
     "data": {
      "text/plain": [
       "5120"
      ]
     },
     "metadata": {},
     "execution_count": 4
    }
   ],
   "source": [
    "len([x for tweet in tweets for x in tweet if 'ORG' in x[1]])"
   ]
  },
  {
   "cell_type": "code",
   "execution_count": 5,
   "metadata": {},
   "outputs": [
    {
     "output_type": "execute_result",
     "data": {
      "text/plain": [
       "9583"
      ]
     },
     "metadata": {},
     "execution_count": 5
    }
   ],
   "source": [
    "len([x for tweet in tweets for x in tweet if 'PER' in x[1]])"
   ]
  },
  {
   "cell_type": "code",
   "execution_count": 6,
   "metadata": {},
   "outputs": [
    {
     "output_type": "execute_result",
     "data": {
      "text/plain": [
       "6675"
      ]
     },
     "metadata": {},
     "execution_count": 6
    }
   ],
   "source": [
    "len([x for tweet in tweets for x in tweet if 'LOC' in x[1]])"
   ]
  },
  {
   "cell_type": "code",
   "execution_count": 7,
   "metadata": {},
   "outputs": [
    {
     "output_type": "execute_result",
     "data": {
      "text/plain": [
       "956"
      ]
     },
     "metadata": {},
     "execution_count": 7
    }
   ],
   "source": [
    "len([x for tweet in tweets for x in tweet if 'NAT' in x[1]])"
   ]
  },
  {
   "cell_type": "code",
   "execution_count": 8,
   "metadata": {},
   "outputs": [
    {
     "output_type": "execute_result",
     "data": {
      "text/plain": [
       "1146"
      ]
     },
     "metadata": {},
     "execution_count": 8
    }
   ],
   "source": [
    "len([x for tweet in tweets for x in tweet if 'EVE' in x[1]])"
   ]
  },
  {
   "cell_type": "code",
   "execution_count": 17,
   "metadata": {},
   "outputs": [
    {
     "output_type": "execute_result",
     "data": {
      "text/plain": [
       "575"
      ]
     },
     "metadata": {},
     "execution_count": 17
    }
   ],
   "source": [
    "len([x for tweet in tweets for x in tweet if 'POG' in x[1]])"
   ]
  },
  {
   "cell_type": "code",
   "execution_count": 9,
   "metadata": {},
   "outputs": [],
   "source": [
    "length_of_tweets = [len(x) for x in tweets]"
   ]
  },
  {
   "cell_type": "code",
   "execution_count": 10,
   "metadata": {},
   "outputs": [
    {
     "output_type": "execute_result",
     "data": {
      "text/plain": [
       "32.49400111607143"
      ]
     },
     "metadata": {},
     "execution_count": 10
    }
   ],
   "source": [
    "sum(length_of_tweets)/len(length_of_tweets)"
   ]
  },
  {
   "source": [
    "### Train, Test Split"
   ],
   "cell_type": "markdown",
   "metadata": {}
  },
  {
   "cell_type": "code",
   "execution_count": 12,
   "metadata": {},
   "outputs": [],
   "source": [
    "import random\n",
    "\n",
    "test_tweets_index = []\n",
    "for i in range(716):\n",
    "    test_tweets_index.append(random.randrange(0, len(tweets)))\n",
    "\n",
    "train, test = [], []\n",
    "for i, tweet in enumerate(tweets):\n",
    "    if i in test_tweets_index:\n",
    "        test.append(tweet)\n",
    "    else:\n",
    "        train.append(tweet)"
   ]
  },
  {
   "cell_type": "code",
   "execution_count": 13,
   "metadata": {},
   "outputs": [
    {
     "output_type": "execute_result",
     "data": {
      "text/plain": [
       "684"
      ]
     },
     "metadata": {},
     "execution_count": 13
    }
   ],
   "source": [
    "len(test)"
   ]
  },
  {
   "cell_type": "code",
   "execution_count": 14,
   "metadata": {},
   "outputs": [
    {
     "output_type": "execute_result",
     "data": {
      "text/plain": [
       "6484"
      ]
     },
     "metadata": {},
     "execution_count": 14
    }
   ],
   "source": [
    "len(train)"
   ]
  },
  {
   "cell_type": "code",
   "execution_count": 15,
   "metadata": {},
   "outputs": [
    {
     "output_type": "execute_result",
     "data": {
      "text/plain": [
       "22320"
      ]
     },
     "metadata": {},
     "execution_count": 15
    }
   ],
   "source": [
    "len([x for tweet in test for x in tweet ])"
   ]
  },
  {
   "cell_type": "code",
   "execution_count": 16,
   "metadata": {},
   "outputs": [
    {
     "output_type": "execute_result",
     "data": {
      "text/plain": [
       "210597"
      ]
     },
     "metadata": {},
     "execution_count": 16
    }
   ],
   "source": [
    "len([x for tweet in train for x in tweet ])"
   ]
  },
  {
   "cell_type": "code",
   "execution_count": 18,
   "metadata": {},
   "outputs": [
    {
     "output_type": "execute_result",
     "data": {
      "text/plain": [
       "1031"
      ]
     },
     "metadata": {},
     "execution_count": 18
    }
   ],
   "source": [
    "len([x for tweet in train for x in tweet if 'EVE' in x[1]])"
   ]
  },
  {
   "cell_type": "code",
   "execution_count": 19,
   "metadata": {},
   "outputs": [
    {
     "output_type": "execute_result",
     "data": {
      "text/plain": [
       "115"
      ]
     },
     "metadata": {},
     "execution_count": 19
    }
   ],
   "source": [
    "len([x for tweet in test for x in tweet if 'EVE' in x[1]])"
   ]
  },
  {
   "cell_type": "code",
   "execution_count": 20,
   "metadata": {},
   "outputs": [
    {
     "output_type": "execute_result",
     "data": {
      "text/plain": [
       "4630"
      ]
     },
     "metadata": {},
     "execution_count": 20
    }
   ],
   "source": [
    "len([x for tweet in train for x in tweet if 'ORG' in x[1]])"
   ]
  },
  {
   "cell_type": "code",
   "execution_count": 21,
   "metadata": {},
   "outputs": [
    {
     "output_type": "execute_result",
     "data": {
      "text/plain": [
       "490"
      ]
     },
     "metadata": {},
     "execution_count": 21
    }
   ],
   "source": [
    "len([x for tweet in test for x in tweet if 'ORG' in x[1]])"
   ]
  },
  {
   "cell_type": "code",
   "execution_count": 22,
   "metadata": {},
   "outputs": [
    {
     "output_type": "execute_result",
     "data": {
      "text/plain": [
       "6068"
      ]
     },
     "metadata": {},
     "execution_count": 22
    }
   ],
   "source": [
    "len([x for tweet in train for x in tweet if 'LOC' in x[1]])"
   ]
  },
  {
   "cell_type": "code",
   "execution_count": 23,
   "metadata": {},
   "outputs": [
    {
     "output_type": "execute_result",
     "data": {
      "text/plain": [
       "607"
      ]
     },
     "metadata": {},
     "execution_count": 23
    }
   ],
   "source": [
    "len([x for tweet in test for x in tweet if 'LOC' in x[1]])"
   ]
  },
  {
   "cell_type": "code",
   "execution_count": 24,
   "metadata": {},
   "outputs": [
    {
     "output_type": "execute_result",
     "data": {
      "text/plain": [
       "8719"
      ]
     },
     "metadata": {},
     "execution_count": 24
    }
   ],
   "source": [
    "len([x for tweet in train for x in tweet if 'PER' in x[1]])"
   ]
  },
  {
   "cell_type": "code",
   "execution_count": 25,
   "metadata": {},
   "outputs": [
    {
     "output_type": "execute_result",
     "data": {
      "text/plain": [
       "864"
      ]
     },
     "metadata": {},
     "execution_count": 25
    }
   ],
   "source": [
    "len([x for tweet in test for x in tweet if 'PER' in x[1]])"
   ]
  },
  {
   "cell_type": "code",
   "execution_count": 26,
   "metadata": {},
   "outputs": [
    {
     "output_type": "execute_result",
     "data": {
      "text/plain": [
       "877"
      ]
     },
     "metadata": {},
     "execution_count": 26
    }
   ],
   "source": [
    "len([x for tweet in train for x in tweet if 'NAT' in x[1]])"
   ]
  },
  {
   "cell_type": "code",
   "execution_count": 27,
   "metadata": {},
   "outputs": [
    {
     "output_type": "execute_result",
     "data": {
      "text/plain": [
       "79"
      ]
     },
     "metadata": {},
     "execution_count": 27
    }
   ],
   "source": [
    "len([x for tweet in test for x in tweet if 'NAT' in x[1]])"
   ]
  },
  {
   "cell_type": "code",
   "execution_count": 28,
   "metadata": {},
   "outputs": [
    {
     "output_type": "execute_result",
     "data": {
      "text/plain": [
       "527"
      ]
     },
     "metadata": {},
     "execution_count": 28
    }
   ],
   "source": [
    "len([x for tweet in train for x in tweet if 'POG' in x[1]])"
   ]
  },
  {
   "cell_type": "code",
   "execution_count": 29,
   "metadata": {},
   "outputs": [
    {
     "output_type": "execute_result",
     "data": {
      "text/plain": [
       "48"
      ]
     },
     "metadata": {},
     "execution_count": 29
    }
   ],
   "source": [
    "len([x for tweet in test for x in tweet if 'POG' in x[1]])"
   ]
  },
  {
   "cell_type": "code",
   "execution_count": 30,
   "metadata": {},
   "outputs": [
    {
     "output_type": "execute_result",
     "data": {
      "text/plain": [
       "32.47948797038865"
      ]
     },
     "metadata": {},
     "execution_count": 30
    }
   ],
   "source": [
    "length_of_tweets = [len(x) for x in train]\n",
    "sum(length_of_tweets)/len(train)"
   ]
  },
  {
   "cell_type": "code",
   "execution_count": 31,
   "metadata": {},
   "outputs": [
    {
     "output_type": "execute_result",
     "data": {
      "text/plain": [
       "32.63157894736842"
      ]
     },
     "metadata": {},
     "execution_count": 31
    }
   ],
   "source": [
    "length_of_tweets = [len(x) for x in test]\n",
    "sum(length_of_tweets)/len(test)"
   ]
  },
  {
   "cell_type": "code",
   "execution_count": 32,
   "metadata": {},
   "outputs": [],
   "source": [
    "with open('train.txt', 'w') as file:\n",
    "    for tweet in train:\n",
    "        for word_token in tweet:\n",
    "            file.write(word_token[0]+'\\t'+word_token[1]+'\\n')\n",
    "        file.write('\\n')"
   ]
  },
  {
   "cell_type": "code",
   "execution_count": 33,
   "metadata": {},
   "outputs": [],
   "source": [
    "with open('test.txt', 'w') as file:\n",
    "    for tweet in test:\n",
    "        for word_token in tweet:\n",
    "            file.write(word_token[0]+'\\t'+word_token[1]+'\\n')\n",
    "        file.write('\\n')"
   ]
  },
  {
   "cell_type": "code",
   "execution_count": null,
   "metadata": {},
   "outputs": [],
   "source": []
  }
 ]
}