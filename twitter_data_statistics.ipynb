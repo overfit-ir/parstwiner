{
  "nbformat": 4,
  "nbformat_minor": 0,
  "metadata": {
    "language_info": {
      "codemirror_mode": {
        "name": "ipython",
        "version": 3
      },
      "file_extension": ".py",
      "mimetype": "text/x-python",
      "name": "python",
      "nbconvert_exporter": "python",
      "pygments_lexer": "ipython3",
      "version": "3.8.3-final"
    },
    "orig_nbformat": 2,
    "kernelspec": {
      "name": "python3",
      "display_name": "Python 3.8.3 64-bit ('3.8.3')",
      "metadata": {
        "interpreter": {
          "hash": "d0870ed645fb27f1bd390e6a2c2d97d636644e4ac17d9620d795cd4fea4e8862"
        }
      }
    },
    "colab": {
      "name": "twitter_data_statistics.ipynb",
      "provenance": [],
      "toc_visible": true
    }
  },
  "cells": [
    {
      "cell_type": "markdown",
      "metadata": {
        "id": "2Fd6UwW0x0TL"
      },
      "source": [
        "## Some Investigation on Collected Twitter Data"
      ]
    },
    {
      "cell_type": "code",
      "metadata": {
        "colab": {
          "base_uri": "https://localhost:8080/"
        },
        "id": "tjOYlyrEx9es",
        "outputId": "66f06e2b-7879-40c0-ef60-d052c712d80f"
      },
      "source": [
        "!git clone https://github.com/overfit-ir/persian-twitter-ner.git"
      ],
      "execution_count": 1,
      "outputs": [
        {
          "output_type": "stream",
          "text": [
            "Cloning into 'persian-twitter-ner'...\n",
            "remote: Enumerating objects: 76, done.\u001b[K\n",
            "remote: Counting objects: 100% (76/76), done.\u001b[K\n",
            "remote: Compressing objects: 100% (54/54), done.\u001b[K\n",
            "remote: Total 1883 (delta 40), reused 51 (delta 21), pack-reused 1807\u001b[K\n",
            "Receiving objects: 100% (1883/1883), 19.56 MiB | 20.21 MiB/s, done.\n",
            "Resolving deltas: 100% (1387/1387), done.\n"
          ],
          "name": "stdout"
        }
      ]
    },
    {
      "cell_type": "code",
      "metadata": {
        "id": "rqN_vPH0x0TS"
      },
      "source": [
        "import os\n",
        "\n",
        "tweets = []\n",
        "tweet = []\n",
        "with open('persian-twitter-ner/twitter_data/persian-ner-twitter-data/data.txt', 'r') as file:\n",
        "    for line_number, line in enumerate(file.readlines()):\n",
        "        if line != '\\n':\n",
        "            tweet.append(line.replace('\\n', '').split('\\t'))\n",
        "        else:\n",
        "            tweets.append(tweet)\n",
        "            tweet = []"
      ],
      "execution_count": 2,
      "outputs": []
    },
    {
      "cell_type": "markdown",
      "metadata": {
        "id": "ySsugURKx0TT"
      },
      "source": [
        "### Number of Tweets"
      ]
    },
    {
      "cell_type": "code",
      "metadata": {
        "colab": {
          "base_uri": "https://localhost:8080/"
        },
        "id": "gz8RkwBVx0TT",
        "outputId": "2cb80a65-ac74-47c8-a2b5-e8402156f252"
      },
      "source": [
        "len(tweets)"
      ],
      "execution_count": 3,
      "outputs": [
        {
          "output_type": "execute_result",
          "data": {
            "text/plain": [
              "7167"
            ]
          },
          "metadata": {
            "tags": []
          },
          "execution_count": 3
        }
      ]
    },
    {
      "cell_type": "markdown",
      "metadata": {
        "id": "1ZcIkXuOx0TU"
      },
      "source": [
        "### Number of Tokens"
      ]
    },
    {
      "cell_type": "code",
      "metadata": {
        "colab": {
          "base_uri": "https://localhost:8080/"
        },
        "id": "9jxqntVXx0TU",
        "outputId": "5c88e64b-d627-4e28-fa57-6fe5ee022b1e"
      },
      "source": [
        "len([x for tweet in tweets for x in tweet ])"
      ],
      "execution_count": 53,
      "outputs": [
        {
          "output_type": "execute_result",
          "data": {
            "text/plain": [
              "232917"
            ]
          },
          "metadata": {
            "tags": []
          },
          "execution_count": 53
        }
      ]
    },
    {
      "cell_type": "markdown",
      "metadata": {
        "id": "2X8Q_MYxL4Cq"
      },
      "source": [
        "#### ORG"
      ]
    },
    {
      "cell_type": "code",
      "metadata": {
        "colab": {
          "base_uri": "https://localhost:8080/"
        },
        "id": "Q8wwwFdWx0TV",
        "outputId": "4a10f9f0-f07d-4e97-b7c1-30b87abc27e9"
      },
      "source": [
        "org = [x for tweet in tweets for x in tweet if 'ORG' in x[1]]\n",
        "org_count = len(org)\n",
        "org_count"
      ],
      "execution_count": 97,
      "outputs": [
        {
          "output_type": "execute_result",
          "data": {
            "text/plain": [
              "5122"
            ]
          },
          "metadata": {
            "tags": []
          },
          "execution_count": 97
        }
      ]
    },
    {
      "cell_type": "code",
      "metadata": {
        "id": "Dq_UFOkFMCqK",
        "outputId": "b95c4faf-7997-4767-dac3-d6c14881074d",
        "colab": {
          "base_uri": "https://localhost:8080/"
        }
      },
      "source": [
        "pd.Series([x[0] for x in org]).nunique()"
      ],
      "execution_count": 91,
      "outputs": [
        {
          "output_type": "execute_result",
          "data": {
            "text/plain": [
              "1857"
            ]
          },
          "metadata": {
            "tags": []
          },
          "execution_count": 91
        }
      ]
    },
    {
      "cell_type": "markdown",
      "metadata": {
        "id": "QfopOgzAL592"
      },
      "source": [
        "#### PER"
      ]
    },
    {
      "cell_type": "code",
      "metadata": {
        "colab": {
          "base_uri": "https://localhost:8080/"
        },
        "id": "93ZTSIuRx0TV",
        "outputId": "214f42ca-8454-464e-f43e-04f274710146"
      },
      "source": [
        "per = [x for tweet in tweets for x in tweet if 'PER' in x[1]]\n",
        "per_count = len(per)\n",
        "per_count"
      ],
      "execution_count": 83,
      "outputs": [
        {
          "output_type": "execute_result",
          "data": {
            "text/plain": [
              "9586"
            ]
          },
          "metadata": {
            "tags": []
          },
          "execution_count": 83
        }
      ]
    },
    {
      "cell_type": "code",
      "metadata": {
        "id": "PDIVgDDdMMrk",
        "outputId": "dc9f9931-77b5-4b8a-a743-af50e55f2c85",
        "colab": {
          "base_uri": "https://localhost:8080/"
        }
      },
      "source": [
        "pd.Series([x[0] for x in per]).nunique()"
      ],
      "execution_count": 92,
      "outputs": [
        {
          "output_type": "execute_result",
          "data": {
            "text/plain": [
              "3932"
            ]
          },
          "metadata": {
            "tags": []
          },
          "execution_count": 92
        }
      ]
    },
    {
      "cell_type": "markdown",
      "metadata": {
        "id": "ml4ekE33L7fo"
      },
      "source": [
        "#### LOC"
      ]
    },
    {
      "cell_type": "code",
      "metadata": {
        "colab": {
          "base_uri": "https://localhost:8080/"
        },
        "id": "DOtfFsigx0TV",
        "outputId": "39bd6af7-8418-4b45-f0b6-e1b127d6d96a"
      },
      "source": [
        "loc = [x for tweet in tweets for x in tweet if 'LOC' in x[1]]\n",
        "loc_count = len(loc)\n",
        "loc_count"
      ],
      "execution_count": 84,
      "outputs": [
        {
          "output_type": "execute_result",
          "data": {
            "text/plain": [
              "6676"
            ]
          },
          "metadata": {
            "tags": []
          },
          "execution_count": 84
        }
      ]
    },
    {
      "cell_type": "code",
      "metadata": {
        "id": "GII-9fe7MQQn",
        "outputId": "4738dd9b-be75-467d-aae6-75cf4c4c26d8",
        "colab": {
          "base_uri": "https://localhost:8080/"
        }
      },
      "source": [
        "pd.Series([x[0] for x in loc]).nunique()"
      ],
      "execution_count": 93,
      "outputs": [
        {
          "output_type": "execute_result",
          "data": {
            "text/plain": [
              "1914"
            ]
          },
          "metadata": {
            "tags": []
          },
          "execution_count": 93
        }
      ]
    },
    {
      "cell_type": "markdown",
      "metadata": {
        "id": "2CNLEKTZL9Y_"
      },
      "source": [
        "#### NAT"
      ]
    },
    {
      "cell_type": "code",
      "metadata": {
        "colab": {
          "base_uri": "https://localhost:8080/"
        },
        "id": "3MlM8Pcfx0TW",
        "outputId": "12d98ce9-14a9-448b-c0af-f7f660cb50b0"
      },
      "source": [
        "nat = [x for tweet in tweets for x in tweet if 'NAT' in x[1]]\n",
        "nat_count = len(nat)\n",
        "nat_count"
      ],
      "execution_count": 86,
      "outputs": [
        {
          "output_type": "execute_result",
          "data": {
            "text/plain": [
              "956"
            ]
          },
          "metadata": {
            "tags": []
          },
          "execution_count": 86
        }
      ]
    },
    {
      "cell_type": "code",
      "metadata": {
        "id": "INw5fICLMSNX",
        "outputId": "815ec1d5-a720-43c8-8ef1-5761b805a556",
        "colab": {
          "base_uri": "https://localhost:8080/"
        }
      },
      "source": [
        "pd.Series([x[0] for x in nat]).nunique()"
      ],
      "execution_count": 94,
      "outputs": [
        {
          "output_type": "execute_result",
          "data": {
            "text/plain": [
              "341"
            ]
          },
          "metadata": {
            "tags": []
          },
          "execution_count": 94
        }
      ]
    },
    {
      "cell_type": "markdown",
      "metadata": {
        "id": "FfknLjyjL-wy"
      },
      "source": [
        "#### EVE"
      ]
    },
    {
      "cell_type": "code",
      "metadata": {
        "colab": {
          "base_uri": "https://localhost:8080/"
        },
        "id": "aGXACX7vx0TW",
        "outputId": "6b4ea2ac-a1c5-4aad-e0e1-56588ce3f649"
      },
      "source": [
        "eve = [x for tweet in tweets for x in tweet if 'EVE' in x[1]]\n",
        "eve_count = len(eve)\n",
        "eve_count"
      ],
      "execution_count": 87,
      "outputs": [
        {
          "output_type": "execute_result",
          "data": {
            "text/plain": [
              "1146"
            ]
          },
          "metadata": {
            "tags": []
          },
          "execution_count": 87
        }
      ]
    },
    {
      "cell_type": "code",
      "metadata": {
        "id": "yUqfKubYMUBi",
        "outputId": "6b6941a3-d09d-4764-9d57-fe527867d6c3",
        "colab": {
          "base_uri": "https://localhost:8080/"
        }
      },
      "source": [
        "pd.Series([x[0] for x in eve]).nunique()"
      ],
      "execution_count": 95,
      "outputs": [
        {
          "output_type": "execute_result",
          "data": {
            "text/plain": [
              "428"
            ]
          },
          "metadata": {
            "tags": []
          },
          "execution_count": 95
        }
      ]
    },
    {
      "cell_type": "markdown",
      "metadata": {
        "id": "TnHdKIg_MABP"
      },
      "source": [
        "POG"
      ]
    },
    {
      "cell_type": "code",
      "metadata": {
        "colab": {
          "base_uri": "https://localhost:8080/"
        },
        "id": "c0lBfm06x0TW",
        "outputId": "26238e90-df0e-4ed8-8dca-fe3167c8ad91"
      },
      "source": [
        "pog = [x for tweet in tweets for x in tweet if 'POG' in x[1]]\n",
        "pog_count = len(pog)\n",
        "pog_count"
      ],
      "execution_count": 88,
      "outputs": [
        {
          "output_type": "execute_result",
          "data": {
            "text/plain": [
              "575"
            ]
          },
          "metadata": {
            "tags": []
          },
          "execution_count": 88
        }
      ]
    },
    {
      "cell_type": "code",
      "metadata": {
        "id": "T8iTY-r0MWGQ",
        "outputId": "83682cdf-c9e1-4ff4-dd66-5e3ab75eb877",
        "colab": {
          "base_uri": "https://localhost:8080/"
        }
      },
      "source": [
        "pd.Series([x[0] for x in pog]).nunique()"
      ],
      "execution_count": 96,
      "outputs": [
        {
          "output_type": "execute_result",
          "data": {
            "text/plain": [
              "255"
            ]
          },
          "metadata": {
            "tags": []
          },
          "execution_count": 96
        }
      ]
    },
    {
      "cell_type": "markdown",
      "metadata": {
        "id": "U25-T94LMYAD"
      },
      "source": [
        "#### Summary"
      ]
    },
    {
      "cell_type": "code",
      "metadata": {
        "colab": {
          "base_uri": "https://localhost:8080/"
        },
        "id": "rJP_IAiABjPW",
        "outputId": "b684a64b-bdb4-4e03-a54e-0c635c89ec1a"
      },
      "source": [
        "pog_count + eve_count + nat_count + loc_count + per_count + org_count"
      ],
      "execution_count": 61,
      "outputs": [
        {
          "output_type": "execute_result",
          "data": {
            "text/plain": [
              "24061"
            ]
          },
          "metadata": {
            "tags": []
          },
          "execution_count": 61
        }
      ]
    },
    {
      "cell_type": "code",
      "metadata": {
        "id": "CwzXksgEx0TW"
      },
      "source": [
        "length_of_tweets = [len(x) for x in tweets]"
      ],
      "execution_count": null,
      "outputs": []
    },
    {
      "cell_type": "code",
      "metadata": {
        "id": "949hTlkzx0TX",
        "outputId": "9406c8a0-7f93-4e34-8d22-2f153c4b1d9d"
      },
      "source": [
        "sum(length_of_tweets)/len(length_of_tweets)"
      ],
      "execution_count": null,
      "outputs": [
        {
          "output_type": "execute_result",
          "data": {
            "text/plain": [
              "32.49400111607143"
            ]
          },
          "metadata": {
            "tags": []
          },
          "execution_count": 11
        }
      ]
    },
    {
      "cell_type": "markdown",
      "metadata": {
        "id": "SwoI37_fx0TX"
      },
      "source": [
        "### Train, Test, Dev Split"
      ]
    },
    {
      "cell_type": "code",
      "metadata": {
        "id": "myHh_ecwx0TX"
      },
      "source": [
        "import random\n",
        "\n",
        "test_tweets_index = []\n",
        "dev_tweets_index = []\n",
        "random_index = []\n",
        "for i in range(800):\n",
        "    random_index.append(random.randrange(0, len(tweets)))\n",
        "\n",
        "for i in range(400):\n",
        "    index = random.randrange(0, 800)\n",
        "    test_tweets_index.append(random_index[index])\n",
        "\n",
        "for i in range(len(random_index)):\n",
        "    if random_index[i] not in test_tweets_index:\n",
        "        dev_tweets_index.append(random_index[i])\n",
        "\n",
        "train, test, dev = [], [], []\n",
        "for i, tweet in enumerate(tweets):\n",
        "    if i in test_tweets_index:\n",
        "        test.append(tweet)\n",
        "    elif i in dev_tweets_index:\n",
        "        dev.append(tweet)\n",
        "    else:\n",
        "        train.append(tweet)"
      ],
      "execution_count": null,
      "outputs": []
    },
    {
      "cell_type": "code",
      "metadata": {
        "id": "bjQkjxjIx0TX",
        "outputId": "5831e4fe-2244-4468-eab7-758a0291590a"
      },
      "source": [
        "len(test)"
      ],
      "execution_count": null,
      "outputs": [
        {
          "output_type": "execute_result",
          "data": {
            "text/plain": [
              "303"
            ]
          },
          "metadata": {
            "tags": []
          },
          "execution_count": 13
        }
      ]
    },
    {
      "cell_type": "code",
      "metadata": {
        "id": "hPU-S7xHx0TY",
        "outputId": "1da3aeaf-171b-4c49-82b9-d7aa462974f6"
      },
      "source": [
        "len(dev)"
      ],
      "execution_count": null,
      "outputs": [
        {
          "output_type": "execute_result",
          "data": {
            "text/plain": [
              "447"
            ]
          },
          "metadata": {
            "tags": []
          },
          "execution_count": 14
        }
      ]
    },
    {
      "cell_type": "code",
      "metadata": {
        "id": "jf5Ig3TGx0TY",
        "outputId": "763bdce7-b7b5-4ff2-eeac-ecdb50793389"
      },
      "source": [
        "len(train)"
      ],
      "execution_count": null,
      "outputs": [
        {
          "output_type": "execute_result",
          "data": {
            "text/plain": [
              "6418"
            ]
          },
          "metadata": {
            "tags": []
          },
          "execution_count": 15
        }
      ]
    },
    {
      "cell_type": "code",
      "metadata": {
        "id": "L-KgyTG1x0TY",
        "outputId": "74495804-bfeb-4524-ab90-8cc09ed06203"
      },
      "source": [
        "len([x for tweet in test for x in tweet ])"
      ],
      "execution_count": null,
      "outputs": [
        {
          "output_type": "execute_result",
          "data": {
            "text/plain": [
              "10000"
            ]
          },
          "metadata": {
            "tags": []
          },
          "execution_count": 16
        }
      ]
    },
    {
      "cell_type": "code",
      "metadata": {
        "id": "F7pevbfyx0TY",
        "outputId": "ea406d25-ca99-4f32-de4a-aed92acd71f6"
      },
      "source": [
        "len([x for tweet in dev for x in tweet ])"
      ],
      "execution_count": null,
      "outputs": [
        {
          "output_type": "execute_result",
          "data": {
            "text/plain": [
              "14927"
            ]
          },
          "metadata": {
            "tags": []
          },
          "execution_count": 17
        }
      ]
    },
    {
      "cell_type": "code",
      "metadata": {
        "id": "W1axMbvax0TY",
        "outputId": "9c8650b8-d9f8-4ec8-f543-953268925a07"
      },
      "source": [
        "len([x for tweet in train for x in tweet ])"
      ],
      "execution_count": null,
      "outputs": [
        {
          "output_type": "execute_result",
          "data": {
            "text/plain": [
              "207990"
            ]
          },
          "metadata": {
            "tags": []
          },
          "execution_count": 18
        }
      ]
    },
    {
      "cell_type": "code",
      "metadata": {
        "id": "BJABRohux0TZ",
        "outputId": "bd7ad986-3531-47c4-e3ef-5ea44fcce28d"
      },
      "source": [
        "len([x for tweet in train for x in tweet if 'EVE' in x[1]])"
      ],
      "execution_count": null,
      "outputs": [
        {
          "output_type": "execute_result",
          "data": {
            "text/plain": [
              "1068"
            ]
          },
          "metadata": {
            "tags": []
          },
          "execution_count": 19
        }
      ]
    },
    {
      "cell_type": "code",
      "metadata": {
        "id": "9iS2Ey7bx0TZ",
        "outputId": "44a2752c-07b6-4dbe-e183-c1097dc0dd06"
      },
      "source": [
        "len([x for tweet in test for x in tweet if 'EVE' in x[1]])"
      ],
      "execution_count": null,
      "outputs": [
        {
          "output_type": "execute_result",
          "data": {
            "text/plain": [
              "35"
            ]
          },
          "metadata": {
            "tags": []
          },
          "execution_count": 20
        }
      ]
    },
    {
      "cell_type": "code",
      "metadata": {
        "id": "5pRXxaNXx0TZ",
        "outputId": "5bb1d46f-a3a9-4651-d1da-d4fe0e1101e8"
      },
      "source": [
        "len([x for tweet in dev for x in tweet if 'EVE' in x[1]])"
      ],
      "execution_count": null,
      "outputs": [
        {
          "output_type": "execute_result",
          "data": {
            "text/plain": [
              "43"
            ]
          },
          "metadata": {
            "tags": []
          },
          "execution_count": 21
        }
      ]
    },
    {
      "cell_type": "code",
      "metadata": {
        "id": "wPx0OXYwx0Ta",
        "outputId": "e686d080-4bc3-4139-c4f2-cfcc4aee927f"
      },
      "source": [
        "len([x for tweet in train for x in tweet if 'ORG' in x[1]])"
      ],
      "execution_count": null,
      "outputs": [
        {
          "output_type": "execute_result",
          "data": {
            "text/plain": [
              "4552"
            ]
          },
          "metadata": {
            "tags": []
          },
          "execution_count": 22
        }
      ]
    },
    {
      "cell_type": "code",
      "metadata": {
        "id": "Nn3ZbQc-x0Ta",
        "outputId": "db1bac7b-dbda-46a2-a0ad-26a21ad819f1"
      },
      "source": [
        "len([x for tweet in test for x in tweet if 'ORG' in x[1]])"
      ],
      "execution_count": null,
      "outputs": [
        {
          "output_type": "execute_result",
          "data": {
            "text/plain": [
              "243"
            ]
          },
          "metadata": {
            "tags": []
          },
          "execution_count": 23
        }
      ]
    },
    {
      "cell_type": "code",
      "metadata": {
        "id": "H22J-CvYx0Ta",
        "outputId": "757a66b6-452a-4747-fde2-94c3f2ff63be"
      },
      "source": [
        "len([x for tweet in test for x in tweet if 'ORG' in x[1]])"
      ],
      "execution_count": null,
      "outputs": [
        {
          "output_type": "execute_result",
          "data": {
            "text/plain": [
              "243"
            ]
          },
          "metadata": {
            "tags": []
          },
          "execution_count": 24
        }
      ]
    },
    {
      "cell_type": "code",
      "metadata": {
        "id": "Z6svbGuwx0Ta",
        "outputId": "c9bf3b38-f738-4fc3-e37d-1b3e77214422"
      },
      "source": [
        "len([x for tweet in train for x in tweet if 'LOC' in x[1]])"
      ],
      "execution_count": null,
      "outputs": [
        {
          "output_type": "execute_result",
          "data": {
            "text/plain": [
              "5974"
            ]
          },
          "metadata": {
            "tags": []
          },
          "execution_count": 25
        }
      ]
    },
    {
      "cell_type": "code",
      "metadata": {
        "id": "mB-i8Pnux0Ta",
        "outputId": "e8ea0923-4feb-45f7-b10e-c96bf7a15aef"
      },
      "source": [
        "len([x for tweet in test for x in tweet if 'LOC' in x[1]])"
      ],
      "execution_count": null,
      "outputs": [
        {
          "output_type": "execute_result",
          "data": {
            "text/plain": [
              "268"
            ]
          },
          "metadata": {
            "tags": []
          },
          "execution_count": 26
        }
      ]
    },
    {
      "cell_type": "code",
      "metadata": {
        "id": "81DZ3GFsx0Tb",
        "outputId": "303c25ef-68f9-4b51-cc9b-0bb89ec77861"
      },
      "source": [
        "len([x for tweet in dev for x in tweet if 'LOC' in x[1]])"
      ],
      "execution_count": null,
      "outputs": [
        {
          "output_type": "execute_result",
          "data": {
            "text/plain": [
              "434"
            ]
          },
          "metadata": {
            "tags": []
          },
          "execution_count": 27
        }
      ]
    },
    {
      "cell_type": "code",
      "metadata": {
        "id": "QWm8szuux0Tb",
        "outputId": "45e864ce-3253-41b2-949c-5cc3259d1956"
      },
      "source": [
        "len([x for tweet in train for x in tweet if 'PER' in x[1]])"
      ],
      "execution_count": null,
      "outputs": [
        {
          "output_type": "execute_result",
          "data": {
            "text/plain": [
              "8624"
            ]
          },
          "metadata": {
            "tags": []
          },
          "execution_count": 28
        }
      ]
    },
    {
      "cell_type": "code",
      "metadata": {
        "id": "LA4dSXftx0Tb",
        "outputId": "a5ac83e2-0732-4638-88d5-1b30b40215e3"
      },
      "source": [
        "len([x for tweet in test for x in tweet if 'PER' in x[1]])"
      ],
      "execution_count": null,
      "outputs": [
        {
          "output_type": "execute_result",
          "data": {
            "text/plain": [
              "365"
            ]
          },
          "metadata": {
            "tags": []
          },
          "execution_count": 29
        }
      ]
    },
    {
      "cell_type": "code",
      "metadata": {
        "id": "_E3NWfetx0Tb",
        "outputId": "255570b9-a465-4b31-e02f-852a8e115c5c"
      },
      "source": [
        "len([x for tweet in dev for x in tweet if 'PER' in x[1]])"
      ],
      "execution_count": null,
      "outputs": [
        {
          "output_type": "execute_result",
          "data": {
            "text/plain": [
              "597"
            ]
          },
          "metadata": {
            "tags": []
          },
          "execution_count": 30
        }
      ]
    },
    {
      "cell_type": "code",
      "metadata": {
        "id": "-ovAA3XMx0Tb",
        "outputId": "50424039-3f7d-400c-ef2e-9ca9a1576514"
      },
      "source": [
        "len([x for tweet in train for x in tweet if 'NAT' in x[1]])"
      ],
      "execution_count": null,
      "outputs": [
        {
          "output_type": "execute_result",
          "data": {
            "text/plain": [
              "868"
            ]
          },
          "metadata": {
            "tags": []
          },
          "execution_count": 31
        }
      ]
    },
    {
      "cell_type": "code",
      "metadata": {
        "id": "rvpmQr1Ux0Tc",
        "outputId": "f56911a9-16bd-4484-9a4f-2ea87d77d654"
      },
      "source": [
        "len([x for tweet in test for x in tweet if 'NAT' in x[1]])"
      ],
      "execution_count": null,
      "outputs": [
        {
          "output_type": "execute_result",
          "data": {
            "text/plain": [
              "30"
            ]
          },
          "metadata": {
            "tags": []
          },
          "execution_count": 32
        }
      ]
    },
    {
      "cell_type": "code",
      "metadata": {
        "id": "dRArImm4x0Tc",
        "outputId": "28bb77e5-7fa5-4ae9-ec48-75cd7c5b2224"
      },
      "source": [
        "len([x for tweet in dev for x in tweet if 'NAT' in x[1]])"
      ],
      "execution_count": null,
      "outputs": [
        {
          "output_type": "execute_result",
          "data": {
            "text/plain": [
              "58"
            ]
          },
          "metadata": {
            "tags": []
          },
          "execution_count": 33
        }
      ]
    },
    {
      "cell_type": "code",
      "metadata": {
        "id": "Mmvq2mLAx0Tc",
        "outputId": "9197f53a-1f2c-4fa2-8b35-035a4b0c3152"
      },
      "source": [
        "len([x for tweet in train for x in tweet if 'POG' in x[1]])"
      ],
      "execution_count": null,
      "outputs": [
        {
          "output_type": "execute_result",
          "data": {
            "text/plain": [
              "523"
            ]
          },
          "metadata": {
            "tags": []
          },
          "execution_count": 34
        }
      ]
    },
    {
      "cell_type": "code",
      "metadata": {
        "id": "s1lxDB7vx0Tc",
        "outputId": "c057edf5-1fcf-4a04-810b-cc42ed7730f0"
      },
      "source": [
        "len([x for tweet in test for x in tweet if 'POG' in x[1]])"
      ],
      "execution_count": null,
      "outputs": [
        {
          "output_type": "execute_result",
          "data": {
            "text/plain": [
              "32"
            ]
          },
          "metadata": {
            "tags": []
          },
          "execution_count": 35
        }
      ]
    },
    {
      "cell_type": "code",
      "metadata": {
        "id": "lTL8APvmx0Tc",
        "outputId": "bb535393-2a7e-4051-9a8e-e33fcb56f828"
      },
      "source": [
        "len([x for tweet in dev for x in tweet if 'POG' in x[1]])"
      ],
      "execution_count": null,
      "outputs": [
        {
          "output_type": "execute_result",
          "data": {
            "text/plain": [
              "20"
            ]
          },
          "metadata": {
            "tags": []
          },
          "execution_count": 36
        }
      ]
    },
    {
      "cell_type": "code",
      "metadata": {
        "id": "68inAZRgx0Tc",
        "outputId": "60afa455-e0d8-43e5-ba7f-d2284169b53b"
      },
      "source": [
        "length_of_tweets = [len(x) for x in train]\n",
        "sum(length_of_tweets)/len(train)"
      ],
      "execution_count": null,
      "outputs": [
        {
          "output_type": "execute_result",
          "data": {
            "text/plain": [
              "32.40729199127454"
            ]
          },
          "metadata": {
            "tags": []
          },
          "execution_count": 37
        }
      ]
    },
    {
      "cell_type": "code",
      "metadata": {
        "id": "qA5DKiftx0Td",
        "outputId": "ee11ecde-374b-4cde-cc23-3faa06c8f64f"
      },
      "source": [
        "length_of_tweets = [len(x) for x in test]\n",
        "sum(length_of_tweets)/len(test)"
      ],
      "execution_count": null,
      "outputs": [
        {
          "output_type": "execute_result",
          "data": {
            "text/plain": [
              "33.00330033003301"
            ]
          },
          "metadata": {
            "tags": []
          },
          "execution_count": 38
        }
      ]
    },
    {
      "cell_type": "code",
      "metadata": {
        "id": "plib_Dcix0Td"
      },
      "source": [
        "with open('train.txt', 'w') as file:\n",
        "    for tweet in train:\n",
        "        for word_token in tweet:\n",
        "            file.write(word_token[0]+'\\t'+word_token[1]+'\\n')\n",
        "        file.write('\\n')"
      ],
      "execution_count": null,
      "outputs": []
    },
    {
      "cell_type": "code",
      "metadata": {
        "id": "NdZhMjSex0Td",
        "outputId": "fc42c34b-1290-4a5c-c988-24e06969e297"
      },
      "source": [
        "length_of_tweets = [len(x) for x in dev]\n",
        "sum(length_of_tweets)/len(dev)"
      ],
      "execution_count": null,
      "outputs": [
        {
          "output_type": "execute_result",
          "data": {
            "text/plain": [
              "33.39373601789709"
            ]
          },
          "metadata": {
            "tags": []
          },
          "execution_count": 39
        }
      ]
    },
    {
      "cell_type": "code",
      "metadata": {
        "id": "8lnC2mu0x0Td"
      },
      "source": [
        "with open('test.txt', 'w') as file:\n",
        "    for tweet in test:\n",
        "        for word_token in tweet:\n",
        "            file.write(word_token[0]+'\\t'+word_token[1]+'\\n')\n",
        "        file.write('\\n')"
      ],
      "execution_count": null,
      "outputs": []
    },
    {
      "cell_type": "code",
      "metadata": {
        "id": "DRruw6J3x0Td"
      },
      "source": [
        "with open('dev.txt', 'w') as file:\n",
        "    for tweet in dev:\n",
        "        for word_token in tweet:\n",
        "            file.write(word_token[0]+'\\t'+word_token[1]+'\\n')\n",
        "        file.write('\\n')"
      ],
      "execution_count": null,
      "outputs": []
    },
    {
      "cell_type": "code",
      "metadata": {
        "id": "xouK_WCYx0Td"
      },
      "source": [
        ""
      ],
      "execution_count": null,
      "outputs": []
    },
    {
      "cell_type": "markdown",
      "metadata": {
        "id": "y9waJCRxyR7k"
      },
      "source": [
        "### Category Classification"
      ]
    },
    {
      "cell_type": "code",
      "metadata": {
        "colab": {
          "base_uri": "https://localhost:8080/"
        },
        "id": "KTkkLgxLybAc",
        "outputId": "f862c03e-400c-42c5-9f82-e29f45d303ff"
      },
      "source": [
        "!pip install -q transformers"
      ],
      "execution_count": 4,
      "outputs": [
        {
          "output_type": "stream",
          "text": [
            "\u001b[K     |████████████████████████████████| 2.2MB 5.8MB/s \n",
            "\u001b[K     |████████████████████████████████| 870kB 29.9MB/s \n",
            "\u001b[K     |████████████████████████████████| 3.3MB 40.9MB/s \n",
            "\u001b[?25h  Building wheel for sacremoses (setup.py) ... \u001b[?25l\u001b[?25hdone\n"
          ],
          "name": "stdout"
        }
      ]
    },
    {
      "cell_type": "code",
      "metadata": {
        "id": "eIgS40f5zm3z"
      },
      "source": [
        "from transformers import AutoTokenizer, AutoModelForSequenceClassification, TextClassificationPipeline"
      ],
      "execution_count": 9,
      "outputs": []
    },
    {
      "cell_type": "code",
      "metadata": {
        "id": "pMaj_xrzydrM"
      },
      "source": [
        "tokenizer = AutoTokenizer.from_pretrained(\"HooshvareLab/bert-fa-base-uncased-clf-persiannews\")\n",
        "model = AutoModelForSequenceClassification.from_pretrained(\"HooshvareLab/bert-fa-base-uncased-clf-persiannews\")\n",
        "model.eval()\n",
        "classifier = TextClassificationPipeline(model=model, tokenizer=tokenizer)"
      ],
      "execution_count": 12,
      "outputs": []
    },
    {
      "cell_type": "code",
      "metadata": {
        "colab": {
          "base_uri": "https://localhost:8080/"
        },
        "id": "Xyb8f9rezlnZ",
        "outputId": "d78b23ba-9fc0-4822-e2d7-d68618f4fe3e"
      },
      "source": [
        "classifier('محمودی به سمت مدیرعامل بورس منصوب شد')"
      ],
      "execution_count": 13,
      "outputs": [
        {
          "output_type": "execute_result",
          "data": {
            "text/plain": [
              "[{'label': 'اقتصادی', 'score': 0.8937085866928101}]"
            ]
          },
          "metadata": {
            "tags": []
          },
          "execution_count": 13
        }
      ]
    },
    {
      "cell_type": "code",
      "metadata": {
        "colab": {
          "base_uri": "https://localhost:8080/"
        },
        "id": "DLzt0jQr0yRv",
        "outputId": "7c8bfb6e-63d6-4a5c-ac57-d4a3c9f5b80a"
      },
      "source": [
        "politics_tweets = []\n",
        "economics_tweets = []\n",
        "sports_tweets = []\n",
        "cultural_tweets = []\n",
        "tech_tweets = []\n",
        "inter_tweets = []\n",
        "health_tweets = []\n",
        "society_tweets = []\n",
        "\n",
        "for i, tweet in enumerate(tweets):\n",
        "  if i%100==0:\n",
        "    print(i)\n",
        "    print('politics_counter  : ', len(politics_tweets))\n",
        "    print('economics_counter : ', len(economics_tweets))\n",
        "    print('sports_counter    : ', len(sports_tweets))\n",
        "    print('cultural_counter  : ', len(cultural_tweets))\n",
        "    print('tech_counter      : ', len(tech_tweets))\n",
        "    print('inter_counter     : ', len(inter_tweets))\n",
        "    print('health_counter    : ', len(health_tweets))\n",
        "    print('society_counter   : ', len(society_tweets))\n",
        "\n",
        "\n",
        "  label = classifier(' '.join([x[0] for x in tweet]))[0]['label']\n",
        "  if label == 'سیاسی':\n",
        "    politics_tweets.append(tweet)\n",
        "  elif label == 'اقتصادی':\n",
        "    economics_tweets.append(tweet)\n",
        "  elif label == 'ورزشی':\n",
        "    sports_tweets.append(tweet)\n",
        "  elif label == 'فرهنگی هنری':\n",
        "    cultural_tweets.append(tweet)\n",
        "  elif label == 'علمی فناوری':\n",
        "    tech_tweets.append(tweet)\n",
        "  elif label == 'بین الملل':\n",
        "    inter_tweets.append(tweet)\n",
        "  elif label == 'پزشکی':\n",
        "    health_tweets.append(tweet)\n",
        "  elif label == 'اجتماعی':\n",
        "    society_tweets.append(tweet)\n",
        "  else:\n",
        "    print(label)"
      ],
      "execution_count": 27,
      "outputs": [
        {
          "output_type": "stream",
          "text": [
            "0\n",
            "politics_counter  :  0\n",
            "economics_counter :  0\n",
            "sports_counter    :  0\n",
            "cultural_counter  :  0\n",
            "tech_counter      :  0\n",
            "inter_counter     :  0\n",
            "health_counter    :  0\n",
            "society_counter   :  0\n",
            "100\n",
            "politics_counter  :  18\n",
            "economics_counter :  11\n",
            "sports_counter    :  7\n",
            "cultural_counter  :  22\n",
            "tech_counter      :  10\n",
            "inter_counter     :  6\n",
            "health_counter    :  7\n",
            "society_counter   :  19\n",
            "200\n",
            "politics_counter  :  27\n",
            "economics_counter :  18\n",
            "sports_counter    :  21\n",
            "cultural_counter  :  44\n",
            "tech_counter      :  29\n",
            "inter_counter     :  11\n",
            "health_counter    :  11\n",
            "society_counter   :  39\n",
            "300\n",
            "politics_counter  :  41\n",
            "economics_counter :  23\n",
            "sports_counter    :  37\n",
            "cultural_counter  :  70\n",
            "tech_counter      :  47\n",
            "inter_counter     :  16\n",
            "health_counter    :  15\n",
            "society_counter   :  51\n",
            "400\n",
            "politics_counter  :  60\n",
            "economics_counter :  30\n",
            "sports_counter    :  50\n",
            "cultural_counter  :  92\n",
            "tech_counter      :  56\n",
            "inter_counter     :  22\n",
            "health_counter    :  21\n",
            "society_counter   :  69\n",
            "500\n",
            "politics_counter  :  72\n",
            "economics_counter :  38\n",
            "sports_counter    :  60\n",
            "cultural_counter  :  122\n",
            "tech_counter      :  71\n",
            "inter_counter     :  25\n",
            "health_counter    :  27\n",
            "society_counter   :  85\n",
            "600\n",
            "politics_counter  :  93\n",
            "economics_counter :  48\n",
            "sports_counter    :  71\n",
            "cultural_counter  :  137\n",
            "tech_counter      :  81\n",
            "inter_counter     :  31\n",
            "health_counter    :  35\n",
            "society_counter   :  104\n",
            "700\n",
            "politics_counter  :  110\n",
            "economics_counter :  50\n",
            "sports_counter    :  87\n",
            "cultural_counter  :  155\n",
            "tech_counter      :  95\n",
            "inter_counter     :  35\n",
            "health_counter    :  43\n",
            "society_counter   :  125\n",
            "800\n",
            "politics_counter  :  137\n",
            "economics_counter :  60\n",
            "sports_counter    :  94\n",
            "cultural_counter  :  172\n",
            "tech_counter      :  110\n",
            "inter_counter     :  41\n",
            "health_counter    :  46\n",
            "society_counter   :  140\n",
            "900\n",
            "politics_counter  :  147\n",
            "economics_counter :  66\n",
            "sports_counter    :  112\n",
            "cultural_counter  :  200\n",
            "tech_counter      :  120\n",
            "inter_counter     :  48\n",
            "health_counter    :  53\n",
            "society_counter   :  154\n",
            "1000\n",
            "politics_counter  :  159\n",
            "economics_counter :  79\n",
            "sports_counter    :  124\n",
            "cultural_counter  :  225\n",
            "tech_counter      :  131\n",
            "inter_counter     :  51\n",
            "health_counter    :  60\n",
            "society_counter   :  171\n",
            "1100\n",
            "politics_counter  :  169\n",
            "economics_counter :  88\n",
            "sports_counter    :  133\n",
            "cultural_counter  :  250\n",
            "tech_counter      :  144\n",
            "inter_counter     :  56\n",
            "health_counter    :  69\n",
            "society_counter   :  191\n",
            "1200\n",
            "politics_counter  :  183\n",
            "economics_counter :  97\n",
            "sports_counter    :  145\n",
            "cultural_counter  :  268\n",
            "tech_counter      :  159\n",
            "inter_counter     :  60\n",
            "health_counter    :  73\n",
            "society_counter   :  215\n",
            "1300\n",
            "politics_counter  :  194\n",
            "economics_counter :  100\n",
            "sports_counter    :  163\n",
            "cultural_counter  :  295\n",
            "tech_counter      :  175\n",
            "inter_counter     :  64\n",
            "health_counter    :  76\n",
            "society_counter   :  233\n",
            "1400\n",
            "politics_counter  :  207\n",
            "economics_counter :  103\n",
            "sports_counter    :  173\n",
            "cultural_counter  :  322\n",
            "tech_counter      :  185\n",
            "inter_counter     :  76\n",
            "health_counter    :  81\n",
            "society_counter   :  253\n",
            "1500\n",
            "politics_counter  :  219\n",
            "economics_counter :  107\n",
            "sports_counter    :  188\n",
            "cultural_counter  :  351\n",
            "tech_counter      :  199\n",
            "inter_counter     :  83\n",
            "health_counter    :  84\n",
            "society_counter   :  269\n",
            "1600\n",
            "politics_counter  :  234\n",
            "economics_counter :  114\n",
            "sports_counter    :  197\n",
            "cultural_counter  :  382\n",
            "tech_counter      :  211\n",
            "inter_counter     :  89\n",
            "health_counter    :  90\n",
            "society_counter   :  283\n",
            "1700\n",
            "politics_counter  :  251\n",
            "economics_counter :  118\n",
            "sports_counter    :  210\n",
            "cultural_counter  :  407\n",
            "tech_counter      :  224\n",
            "inter_counter     :  96\n",
            "health_counter    :  93\n",
            "society_counter   :  301\n",
            "1800\n",
            "politics_counter  :  263\n",
            "economics_counter :  127\n",
            "sports_counter    :  219\n",
            "cultural_counter  :  439\n",
            "tech_counter      :  234\n",
            "inter_counter     :  100\n",
            "health_counter    :  102\n",
            "society_counter   :  316\n",
            "1900\n",
            "politics_counter  :  283\n",
            "economics_counter :  133\n",
            "sports_counter    :  228\n",
            "cultural_counter  :  466\n",
            "tech_counter      :  242\n",
            "inter_counter     :  108\n",
            "health_counter    :  105\n",
            "society_counter   :  335\n",
            "2000\n",
            "politics_counter  :  293\n",
            "economics_counter :  135\n",
            "sports_counter    :  248\n",
            "cultural_counter  :  485\n",
            "tech_counter      :  252\n",
            "inter_counter     :  116\n",
            "health_counter    :  107\n",
            "society_counter   :  364\n",
            "2100\n",
            "politics_counter  :  303\n",
            "economics_counter :  140\n",
            "sports_counter    :  265\n",
            "cultural_counter  :  514\n",
            "tech_counter      :  263\n",
            "inter_counter     :  124\n",
            "health_counter    :  110\n",
            "society_counter   :  381\n",
            "2200\n",
            "politics_counter  :  317\n",
            "economics_counter :  146\n",
            "sports_counter    :  276\n",
            "cultural_counter  :  537\n",
            "tech_counter      :  273\n",
            "inter_counter     :  131\n",
            "health_counter    :  114\n",
            "society_counter   :  406\n",
            "2300\n",
            "politics_counter  :  328\n",
            "economics_counter :  148\n",
            "sports_counter    :  285\n",
            "cultural_counter  :  568\n",
            "tech_counter      :  286\n",
            "inter_counter     :  139\n",
            "health_counter    :  120\n",
            "society_counter   :  426\n",
            "2400\n",
            "politics_counter  :  342\n",
            "economics_counter :  161\n",
            "sports_counter    :  297\n",
            "cultural_counter  :  589\n",
            "tech_counter      :  292\n",
            "inter_counter     :  146\n",
            "health_counter    :  126\n",
            "society_counter   :  447\n",
            "2500\n",
            "politics_counter  :  350\n",
            "economics_counter :  166\n",
            "sports_counter    :  313\n",
            "cultural_counter  :  613\n",
            "tech_counter      :  315\n",
            "inter_counter     :  151\n",
            "health_counter    :  131\n",
            "society_counter   :  461\n",
            "2600\n",
            "politics_counter  :  366\n",
            "economics_counter :  171\n",
            "sports_counter    :  324\n",
            "cultural_counter  :  633\n",
            "tech_counter      :  331\n",
            "inter_counter     :  156\n",
            "health_counter    :  139\n",
            "society_counter   :  480\n",
            "2700\n",
            "politics_counter  :  374\n",
            "economics_counter :  174\n",
            "sports_counter    :  342\n",
            "cultural_counter  :  660\n",
            "tech_counter      :  346\n",
            "inter_counter     :  163\n",
            "health_counter    :  144\n",
            "society_counter   :  497\n",
            "2800\n",
            "politics_counter  :  388\n",
            "economics_counter :  176\n",
            "sports_counter    :  357\n",
            "cultural_counter  :  685\n",
            "tech_counter      :  364\n",
            "inter_counter     :  169\n",
            "health_counter    :  149\n",
            "society_counter   :  512\n",
            "2900\n",
            "politics_counter  :  402\n",
            "economics_counter :  185\n",
            "sports_counter    :  373\n",
            "cultural_counter  :  705\n",
            "tech_counter      :  374\n",
            "inter_counter     :  178\n",
            "health_counter    :  153\n",
            "society_counter   :  530\n",
            "3000\n",
            "politics_counter  :  415\n",
            "economics_counter :  196\n",
            "sports_counter    :  391\n",
            "cultural_counter  :  729\n",
            "tech_counter      :  383\n",
            "inter_counter     :  181\n",
            "health_counter    :  157\n",
            "society_counter   :  548\n",
            "3100\n",
            "politics_counter  :  423\n",
            "economics_counter :  203\n",
            "sports_counter    :  401\n",
            "cultural_counter  :  757\n",
            "tech_counter      :  400\n",
            "inter_counter     :  187\n",
            "health_counter    :  165\n",
            "society_counter   :  564\n",
            "3200\n",
            "politics_counter  :  439\n",
            "economics_counter :  210\n",
            "sports_counter    :  417\n",
            "cultural_counter  :  777\n",
            "tech_counter      :  412\n",
            "inter_counter     :  198\n",
            "health_counter    :  167\n",
            "society_counter   :  580\n",
            "3300\n",
            "politics_counter  :  455\n",
            "economics_counter :  216\n",
            "sports_counter    :  425\n",
            "cultural_counter  :  806\n",
            "tech_counter      :  423\n",
            "inter_counter     :  205\n",
            "health_counter    :  173\n",
            "society_counter   :  597\n",
            "3400\n",
            "politics_counter  :  472\n",
            "economics_counter :  228\n",
            "sports_counter    :  433\n",
            "cultural_counter  :  826\n",
            "tech_counter      :  436\n",
            "inter_counter     :  209\n",
            "health_counter    :  177\n",
            "society_counter   :  619\n",
            "3500\n",
            "politics_counter  :  488\n",
            "economics_counter :  235\n",
            "sports_counter    :  448\n",
            "cultural_counter  :  848\n",
            "tech_counter      :  446\n",
            "inter_counter     :  216\n",
            "health_counter    :  185\n",
            "society_counter   :  634\n",
            "3600\n",
            "politics_counter  :  502\n",
            "economics_counter :  243\n",
            "sports_counter    :  458\n",
            "cultural_counter  :  867\n",
            "tech_counter      :  465\n",
            "inter_counter     :  222\n",
            "health_counter    :  194\n",
            "society_counter   :  649\n",
            "3700\n",
            "politics_counter  :  515\n",
            "economics_counter :  249\n",
            "sports_counter    :  468\n",
            "cultural_counter  :  894\n",
            "tech_counter      :  477\n",
            "inter_counter     :  228\n",
            "health_counter    :  198\n",
            "society_counter   :  671\n",
            "3800\n",
            "politics_counter  :  531\n",
            "economics_counter :  255\n",
            "sports_counter    :  484\n",
            "cultural_counter  :  918\n",
            "tech_counter      :  487\n",
            "inter_counter     :  230\n",
            "health_counter    :  201\n",
            "society_counter   :  694\n",
            "3900\n",
            "politics_counter  :  541\n",
            "economics_counter :  262\n",
            "sports_counter    :  495\n",
            "cultural_counter  :  944\n",
            "tech_counter      :  504\n",
            "inter_counter     :  237\n",
            "health_counter    :  203\n",
            "society_counter   :  714\n",
            "4000\n",
            "politics_counter  :  557\n",
            "economics_counter :  270\n",
            "sports_counter    :  509\n",
            "cultural_counter  :  965\n",
            "tech_counter      :  517\n",
            "inter_counter     :  247\n",
            "health_counter    :  204\n",
            "society_counter   :  731\n",
            "4100\n",
            "politics_counter  :  566\n",
            "economics_counter :  277\n",
            "sports_counter    :  512\n",
            "cultural_counter  :  993\n",
            "tech_counter      :  531\n",
            "inter_counter     :  259\n",
            "health_counter    :  208\n",
            "society_counter   :  754\n",
            "4200\n",
            "politics_counter  :  576\n",
            "economics_counter :  285\n",
            "sports_counter    :  527\n",
            "cultural_counter  :  1011\n",
            "tech_counter      :  546\n",
            "inter_counter     :  264\n",
            "health_counter    :  215\n",
            "society_counter   :  776\n",
            "4300\n",
            "politics_counter  :  591\n",
            "economics_counter :  289\n",
            "sports_counter    :  546\n",
            "cultural_counter  :  1037\n",
            "tech_counter      :  559\n",
            "inter_counter     :  267\n",
            "health_counter    :  220\n",
            "society_counter   :  791\n",
            "4400\n",
            "politics_counter  :  608\n",
            "economics_counter :  292\n",
            "sports_counter    :  558\n",
            "cultural_counter  :  1059\n",
            "tech_counter      :  573\n",
            "inter_counter     :  272\n",
            "health_counter    :  223\n",
            "society_counter   :  815\n",
            "4500\n",
            "politics_counter  :  625\n",
            "economics_counter :  299\n",
            "sports_counter    :  570\n",
            "cultural_counter  :  1077\n",
            "tech_counter      :  587\n",
            "inter_counter     :  280\n",
            "health_counter    :  225\n",
            "society_counter   :  837\n",
            "4600\n",
            "politics_counter  :  644\n",
            "economics_counter :  306\n",
            "sports_counter    :  579\n",
            "cultural_counter  :  1100\n",
            "tech_counter      :  599\n",
            "inter_counter     :  287\n",
            "health_counter    :  228\n",
            "society_counter   :  857\n",
            "4700\n",
            "politics_counter  :  651\n",
            "economics_counter :  308\n",
            "sports_counter    :  598\n",
            "cultural_counter  :  1124\n",
            "tech_counter      :  621\n",
            "inter_counter     :  293\n",
            "health_counter    :  232\n",
            "society_counter   :  873\n",
            "4800\n",
            "politics_counter  :  659\n",
            "economics_counter :  314\n",
            "sports_counter    :  619\n",
            "cultural_counter  :  1139\n",
            "tech_counter      :  630\n",
            "inter_counter     :  301\n",
            "health_counter    :  236\n",
            "society_counter   :  902\n",
            "4900\n",
            "politics_counter  :  669\n",
            "economics_counter :  322\n",
            "sports_counter    :  630\n",
            "cultural_counter  :  1170\n",
            "tech_counter      :  645\n",
            "inter_counter     :  304\n",
            "health_counter    :  242\n",
            "society_counter   :  918\n",
            "5000\n",
            "politics_counter  :  680\n",
            "economics_counter :  337\n",
            "sports_counter    :  638\n",
            "cultural_counter  :  1198\n",
            "tech_counter      :  659\n",
            "inter_counter     :  310\n",
            "health_counter    :  247\n",
            "society_counter   :  931\n",
            "5100\n",
            "politics_counter  :  690\n",
            "economics_counter :  343\n",
            "sports_counter    :  650\n",
            "cultural_counter  :  1222\n",
            "tech_counter      :  673\n",
            "inter_counter     :  318\n",
            "health_counter    :  251\n",
            "society_counter   :  953\n",
            "5200\n",
            "politics_counter  :  701\n",
            "economics_counter :  346\n",
            "sports_counter    :  660\n",
            "cultural_counter  :  1248\n",
            "tech_counter      :  688\n",
            "inter_counter     :  327\n",
            "health_counter    :  256\n",
            "society_counter   :  974\n",
            "5300\n",
            "politics_counter  :  716\n",
            "economics_counter :  355\n",
            "sports_counter    :  675\n",
            "cultural_counter  :  1271\n",
            "tech_counter      :  697\n",
            "inter_counter     :  335\n",
            "health_counter    :  258\n",
            "society_counter   :  993\n",
            "5400\n",
            "politics_counter  :  731\n",
            "economics_counter :  361\n",
            "sports_counter    :  688\n",
            "cultural_counter  :  1295\n",
            "tech_counter      :  711\n",
            "inter_counter     :  341\n",
            "health_counter    :  265\n",
            "society_counter   :  1008\n",
            "5500\n",
            "politics_counter  :  746\n",
            "economics_counter :  368\n",
            "sports_counter    :  695\n",
            "cultural_counter  :  1319\n",
            "tech_counter      :  727\n",
            "inter_counter     :  350\n",
            "health_counter    :  271\n",
            "society_counter   :  1024\n",
            "5600\n",
            "politics_counter  :  765\n",
            "economics_counter :  377\n",
            "sports_counter    :  702\n",
            "cultural_counter  :  1345\n",
            "tech_counter      :  735\n",
            "inter_counter     :  359\n",
            "health_counter    :  275\n",
            "society_counter   :  1042\n",
            "5700\n",
            "politics_counter  :  775\n",
            "economics_counter :  384\n",
            "sports_counter    :  709\n",
            "cultural_counter  :  1371\n",
            "tech_counter      :  752\n",
            "inter_counter     :  366\n",
            "health_counter    :  278\n",
            "society_counter   :  1065\n",
            "5800\n",
            "politics_counter  :  789\n",
            "economics_counter :  395\n",
            "sports_counter    :  722\n",
            "cultural_counter  :  1396\n",
            "tech_counter      :  762\n",
            "inter_counter     :  370\n",
            "health_counter    :  283\n",
            "society_counter   :  1083\n",
            "5900\n",
            "politics_counter  :  798\n",
            "economics_counter :  402\n",
            "sports_counter    :  734\n",
            "cultural_counter  :  1427\n",
            "tech_counter      :  772\n",
            "inter_counter     :  373\n",
            "health_counter    :  289\n",
            "society_counter   :  1105\n",
            "6000\n",
            "politics_counter  :  808\n",
            "economics_counter :  410\n",
            "sports_counter    :  748\n",
            "cultural_counter  :  1449\n",
            "tech_counter      :  789\n",
            "inter_counter     :  377\n",
            "health_counter    :  296\n",
            "society_counter   :  1123\n",
            "6100\n",
            "politics_counter  :  822\n",
            "economics_counter :  417\n",
            "sports_counter    :  761\n",
            "cultural_counter  :  1471\n",
            "tech_counter      :  807\n",
            "inter_counter     :  382\n",
            "health_counter    :  301\n",
            "society_counter   :  1139\n",
            "6200\n",
            "politics_counter  :  834\n",
            "economics_counter :  428\n",
            "sports_counter    :  773\n",
            "cultural_counter  :  1495\n",
            "tech_counter      :  819\n",
            "inter_counter     :  386\n",
            "health_counter    :  307\n",
            "society_counter   :  1158\n",
            "6300\n",
            "politics_counter  :  852\n",
            "economics_counter :  436\n",
            "sports_counter    :  785\n",
            "cultural_counter  :  1520\n",
            "tech_counter      :  831\n",
            "inter_counter     :  388\n",
            "health_counter    :  315\n",
            "society_counter   :  1173\n",
            "6400\n",
            "politics_counter  :  868\n",
            "economics_counter :  442\n",
            "sports_counter    :  799\n",
            "cultural_counter  :  1541\n",
            "tech_counter      :  848\n",
            "inter_counter     :  393\n",
            "health_counter    :  320\n",
            "society_counter   :  1189\n",
            "6500\n",
            "politics_counter  :  881\n",
            "economics_counter :  449\n",
            "sports_counter    :  807\n",
            "cultural_counter  :  1566\n",
            "tech_counter      :  868\n",
            "inter_counter     :  401\n",
            "health_counter    :  325\n",
            "society_counter   :  1203\n",
            "6600\n",
            "politics_counter  :  891\n",
            "economics_counter :  453\n",
            "sports_counter    :  818\n",
            "cultural_counter  :  1587\n",
            "tech_counter      :  880\n",
            "inter_counter     :  407\n",
            "health_counter    :  335\n",
            "society_counter   :  1229\n",
            "6700\n",
            "politics_counter  :  900\n",
            "economics_counter :  461\n",
            "sports_counter    :  825\n",
            "cultural_counter  :  1605\n",
            "tech_counter      :  898\n",
            "inter_counter     :  413\n",
            "health_counter    :  342\n",
            "society_counter   :  1256\n",
            "6800\n",
            "politics_counter  :  909\n",
            "economics_counter :  468\n",
            "sports_counter    :  838\n",
            "cultural_counter  :  1637\n",
            "tech_counter      :  910\n",
            "inter_counter     :  417\n",
            "health_counter    :  347\n",
            "society_counter   :  1274\n",
            "6900\n",
            "politics_counter  :  928\n",
            "economics_counter :  475\n",
            "sports_counter    :  849\n",
            "cultural_counter  :  1657\n",
            "tech_counter      :  922\n",
            "inter_counter     :  424\n",
            "health_counter    :  351\n",
            "society_counter   :  1294\n",
            "7000\n",
            "politics_counter  :  940\n",
            "economics_counter :  483\n",
            "sports_counter    :  865\n",
            "cultural_counter  :  1686\n",
            "tech_counter      :  934\n",
            "inter_counter     :  427\n",
            "health_counter    :  357\n",
            "society_counter   :  1308\n",
            "7100\n",
            "politics_counter  :  964\n",
            "economics_counter :  486\n",
            "sports_counter    :  878\n",
            "cultural_counter  :  1709\n",
            "tech_counter      :  941\n",
            "inter_counter     :  433\n",
            "health_counter    :  364\n",
            "society_counter   :  1325\n"
          ],
          "name": "stdout"
        }
      ]
    },
    {
      "cell_type": "code",
      "metadata": {
        "id": "u1r75L5p02kf"
      },
      "source": [
        "import pandas as pd"
      ],
      "execution_count": 72,
      "outputs": []
    },
    {
      "cell_type": "code",
      "metadata": {
        "id": "Q3Rus4GK-yzA"
      },
      "source": [
        "s = pd.Series([\n",
        "    len(politics_tweets)+len(inter_tweets),\n",
        "    len(economics_tweets),\n",
        "    len(sports_tweets),\n",
        "    len(cultural_tweets),\n",
        "    len(tech_tweets),\n",
        "    len(health_tweets),\n",
        "    len(society_tweets)],\n",
        "    index=['سیاسی', 'اقتصادی', 'ورزشی', 'فرهنگ و هنر', 'فناوری', 'سلامت', 'اجتماعی']\n",
        ")"
      ],
      "execution_count": 77,
      "outputs": []
    },
    {
      "cell_type": "code",
      "metadata": {
        "colab": {
          "base_uri": "https://localhost:8080/"
        },
        "id": "bsCUYrFAE2RS",
        "outputId": "4289bf6a-6031-4ca8-f4b7-15a8e497b1df"
      },
      "source": [
        "s"
      ],
      "execution_count": 81,
      "outputs": [
        {
          "output_type": "execute_result",
          "data": {
            "text/plain": [
              "سیاسی          1411\n",
              "اقتصادی         488\n",
              "ورزشی           885\n",
              "فرهنگ و هنر    1721\n",
              "فناوری          948\n",
              "سلامت           368\n",
              "اجتماعی        1346\n",
              "dtype: int64"
            ]
          },
          "metadata": {
            "tags": []
          },
          "execution_count": 81
        }
      ]
    },
    {
      "cell_type": "code",
      "metadata": {
        "id": "vj6eZs40E7J4"
      },
      "source": [
        ""
      ],
      "execution_count": null,
      "outputs": []
    }
  ]
}