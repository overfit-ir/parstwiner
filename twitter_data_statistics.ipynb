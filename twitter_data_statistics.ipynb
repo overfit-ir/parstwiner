{
 "metadata": {
  "language_info": {
   "codemirror_mode": {
    "name": "ipython",
    "version": 3
   },
   "file_extension": ".py",
   "mimetype": "text/x-python",
   "name": "python",
   "nbconvert_exporter": "python",
   "pygments_lexer": "ipython3",
   "version": "3.8.3-final"
  },
  "orig_nbformat": 2,
  "kernelspec": {
   "name": "python3",
   "display_name": "Python 3.8.3 64-bit ('3.8.3')",
   "metadata": {
    "interpreter": {
     "hash": "d0870ed645fb27f1bd390e6a2c2d97d636644e4ac17d9620d795cd4fea4e8862"
    }
   }
  }
 },
 "nbformat": 4,
 "nbformat_minor": 2,
 "cells": [
  {
   "source": [
    "## Some Investigation on Collected Twitter Data"
   ],
   "cell_type": "markdown",
   "metadata": {}
  },
  {
   "cell_type": "code",
   "execution_count": 1,
   "metadata": {},
   "outputs": [],
   "source": [
    "import os\n",
    "\n",
    "tweets = []\n",
    "tweet = []\n",
    "with open('twitter_data/persian-ner-twitter-data/data.txt', 'r') as file:\n",
    "    for line_number, line in enumerate(file.readlines()):\n",
    "        if line != '\\n':\n",
    "            tweet.append(line.replace('\\n', '').split('\\t'))\n",
    "        else:\n",
    "            tweets.append(tweet)\n",
    "            tweet = []"
   ]
  },
  {
   "source": [
    "### Number of Tweets"
   ],
   "cell_type": "markdown",
   "metadata": {}
  },
  {
   "cell_type": "code",
   "execution_count": 2,
   "metadata": {},
   "outputs": [
    {
     "output_type": "execute_result",
     "data": {
      "text/plain": [
       "7168"
      ]
     },
     "metadata": {},
     "execution_count": 2
    }
   ],
   "source": [
    "len(tweets)"
   ]
  },
  {
   "source": [
    "### Number of Tokens"
   ],
   "cell_type": "markdown",
   "metadata": {}
  },
  {
   "cell_type": "code",
   "execution_count": 3,
   "metadata": {},
   "outputs": [
    {
     "output_type": "execute_result",
     "data": {
      "text/plain": [
       "232917"
      ]
     },
     "metadata": {},
     "execution_count": 3
    }
   ],
   "source": [
    "len([x for tweet in tweets for x in tweet ])"
   ]
  },
  {
   "cell_type": "code",
   "execution_count": 4,
   "metadata": {},
   "outputs": [
    {
     "output_type": "execute_result",
     "data": {
      "text/plain": [
       "5122"
      ]
     },
     "metadata": {},
     "execution_count": 4
    }
   ],
   "source": [
    "len([x for tweet in tweets for x in tweet if 'ORG' in x[1]])"
   ]
  },
  {
   "cell_type": "code",
   "execution_count": 5,
   "metadata": {},
   "outputs": [
    {
     "output_type": "execute_result",
     "data": {
      "text/plain": [
       "9586"
      ]
     },
     "metadata": {},
     "execution_count": 5
    }
   ],
   "source": [
    "len([x for tweet in tweets for x in tweet if 'PER' in x[1]])"
   ]
  },
  {
   "cell_type": "code",
   "execution_count": 6,
   "metadata": {},
   "outputs": [
    {
     "output_type": "execute_result",
     "data": {
      "text/plain": [
       "6676"
      ]
     },
     "metadata": {},
     "execution_count": 6
    }
   ],
   "source": [
    "len([x for tweet in tweets for x in tweet if 'LOC' in x[1]])"
   ]
  },
  {
   "cell_type": "code",
   "execution_count": 7,
   "metadata": {},
   "outputs": [
    {
     "output_type": "execute_result",
     "data": {
      "text/plain": [
       "956"
      ]
     },
     "metadata": {},
     "execution_count": 7
    }
   ],
   "source": [
    "len([x for tweet in tweets for x in tweet if 'NAT' in x[1]])"
   ]
  },
  {
   "cell_type": "code",
   "execution_count": 8,
   "metadata": {},
   "outputs": [
    {
     "output_type": "execute_result",
     "data": {
      "text/plain": [
       "1146"
      ]
     },
     "metadata": {},
     "execution_count": 8
    }
   ],
   "source": [
    "len([x for tweet in tweets for x in tweet if 'EVE' in x[1]])"
   ]
  },
  {
   "cell_type": "code",
   "execution_count": 9,
   "metadata": {},
   "outputs": [
    {
     "output_type": "execute_result",
     "data": {
      "text/plain": [
       "575"
      ]
     },
     "metadata": {},
     "execution_count": 9
    }
   ],
   "source": [
    "len([x for tweet in tweets for x in tweet if 'POG' in x[1]])"
   ]
  },
  {
   "cell_type": "code",
   "execution_count": 10,
   "metadata": {},
   "outputs": [],
   "source": [
    "length_of_tweets = [len(x) for x in tweets]"
   ]
  },
  {
   "cell_type": "code",
   "execution_count": 11,
   "metadata": {},
   "outputs": [
    {
     "output_type": "execute_result",
     "data": {
      "text/plain": [
       "32.49400111607143"
      ]
     },
     "metadata": {},
     "execution_count": 11
    }
   ],
   "source": [
    "sum(length_of_tweets)/len(length_of_tweets)"
   ]
  },
  {
   "source": [
    "### Train, Test, Dev Split"
   ],
   "cell_type": "markdown",
   "metadata": {}
  },
  {
   "cell_type": "code",
   "execution_count": 12,
   "metadata": {},
   "outputs": [],
   "source": [
    "import random\n",
    "\n",
    "test_tweets_index = []\n",
    "dev_tweets_index = []\n",
    "random_index = []\n",
    "for i in range(800):\n",
    "    random_index.append(random.randrange(0, len(tweets)))\n",
    "\n",
    "for i in range(400):\n",
    "    index = random.randrange(0, 800)\n",
    "    test_tweets_index.append(random_index[index])\n",
    "\n",
    "for i in range(len(random_index)):\n",
    "    if random_index[i] not in test_tweets_index:\n",
    "        dev_tweets_index.append(random_index[i])\n",
    "\n",
    "train, test, dev = [], [], []\n",
    "for i, tweet in enumerate(tweets):\n",
    "    if i in test_tweets_index:\n",
    "        test.append(tweet)\n",
    "    elif i in dev_tweets_index:\n",
    "        dev.append(tweet)\n",
    "    else:\n",
    "        train.append(tweet)"
   ]
  },
  {
   "cell_type": "code",
   "execution_count": 13,
   "metadata": {},
   "outputs": [
    {
     "output_type": "execute_result",
     "data": {
      "text/plain": [
       "303"
      ]
     },
     "metadata": {},
     "execution_count": 13
    }
   ],
   "source": [
    "len(test)"
   ]
  },
  {
   "cell_type": "code",
   "execution_count": 14,
   "metadata": {},
   "outputs": [
    {
     "output_type": "execute_result",
     "data": {
      "text/plain": [
       "447"
      ]
     },
     "metadata": {},
     "execution_count": 14
    }
   ],
   "source": [
    "len(dev)"
   ]
  },
  {
   "cell_type": "code",
   "execution_count": 15,
   "metadata": {},
   "outputs": [
    {
     "output_type": "execute_result",
     "data": {
      "text/plain": [
       "6418"
      ]
     },
     "metadata": {},
     "execution_count": 15
    }
   ],
   "source": [
    "len(train)"
   ]
  },
  {
   "cell_type": "code",
   "execution_count": 16,
   "metadata": {},
   "outputs": [
    {
     "output_type": "execute_result",
     "data": {
      "text/plain": [
       "10000"
      ]
     },
     "metadata": {},
     "execution_count": 16
    }
   ],
   "source": [
    "len([x for tweet in test for x in tweet ])"
   ]
  },
  {
   "cell_type": "code",
   "execution_count": 17,
   "metadata": {},
   "outputs": [
    {
     "output_type": "execute_result",
     "data": {
      "text/plain": [
       "14927"
      ]
     },
     "metadata": {},
     "execution_count": 17
    }
   ],
   "source": [
    "len([x for tweet in dev for x in tweet ])"
   ]
  },
  {
   "cell_type": "code",
   "execution_count": 18,
   "metadata": {},
   "outputs": [
    {
     "output_type": "execute_result",
     "data": {
      "text/plain": [
       "207990"
      ]
     },
     "metadata": {},
     "execution_count": 18
    }
   ],
   "source": [
    "len([x for tweet in train for x in tweet ])"
   ]
  },
  {
   "cell_type": "code",
   "execution_count": 19,
   "metadata": {},
   "outputs": [
    {
     "output_type": "execute_result",
     "data": {
      "text/plain": [
       "1068"
      ]
     },
     "metadata": {},
     "execution_count": 19
    }
   ],
   "source": [
    "len([x for tweet in train for x in tweet if 'EVE' in x[1]])"
   ]
  },
  {
   "cell_type": "code",
   "execution_count": 20,
   "metadata": {},
   "outputs": [
    {
     "output_type": "execute_result",
     "data": {
      "text/plain": [
       "35"
      ]
     },
     "metadata": {},
     "execution_count": 20
    }
   ],
   "source": [
    "len([x for tweet in test for x in tweet if 'EVE' in x[1]])"
   ]
  },
  {
   "cell_type": "code",
   "execution_count": 21,
   "metadata": {},
   "outputs": [
    {
     "output_type": "execute_result",
     "data": {
      "text/plain": [
       "43"
      ]
     },
     "metadata": {},
     "execution_count": 21
    }
   ],
   "source": [
    "len([x for tweet in dev for x in tweet if 'EVE' in x[1]])"
   ]
  },
  {
   "cell_type": "code",
   "execution_count": 22,
   "metadata": {},
   "outputs": [
    {
     "output_type": "execute_result",
     "data": {
      "text/plain": [
       "4552"
      ]
     },
     "metadata": {},
     "execution_count": 22
    }
   ],
   "source": [
    "len([x for tweet in train for x in tweet if 'ORG' in x[1]])"
   ]
  },
  {
   "cell_type": "code",
   "execution_count": 23,
   "metadata": {},
   "outputs": [
    {
     "output_type": "execute_result",
     "data": {
      "text/plain": [
       "243"
      ]
     },
     "metadata": {},
     "execution_count": 23
    }
   ],
   "source": [
    "len([x for tweet in test for x in tweet if 'ORG' in x[1]])"
   ]
  },
  {
   "cell_type": "code",
   "execution_count": 24,
   "metadata": {},
   "outputs": [
    {
     "output_type": "execute_result",
     "data": {
      "text/plain": [
       "243"
      ]
     },
     "metadata": {},
     "execution_count": 24
    }
   ],
   "source": [
    "len([x for tweet in test for x in tweet if 'ORG' in x[1]])"
   ]
  },
  {
   "cell_type": "code",
   "execution_count": 25,
   "metadata": {},
   "outputs": [
    {
     "output_type": "execute_result",
     "data": {
      "text/plain": [
       "5974"
      ]
     },
     "metadata": {},
     "execution_count": 25
    }
   ],
   "source": [
    "len([x for tweet in train for x in tweet if 'LOC' in x[1]])"
   ]
  },
  {
   "cell_type": "code",
   "execution_count": 26,
   "metadata": {},
   "outputs": [
    {
     "output_type": "execute_result",
     "data": {
      "text/plain": [
       "268"
      ]
     },
     "metadata": {},
     "execution_count": 26
    }
   ],
   "source": [
    "len([x for tweet in test for x in tweet if 'LOC' in x[1]])"
   ]
  },
  {
   "cell_type": "code",
   "execution_count": 27,
   "metadata": {},
   "outputs": [
    {
     "output_type": "execute_result",
     "data": {
      "text/plain": [
       "434"
      ]
     },
     "metadata": {},
     "execution_count": 27
    }
   ],
   "source": [
    "len([x for tweet in dev for x in tweet if 'LOC' in x[1]])"
   ]
  },
  {
   "cell_type": "code",
   "execution_count": 28,
   "metadata": {},
   "outputs": [
    {
     "output_type": "execute_result",
     "data": {
      "text/plain": [
       "8624"
      ]
     },
     "metadata": {},
     "execution_count": 28
    }
   ],
   "source": [
    "len([x for tweet in train for x in tweet if 'PER' in x[1]])"
   ]
  },
  {
   "cell_type": "code",
   "execution_count": 29,
   "metadata": {},
   "outputs": [
    {
     "output_type": "execute_result",
     "data": {
      "text/plain": [
       "365"
      ]
     },
     "metadata": {},
     "execution_count": 29
    }
   ],
   "source": [
    "len([x for tweet in test for x in tweet if 'PER' in x[1]])"
   ]
  },
  {
   "cell_type": "code",
   "execution_count": 30,
   "metadata": {},
   "outputs": [
    {
     "output_type": "execute_result",
     "data": {
      "text/plain": [
       "597"
      ]
     },
     "metadata": {},
     "execution_count": 30
    }
   ],
   "source": [
    "len([x for tweet in dev for x in tweet if 'PER' in x[1]])"
   ]
  },
  {
   "cell_type": "code",
   "execution_count": 31,
   "metadata": {},
   "outputs": [
    {
     "output_type": "execute_result",
     "data": {
      "text/plain": [
       "868"
      ]
     },
     "metadata": {},
     "execution_count": 31
    }
   ],
   "source": [
    "len([x for tweet in train for x in tweet if 'NAT' in x[1]])"
   ]
  },
  {
   "cell_type": "code",
   "execution_count": 32,
   "metadata": {},
   "outputs": [
    {
     "output_type": "execute_result",
     "data": {
      "text/plain": [
       "30"
      ]
     },
     "metadata": {},
     "execution_count": 32
    }
   ],
   "source": [
    "len([x for tweet in test for x in tweet if 'NAT' in x[1]])"
   ]
  },
  {
   "cell_type": "code",
   "execution_count": 33,
   "metadata": {},
   "outputs": [
    {
     "output_type": "execute_result",
     "data": {
      "text/plain": [
       "58"
      ]
     },
     "metadata": {},
     "execution_count": 33
    }
   ],
   "source": [
    "len([x for tweet in dev for x in tweet if 'NAT' in x[1]])"
   ]
  },
  {
   "cell_type": "code",
   "execution_count": 34,
   "metadata": {},
   "outputs": [
    {
     "output_type": "execute_result",
     "data": {
      "text/plain": [
       "523"
      ]
     },
     "metadata": {},
     "execution_count": 34
    }
   ],
   "source": [
    "len([x for tweet in train for x in tweet if 'POG' in x[1]])"
   ]
  },
  {
   "cell_type": "code",
   "execution_count": 35,
   "metadata": {},
   "outputs": [
    {
     "output_type": "execute_result",
     "data": {
      "text/plain": [
       "32"
      ]
     },
     "metadata": {},
     "execution_count": 35
    }
   ],
   "source": [
    "len([x for tweet in test for x in tweet if 'POG' in x[1]])"
   ]
  },
  {
   "cell_type": "code",
   "execution_count": 36,
   "metadata": {},
   "outputs": [
    {
     "output_type": "execute_result",
     "data": {
      "text/plain": [
       "20"
      ]
     },
     "metadata": {},
     "execution_count": 36
    }
   ],
   "source": [
    "len([x for tweet in dev for x in tweet if 'POG' in x[1]])"
   ]
  },
  {
   "cell_type": "code",
   "execution_count": 37,
   "metadata": {},
   "outputs": [
    {
     "output_type": "execute_result",
     "data": {
      "text/plain": [
       "32.40729199127454"
      ]
     },
     "metadata": {},
     "execution_count": 37
    }
   ],
   "source": [
    "length_of_tweets = [len(x) for x in train]\n",
    "sum(length_of_tweets)/len(train)"
   ]
  },
  {
   "cell_type": "code",
   "execution_count": 38,
   "metadata": {},
   "outputs": [
    {
     "output_type": "execute_result",
     "data": {
      "text/plain": [
       "33.00330033003301"
      ]
     },
     "metadata": {},
     "execution_count": 38
    }
   ],
   "source": [
    "length_of_tweets = [len(x) for x in test]\n",
    "sum(length_of_tweets)/len(test)"
   ]
  },
  {
   "cell_type": "code",
   "execution_count": 39,
   "metadata": {},
   "outputs": [
    {
     "output_type": "execute_result",
     "data": {
      "text/plain": [
       "33.39373601789709"
      ]
     },
     "metadata": {},
     "execution_count": 39
    }
   ],
   "source": [
    "length_of_tweets = [len(x) for x in dev]\n",
    "sum(length_of_tweets)/len(dev)"
   ]
  },
  {
   "cell_type": "code",
   "execution_count": 40,
   "metadata": {},
   "outputs": [],
   "source": [
    "with open('train.txt', 'w') as file:\n",
    "    for tweet in train:\n",
    "        for word_token in tweet:\n",
    "            file.write(word_token[0]+'\\t'+word_token[1]+'\\n')\n",
    "        file.write('\\n')"
   ]
  },
  {
   "cell_type": "code",
   "execution_count": 41,
   "metadata": {},
   "outputs": [],
   "source": [
    "with open('test.txt', 'w') as file:\n",
    "    for tweet in test:\n",
    "        for word_token in tweet:\n",
    "            file.write(word_token[0]+'\\t'+word_token[1]+'\\n')\n",
    "        file.write('\\n')"
   ]
  },
  {
   "cell_type": "code",
   "execution_count": 42,
   "metadata": {},
   "outputs": [],
   "source": [
    "with open('dev.txt', 'w') as file:\n",
    "    for tweet in dev:\n",
    "        for word_token in tweet:\n",
    "            file.write(word_token[0]+'\\t'+word_token[1]+'\\n')\n",
    "        file.write('\\n')"
   ]
  },
  {
   "cell_type": "code",
   "execution_count": null,
   "metadata": {},
   "outputs": [],
   "source": []
  }
 ]
}