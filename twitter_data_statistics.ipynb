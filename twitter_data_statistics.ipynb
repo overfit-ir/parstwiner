{
 "metadata": {
  "language_info": {
   "codemirror_mode": {
    "name": "ipython",
    "version": 3
   },
   "file_extension": ".py",
   "mimetype": "text/x-python",
   "name": "python",
   "nbconvert_exporter": "python",
   "pygments_lexer": "ipython3",
   "version": "3.8.6-final"
  },
  "orig_nbformat": 2,
  "kernelspec": {
   "name": "python3",
   "display_name": "Python 3",
   "language": "python"
  }
 },
 "nbformat": 4,
 "nbformat_minor": 2,
 "cells": [
  {
   "source": [
    "## Some Investigation on Collected Twitter Data"
   ],
   "cell_type": "markdown",
   "metadata": {}
  },
  {
   "cell_type": "code",
   "execution_count": 1,
   "metadata": {},
   "outputs": [],
   "source": [
    "import os\n",
    "\n",
    "tweets = []\n",
    "for file_name in os.listdir('twitter_data/persian-ner-twitter-data'):\n",
    "    if 'persian-ner-twitter-data' in file_name:\n",
    "        with open(os.path.join('twitter_data/persian-ner-twitter-data', file_name), 'r') as file:\n",
    "            tweet = []\n",
    "            line_number = 0\n",
    "            for line_number, line in enumerate(file.readlines()):\n",
    "                if line != '\\n':\n",
    "                    tweet.append(line.split('\\t'))\n",
    "                else:\n",
    "                    tweets.append(tweet)\n",
    "                    tweet = []"
   ]
  },
  {
   "source": [
    "### Number of Tweets"
   ],
   "cell_type": "markdown",
   "metadata": {}
  },
  {
   "cell_type": "code",
   "execution_count": 2,
   "metadata": {},
   "outputs": [
    {
     "output_type": "execute_result",
     "data": {
      "text/plain": [
       "7161"
      ]
     },
     "metadata": {},
     "execution_count": 2
    }
   ],
   "source": [
    "len(tweets)"
   ]
  },
  {
   "source": [
    "### Number of Tokens"
   ],
   "cell_type": "markdown",
   "metadata": {}
  },
  {
   "cell_type": "code",
   "execution_count": 3,
   "metadata": {},
   "outputs": [
    {
     "output_type": "execute_result",
     "data": {
      "text/plain": [
       "232609"
      ]
     },
     "metadata": {},
     "execution_count": 3
    }
   ],
   "source": [
    "len([x for tweet in tweets for x in tweet ])"
   ]
  },
  {
   "cell_type": "code",
   "execution_count": 4,
   "metadata": {},
   "outputs": [
    {
     "output_type": "execute_result",
     "data": {
      "text/plain": [
       "5105"
      ]
     },
     "metadata": {},
     "execution_count": 4
    }
   ],
   "source": [
    "len([x for tweet in tweets for x in tweet if 'ORG' in x[1]])"
   ]
  },
  {
   "cell_type": "code",
   "execution_count": 5,
   "metadata": {},
   "outputs": [
    {
     "output_type": "execute_result",
     "data": {
      "text/plain": [
       "9578"
      ]
     },
     "metadata": {},
     "execution_count": 5
    }
   ],
   "source": [
    "len([x for tweet in tweets for x in tweet if 'PER' in x[1]])"
   ]
  },
  {
   "cell_type": "code",
   "execution_count": 6,
   "metadata": {},
   "outputs": [
    {
     "output_type": "execute_result",
     "data": {
      "text/plain": [
       "6669"
      ]
     },
     "metadata": {},
     "execution_count": 6
    }
   ],
   "source": [
    "len([x for tweet in tweets for x in tweet if 'LOC' in x[1]])"
   ]
  },
  {
   "cell_type": "code",
   "execution_count": 7,
   "metadata": {},
   "outputs": [
    {
     "output_type": "execute_result",
     "data": {
      "text/plain": [
       "956"
      ]
     },
     "metadata": {},
     "execution_count": 7
    }
   ],
   "source": [
    "len([x for tweet in tweets for x in tweet if 'NAT' in x[1]])"
   ]
  },
  {
   "cell_type": "code",
   "execution_count": 8,
   "metadata": {},
   "outputs": [
    {
     "output_type": "execute_result",
     "data": {
      "text/plain": [
       "1146"
      ]
     },
     "metadata": {},
     "execution_count": 8
    }
   ],
   "source": [
    "len([x for tweet in tweets for x in tweet if 'EVE' in x[1]])"
   ]
  },
  {
   "cell_type": "code",
   "execution_count": 9,
   "metadata": {},
   "outputs": [],
   "source": [
    "length_of_tweets = [len(x) for x in tweets]"
   ]
  },
  {
   "cell_type": "code",
   "execution_count": 11,
   "metadata": {},
   "outputs": [
    {
     "output_type": "execute_result",
     "data": {
      "text/plain": [
       "32.482753805334454"
      ]
     },
     "metadata": {},
     "execution_count": 11
    }
   ],
   "source": [
    "sum(length_of_tweets)/len(length_of_tweets)"
   ]
  },
  {
   "cell_type": "code",
   "execution_count": null,
   "metadata": {},
   "outputs": [],
   "source": []
  }
 ]
}