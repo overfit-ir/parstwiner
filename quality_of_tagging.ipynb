{
  "nbformat": 4,
  "nbformat_minor": 0,
  "metadata": {
    "colab": {
      "name": "quality_of_tagging.ipynb",
      "provenance": [],
      "authorship_tag": "ABX9TyP03//DeAAKtrLLOpBgQ1Ks",
      "include_colab_link": true
    },
    "kernelspec": {
      "name": "python3",
      "display_name": "Python 3"
    },
    "language_info": {
      "name": "python"
    }
  },
  "cells": [
    {
      "cell_type": "markdown",
      "metadata": {
        "id": "view-in-github",
        "colab_type": "text"
      },
      "source": [
        "<a href=\"https://colab.research.google.com/github/overfit-ir/persian-twitter-ner/blob/master/quality_of_tagging.ipynb\" target=\"_parent\"><img src=\"https://colab.research.google.com/assets/colab-badge.svg\" alt=\"Open In Colab\"/></a>"
      ]
    },
    {
      "cell_type": "code",
      "metadata": {
        "id": "lW2HKpoPSQiB",
        "outputId": "f6bd2e75-f43c-4140-faeb-47e759fc39a4",
        "colab": {
          "base_uri": "https://localhost:8080/"
        }
      },
      "source": [
        "!git clone https://github.com/overfit-ir/persian-twitter-ner.git"
      ],
      "execution_count": 1,
      "outputs": [
        {
          "output_type": "stream",
          "text": [
            "Cloning into 'persian-twitter-ner'...\n",
            "remote: Enumerating objects: 99, done.\u001b[K\n",
            "remote: Counting objects: 100% (99/99), done.\u001b[K\n",
            "remote: Compressing objects: 100% (73/73), done.\u001b[K\n",
            "remote: Total 1906 (delta 51), reused 61 (delta 25), pack-reused 1807\u001b[K\n",
            "Receiving objects: 100% (1906/1906), 19.64 MiB | 18.74 MiB/s, done.\n",
            "Resolving deltas: 100% (1398/1398), done.\n"
          ],
          "name": "stdout"
        }
      ]
    },
    {
      "cell_type": "code",
      "metadata": {
        "id": "vFHtniDtmCZk"
      },
      "source": [
        "import os"
      ],
      "execution_count": 2,
      "outputs": []
    },
    {
      "cell_type": "code",
      "metadata": {
        "id": "oK5pc5NmS_9y"
      },
      "source": [
        "tweets1 = []\n",
        "tweet = []\n",
        "with open('persian-twitter-ner/twitter_data/kappa_test_data/test_data1.txt', 'r') as file:\n",
        "    for line_number, line in enumerate(file.readlines()):\n",
        "        if line != '\\n':\n",
        "            tweet.append(line.replace('\\n', '').split('\\t'))\n",
        "        else:\n",
        "            tweets1.append(tweet)\n",
        "            tweet = []"
      ],
      "execution_count": 3,
      "outputs": []
    },
    {
      "cell_type": "code",
      "metadata": {
        "id": "2pph4Vnal8T5"
      },
      "source": [
        "tweets2 = []\n",
        "tweet = []\n",
        "with open('persian-twitter-ner/twitter_data/kappa_test_data/test_data12.txt', 'r') as file:\n",
        "    for line_number, line in enumerate(file.readlines()):\n",
        "        if line != '\\n':\n",
        "            tweet.append(line.replace('\\n', '').split('\\t'))\n",
        "        else:\n",
        "            tweets2.append(tweet)\n",
        "            tweet = []"
      ],
      "execution_count": 4,
      "outputs": []
    },
    {
      "cell_type": "code",
      "metadata": {
        "id": "awRNPvWomQJA"
      },
      "source": [
        "tags1 = [x[1] for tweet in tweets1 for x in tweet ]\n",
        "tags2 = [x[1] for tweet in tweets2 for x in tweet ]"
      ],
      "execution_count": 5,
      "outputs": []
    },
    {
      "cell_type": "code",
      "metadata": {
        "id": "hozBRLlJmu8z"
      },
      "source": [
        "diff = [0 if x==y else 1 for x,y in zip(tags1, tags2)]"
      ],
      "execution_count": 6,
      "outputs": []
    },
    {
      "cell_type": "code",
      "metadata": {
        "id": "u2u77lNZnC4t",
        "outputId": "cdfc4bfe-b986-4903-a574-d2155e7db7c8",
        "colab": {
          "base_uri": "https://localhost:8080/"
        }
      },
      "source": [
        "sum(diff)"
      ],
      "execution_count": 7,
      "outputs": [
        {
          "output_type": "execute_result",
          "data": {
            "text/plain": [
              "76"
            ]
          },
          "metadata": {
            "tags": []
          },
          "execution_count": 7
        }
      ]
    },
    {
      "cell_type": "code",
      "metadata": {
        "id": "02_iS8wQnEMH",
        "outputId": "a18b42aa-9522-4794-d5d5-37d40c920b2a",
        "colab": {
          "base_uri": "https://localhost:8080/"
        }
      },
      "source": [
        "len([x  for x in tags1 if x != 'O'])"
      ],
      "execution_count": 8,
      "outputs": [
        {
          "output_type": "execute_result",
          "data": {
            "text/plain": [
              "983"
            ]
          },
          "metadata": {
            "tags": []
          },
          "execution_count": 8
        }
      ]
    },
    {
      "cell_type": "code",
      "metadata": {
        "id": "-QA9X2DKnJLm",
        "outputId": "fc15fe88-665c-45bf-ad18-175ea997a771",
        "colab": {
          "base_uri": "https://localhost:8080/"
        }
      },
      "source": [
        "len(tags1)"
      ],
      "execution_count": 9,
      "outputs": [
        {
          "output_type": "execute_result",
          "data": {
            "text/plain": [
              "9674"
            ]
          },
          "metadata": {
            "tags": []
          },
          "execution_count": 9
        }
      ]
    },
    {
      "cell_type": "markdown",
      "metadata": {
        "id": "uLQFXE8ytq67"
      },
      "source": [
        "### KAPPA"
      ]
    },
    {
      "cell_type": "code",
      "metadata": {
        "id": "9jtOES9Kucky"
      },
      "source": [
        "from sklearn.metrics import confusion_matrix, cohen_kappa_score\n",
        "import pandas as pd"
      ],
      "execution_count": 22,
      "outputs": []
    },
    {
      "cell_type": "code",
      "metadata": {
        "id": "c2NnaEdavIiR",
        "outputId": "83a48bd7-474a-4972-8eb2-b659d978b4e0",
        "colab": {
          "base_uri": "https://localhost:8080/",
          "height": 826
        }
      },
      "source": [
        "import seaborn as sn\n",
        "import pandas as pd\n",
        "import matplotlib.pyplot as plt\n",
        "array = confusion_matrix(tags1, tags2,['B-PER', 'I-PER', 'B-ORG', 'B-LOC', 'I-ORG', 'B-NAT', 'B-EVE',\n",
        "       'B-POG', 'I-NAT', 'I-EVE', 'I-LOC', 'I-POG'])\n",
        "df_cm = pd.DataFrame(array, index = ['B-PER', 'I-PER', 'B-ORG', 'B-LOC', 'I-ORG', 'B-NAT', 'B-EVE',\n",
        "       'B-POG', 'I-NAT', 'I-EVE', 'I-LOC', 'I-POG'],\n",
        "                  columns = ['B-PER', 'I-PER', 'B-ORG', 'B-LOC', 'I-ORG', 'B-NAT', 'B-EVE',\n",
        "       'B-POG', 'I-NAT', 'I-EVE', 'I-LOC', 'I-POG'])\n",
        "plt.figure(figsize = (20,14))\n",
        "sn.heatmap(df_cm, annot=True, cmap='Blues')"
      ],
      "execution_count": 21,
      "outputs": [
        {
          "output_type": "execute_result",
          "data": {
            "text/plain": [
              "<matplotlib.axes._subplots.AxesSubplot at 0x7f5cbfdea410>"
            ]
          },
          "metadata": {
            "tags": []
          },
          "execution_count": 21
        },
        {
          "output_type": "display_data",
          "data": {
            "image/png": "[encoded data removed]",
            "text/plain": [
              "<Figure size 1440x1008 with 2 Axes>"
            ]
          },
          "metadata": {
            "tags": [],
            "needs_background": "light"
          }
        }
      ]
    },
    {
      "cell_type": "code",
      "metadata": {
        "id": "BzEfyggGueBA",
        "outputId": "0c7a8ada-44c6-414f-aa5a-aa4884886f63",
        "colab": {
          "base_uri": "https://localhost:8080/"
        }
      },
      "source": [
        "cohen_kappa_score(tags1, tags2, ['B-PER', 'I-PER', 'B-ORG', 'B-LOC', 'I-ORG', 'B-NAT', 'B-EVE',\n",
        "       'B-POG', 'I-NAT', 'I-EVE', 'I-LOC', 'I-POG'])"
      ],
      "execution_count": 23,
      "outputs": [
        {
          "output_type": "execute_result",
          "data": {
            "text/plain": [
              "0.984105343759293"
            ]
          },
          "metadata": {
            "tags": []
          },
          "execution_count": 23
        }
      ]
    },
    {
      "cell_type": "code",
      "metadata": {
        "id": "iviv8KiNyXHD",
        "outputId": "dd9e8318-ced3-4ef7-dd3a-2881f8b3bd1b",
        "colab": {
          "base_uri": "https://localhost:8080/"
        }
      },
      "source": [
        "cohen_kappa_score(tags1, tags2, ['B-PER', 'I-PER', 'B-ORG', 'O', 'B-LOC', 'I-ORG', 'B-NAT', 'B-EVE',\n",
        "       'B-POG', 'I-NAT', 'I-EVE', 'I-LOC', 'I-POG'])"
      ],
      "execution_count": 24,
      "outputs": [
        {
          "output_type": "execute_result",
          "data": {
            "text/plain": [
              "0.9577135146174927"
            ]
          },
          "metadata": {
            "tags": []
          },
          "execution_count": 24
        }
      ]
    },
    {
      "cell_type": "code",
      "metadata": {
        "id": "tLGKKcWGyeQm"
      },
      "source": [
        ""
      ],
      "execution_count": null,
      "outputs": []
    }
  ]
}